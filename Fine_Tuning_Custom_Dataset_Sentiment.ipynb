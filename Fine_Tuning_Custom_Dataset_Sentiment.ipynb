{
 "cells": [
  {
   "cell_type": "code",
   "outputs": [],
   "source": [
    "# Data source: https://www.kaggle.com/datasets/praveengovi/emotions-dataset-for-nlp/data\n",
    "# Original notebook created by http://bkonat[dot]home[dot]amu[dot]edu[dot]pl"
   ],
   "metadata": {
    "collapsed": false,
    "ExecuteTime": {
     "end_time": "2024-03-11T18:33:48.793611Z",
     "start_time": "2024-03-11T18:33:48.791592Z"
    }
   },
   "execution_count": 1
  },
  {
   "cell_type": "code",
   "execution_count": 2,
   "metadata": {
    "executionInfo": {
     "elapsed": 4134,
     "status": "ok",
     "timestamp": 1709117391096,
     "user": {
      "displayName": "Text Processing",
      "userId": "04788490258732316793"
     },
     "user_tz": -60
    },
    "id": "F7z05bbBe5G9",
    "ExecuteTime": {
     "end_time": "2024-03-11T18:33:50.325857Z",
     "start_time": "2024-03-11T18:33:48.821676Z"
    }
   },
   "outputs": [],
   "source": [
    "import numpy as np\n",
    "import pandas as pd\n",
    "import seaborn as sn\n",
    "import matplotlib.pyplot as plt\n",
    "\n",
    "import torch\n",
    "\n",
    "from datasets import load_dataset\n",
    "from sklearn.metrics import f1_score, accuracy_score, confusion_matrix\n",
    "from transformers import DataCollatorWithPadding"
   ]
  },
  {
   "cell_type": "markdown",
   "source": [
    "# Load data via datasets package and prepare _label to int_ dict "
   ],
   "metadata": {
    "collapsed": false
   }
  },
  {
   "cell_type": "markdown",
   "source": [
    "## Get target map \n",
    "Section assumes that file contains all unique labels"
   ],
   "metadata": {
    "collapsed": false
   }
  },
  {
   "cell_type": "code",
   "outputs": [
    {
     "data": {
      "text/plain": "{'sadness': 0, 'anger': 1, 'love': 2, 'surprise': 3, 'fear': 4, 'joy': 5}"
     },
     "execution_count": 3,
     "metadata": {},
     "output_type": "execute_result"
    }
   ],
   "source": [
    "target_map = {k:i for i,k in enumerate(pd.read_csv('kaggle_archive/train.txt', sep=';', names=['sentence', 'label'])['label'].unique())}\n",
    "target_map"
   ],
   "metadata": {
    "collapsed": false,
    "ExecuteTime": {
     "end_time": "2024-03-11T18:33:50.355068Z",
     "start_time": "2024-03-11T18:33:50.327162Z"
    }
   },
   "execution_count": 3
  },
  {
   "cell_type": "markdown",
   "source": [
    "## Convert to csv and convert labels to int values (optional, need to be performed only once)"
   ],
   "metadata": {
    "collapsed": false
   }
  },
  {
   "cell_type": "code",
   "execution_count": 4,
   "metadata": {
    "executionInfo": {
     "elapsed": 489,
     "status": "ok",
     "timestamp": 1709117391582,
     "user": {
      "displayName": "Text Processing",
      "userId": "04788490258732316793"
     },
     "user_tz": -60
    },
    "id": "rV8VsQvUe7rd",
    "ExecuteTime": {
     "end_time": "2024-03-11T18:33:50.357945Z",
     "start_time": "2024-03-11T18:33:50.355951Z"
    }
   },
   "outputs": [],
   "source": [
    "# def txt_to_csv(txt_path, out_path, sep, header, names, target_map):\n",
    "#     df_ = pd.read_csv(txt_path, sep=sep, header=header, names=names)\n",
    "#     df_['label'] = df_['label'].map(target_map)\n",
    "#     df_.to_csv(out_path, index=False)\n",
    "#     \n",
    "# txt_to_csv('kaggle_archive/train.txt', out_path='kaggle_archive/train.csv' ,sep=';', header=None, names=['sentence', 'label'], target_map=target_map)\n",
    "# txt_to_csv('kaggle_archive/test.txt', out_path='kaggle_archive/test.csv' ,sep=';', header=None, names=['sentence', 'label'], target_map=target_map)\n",
    "# txt_to_csv('kaggle_archive/val.txt', out_path='kaggle_archive/val.csv' ,sep=';', header=None, names=['sentence', 'label'], target_map=target_map)"
   ]
  },
  {
   "cell_type": "markdown",
   "source": [
    "## Load train, test, and validate with load_dataset function"
   ],
   "metadata": {
    "collapsed": false
   }
  },
  {
   "cell_type": "code",
   "outputs": [],
   "source": [
    "ds = load_dataset(\n",
    "    'csv',\n",
    "    data_files={'train': 'kaggle_archive/train.csv',\n",
    "                'test': 'kaggle_archive/test.csv',\n",
    "                'validate': 'kaggle_archive/val.csv'\n",
    "    }\n",
    ")"
   ],
   "metadata": {
    "collapsed": false,
    "ExecuteTime": {
     "end_time": "2024-03-11T18:33:50.898764Z",
     "start_time": "2024-03-11T18:33:50.358799Z"
    }
   },
   "execution_count": 5
  },
  {
   "cell_type": "code",
   "execution_count": 6,
   "metadata": {
    "executionInfo": {
     "elapsed": 3,
     "status": "ok",
     "timestamp": 1709117393318,
     "user": {
      "displayName": "Text Processing",
      "userId": "04788490258732316793"
     },
     "user_tz": -60
    },
    "id": "U-ywku8cfudK",
    "ExecuteTime": {
     "end_time": "2024-03-11T18:33:50.901892Z",
     "start_time": "2024-03-11T18:33:50.899728Z"
    }
   },
   "outputs": [],
   "source": [
    "checkpoint = 'distilbert-base-uncased'"
   ]
  },
  {
   "cell_type": "code",
   "execution_count": 7,
   "metadata": {
    "executionInfo": {
     "elapsed": 772,
     "status": "ok",
     "timestamp": 1709117394088,
     "user": {
      "displayName": "Text Processing",
      "userId": "04788490258732316793"
     },
     "user_tz": -60
    },
    "id": "ypbLU0eofwAk",
    "ExecuteTime": {
     "end_time": "2024-03-11T18:33:50.914460Z",
     "start_time": "2024-03-11T18:33:50.902615Z"
    }
   },
   "outputs": [],
   "source": [
    "from transformers import AutoTokenizer"
   ]
  },
  {
   "cell_type": "code",
   "execution_count": 8,
   "metadata": {
    "colab": {
     "base_uri": "https://localhost:8080/"
    },
    "executionInfo": {
     "elapsed": 1133,
     "status": "ok",
     "timestamp": 1709117395219,
     "user": {
      "displayName": "Text Processing",
      "userId": "04788490258732316793"
     },
     "user_tz": -60
    },
    "id": "f6q_rHHIfx7g",
    "outputId": "2d1bae21-4701-442b-a3da-fcdc248f9168",
    "ExecuteTime": {
     "end_time": "2024-03-11T18:33:51.166174Z",
     "start_time": "2024-03-11T18:33:50.915134Z"
    }
   },
   "outputs": [],
   "source": [
    "tokenizer = AutoTokenizer.from_pretrained(checkpoint)"
   ]
  },
  {
   "cell_type": "code",
   "execution_count": 9,
   "metadata": {
    "executionInfo": {
     "elapsed": 2,
     "status": "ok",
     "timestamp": 1709117395220,
     "user": {
      "displayName": "Text Processing",
      "userId": "04788490258732316793"
     },
     "user_tz": -60
    },
    "id": "H7ZunqGhf1c4",
    "ExecuteTime": {
     "end_time": "2024-03-11T18:33:51.169192Z",
     "start_time": "2024-03-11T18:33:51.167236Z"
    }
   },
   "outputs": [],
   "source": [
    "def tokenize_fn(batch):\n",
    "  return tokenizer(batch['sentence'], truncation=True)"
   ]
  },
  {
   "cell_type": "code",
   "execution_count": 10,
   "metadata": {
    "colab": {
     "base_uri": "https://localhost:8080/",
     "height": 81
    },
    "executionInfo": {
     "elapsed": 4372,
     "status": "ok",
     "timestamp": 1709117399590,
     "user": {
      "displayName": "Text Processing",
      "userId": "04788490258732316793"
     },
     "user_tz": -60
    },
    "id": "ErKkSg8gf4cz",
    "outputId": "361e2013-e9ee-432d-b8de-ef360b7a2522",
    "ExecuteTime": {
     "end_time": "2024-03-11T18:33:51.231533Z",
     "start_time": "2024-03-11T18:33:51.169948Z"
    }
   },
   "outputs": [
    {
     "data": {
      "text/plain": "Map:   0%|          | 0/2000 [00:00<?, ? examples/s]",
      "application/vnd.jupyter.widget-view+json": {
       "version_major": 2,
       "version_minor": 0,
       "model_id": "9044df279b184a24b641c20a7e8499fc"
      }
     },
     "metadata": {},
     "output_type": "display_data"
    }
   ],
   "source": [
    "tokenized_datasets = ds.map(tokenize_fn, batched=True)"
   ]
  },
  {
   "cell_type": "code",
   "outputs": [
    {
     "data": {
      "text/plain": "DatasetDict({\n    train: Dataset({\n        features: ['sentence', 'label', 'input_ids', 'attention_mask'],\n        num_rows: 16000\n    })\n    test: Dataset({\n        features: ['sentence', 'label', 'input_ids', 'attention_mask'],\n        num_rows: 2000\n    })\n    validate: Dataset({\n        features: ['sentence', 'label', 'input_ids', 'attention_mask'],\n        num_rows: 2000\n    })\n})"
     },
     "execution_count": 11,
     "metadata": {},
     "output_type": "execute_result"
    }
   ],
   "source": [
    "tokenized_datasets"
   ],
   "metadata": {
    "collapsed": false,
    "ExecuteTime": {
     "end_time": "2024-03-11T18:33:51.235539Z",
     "start_time": "2024-03-11T18:33:51.232900Z"
    }
   },
   "execution_count": 11
  },
  {
   "cell_type": "code",
   "execution_count": 12,
   "metadata": {
    "executionInfo": {
     "elapsed": 7783,
     "status": "ok",
     "timestamp": 1709117407370,
     "user": {
      "displayName": "Text Processing",
      "userId": "04788490258732316793"
     },
     "user_tz": -60
    },
    "id": "_i9f-cbhf6xY",
    "ExecuteTime": {
     "end_time": "2024-03-11T18:33:51.913220Z",
     "start_time": "2024-03-11T18:33:51.236155Z"
    }
   },
   "outputs": [],
   "source": [
    "from transformers import AutoModelForSequenceClassification, AutoConfig, \\\n",
    "  Trainer, TrainingArguments"
   ]
  },
  {
   "cell_type": "code",
   "execution_count": 13,
   "metadata": {
    "executionInfo": {
     "elapsed": 8,
     "status": "ok",
     "timestamp": 1709117407370,
     "user": {
      "displayName": "Text Processing",
      "userId": "04788490258732316793"
     },
     "user_tz": -60
    },
    "id": "tYK7NH1Dh9xS",
    "ExecuteTime": {
     "end_time": "2024-03-11T18:33:52.061029Z",
     "start_time": "2024-03-11T18:33:51.914012Z"
    }
   },
   "outputs": [],
   "source": [
    "config = AutoConfig.from_pretrained(checkpoint)\n",
    "\n",
    "config.id2label = {v:k for k, v in target_map.items()}\n",
    "config.label2id = target_map"
   ]
  },
  {
   "cell_type": "code",
   "execution_count": 14,
   "metadata": {
    "colab": {
     "base_uri": "https://localhost:8080/"
    },
    "executionInfo": {
     "elapsed": 703,
     "status": "ok",
     "timestamp": 1709117408071,
     "user": {
      "displayName": "Text Processing",
      "userId": "04788490258732316793"
     },
     "user_tz": -60
    },
    "id": "Czm76o9IilCo",
    "outputId": "006d856c-ccc5-4de7-871a-2c66efd5f403",
    "ExecuteTime": {
     "end_time": "2024-03-11T18:33:52.143668Z",
     "start_time": "2024-03-11T18:33:52.061750Z"
    }
   },
   "outputs": [
    {
     "name": "stderr",
     "output_type": "stream",
     "text": [
      "Some weights of DistilBertForSequenceClassification were not initialized from the model checkpoint at distilbert-base-uncased and are newly initialized: ['classifier.bias', 'classifier.weight', 'pre_classifier.bias', 'pre_classifier.weight']\n",
      "You should probably TRAIN this model on a down-stream task to be able to use it for predictions and inference.\n"
     ]
    }
   ],
   "source": [
    "model = AutoModelForSequenceClassification.from_pretrained(\n",
    "    checkpoint, config=config)"
   ]
  },
  {
   "cell_type": "code",
   "execution_count": 15,
   "metadata": {
    "colab": {
     "base_uri": "https://localhost:8080/"
    },
    "executionInfo": {
     "elapsed": 10352,
     "status": "ok",
     "timestamp": 1709117418421,
     "user": {
      "displayName": "Text Processing",
      "userId": "04788490258732316793"
     },
     "user_tz": -60
    },
    "id": "GQn6epphik_6",
    "outputId": "d383fed1-9d1c-44c9-85b1-cc0788ba0533",
    "ExecuteTime": {
     "end_time": "2024-03-11T18:33:52.146416Z",
     "start_time": "2024-03-11T18:33:52.144633Z"
    }
   },
   "outputs": [],
   "source": [
    "# !pip install torchinfo"
   ]
  },
  {
   "cell_type": "code",
   "execution_count": 16,
   "metadata": {
    "executionInfo": {
     "elapsed": 4,
     "status": "ok",
     "timestamp": 1709117418421,
     "user": {
      "displayName": "Text Processing",
      "userId": "04788490258732316793"
     },
     "user_tz": -60
    },
    "id": "7iR8YcFYik9F",
    "ExecuteTime": {
     "end_time": "2024-03-11T18:33:52.157681Z",
     "start_time": "2024-03-11T18:33:52.147101Z"
    }
   },
   "outputs": [],
   "source": [
    "from torchinfo import summary"
   ]
  },
  {
   "cell_type": "code",
   "execution_count": 17,
   "metadata": {
    "colab": {
     "base_uri": "https://localhost:8080/"
    },
    "executionInfo": {
     "elapsed": 3,
     "status": "ok",
     "timestamp": 1709117418421,
     "user": {
      "displayName": "Text Processing",
      "userId": "04788490258732316793"
     },
     "user_tz": -60
    },
    "id": "5gzJ6HTDik6Y",
    "outputId": "20f18a4d-36bf-44ec-b2ac-83278c003026",
    "ExecuteTime": {
     "end_time": "2024-03-11T18:33:52.267168Z",
     "start_time": "2024-03-11T18:33:52.158507Z"
    }
   },
   "outputs": [
    {
     "data": {
      "text/plain": "================================================================================\nLayer (type:depth-idx)                                  Param #\n================================================================================\nDistilBertForSequenceClassification                     --\n├─DistilBertModel: 1-1                                  --\n│    └─Embeddings: 2-1                                  --\n│    │    └─Embedding: 3-1                              23,440,896\n│    │    └─Embedding: 3-2                              393,216\n│    │    └─LayerNorm: 3-3                              1,536\n│    │    └─Dropout: 3-4                                --\n│    └─Transformer: 2-2                                 --\n│    │    └─ModuleList: 3-5                             42,527,232\n├─Linear: 1-2                                           590,592\n├─Linear: 1-3                                           4,614\n├─Dropout: 1-4                                          --\n================================================================================\nTotal params: 66,958,086\nTrainable params: 66,958,086\nNon-trainable params: 0\n================================================================================"
     },
     "execution_count": 17,
     "metadata": {},
     "output_type": "execute_result"
    }
   ],
   "source": [
    "summary(model)"
   ]
  },
  {
   "cell_type": "code",
   "execution_count": 18,
   "metadata": {
    "colab": {
     "base_uri": "https://localhost:8080/"
    },
    "executionInfo": {
     "elapsed": 4,
     "status": "ok",
     "timestamp": 1709117418422,
     "user": {
      "displayName": "Text Processing",
      "userId": "04788490258732316793"
     },
     "user_tz": -60
    },
    "id": "r53KdBf9h9lh",
    "outputId": "7741ca7c-1eae-4c8f-8fdd-b6c9b000d154",
    "ExecuteTime": {
     "end_time": "2024-03-11T18:33:52.275795Z",
     "start_time": "2024-03-11T18:33:52.268057Z"
    }
   },
   "outputs": [
    {
     "name": "stdout",
     "output_type": "stream",
     "text": [
      "Model's device: cpu\n"
     ]
    }
   ],
   "source": [
    "#Check if your model runs on gpu (this should happen automatically, when gpu is available)\n",
    "device = next(model.parameters()).device\n",
    "print(\"Model's device:\", device)"
   ]
  },
  {
   "cell_type": "code",
   "execution_count": 19,
   "metadata": {
    "executionInfo": {
     "elapsed": 359,
     "status": "ok",
     "timestamp": 1709117418778,
     "user": {
      "displayName": "Text Processing",
      "userId": "04788490258732316793"
     },
     "user_tz": -60
    },
    "id": "jxePo_USi0fZ",
    "ExecuteTime": {
     "end_time": "2024-03-11T18:33:52.428988Z",
     "start_time": "2024-03-11T18:33:52.276474Z"
    }
   },
   "outputs": [
    {
     "name": "stdout",
     "output_type": "stream",
     "text": [
      "Running on GPU\n"
     ]
    }
   ],
   "source": [
    "#If we get info Model's device: cpu - need to move model to gpu\n",
    "import torch\n",
    "if torch.cuda.is_available():\n",
    "    model = model.cuda()\n",
    "    print(\"Running on GPU\")\n",
    "else:\n",
    "    print(\"CUDA (GPU support) is not available. Model will run on CPU.\")"
   ]
  },
  {
   "cell_type": "code",
   "execution_count": 20,
   "metadata": {
    "colab": {
     "base_uri": "https://localhost:8080/"
    },
    "executionInfo": {
     "elapsed": 20072,
     "status": "ok",
     "timestamp": 1709117438849,
     "user": {
      "displayName": "Text Processing",
      "userId": "04788490258732316793"
     },
     "user_tz": -60
    },
    "id": "4QovPRE6nmS9",
    "outputId": "f851f8d7-3e83-40ec-80b2-6f4a994ce017",
    "ExecuteTime": {
     "end_time": "2024-03-11T18:33:52.431665Z",
     "start_time": "2024-03-11T18:33:52.429895Z"
    }
   },
   "outputs": [],
   "source": [
    "# !pip install transformers[torch]\n",
    "# !pip install accelerate -U\n",
    "#ImportError: Using the `Trainer` with `PyTorch` requires `accelerate>=0.20.1`: Please run `pip install transformers[torch]` or `pip install accelerate -U"
   ]
  },
  {
   "cell_type": "code",
   "execution_count": 21,
   "metadata": {
    "executionInfo": {
     "elapsed": 3,
     "status": "ok",
     "timestamp": 1709117438849,
     "user": {
      "displayName": "Text Processing",
      "userId": "04788490258732316793"
     },
     "user_tz": -60
    },
    "id": "JuTUGJGFmmNM",
    "ExecuteTime": {
     "end_time": "2024-03-11T18:33:52.443614Z",
     "start_time": "2024-03-11T18:33:52.432473Z"
    }
   },
   "outputs": [],
   "source": [
    "training_args = TrainingArguments(\n",
    "  output_dir='training_dir',\n",
    "  evaluation_strategy='epoch',\n",
    "  save_strategy='epoch',\n",
    "  num_train_epochs=10,\n",
    "  per_device_train_batch_size=16,\n",
    "  per_device_eval_batch_size=64,\n",
    ")\n",
    "\n",
    "data_collator = DataCollatorWithPadding(tokenizer=tokenizer)"
   ]
  },
  {
   "cell_type": "code",
   "execution_count": 22,
   "metadata": {
    "executionInfo": {
     "elapsed": 2,
     "status": "ok",
     "timestamp": 1709117438849,
     "user": {
      "displayName": "Text Processing",
      "userId": "04788490258732316793"
     },
     "user_tz": -60
    },
    "id": "rQ6-4tbcnhR7",
    "ExecuteTime": {
     "end_time": "2024-03-11T18:33:52.449407Z",
     "start_time": "2024-03-11T18:33:52.444226Z"
    }
   },
   "outputs": [],
   "source": [
    "def compute_metrics(logits_and_labels):\n",
    "  logits, labels = logits_and_labels\n",
    "  predictions = np.argmax(logits, axis=-1)\n",
    "  acc = np.mean(predictions == labels)\n",
    "  f1 = f1_score(labels, predictions, average='macro')\n",
    "  return {'accuracy': acc, 'f1': f1}\n"
   ]
  },
  {
   "cell_type": "code",
   "execution_count": 23,
   "metadata": {
    "executionInfo": {
     "elapsed": 2,
     "status": "ok",
     "timestamp": 1709117438849,
     "user": {
      "displayName": "Text Processing",
      "userId": "04788490258732316793"
     },
     "user_tz": -60
    },
    "id": "vb1ThdlNoXJi",
    "ExecuteTime": {
     "end_time": "2024-03-11T18:33:52.461784Z",
     "start_time": "2024-03-11T18:33:52.450134Z"
    }
   },
   "outputs": [],
   "source": [
    "trainer = Trainer(\n",
    "    model,\n",
    "    training_args,\n",
    "    train_dataset=tokenized_datasets[\"train\"],\n",
    "    eval_dataset=tokenized_datasets[\"test\"],\n",
    "    tokenizer=tokenizer,\n",
    "    compute_metrics=compute_metrics,\n",
    ")"
   ]
  },
  {
   "cell_type": "code",
   "execution_count": 24,
   "metadata": {
    "colab": {
     "background_save": true,
     "base_uri": "https://localhost:8080/",
     "height": 138
    },
    "id": "Fpd_A5hroXea",
    "ExecuteTime": {
     "end_time": "2024-03-11T18:39:46.775420Z",
     "start_time": "2024-03-11T18:33:52.462452Z"
    }
   },
   "outputs": [
    {
     "data": {
      "text/plain": "<IPython.core.display.HTML object>",
      "text/html": "\n    <div>\n      \n      <progress value='10000' max='10000' style='width:300px; height:20px; vertical-align: middle;'></progress>\n      [10000/10000 05:54, Epoch 10/10]\n    </div>\n    <table border=\"1\" class=\"dataframe\">\n  <thead>\n <tr style=\"text-align: left;\">\n      <th>Epoch</th>\n      <th>Training Loss</th>\n      <th>Validation Loss</th>\n      <th>Accuracy</th>\n      <th>F1</th>\n    </tr>\n  </thead>\n  <tbody>\n    <tr>\n      <td>1</td>\n      <td>0.242300</td>\n      <td>0.186245</td>\n      <td>0.926500</td>\n      <td>0.892693</td>\n    </tr>\n    <tr>\n      <td>2</td>\n      <td>0.146400</td>\n      <td>0.170971</td>\n      <td>0.929500</td>\n      <td>0.881793</td>\n    </tr>\n    <tr>\n      <td>3</td>\n      <td>0.125200</td>\n      <td>0.198142</td>\n      <td>0.924000</td>\n      <td>0.881070</td>\n    </tr>\n    <tr>\n      <td>4</td>\n      <td>0.091700</td>\n      <td>0.237105</td>\n      <td>0.925000</td>\n      <td>0.880602</td>\n    </tr>\n    <tr>\n      <td>5</td>\n      <td>0.061200</td>\n      <td>0.279757</td>\n      <td>0.928000</td>\n      <td>0.893345</td>\n    </tr>\n    <tr>\n      <td>6</td>\n      <td>0.041700</td>\n      <td>0.333687</td>\n      <td>0.931000</td>\n      <td>0.893381</td>\n    </tr>\n    <tr>\n      <td>7</td>\n      <td>0.020600</td>\n      <td>0.372999</td>\n      <td>0.932500</td>\n      <td>0.894319</td>\n    </tr>\n    <tr>\n      <td>8</td>\n      <td>0.013300</td>\n      <td>0.401603</td>\n      <td>0.931000</td>\n      <td>0.891587</td>\n    </tr>\n    <tr>\n      <td>9</td>\n      <td>0.009200</td>\n      <td>0.397241</td>\n      <td>0.934000</td>\n      <td>0.896715</td>\n    </tr>\n    <tr>\n      <td>10</td>\n      <td>0.008500</td>\n      <td>0.418145</td>\n      <td>0.932000</td>\n      <td>0.893700</td>\n    </tr>\n  </tbody>\n</table><p>"
     },
     "metadata": {},
     "output_type": "display_data"
    },
    {
     "data": {
      "text/plain": "TrainOutput(global_step=10000, training_loss=0.0905182697057724, metrics={'train_runtime': 354.2106, 'train_samples_per_second': 451.709, 'train_steps_per_second': 28.232, 'total_flos': 1945612950228864.0, 'train_loss': 0.0905182697057724, 'epoch': 10.0})"
     },
     "execution_count": 24,
     "metadata": {},
     "output_type": "execute_result"
    }
   ],
   "source": [
    "trainer.train()"
   ]
  },
  {
   "cell_type": "code",
   "execution_count": 35,
   "metadata": {
    "colab": {
     "background_save": true
    },
    "id": "LsLNv0aeolQo",
    "ExecuteTime": {
     "end_time": "2024-03-11T18:40:09.035229Z",
     "start_time": "2024-03-11T18:40:09.033070Z"
    }
   },
   "outputs": [],
   "source": [
    "from transformers import pipeline"
   ]
  },
  {
   "cell_type": "code",
   "execution_count": 36,
   "metadata": {
    "colab": {
     "background_save": true
    },
    "id": "PMhwdYpKonbs",
    "ExecuteTime": {
     "end_time": "2024-03-11T18:40:18.565351Z",
     "start_time": "2024-03-11T18:40:16.786544Z"
    }
   },
   "outputs": [],
   "source": [
    "#Inspect above results to decide which checkpoint to use\n",
    "\n",
    "\n",
    "savedmodel = pipeline('text-classification',\n",
    "                      model='training_dir/checkpoint-10000',\n",
    "                      device=0)"
   ]
  },
  {
   "cell_type": "code",
   "outputs": [
    {
     "name": "stdout",
     "output_type": "stream",
     "text": [
      "im feeling quite sad and sorry for myself but ill snap out of it soon\n"
     ]
    },
    {
     "data": {
      "text/plain": "[{'label': 'sadness', 'score': 0.9999771118164062}]"
     },
     "execution_count": 37,
     "metadata": {},
     "output_type": "execute_result"
    }
   ],
   "source": [
    "s = ds['validate']['sentence'][0]\n",
    "print(s)\n",
    "savedmodel(s)"
   ],
   "metadata": {
    "collapsed": false,
    "ExecuteTime": {
     "end_time": "2024-03-11T18:40:18.581593Z",
     "start_time": "2024-03-11T18:40:18.566277Z"
    }
   },
   "execution_count": 37
  },
  {
   "cell_type": "code",
   "execution_count": 38,
   "metadata": {
    "colab": {
     "background_save": true
    },
    "id": "R19uaa62opex",
    "ExecuteTime": {
     "end_time": "2024-03-11T18:40:26.620601Z",
     "start_time": "2024-03-11T18:40:18.582249Z"
    }
   },
   "outputs": [],
   "source": [
    "pred_val = savedmodel(ds['validate']['sentence'])"
   ]
  },
  {
   "cell_type": "code",
   "execution_count": 39,
   "metadata": {
    "colab": {
     "background_save": true
    },
    "id": "jRWoOIN2pPB1",
    "ExecuteTime": {
     "end_time": "2024-03-11T18:40:26.637296Z",
     "start_time": "2024-03-11T18:40:26.621777Z"
    }
   },
   "outputs": [
    {
     "data": {
      "text/plain": "[{'label': 'sadness', 'score': 0.9999771118164062},\n {'label': 'sadness', 'score': 0.9999805688858032},\n {'label': 'joy', 'score': 0.7117276787757874},\n {'label': 'anger', 'score': 0.9999723434448242},\n {'label': 'joy', 'score': 0.9999831914901733},\n {'label': 'joy', 'score': 0.9999818801879883},\n {'label': 'joy', 'score': 0.9999819993972778},\n {'label': 'joy', 'score': 0.9999808073043823},\n {'label': 'joy', 'score': 0.9999827146530151},\n {'label': 'sadness', 'score': 0.9999792575836182},\n {'label': 'anger', 'score': 0.999976396560669},\n {'label': 'joy', 'score': 0.9999823570251465},\n {'label': 'sadness', 'score': 0.9999761581420898},\n {'label': 'sadness', 'score': 0.9999773502349854},\n {'label': 'sadness', 'score': 0.999980092048645},\n {'label': 'joy', 'score': 0.9999810457229614},\n {'label': 'sadness', 'score': 0.9999778270721436},\n {'label': 'sadness', 'score': 0.9944413304328918},\n {'label': 'love', 'score': 0.9999175071716309},\n {'label': 'joy', 'score': 0.9999822378158569},\n {'label': 'fear', 'score': 0.9999470710754395},\n {'label': 'sadness', 'score': 0.9999804496765137},\n {'label': 'joy', 'score': 0.9999772310256958},\n {'label': 'sadness', 'score': 0.9999818801879883},\n {'label': 'sadness', 'score': 0.9999806880950928},\n {'label': 'sadness', 'score': 0.9999814033508301},\n {'label': 'sadness', 'score': 0.9999752044677734},\n {'label': 'joy', 'score': 0.9580504298210144},\n {'label': 'sadness', 'score': 0.999975323677063},\n {'label': 'sadness', 'score': 0.9999814033508301},\n {'label': 'love', 'score': 0.9999388456344604},\n {'label': 'sadness', 'score': 0.9999788999557495},\n {'label': 'joy', 'score': 0.9999808073043823},\n {'label': 'sadness', 'score': 0.9999778270721436},\n {'label': 'sadness', 'score': 0.9999771118164062},\n {'label': 'love', 'score': 0.8162681460380554},\n {'label': 'sadness', 'score': 0.9999803304672241},\n {'label': 'sadness', 'score': 0.9999815225601196},\n {'label': 'anger', 'score': 0.9999736547470093},\n {'label': 'joy', 'score': 0.9999808073043823},\n {'label': 'love', 'score': 0.9999319314956665},\n {'label': 'sadness', 'score': 0.9999804496765137},\n {'label': 'sadness', 'score': 0.999980092048645},\n {'label': 'sadness', 'score': 0.9999759197235107},\n {'label': 'anger', 'score': 0.9999771118164062},\n {'label': 'sadness', 'score': 0.999822199344635},\n {'label': 'sadness', 'score': 0.999981164932251},\n {'label': 'anger', 'score': 0.9999717473983765},\n {'label': 'love', 'score': 0.9999316930770874},\n {'label': 'sadness', 'score': 0.9999803304672241},\n {'label': 'sadness', 'score': 0.9999758005142212},\n {'label': 'joy', 'score': 0.9999821186065674},\n {'label': 'joy', 'score': 0.9999786615371704},\n {'label': 'sadness', 'score': 0.9999823570251465},\n {'label': 'joy', 'score': 0.9999802112579346},\n {'label': 'joy', 'score': 0.9121922254562378},\n {'label': 'anger', 'score': 0.999977707862854},\n {'label': 'sadness', 'score': 0.9999810457229614},\n {'label': 'sadness', 'score': 0.9999829530715942},\n {'label': 'love', 'score': 0.9999350309371948},\n {'label': 'joy', 'score': 0.9994007349014282},\n {'label': 'joy', 'score': 0.9999819993972778},\n {'label': 'sadness', 'score': 0.9999719858169556},\n {'label': 'joy', 'score': 0.9999798536300659},\n {'label': 'joy', 'score': 0.999982476234436},\n {'label': 'sadness', 'score': 0.9999798536300659},\n {'label': 'sadness', 'score': 0.9999779462814331},\n {'label': 'love', 'score': 0.9999239444732666},\n {'label': 'surprise', 'score': 0.5094394683837891},\n {'label': 'sadness', 'score': 0.9999803304672241},\n {'label': 'joy', 'score': 0.9999754428863525},\n {'label': 'joy', 'score': 0.9999825954437256},\n {'label': 'joy', 'score': 0.9999802112579346},\n {'label': 'fear', 'score': 0.999937891960144},\n {'label': 'love', 'score': 0.9999358654022217},\n {'label': 'joy', 'score': 0.9999715089797974},\n {'label': 'sadness', 'score': 0.9999799728393555},\n {'label': 'anger', 'score': 0.9999699592590332},\n {'label': 'sadness', 'score': 0.9999769926071167},\n {'label': 'sadness', 'score': 0.9999721050262451},\n {'label': 'sadness', 'score': 0.9999816417694092},\n {'label': 'anger', 'score': 0.9999747276306152},\n {'label': 'anger', 'score': 0.9999723434448242},\n {'label': 'anger', 'score': 0.9999065399169922},\n {'label': 'anger', 'score': 0.9999779462814331},\n {'label': 'love', 'score': 0.9999228715896606},\n {'label': 'joy', 'score': 0.9999806880950928},\n {'label': 'joy', 'score': 0.9999788999557495},\n {'label': 'love', 'score': 0.9999324083328247},\n {'label': 'anger', 'score': 0.9999667406082153},\n {'label': 'anger', 'score': 0.999976396560669},\n {'label': 'joy', 'score': 0.975929856300354},\n {'label': 'love', 'score': 0.9999297857284546},\n {'label': 'anger', 'score': 0.9999788999557495},\n {'label': 'fear', 'score': 0.9999558925628662},\n {'label': 'joy', 'score': 0.9999749660491943},\n {'label': 'anger', 'score': 0.9999781847000122},\n {'label': 'anger', 'score': 0.9999768733978271},\n {'label': 'love', 'score': 0.9285361170768738},\n {'label': 'sadness', 'score': 0.9999839067459106},\n {'label': 'anger', 'score': 0.9999786615371704},\n {'label': 'love', 'score': 0.9999287128448486},\n {'label': 'love', 'score': 0.9999370574951172},\n {'label': 'sadness', 'score': 0.9999784231185913},\n {'label': 'joy', 'score': 0.9999810457229614},\n {'label': 'anger', 'score': 0.9999748468399048},\n {'label': 'sadness', 'score': 0.9999768733978271},\n {'label': 'joy', 'score': 0.9999806880950928},\n {'label': 'sadness', 'score': 0.9999767541885376},\n {'label': 'sadness', 'score': 0.9999727010726929},\n {'label': 'joy', 'score': 0.9999816417694092},\n {'label': 'joy', 'score': 0.9999794960021973},\n {'label': 'sadness', 'score': 0.9999756813049316},\n {'label': 'sadness', 'score': 0.9999798536300659},\n {'label': 'sadness', 'score': 0.9999808073043823},\n {'label': 'sadness', 'score': 0.9998086094856262},\n {'label': 'joy', 'score': 0.9999821186065674},\n {'label': 'fear', 'score': 0.576413094997406},\n {'label': 'anger', 'score': 0.9145782589912415},\n {'label': 'anger', 'score': 0.9999771118164062},\n {'label': 'anger', 'score': 0.9999773502349854},\n {'label': 'joy', 'score': 0.9999785423278809},\n {'label': 'sadness', 'score': 0.9999794960021973},\n {'label': 'love', 'score': 0.9999374151229858},\n {'label': 'fear', 'score': 0.9999524354934692},\n {'label': 'fear', 'score': 0.9999529123306274},\n {'label': 'joy', 'score': 0.9999828338623047},\n {'label': 'sadness', 'score': 0.9999346733093262},\n {'label': 'fear', 'score': 0.9999552965164185},\n {'label': 'sadness', 'score': 0.999976396560669},\n {'label': 'sadness', 'score': 0.9999778270721436},\n {'label': 'joy', 'score': 0.9999823570251465},\n {'label': 'fear', 'score': 0.800853967666626},\n {'label': 'sadness', 'score': 0.9999814033508301},\n {'label': 'fear', 'score': 0.9999548196792603},\n {'label': 'fear', 'score': 0.9999412298202515},\n {'label': 'love', 'score': 0.5656487941741943},\n {'label': 'joy', 'score': 0.9999818801879883},\n {'label': 'joy', 'score': 0.9999746084213257},\n {'label': 'sadness', 'score': 0.9999816417694092},\n {'label': 'joy', 'score': 0.9999836683273315},\n {'label': 'sadness', 'score': 0.9999791383743286},\n {'label': 'joy', 'score': 0.9999818801879883},\n {'label': 'anger', 'score': 0.9999768733978271},\n {'label': 'surprise', 'score': 0.9998630285263062},\n {'label': 'love', 'score': 0.8751828074455261},\n {'label': 'fear', 'score': 0.999951958656311},\n {'label': 'love', 'score': 0.9999334812164307},\n {'label': 'sadness', 'score': 0.9999815225601196},\n {'label': 'love', 'score': 0.9999268054962158},\n {'label': 'love', 'score': 0.5213207602500916},\n {'label': 'fear', 'score': 0.9999028444290161},\n {'label': 'anger', 'score': 0.9999754428863525},\n {'label': 'joy', 'score': 0.9999794960021973},\n {'label': 'anger', 'score': 0.9999769926071167},\n {'label': 'joy', 'score': 0.9999812841415405},\n {'label': 'surprise', 'score': 0.9998747110366821},\n {'label': 'anger', 'score': 0.9999778270721436},\n {'label': 'love', 'score': 0.999936580657959},\n {'label': 'sadness', 'score': 0.9999775886535645},\n {'label': 'fear', 'score': 0.9998713731765747},\n {'label': 'anger', 'score': 0.9999768733978271},\n {'label': 'joy', 'score': 0.9999818801879883},\n {'label': 'sadness', 'score': 0.9999821186065674},\n {'label': 'joy', 'score': 0.9992715716362},\n {'label': 'fear', 'score': 0.9992662072181702},\n {'label': 'joy', 'score': 0.9999818801879883},\n {'label': 'fear', 'score': 0.9999535083770752},\n {'label': 'fear', 'score': 0.9999561309814453},\n {'label': 'sadness', 'score': 0.9999830722808838},\n {'label': 'sadness', 'score': 0.9999802112579346},\n {'label': 'surprise', 'score': 0.9998784065246582},\n {'label': 'sadness', 'score': 0.9999775886535645},\n {'label': 'joy', 'score': 0.9999821186065674},\n {'label': 'fear', 'score': 0.999647855758667},\n {'label': 'joy', 'score': 0.9999816417694092},\n {'label': 'fear', 'score': 0.9999551773071289},\n {'label': 'joy', 'score': 0.9999614953994751},\n {'label': 'love', 'score': 0.9999351501464844},\n {'label': 'love', 'score': 0.9999322891235352},\n {'label': 'sadness', 'score': 0.9999786615371704},\n {'label': 'anger', 'score': 0.9999740123748779},\n {'label': 'anger', 'score': 0.9999786615371704},\n {'label': 'joy', 'score': 0.9999785423278809},\n {'label': 'joy', 'score': 0.9999815225601196},\n {'label': 'anger', 'score': 0.9999794960021973},\n {'label': 'anger', 'score': 0.9999785423278809},\n {'label': 'sadness', 'score': 0.9999704360961914},\n {'label': 'sadness', 'score': 0.9999740123748779},\n {'label': 'sadness', 'score': 0.9999825954437256},\n {'label': 'joy', 'score': 0.9999805688858032},\n {'label': 'joy', 'score': 0.9999819993972778},\n {'label': 'joy', 'score': 0.9999767541885376},\n {'label': 'joy', 'score': 0.9999819993972778},\n {'label': 'joy', 'score': 0.9895127415657043},\n {'label': 'joy', 'score': 0.9999630451202393},\n {'label': 'fear', 'score': 0.9999414682388306},\n {'label': 'joy', 'score': 0.9999829530715942},\n {'label': 'fear', 'score': 0.9680694341659546},\n {'label': 'joy', 'score': 0.9999827146530151},\n {'label': 'sadness', 'score': 0.9994975328445435},\n {'label': 'sadness', 'score': 0.9999794960021973},\n {'label': 'fear', 'score': 0.9936420321464539},\n {'label': 'joy', 'score': 0.999982476234436},\n {'label': 'sadness', 'score': 0.9999810457229614},\n {'label': 'joy', 'score': 0.9999802112579346},\n {'label': 'anger', 'score': 0.9999780654907227},\n {'label': 'anger', 'score': 0.9999772310256958},\n {'label': 'joy', 'score': 0.999983549118042},\n {'label': 'fear', 'score': 0.999953031539917},\n {'label': 'sadness', 'score': 0.9999756813049316},\n {'label': 'fear', 'score': 0.9999555349349976},\n {'label': 'joy', 'score': 0.9999827146530151},\n {'label': 'joy', 'score': 0.999982476234436},\n {'label': 'sadness', 'score': 0.9999783039093018},\n {'label': 'sadness', 'score': 0.999980092048645},\n {'label': 'sadness', 'score': 0.9999809265136719},\n {'label': 'joy', 'score': 0.9999825954437256},\n {'label': 'surprise', 'score': 0.9930863380432129},\n {'label': 'fear', 'score': 0.9999525547027588},\n {'label': 'sadness', 'score': 0.9999804496765137},\n {'label': 'sadness', 'score': 0.9999799728393555},\n {'label': 'joy', 'score': 0.9999805688858032},\n {'label': 'surprise', 'score': 0.9992732405662537},\n {'label': 'sadness', 'score': 0.9999761581420898},\n {'label': 'fear', 'score': 0.999953031539917},\n {'label': 'sadness', 'score': 0.9999779462814331},\n {'label': 'surprise', 'score': 0.9998756647109985},\n {'label': 'fear', 'score': 0.9999507665634155},\n {'label': 'joy', 'score': 0.9999815225601196},\n {'label': 'anger', 'score': 0.9999780654907227},\n {'label': 'fear', 'score': 0.9999531507492065},\n {'label': 'joy', 'score': 0.9999804496765137},\n {'label': 'joy', 'score': 0.9999805688858032},\n {'label': 'anger', 'score': 0.9999781847000122},\n {'label': 'surprise', 'score': 0.9998766183853149},\n {'label': 'joy', 'score': 0.9999812841415405},\n {'label': 'love', 'score': 0.9999257326126099},\n {'label': 'joy', 'score': 0.9999830722808838},\n {'label': 'joy', 'score': 0.9999809265136719},\n {'label': 'fear', 'score': 0.9999544620513916},\n {'label': 'joy', 'score': 0.9999803304672241},\n {'label': 'love', 'score': 0.9999390840530396},\n {'label': 'fear', 'score': 0.999954342842102},\n {'label': 'sadness', 'score': 0.9999828338623047},\n {'label': 'sadness', 'score': 0.999982476234436},\n {'label': 'sadness', 'score': 0.9999812841415405},\n {'label': 'joy', 'score': 0.9999821186065674},\n {'label': 'joy', 'score': 0.9999833106994629},\n {'label': 'surprise', 'score': 0.9998656511306763},\n {'label': 'anger', 'score': 0.9999768733978271},\n {'label': 'love', 'score': 0.9999309778213501},\n {'label': 'surprise', 'score': 0.8443089723587036},\n {'label': 'joy', 'score': 0.999982476234436},\n {'label': 'fear', 'score': 0.9999544620513916},\n {'label': 'joy', 'score': 0.999977707862854},\n {'label': 'joy', 'score': 0.9999784231185913},\n {'label': 'sadness', 'score': 0.9999799728393555},\n {'label': 'anger', 'score': 0.9983816146850586},\n {'label': 'fear', 'score': 0.9994422793388367},\n {'label': 'joy', 'score': 0.9999825954437256},\n {'label': 'joy', 'score': 0.9999821186065674},\n {'label': 'joy', 'score': 0.9999821186065674},\n {'label': 'joy', 'score': 0.9999810457229614},\n {'label': 'sadness', 'score': 0.9999780654907227},\n {'label': 'joy', 'score': 0.9999817609786987},\n {'label': 'joy', 'score': 0.9999827146530151},\n {'label': 'sadness', 'score': 0.9999816417694092},\n {'label': 'joy', 'score': 0.9999816417694092},\n {'label': 'sadness', 'score': 0.9999680519104004},\n {'label': 'love', 'score': 0.9999145269393921},\n {'label': 'sadness', 'score': 0.9999761581420898},\n {'label': 'joy', 'score': 0.9999822378158569},\n {'label': 'anger', 'score': 0.9999779462814331},\n {'label': 'joy', 'score': 0.9999821186065674},\n {'label': 'joy', 'score': 0.9999833106994629},\n {'label': 'sadness', 'score': 0.9999816417694092},\n {'label': 'joy', 'score': 0.9999816417694092},\n {'label': 'joy', 'score': 0.9999812841415405},\n {'label': 'joy', 'score': 0.9999797344207764},\n {'label': 'sadness', 'score': 0.9999767541885376},\n {'label': 'sadness', 'score': 0.9999815225601196},\n {'label': 'joy', 'score': 0.9999799728393555},\n {'label': 'joy', 'score': 0.999975323677063},\n {'label': 'sadness', 'score': 0.9999819993972778},\n {'label': 'joy', 'score': 0.9999796152114868},\n {'label': 'joy', 'score': 0.9999810457229614},\n {'label': 'joy', 'score': 0.9999809265136719},\n {'label': 'fear', 'score': 0.9999488592147827},\n {'label': 'sadness', 'score': 0.9999758005142212},\n {'label': 'surprise', 'score': 0.9998724460601807},\n {'label': 'joy', 'score': 0.9999806880950928},\n {'label': 'joy', 'score': 0.9999703168869019},\n {'label': 'joy', 'score': 0.9999828338623047},\n {'label': 'anger', 'score': 0.9999767541885376},\n {'label': 'sadness', 'score': 0.9999816417694092},\n {'label': 'joy', 'score': 0.9999830722808838},\n {'label': 'fear', 'score': 0.9999492168426514},\n {'label': 'anger', 'score': 0.9971994161605835},\n {'label': 'fear', 'score': 0.9999539852142334},\n {'label': 'love', 'score': 0.9132621884346008},\n {'label': 'love', 'score': 0.9999287128448486},\n {'label': 'joy', 'score': 0.9999803304672241},\n {'label': 'fear', 'score': 0.9989284873008728},\n {'label': 'sadness', 'score': 0.9999819993972778},\n {'label': 'fear', 'score': 0.9999558925628662},\n {'label': 'sadness', 'score': 0.9999772310256958},\n {'label': 'sadness', 'score': 0.9999797344207764},\n {'label': 'anger', 'score': 0.9999783039093018},\n {'label': 'sadness', 'score': 0.9999791383743286},\n {'label': 'fear', 'score': 0.9999508857727051},\n {'label': 'anger', 'score': 0.9999769926071167},\n {'label': 'joy', 'score': 0.9996525049209595},\n {'label': 'joy', 'score': 0.9520034790039062},\n {'label': 'sadness', 'score': 0.999981164932251},\n {'label': 'love', 'score': 0.9999070167541504},\n {'label': 'joy', 'score': 0.9999799728393555},\n {'label': 'joy', 'score': 0.9999819993972778},\n {'label': 'fear', 'score': 0.9999268054962158},\n {'label': 'joy', 'score': 0.9999815225601196},\n {'label': 'joy', 'score': 0.9999819993972778},\n {'label': 'sadness', 'score': 0.9999804496765137},\n {'label': 'joy', 'score': 0.9999825954437256},\n {'label': 'sadness', 'score': 0.9999780654907227},\n {'label': 'surprise', 'score': 0.999880313873291},\n {'label': 'fear', 'score': 0.9999443292617798},\n {'label': 'fear', 'score': 0.9875904321670532},\n {'label': 'fear', 'score': 0.9999527931213379},\n {'label': 'joy', 'score': 0.9999828338623047},\n {'label': 'joy', 'score': 0.9999827146530151},\n {'label': 'anger', 'score': 0.9999760389328003},\n {'label': 'joy', 'score': 0.9999810457229614},\n {'label': 'love', 'score': 0.9999376535415649},\n {'label': 'joy', 'score': 0.9999814033508301},\n {'label': 'anger', 'score': 0.9999793767929077},\n {'label': 'anger', 'score': 0.9999788999557495},\n {'label': 'joy', 'score': 0.9968051910400391},\n {'label': 'joy', 'score': 0.9999810457229614},\n {'label': 'fear', 'score': 0.9999507665634155},\n {'label': 'surprise', 'score': 0.9998741149902344},\n {'label': 'anger', 'score': 0.9999797344207764},\n {'label': 'sadness', 'score': 0.9999806880950928},\n {'label': 'sadness', 'score': 0.5382870435714722},\n {'label': 'fear', 'score': 0.9999339580535889},\n {'label': 'anger', 'score': 0.9999767541885376},\n {'label': 'joy', 'score': 0.9999828338623047},\n {'label': 'sadness', 'score': 0.9999772310256958},\n {'label': 'anger', 'score': 0.9999781847000122},\n {'label': 'anger', 'score': 0.9999760389328003},\n {'label': 'sadness', 'score': 0.9999762773513794},\n {'label': 'joy', 'score': 0.9999828338623047},\n {'label': 'love', 'score': 0.9998791217803955},\n {'label': 'sadness', 'score': 0.9999794960021973},\n {'label': 'fear', 'score': 0.9951954483985901},\n {'label': 'sadness', 'score': 0.9999750852584839},\n {'label': 'sadness', 'score': 0.9999781847000122},\n {'label': 'joy', 'score': 0.9999821186065674},\n {'label': 'love', 'score': 0.9982484579086304},\n {'label': 'joy', 'score': 0.9999810457229614},\n {'label': 'love', 'score': 0.9999312162399292},\n {'label': 'anger', 'score': 0.8875200748443604},\n {'label': 'love', 'score': 0.9309033155441284},\n {'label': 'joy', 'score': 0.9999829530715942},\n {'label': 'sadness', 'score': 0.9999779462814331},\n {'label': 'anger', 'score': 0.9999756813049316},\n {'label': 'anger', 'score': 0.9999762773513794},\n {'label': 'joy', 'score': 0.99997878074646},\n {'label': 'fear', 'score': 0.9997890591621399},\n {'label': 'sadness', 'score': 0.9999817609786987},\n {'label': 'sadness', 'score': 0.999982476234436},\n {'label': 'fear', 'score': 0.999956488609314},\n {'label': 'sadness', 'score': 0.9999728202819824},\n {'label': 'sadness', 'score': 0.999981164932251},\n {'label': 'joy', 'score': 0.9999819993972778},\n {'label': 'sadness', 'score': 0.9999463558197021},\n {'label': 'sadness', 'score': 0.9999781847000122},\n {'label': 'fear', 'score': 0.999841570854187},\n {'label': 'love', 'score': 0.9999357461929321},\n {'label': 'joy', 'score': 0.9999825954437256},\n {'label': 'sadness', 'score': 0.9999825954437256},\n {'label': 'anger', 'score': 0.9999774694442749},\n {'label': 'love', 'score': 0.9943116903305054},\n {'label': 'joy', 'score': 0.9999829530715942},\n {'label': 'joy', 'score': 0.999982476234436},\n {'label': 'joy', 'score': 0.9999828338623047},\n {'label': 'anger', 'score': 0.9999774694442749},\n {'label': 'sadness', 'score': 0.9999754428863525},\n {'label': 'sadness', 'score': 0.9999762773513794},\n {'label': 'sadness', 'score': 0.999976396560669},\n {'label': 'joy', 'score': 0.9999808073043823},\n {'label': 'fear', 'score': 0.9999566078186035},\n {'label': 'joy', 'score': 0.9999791383743286},\n {'label': 'sadness', 'score': 0.9999797344207764},\n {'label': 'anger', 'score': 0.9975442290306091},\n {'label': 'sadness', 'score': 0.9999706745147705},\n {'label': 'joy', 'score': 0.999981164932251},\n {'label': 'sadness', 'score': 0.9999768733978271},\n {'label': 'joy', 'score': 0.9999816417694092},\n {'label': 'joy', 'score': 0.9999810457229614},\n {'label': 'joy', 'score': 0.9999809265136719},\n {'label': 'joy', 'score': 0.9999821186065674},\n {'label': 'fear', 'score': 0.9999508857727051},\n {'label': 'joy', 'score': 0.999980092048645},\n {'label': 'love', 'score': 0.7267642021179199},\n {'label': 'joy', 'score': 0.9999732971191406},\n {'label': 'fear', 'score': 0.8969306945800781},\n {'label': 'joy', 'score': 0.9999784231185913},\n {'label': 'love', 'score': 0.9999303817749023},\n {'label': 'fear', 'score': 0.9952770471572876},\n {'label': 'sadness', 'score': 0.9999771118164062},\n {'label': 'joy', 'score': 0.9999819993972778},\n {'label': 'anger', 'score': 0.9999797344207764},\n {'label': 'sadness', 'score': 0.9999562501907349},\n {'label': 'fear', 'score': 0.9999444484710693},\n {'label': 'joy', 'score': 0.9999829530715942},\n {'label': 'sadness', 'score': 0.9999687671661377},\n {'label': 'fear', 'score': 0.9999574422836304},\n {'label': 'joy', 'score': 0.9999815225601196},\n {'label': 'joy', 'score': 0.9999828338623047},\n {'label': 'anger', 'score': 0.9999788999557495},\n {'label': 'joy', 'score': 0.9999810457229614},\n {'label': 'joy', 'score': 0.9999774694442749},\n {'label': 'joy', 'score': 0.9999816417694092},\n {'label': 'anger', 'score': 0.9999752044677734},\n {'label': 'joy', 'score': 0.9999825954437256},\n {'label': 'love', 'score': 0.9999361038208008},\n {'label': 'joy', 'score': 0.9999375343322754},\n {'label': 'joy', 'score': 0.9999825954437256},\n {'label': 'joy', 'score': 0.9999836683273315},\n {'label': 'anger', 'score': 0.9960417747497559},\n {'label': 'joy', 'score': 0.9999817609786987},\n {'label': 'anger', 'score': 0.9999772310256958},\n {'label': 'joy', 'score': 0.9999825954437256},\n {'label': 'sadness', 'score': 0.996698260307312},\n {'label': 'anger', 'score': 0.9999792575836182},\n {'label': 'joy', 'score': 0.999980092048645},\n {'label': 'anger', 'score': 0.9999767541885376},\n {'label': 'anger', 'score': 0.9999738931655884},\n {'label': 'fear', 'score': 0.9999514818191528},\n {'label': 'sadness', 'score': 0.9999829530715942},\n {'label': 'anger', 'score': 0.9999696016311646},\n {'label': 'love', 'score': 0.9999328851699829},\n {'label': 'fear', 'score': 0.9999526739120483},\n {'label': 'joy', 'score': 0.9999808073043823},\n {'label': 'love', 'score': 0.9999327659606934},\n {'label': 'sadness', 'score': 0.9999806880950928},\n {'label': 'anger', 'score': 0.9999747276306152},\n {'label': 'joy', 'score': 0.9999817609786987},\n {'label': 'love', 'score': 0.999929666519165},\n {'label': 'joy', 'score': 0.9999817609786987},\n {'label': 'anger', 'score': 0.999976396560669},\n {'label': 'joy', 'score': 0.9999825954437256},\n {'label': 'joy', 'score': 0.9999827146530151},\n {'label': 'anger', 'score': 0.9999738931655884},\n {'label': 'joy', 'score': 0.9999791383743286},\n {'label': 'joy', 'score': 0.9999622106552124},\n {'label': 'joy', 'score': 0.9999834299087524},\n {'label': 'surprise', 'score': 0.9998747110366821},\n {'label': 'joy', 'score': 0.9999823570251465},\n {'label': 'sadness', 'score': 0.9999792575836182},\n {'label': 'love', 'score': 0.9999148845672607},\n {'label': 'sadness', 'score': 0.9999810457229614},\n {'label': 'joy', 'score': 0.9999833106994629},\n {'label': 'love', 'score': 0.9999274015426636},\n {'label': 'sadness', 'score': 0.9999772310256958},\n {'label': 'joy', 'score': 0.9999815225601196},\n {'label': 'love', 'score': 0.9998559951782227},\n {'label': 'joy', 'score': 0.9999819993972778},\n {'label': 'joy', 'score': 0.9999822378158569},\n {'label': 'sadness', 'score': 0.9999711513519287},\n {'label': 'joy', 'score': 0.9999780654907227},\n {'label': 'anger', 'score': 0.9999791383743286},\n {'label': 'joy', 'score': 0.9999710321426392},\n {'label': 'sadness', 'score': 0.9999796152114868},\n {'label': 'joy', 'score': 0.9999833106994629},\n {'label': 'sadness', 'score': 0.9999802112579346},\n {'label': 'love', 'score': 0.9999324083328247},\n {'label': 'fear', 'score': 0.9998478889465332},\n {'label': 'joy', 'score': 0.999600350856781},\n {'label': 'fear', 'score': 0.9864398837089539},\n {'label': 'anger', 'score': 0.999971866607666},\n {'label': 'anger', 'score': 0.9823558926582336},\n {'label': 'fear', 'score': 0.9999524354934692},\n {'label': 'joy', 'score': 0.9999712705612183},\n {'label': 'fear', 'score': 0.9999501705169678},\n {'label': 'anger', 'score': 0.9999767541885376},\n {'label': 'sadness', 'score': 0.9999810457229614},\n {'label': 'sadness', 'score': 0.9999806880950928},\n {'label': 'love', 'score': 0.9999343156814575},\n {'label': 'joy', 'score': 0.9999809265136719},\n {'label': 'joy', 'score': 0.9999828338623047},\n {'label': 'joy', 'score': 0.999982476234436},\n {'label': 'anger', 'score': 0.9999710321426392},\n {'label': 'anger', 'score': 0.9999762773513794},\n {'label': 'joy', 'score': 0.9999810457229614},\n {'label': 'sadness', 'score': 0.7388232350349426},\n {'label': 'joy', 'score': 0.9999822378158569},\n {'label': 'anger', 'score': 0.9999680519104004},\n {'label': 'sadness', 'score': 0.9999781847000122},\n {'label': 'surprise', 'score': 0.9998682737350464},\n {'label': 'love', 'score': 0.999937891960144},\n {'label': 'sadness', 'score': 0.9999785423278809},\n {'label': 'sadness', 'score': 0.9999814033508301},\n {'label': 'sadness', 'score': 0.9999806880950928},\n {'label': 'surprise', 'score': 0.9998825788497925},\n {'label': 'joy', 'score': 0.999982476234436},\n {'label': 'sadness', 'score': 0.9999808073043823},\n {'label': 'sadness', 'score': 0.9999765157699585},\n {'label': 'sadness', 'score': 0.9999794960021973},\n {'label': 'sadness', 'score': 0.9999784231185913},\n {'label': 'joy', 'score': 0.9999829530715942},\n {'label': 'sadness', 'score': 0.9999773502349854},\n {'label': 'sadness', 'score': 0.9999818801879883},\n {'label': 'surprise', 'score': 0.9998316764831543},\n {'label': 'love', 'score': 0.999922513961792},\n {'label': 'sadness', 'score': 0.9999755620956421},\n {'label': 'anger', 'score': 0.9999750852584839},\n {'label': 'joy', 'score': 0.9999819993972778},\n {'label': 'joy', 'score': 0.9999831914901733},\n {'label': 'joy', 'score': 0.9999812841415405},\n {'label': 'joy', 'score': 0.9999818801879883},\n {'label': 'joy', 'score': 0.9999833106994629},\n {'label': 'joy', 'score': 0.999981164932251},\n {'label': 'joy', 'score': 0.9999827146530151},\n {'label': 'anger', 'score': 0.999974250793457},\n {'label': 'sadness', 'score': 0.9999805688858032},\n {'label': 'sadness', 'score': 0.9999780654907227},\n {'label': 'fear', 'score': 0.9999560117721558},\n {'label': 'anger', 'score': 0.9999748468399048},\n {'label': 'joy', 'score': 0.9999828338623047},\n {'label': 'joy', 'score': 0.9999828338623047},\n {'label': 'sadness', 'score': 0.9999788999557495},\n {'label': 'fear', 'score': 0.9999539852142334},\n {'label': 'sadness', 'score': 0.999981164932251},\n {'label': 'sadness', 'score': 0.9999821186065674},\n {'label': 'sadness', 'score': 0.99997878074646},\n {'label': 'fear', 'score': 0.9999514818191528},\n {'label': 'love', 'score': 0.9999343156814575},\n {'label': 'fear', 'score': 0.9995044469833374},\n {'label': 'love', 'score': 0.9992374181747437},\n {'label': 'sadness', 'score': 0.9999798536300659},\n {'label': 'sadness', 'score': 0.999976396560669},\n {'label': 'anger', 'score': 0.9999717473983765},\n {'label': 'sadness', 'score': 0.9999781847000122},\n {'label': 'sadness', 'score': 0.9999806880950928},\n {'label': 'sadness', 'score': 0.9999767541885376},\n {'label': 'joy', 'score': 0.9999822378158569},\n {'label': 'sadness', 'score': 0.9999818801879883},\n {'label': 'anger', 'score': 0.999968409538269},\n {'label': 'sadness', 'score': 0.9999773502349854},\n {'label': 'anger', 'score': 0.9999786615371704},\n {'label': 'sadness', 'score': 0.9999806880950928},\n {'label': 'sadness', 'score': 0.9999805688858032},\n {'label': 'love', 'score': 0.9999338388442993},\n {'label': 'anger', 'score': 0.9999778270721436},\n {'label': 'love', 'score': 0.9999369382858276},\n {'label': 'joy', 'score': 0.999981164932251},\n {'label': 'joy', 'score': 0.9999818801879883},\n {'label': 'sadness', 'score': 0.9999796152114868},\n {'label': 'love', 'score': 0.9999189376831055},\n {'label': 'fear', 'score': 0.9999514818191528},\n {'label': 'joy', 'score': 0.9999749660491943},\n {'label': 'sadness', 'score': 0.9999760389328003},\n {'label': 'fear', 'score': 0.9998639822006226},\n {'label': 'joy', 'score': 0.9999785423278809},\n {'label': 'sadness', 'score': 0.99997878074646},\n {'label': 'sadness', 'score': 0.9999778270721436},\n {'label': 'joy', 'score': 0.9999806880950928},\n {'label': 'love', 'score': 0.9999303817749023},\n {'label': 'sadness', 'score': 0.9999810457229614},\n {'label': 'joy', 'score': 0.9996970891952515},\n {'label': 'sadness', 'score': 0.999976634979248},\n {'label': 'surprise', 'score': 0.9998704195022583},\n {'label': 'love', 'score': 0.9999212026596069},\n {'label': 'sadness', 'score': 0.9999749660491943},\n {'label': 'fear', 'score': 0.999948263168335},\n {'label': 'surprise', 'score': 0.9998782873153687},\n {'label': 'sadness', 'score': 0.999981164932251},\n {'label': 'joy', 'score': 0.999982476234436},\n {'label': 'love', 'score': 0.99993896484375},\n {'label': 'fear', 'score': 0.9999505281448364},\n {'label': 'love', 'score': 0.999920129776001},\n {'label': 'sadness', 'score': 0.9999822378158569},\n {'label': 'surprise', 'score': 0.9998753070831299},\n {'label': 'love', 'score': 0.9999349117279053},\n {'label': 'sadness', 'score': 0.9999758005142212},\n {'label': 'sadness', 'score': 0.9999796152114868},\n {'label': 'love', 'score': 0.996933102607727},\n {'label': 'fear', 'score': 0.9978784322738647},\n {'label': 'joy', 'score': 0.9999819993972778},\n {'label': 'joy', 'score': 0.9999821186065674},\n {'label': 'fear', 'score': 0.9999454021453857},\n {'label': 'sadness', 'score': 0.99997878074646},\n {'label': 'fear', 'score': 0.9999567270278931},\n {'label': 'sadness', 'score': 0.9999799728393555},\n {'label': 'anger', 'score': 0.9999759197235107},\n {'label': 'sadness', 'score': 0.9999822378158569},\n {'label': 'sadness', 'score': 0.9999778270721436},\n {'label': 'sadness', 'score': 0.9999797344207764},\n {'label': 'anger', 'score': 0.9999785423278809},\n {'label': 'sadness', 'score': 0.9999805688858032},\n {'label': 'love', 'score': 0.9999287128448486},\n {'label': 'sadness', 'score': 0.9999798536300659},\n {'label': 'love', 'score': 0.9132621884346008},\n {'label': 'joy', 'score': 0.9999810457229614},\n {'label': 'surprise', 'score': 0.9998760223388672},\n {'label': 'joy', 'score': 0.9999827146530151},\n {'label': 'sadness', 'score': 0.99997878074646},\n {'label': 'sadness', 'score': 0.9999775886535645},\n {'label': 'joy', 'score': 0.9999828338623047},\n {'label': 'love', 'score': 0.9996819496154785},\n {'label': 'joy', 'score': 0.9999812841415405},\n {'label': 'anger', 'score': 0.9999786615371704},\n {'label': 'love', 'score': 0.9962618947029114},\n {'label': 'joy', 'score': 0.9999748468399048},\n {'label': 'joy', 'score': 0.9999778270721436},\n {'label': 'joy', 'score': 0.9999779462814331},\n {'label': 'joy', 'score': 0.9999823570251465},\n {'label': 'sadness', 'score': 0.9999806880950928},\n {'label': 'sadness', 'score': 0.9999814033508301},\n {'label': 'joy', 'score': 0.9999821186065674},\n {'label': 'fear', 'score': 0.9978116154670715},\n {'label': 'anger', 'score': 0.9999767541885376},\n {'label': 'sadness', 'score': 0.9999808073043823},\n {'label': 'anger', 'score': 0.9999780654907227},\n {'label': 'sadness', 'score': 0.9999765157699585},\n {'label': 'sadness', 'score': 0.9999803304672241},\n {'label': 'joy', 'score': 0.9999746084213257},\n {'label': 'joy', 'score': 0.999982476234436},\n {'label': 'surprise', 'score': 0.9998687505722046},\n {'label': 'joy', 'score': 0.9999631643295288},\n {'label': 'joy', 'score': 0.9999631643295288},\n {'label': 'joy', 'score': 0.9999822378158569},\n {'label': 'anger', 'score': 0.999976396560669},\n {'label': 'fear', 'score': 0.9999560117721558},\n {'label': 'sadness', 'score': 0.9999765157699585},\n {'label': 'joy', 'score': 0.9999821186065674},\n {'label': 'sadness', 'score': 0.9999641180038452},\n {'label': 'fear', 'score': 0.9997188448905945},\n {'label': 'fear', 'score': 0.9999432563781738},\n {'label': 'joy', 'score': 0.9999804496765137},\n {'label': 'fear', 'score': 0.9999542236328125},\n {'label': 'love', 'score': 0.9999377727508545},\n {'label': 'anger', 'score': 0.9999754428863525},\n {'label': 'joy', 'score': 0.9999834299087524},\n {'label': 'anger', 'score': 0.9999755620956421},\n {'label': 'joy', 'score': 0.999981164932251},\n {'label': 'sadness', 'score': 0.9999788999557495},\n {'label': 'joy', 'score': 0.9999830722808838},\n {'label': 'fear', 'score': 0.9999383687973022},\n {'label': 'sadness', 'score': 0.9999815225601196},\n {'label': 'joy', 'score': 0.9999821186065674},\n {'label': 'sadness', 'score': 0.9999825954437256},\n {'label': 'sadness', 'score': 0.9999823570251465},\n {'label': 'joy', 'score': 0.9546512961387634},\n {'label': 'joy', 'score': 0.9999781847000122},\n {'label': 'love', 'score': 0.9999289512634277},\n {'label': 'sadness', 'score': 0.9999761581420898},\n {'label': 'sadness', 'score': 0.9999808073043823},\n {'label': 'love', 'score': 0.9999325275421143},\n {'label': 'anger', 'score': 0.9999773502349854},\n {'label': 'love', 'score': 0.9999345541000366},\n {'label': 'love', 'score': 0.9999279975891113},\n {'label': 'love', 'score': 0.9969819188117981},\n {'label': 'joy', 'score': 0.9999805688858032},\n {'label': 'sadness', 'score': 0.5123510360717773},\n {'label': 'love', 'score': 0.9999227523803711},\n {'label': 'joy', 'score': 0.9999825954437256},\n {'label': 'joy', 'score': 0.9999827146530151},\n {'label': 'joy', 'score': 0.9999815225601196},\n {'label': 'anger', 'score': 0.9999721050262451},\n {'label': 'joy', 'score': 0.999940037727356},\n {'label': 'love', 'score': 0.9999169111251831},\n {'label': 'sadness', 'score': 0.999975323677063},\n {'label': 'surprise', 'score': 0.9996567964553833},\n {'label': 'joy', 'score': 0.9999728202819824},\n {'label': 'joy', 'score': 0.9999829530715942},\n {'label': 'joy', 'score': 0.9999821186065674},\n {'label': 'joy', 'score': 0.9999831914901733},\n {'label': 'sadness', 'score': 0.9999815225601196},\n {'label': 'love', 'score': 0.9999262094497681},\n {'label': 'joy', 'score': 0.9999814033508301},\n {'label': 'sadness', 'score': 0.999981164932251},\n {'label': 'joy', 'score': 0.999982476234436},\n {'label': 'love', 'score': 0.8184260725975037},\n {'label': 'fear', 'score': 0.9999493360519409},\n {'label': 'fear', 'score': 0.9554024934768677},\n {'label': 'sadness', 'score': 0.999980092048645},\n {'label': 'joy', 'score': 0.9999815225601196},\n {'label': 'sadness', 'score': 0.9999738931655884},\n {'label': 'fear', 'score': 0.9999516010284424},\n {'label': 'sadness', 'score': 0.999982476234436},\n {'label': 'fear', 'score': 0.9999552965164185},\n {'label': 'joy', 'score': 0.9999746084213257},\n {'label': 'sadness', 'score': 0.9999790191650391},\n {'label': 'sadness', 'score': 0.999974250793457},\n {'label': 'anger', 'score': 0.9999784231185913},\n {'label': 'sadness', 'score': 0.9999799728393555},\n {'label': 'joy', 'score': 0.999980092048645},\n {'label': 'love', 'score': 0.9999327659606934},\n {'label': 'anger', 'score': 0.9999786615371704},\n {'label': 'joy', 'score': 0.9999822378158569},\n {'label': 'joy', 'score': 0.9999834299087524},\n {'label': 'sadness', 'score': 0.9999758005142212},\n {'label': 'joy', 'score': 0.9991331696510315},\n {'label': 'anger', 'score': 0.999974250793457},\n {'label': 'sadness', 'score': 0.9999790191650391},\n {'label': 'anger', 'score': 0.999977707862854},\n {'label': 'joy', 'score': 0.9999748468399048},\n {'label': 'joy', 'score': 0.9999827146530151},\n {'label': 'anger', 'score': 0.9999663829803467},\n {'label': 'anger', 'score': 0.9999769926071167},\n {'label': 'fear', 'score': 0.999955415725708},\n {'label': 'sadness', 'score': 0.9999803304672241},\n {'label': 'anger', 'score': 0.9999784231185913},\n {'label': 'joy', 'score': 0.9999825954437256},\n {'label': 'joy', 'score': 0.9999821186065674},\n {'label': 'fear', 'score': 0.9999545812606812},\n {'label': 'joy', 'score': 0.9988897442817688},\n {'label': 'fear', 'score': 0.9999524354934692},\n {'label': 'sadness', 'score': 0.9999775886535645},\n {'label': 'surprise', 'score': 0.9998624324798584},\n {'label': 'joy', 'score': 0.9999821186065674},\n {'label': 'joy', 'score': 0.9999831914901733},\n {'label': 'anger', 'score': 0.9913062453269958},\n {'label': 'sadness', 'score': 0.9999819993972778},\n {'label': 'joy', 'score': 0.9999829530715942},\n {'label': 'fear', 'score': 0.9999568462371826},\n {'label': 'sadness', 'score': 0.99997878074646},\n {'label': 'anger', 'score': 0.8832761645317078},\n {'label': 'anger', 'score': 0.9999778270721436},\n {'label': 'joy', 'score': 0.9999755620956421},\n {'label': 'surprise', 'score': 0.9995754361152649},\n {'label': 'sadness', 'score': 0.999975323677063},\n {'label': 'sadness', 'score': 0.9999755620956421},\n {'label': 'sadness', 'score': 0.9999740123748779},\n {'label': 'sadness', 'score': 0.9999827146530151},\n {'label': 'joy', 'score': 0.9999810457229614},\n {'label': 'joy', 'score': 0.9999814033508301},\n {'label': 'surprise', 'score': 0.9998733997344971},\n {'label': 'joy', 'score': 0.9999797344207764},\n {'label': 'joy', 'score': 0.9999827146530151},\n {'label': 'joy', 'score': 0.9999815225601196},\n {'label': 'anger', 'score': 0.9999734163284302},\n {'label': 'sadness', 'score': 0.9999762773513794},\n {'label': 'joy', 'score': 0.9999815225601196},\n {'label': 'joy', 'score': 0.9998375177383423},\n {'label': 'surprise', 'score': 0.9998631477355957},\n {'label': 'fear', 'score': 0.9999445676803589},\n {'label': 'joy', 'score': 0.9998830556869507},\n {'label': 'fear', 'score': 0.9999562501907349},\n {'label': 'anger', 'score': 0.9999737739562988},\n {'label': 'joy', 'score': 0.999982476234436},\n {'label': 'anger', 'score': 0.9999756813049316},\n {'label': 'joy', 'score': 0.9999821186065674},\n {'label': 'anger', 'score': 0.9999783039093018},\n {'label': 'sadness', 'score': 0.9999784231185913},\n {'label': 'sadness', 'score': 0.999976634979248},\n {'label': 'joy', 'score': 0.9999828338623047},\n {'label': 'fear', 'score': 0.9999456405639648},\n {'label': 'sadness', 'score': 0.9999756813049316},\n {'label': 'joy', 'score': 0.9999816417694092},\n {'label': 'joy', 'score': 0.9999821186065674},\n {'label': 'joy', 'score': 0.9999819993972778},\n {'label': 'sadness', 'score': 0.9999797344207764},\n {'label': 'joy', 'score': 0.9999819993972778},\n {'label': 'anger', 'score': 0.9999785423278809},\n {'label': 'surprise', 'score': 0.9998791217803955},\n {'label': 'sadness', 'score': 0.9999819993972778},\n {'label': 'sadness', 'score': 0.9999738931655884},\n {'label': 'sadness', 'score': 0.9999799728393555},\n {'label': 'joy', 'score': 0.9999749660491943},\n {'label': 'sadness', 'score': 0.9999719858169556},\n {'label': 'sadness', 'score': 0.9999778270721436},\n {'label': 'anger', 'score': 0.9975618124008179},\n {'label': 'joy', 'score': 0.9999809265136719},\n {'label': 'sadness', 'score': 0.9999825954437256},\n {'label': 'fear', 'score': 0.9748773574829102},\n {'label': 'anger', 'score': 0.9999788999557495},\n {'label': 'sadness', 'score': 0.9999734163284302},\n {'label': 'joy', 'score': 0.9999808073043823},\n {'label': 'surprise', 'score': 0.9998735189437866},\n {'label': 'joy', 'score': 0.9999765157699585},\n {'label': 'sadness', 'score': 0.9999828338623047},\n {'label': 'fear', 'score': 0.9999521970748901},\n {'label': 'sadness', 'score': 0.9999762773513794},\n {'label': 'joy', 'score': 0.9999808073043823},\n {'label': 'joy', 'score': 0.9999823570251465},\n {'label': 'love', 'score': 0.9999240636825562},\n {'label': 'joy', 'score': 0.9999831914901733},\n {'label': 'joy', 'score': 0.9999830722808838},\n {'label': 'sadness', 'score': 0.9999803304672241},\n {'label': 'sadness', 'score': 0.9999017715454102},\n {'label': 'joy', 'score': 0.9999794960021973},\n {'label': 'anger', 'score': 0.9999784231185913},\n {'label': 'joy', 'score': 0.999982476234436},\n {'label': 'sadness', 'score': 0.9999799728393555},\n {'label': 'joy', 'score': 0.9999825954437256},\n {'label': 'joy', 'score': 0.9999793767929077},\n {'label': 'joy', 'score': 0.9998487234115601},\n {'label': 'anger', 'score': 0.9999746084213257},\n {'label': 'anger', 'score': 0.9999765157699585},\n {'label': 'joy', 'score': 0.9999825954437256},\n {'label': 'sadness', 'score': 0.9999818801879883},\n {'label': 'joy', 'score': 0.9999825954437256},\n {'label': 'sadness', 'score': 0.9999805688858032},\n {'label': 'joy', 'score': 0.9999823570251465},\n {'label': 'anger', 'score': 0.9999790191650391},\n {'label': 'love', 'score': 0.9999302625656128},\n {'label': 'anger', 'score': 0.9999762773513794},\n {'label': 'sadness', 'score': 0.9999773502349854},\n {'label': 'joy', 'score': 0.9999831914901733},\n {'label': 'sadness', 'score': 0.999977707862854},\n {'label': 'joy', 'score': 0.9999804496765137},\n {'label': 'joy', 'score': 0.9999819993972778},\n {'label': 'fear', 'score': 0.9999533891677856},\n {'label': 'sadness', 'score': 0.985388457775116},\n {'label': 'joy', 'score': 0.9999806880950928},\n {'label': 'sadness', 'score': 0.9999797344207764},\n {'label': 'joy', 'score': 0.9999828338623047},\n {'label': 'sadness', 'score': 0.999981164932251},\n {'label': 'joy', 'score': 0.9999828338623047},\n {'label': 'sadness', 'score': 0.9999823570251465},\n {'label': 'sadness', 'score': 0.9999754428863525},\n {'label': 'joy', 'score': 0.9999825954437256},\n {'label': 'anger', 'score': 0.9999738931655884},\n {'label': 'sadness', 'score': 0.9999827146530151},\n {'label': 'sadness', 'score': 0.9191039204597473},\n {'label': 'fear', 'score': 0.9999536275863647},\n {'label': 'joy', 'score': 0.9999831914901733},\n {'label': 'joy', 'score': 0.9999828338623047},\n {'label': 'anger', 'score': 0.9999754428863525},\n {'label': 'fear', 'score': 0.9999552965164185},\n {'label': 'joy', 'score': 0.9999828338623047},\n {'label': 'sadness', 'score': 0.9975417852401733},\n {'label': 'joy', 'score': 0.9999817609786987},\n {'label': 'sadness', 'score': 0.9999743700027466},\n {'label': 'sadness', 'score': 0.9999819993972778},\n {'label': 'sadness', 'score': 0.9999797344207764},\n {'label': 'joy', 'score': 0.9999823570251465},\n {'label': 'joy', 'score': 0.9999829530715942},\n {'label': 'sadness', 'score': 0.9868115782737732},\n {'label': 'joy', 'score': 0.9999818801879883},\n {'label': 'joy', 'score': 0.999980092048645},\n {'label': 'love', 'score': 0.9999382495880127},\n {'label': 'joy', 'score': 0.9999828338623047},\n {'label': 'joy', 'score': 0.9999747276306152},\n {'label': 'joy', 'score': 0.9999823570251465},\n {'label': 'joy', 'score': 0.9999798536300659},\n {'label': 'love', 'score': 0.9999332427978516},\n {'label': 'sadness', 'score': 0.9999828338623047},\n {'label': 'anger', 'score': 0.9999761581420898},\n {'label': 'anger', 'score': 0.9999781847000122},\n {'label': 'fear', 'score': 0.9999505281448364},\n {'label': 'fear', 'score': 0.9999524354934692},\n {'label': 'joy', 'score': 0.9999778270721436},\n {'label': 'joy', 'score': 0.9999810457229614},\n {'label': 'joy', 'score': 0.9999821186065674},\n {'label': 'love', 'score': 0.9999359846115112},\n {'label': 'joy', 'score': 0.9999804496765137},\n {'label': 'fear', 'score': 0.9998233914375305},\n {'label': 'sadness', 'score': 0.9999768733978271},\n {'label': 'sadness', 'score': 0.9999827146530151},\n {'label': 'fear', 'score': 0.9999550580978394},\n {'label': 'sadness', 'score': 0.9999716281890869},\n {'label': 'fear', 'score': 0.9671921133995056},\n {'label': 'sadness', 'score': 0.9999754428863525},\n {'label': 'sadness', 'score': 0.999977707862854},\n {'label': 'joy', 'score': 0.9999822378158569},\n {'label': 'sadness', 'score': 0.999980092048645},\n {'label': 'sadness', 'score': 0.9999674558639526},\n {'label': 'joy', 'score': 0.9999755620956421},\n {'label': 'sadness', 'score': 0.9999756813049316},\n {'label': 'fear', 'score': 0.9999542236328125},\n {'label': 'sadness', 'score': 0.9999815225601196},\n {'label': 'joy', 'score': 0.9999825954437256},\n {'label': 'joy', 'score': 0.9999821186065674},\n {'label': 'joy', 'score': 0.9999786615371704},\n {'label': 'anger', 'score': 0.9999732971191406},\n {'label': 'love', 'score': 0.9986458420753479},\n {'label': 'sadness', 'score': 0.9999792575836182},\n {'label': 'joy', 'score': 0.9999829530715942},\n {'label': 'joy', 'score': 0.993740975856781},\n {'label': 'joy', 'score': 0.9999827146530151},\n {'label': 'sadness', 'score': 0.9999810457229614},\n {'label': 'joy', 'score': 0.9999803304672241},\n {'label': 'anger', 'score': 0.9999778270721436},\n {'label': 'love', 'score': 0.9999352693557739},\n {'label': 'love', 'score': 0.9999349117279053},\n {'label': 'sadness', 'score': 0.9999781847000122},\n {'label': 'love', 'score': 0.9977980852127075},\n {'label': 'anger', 'score': 0.9999769926071167},\n {'label': 'joy', 'score': 0.9999828338623047},\n {'label': 'joy', 'score': 0.999980092048645},\n {'label': 'fear', 'score': 0.9999520778656006},\n {'label': 'sadness', 'score': 0.9999814033508301},\n {'label': 'anger', 'score': 0.9999731779098511},\n {'label': 'anger', 'score': 0.9999768733978271},\n {'label': 'joy', 'score': 0.9999822378158569},\n {'label': 'anger', 'score': 0.9999774694442749},\n {'label': 'joy', 'score': 0.9999798536300659},\n {'label': 'joy', 'score': 0.9999799728393555},\n {'label': 'love', 'score': 0.9999264478683472},\n {'label': 'joy', 'score': 0.9999706745147705},\n {'label': 'joy', 'score': 0.999982476234436},\n {'label': 'love', 'score': 0.9988370537757874},\n {'label': 'sadness', 'score': 0.9999774694442749},\n {'label': 'sadness', 'score': 0.999980092048645},\n {'label': 'joy', 'score': 0.9999833106994629},\n {'label': 'joy', 'score': 0.9452928304672241},\n {'label': 'sadness', 'score': 0.999975323677063},\n {'label': 'joy', 'score': 0.9999785423278809},\n {'label': 'anger', 'score': 0.9999768733978271},\n {'label': 'sadness', 'score': 0.9999765157699585},\n {'label': 'sadness', 'score': 0.9999837875366211},\n {'label': 'sadness', 'score': 0.9999721050262451},\n {'label': 'love', 'score': 0.9999359846115112},\n {'label': 'anger', 'score': 0.9999772310256958},\n {'label': 'sadness', 'score': 0.9999768733978271},\n {'label': 'fear', 'score': 0.9999533891677856},\n {'label': 'sadness', 'score': 0.9999756813049316},\n {'label': 'joy', 'score': 0.9999831914901733},\n {'label': 'love', 'score': 0.9999302625656128},\n {'label': 'sadness', 'score': 0.9999781847000122},\n {'label': 'joy', 'score': 0.9999803304672241},\n {'label': 'joy', 'score': 0.999982476234436},\n {'label': 'surprise', 'score': 0.9998751878738403},\n {'label': 'joy', 'score': 0.9999817609786987},\n {'label': 'joy', 'score': 0.9999810457229614},\n {'label': 'joy', 'score': 0.9998706579208374},\n {'label': 'surprise', 'score': 0.9998629093170166},\n {'label': 'sadness', 'score': 0.9999760389328003},\n {'label': 'surprise', 'score': 0.9998738765716553},\n {'label': 'joy', 'score': 0.9999765157699585},\n {'label': 'joy', 'score': 0.9999815225601196},\n {'label': 'fear', 'score': 0.9999555349349976},\n {'label': 'fear', 'score': 0.9999507665634155},\n {'label': 'joy', 'score': 0.9999761581420898},\n {'label': 'sadness', 'score': 0.9999788999557495},\n {'label': 'sadness', 'score': 0.9999794960021973},\n {'label': 'love', 'score': 0.9399213194847107},\n {'label': 'joy', 'score': 0.9999804496765137},\n {'label': 'joy', 'score': 0.999982476234436},\n {'label': 'love', 'score': 0.9993391633033752},\n {'label': 'joy', 'score': 0.9948124885559082},\n {'label': 'fear', 'score': 0.9999525547027588},\n {'label': 'joy', 'score': 0.9999794960021973},\n {'label': 'joy', 'score': 0.999976634979248},\n {'label': 'joy', 'score': 0.9999819993972778},\n {'label': 'joy', 'score': 0.9999829530715942},\n {'label': 'anger', 'score': 0.9999788999557495},\n {'label': 'joy', 'score': 0.9999818801879883},\n {'label': 'sadness', 'score': 0.9999744892120361},\n {'label': 'sadness', 'score': 0.9999805688858032},\n {'label': 'sadness', 'score': 0.9999804496765137},\n {'label': 'sadness', 'score': 0.9999778270721436},\n {'label': 'joy', 'score': 0.99997878074646},\n {'label': 'fear', 'score': 0.9999514818191528},\n {'label': 'anger', 'score': 0.9999791383743286},\n {'label': 'joy', 'score': 0.9999810457229614},\n {'label': 'joy', 'score': 0.9999812841415405},\n {'label': 'joy', 'score': 0.9999830722808838},\n {'label': 'anger', 'score': 0.9999774694442749},\n {'label': 'joy', 'score': 0.9999827146530151},\n {'label': 'joy', 'score': 0.9999825954437256},\n {'label': 'joy', 'score': 0.9999817609786987},\n {'label': 'sadness', 'score': 0.9999700784683228},\n {'label': 'love', 'score': 0.9998971223831177},\n {'label': 'joy', 'score': 0.9999818801879883},\n {'label': 'sadness', 'score': 0.9999767541885376},\n {'label': 'anger', 'score': 0.9999783039093018},\n {'label': 'love', 'score': 0.9998308420181274},\n {'label': 'joy', 'score': 0.9999809265136719},\n {'label': 'love', 'score': 0.976929247379303},\n {'label': 'love', 'score': 0.9989678859710693},\n {'label': 'love', 'score': 0.9999271631240845},\n {'label': 'surprise', 'score': 0.9639289379119873},\n {'label': 'sadness', 'score': 0.9999406337738037},\n {'label': 'sadness', 'score': 0.9999759197235107},\n {'label': 'joy', 'score': 0.9999814033508301},\n {'label': 'fear', 'score': 0.999954104423523},\n {'label': 'sadness', 'score': 0.9999809265136719},\n {'label': 'sadness', 'score': 0.9999421834945679},\n {'label': 'joy', 'score': 0.9999829530715942},\n {'label': 'sadness', 'score': 0.9999804496765137},\n {'label': 'sadness', 'score': 0.9999817609786987},\n {'label': 'surprise', 'score': 0.9817672371864319},\n {'label': 'joy', 'score': 0.9999823570251465},\n {'label': 'love', 'score': 0.9999239444732666},\n {'label': 'sadness', 'score': 0.9999819993972778},\n {'label': 'anger', 'score': 0.9999610185623169},\n {'label': 'sadness', 'score': 0.9999819993972778},\n {'label': 'sadness', 'score': 0.9999810457229614},\n {'label': 'love', 'score': 0.9999327659606934},\n {'label': 'anger', 'score': 0.9999767541885376},\n {'label': 'fear', 'score': 0.9999487400054932},\n {'label': 'sadness', 'score': 0.999966025352478},\n {'label': 'anger', 'score': 0.9999773502349854},\n {'label': 'joy', 'score': 0.9999828338623047},\n {'label': 'fear', 'score': 0.99994957447052},\n ...]"
     },
     "execution_count": 39,
     "metadata": {},
     "output_type": "execute_result"
    }
   ],
   "source": [
    "pred_val"
   ]
  },
  {
   "cell_type": "code",
   "execution_count": 40,
   "metadata": {
    "colab": {
     "background_save": true
    },
    "id": "hthQSiP4pQA7",
    "ExecuteTime": {
     "end_time": "2024-03-11T18:40:26.654426Z",
     "start_time": "2024-03-11T18:40:26.637997Z"
    }
   },
   "outputs": [],
   "source": [
    "pred_val = [target_map[d['label']] for d in pred_val]"
   ]
  },
  {
   "cell_type": "code",
   "outputs": [
    {
     "data": {
      "text/plain": "[0,\n 0,\n 5,\n 1,\n 5,\n 5,\n 5,\n 5,\n 5,\n 0,\n 1,\n 5,\n 0,\n 0,\n 0,\n 5,\n 0,\n 0,\n 2,\n 5,\n 4,\n 0,\n 5,\n 0,\n 0,\n 0,\n 0,\n 5,\n 0,\n 0,\n 2,\n 0,\n 5,\n 0,\n 0,\n 2,\n 0,\n 0,\n 1,\n 5,\n 2,\n 0,\n 0,\n 0,\n 1,\n 0,\n 0,\n 1,\n 2,\n 0,\n 0,\n 5,\n 5,\n 0,\n 5,\n 5,\n 1,\n 0,\n 0,\n 2,\n 5,\n 5,\n 0,\n 5,\n 5,\n 0,\n 0,\n 2,\n 3,\n 0,\n 5,\n 5,\n 5,\n 4,\n 2,\n 5,\n 0,\n 1,\n 0,\n 0,\n 0,\n 1,\n 1,\n 1,\n 1,\n 2,\n 5,\n 5,\n 2,\n 1,\n 1,\n 5,\n 2,\n 1,\n 4,\n 5,\n 1,\n 1,\n 2,\n 0,\n 1,\n 2,\n 2,\n 0,\n 5,\n 1,\n 0,\n 5,\n 0,\n 0,\n 5,\n 5,\n 0,\n 0,\n 0,\n 0,\n 5,\n 4,\n 1,\n 1,\n 1,\n 5,\n 0,\n 2,\n 4,\n 4,\n 5,\n 0,\n 4,\n 0,\n 0,\n 5,\n 4,\n 0,\n 4,\n 4,\n 2,\n 5,\n 5,\n 0,\n 5,\n 0,\n 5,\n 1,\n 3,\n 2,\n 4,\n 2,\n 0,\n 2,\n 2,\n 4,\n 1,\n 5,\n 1,\n 5,\n 3,\n 1,\n 2,\n 0,\n 4,\n 1,\n 5,\n 0,\n 5,\n 4,\n 5,\n 4,\n 4,\n 0,\n 0,\n 3,\n 0,\n 5,\n 4,\n 5,\n 4,\n 5,\n 2,\n 2,\n 0,\n 1,\n 1,\n 5,\n 5,\n 1,\n 1,\n 0,\n 0,\n 0,\n 5,\n 5,\n 5,\n 5,\n 5,\n 5,\n 4,\n 5,\n 4,\n 5,\n 0,\n 0,\n 4,\n 5,\n 0,\n 5,\n 1,\n 1,\n 5,\n 4,\n 0,\n 4,\n 5,\n 5,\n 0,\n 0,\n 0,\n 5,\n 3,\n 4,\n 0,\n 0,\n 5,\n 3,\n 0,\n 4,\n 0,\n 3,\n 4,\n 5,\n 1,\n 4,\n 5,\n 5,\n 1,\n 3,\n 5,\n 2,\n 5,\n 5,\n 4,\n 5,\n 2,\n 4,\n 0,\n 0,\n 0,\n 5,\n 5,\n 3,\n 1,\n 2,\n 3,\n 5,\n 4,\n 5,\n 5,\n 0,\n 1,\n 4,\n 5,\n 5,\n 5,\n 5,\n 0,\n 5,\n 5,\n 0,\n 5,\n 0,\n 2,\n 0,\n 5,\n 1,\n 5,\n 5,\n 0,\n 5,\n 5,\n 5,\n 0,\n 0,\n 5,\n 5,\n 0,\n 5,\n 5,\n 5,\n 4,\n 0,\n 3,\n 5,\n 5,\n 5,\n 1,\n 0,\n 5,\n 4,\n 1,\n 4,\n 2,\n 2,\n 5,\n 4,\n 0,\n 4,\n 0,\n 0,\n 1,\n 0,\n 4,\n 1,\n 5,\n 5,\n 0,\n 2,\n 5,\n 5,\n 4,\n 5,\n 5,\n 0,\n 5,\n 0,\n 3,\n 4,\n 4,\n 4,\n 5,\n 5,\n 1,\n 5,\n 2,\n 5,\n 1,\n 1,\n 5,\n 5,\n 4,\n 3,\n 1,\n 0,\n 0,\n 4,\n 1,\n 5,\n 0,\n 1,\n 1,\n 0,\n 5,\n 2,\n 0,\n 4,\n 0,\n 0,\n 5,\n 2,\n 5,\n 2,\n 1,\n 2,\n 5,\n 0,\n 1,\n 1,\n 5,\n 4,\n 0,\n 0,\n 4,\n 0,\n 0,\n 5,\n 0,\n 0,\n 4,\n 2,\n 5,\n 0,\n 1,\n 2,\n 5,\n 5,\n 5,\n 1,\n 0,\n 0,\n 0,\n 5,\n 4,\n 5,\n 0,\n 1,\n 0,\n 5,\n 0,\n 5,\n 5,\n 5,\n 5,\n 4,\n 5,\n 2,\n 5,\n 4,\n 5,\n 2,\n 4,\n 0,\n 5,\n 1,\n 0,\n 4,\n 5,\n 0,\n 4,\n 5,\n 5,\n 1,\n 5,\n 5,\n 5,\n 1,\n 5,\n 2,\n 5,\n 5,\n 5,\n 1,\n 5,\n 1,\n 5,\n 0,\n 1,\n 5,\n 1,\n 1,\n 4,\n 0,\n 1,\n 2,\n 4,\n 5,\n 2,\n 0,\n 1,\n 5,\n 2,\n 5,\n 1,\n 5,\n 5,\n 1,\n 5,\n 5,\n 5,\n 3,\n 5,\n 0,\n 2,\n 0,\n 5,\n 2,\n 0,\n 5,\n 2,\n 5,\n 5,\n 0,\n 5,\n 1,\n 5,\n 0,\n 5,\n 0,\n 2,\n 4,\n 5,\n 4,\n 1,\n 1,\n 4,\n 5,\n 4,\n 1,\n 0,\n 0,\n 2,\n 5,\n 5,\n 5,\n 1,\n 1,\n 5,\n 0,\n 5,\n 1,\n 0,\n 3,\n 2,\n 0,\n 0,\n 0,\n 3,\n 5,\n 0,\n 0,\n 0,\n 0,\n 5,\n 0,\n 0,\n 3,\n 2,\n 0,\n 1,\n 5,\n 5,\n 5,\n 5,\n 5,\n 5,\n 5,\n 1,\n 0,\n 0,\n 4,\n 1,\n 5,\n 5,\n 0,\n 4,\n 0,\n 0,\n 0,\n 4,\n 2,\n 4,\n 2,\n 0,\n 0,\n 1,\n 0,\n 0,\n 0,\n 5,\n 0,\n 1,\n 0,\n 1,\n 0,\n 0,\n 2,\n 1,\n 2,\n 5,\n 5,\n 0,\n 2,\n 4,\n 5,\n 0,\n 4,\n 5,\n 0,\n 0,\n 5,\n 2,\n 0,\n 5,\n 0,\n 3,\n 2,\n 0,\n 4,\n 3,\n 0,\n 5,\n 2,\n 4,\n 2,\n 0,\n 3,\n 2,\n 0,\n 0,\n 2,\n 4,\n 5,\n 5,\n 4,\n 0,\n 4,\n 0,\n 1,\n 0,\n 0,\n 0,\n 1,\n 0,\n 2,\n 0,\n 2,\n 5,\n 3,\n 5,\n 0,\n 0,\n 5,\n 2,\n 5,\n 1,\n 2,\n 5,\n 5,\n 5,\n 5,\n 0,\n 0,\n 5,\n 4,\n 1,\n 0,\n 1,\n 0,\n 0,\n 5,\n 5,\n 3,\n 5,\n 5,\n 5,\n 1,\n 4,\n 0,\n 5,\n 0,\n 4,\n 4,\n 5,\n 4,\n 2,\n 1,\n 5,\n 1,\n 5,\n 0,\n 5,\n 4,\n 0,\n 5,\n 0,\n 0,\n 5,\n 5,\n 2,\n 0,\n 0,\n 2,\n 1,\n 2,\n 2,\n 2,\n 5,\n 0,\n 2,\n 5,\n 5,\n 5,\n 1,\n 5,\n 2,\n 0,\n 3,\n 5,\n 5,\n 5,\n 5,\n 0,\n 2,\n 5,\n 0,\n 5,\n 2,\n 4,\n 4,\n 0,\n 5,\n 0,\n 4,\n 0,\n 4,\n 5,\n 0,\n 0,\n 1,\n 0,\n 5,\n 2,\n 1,\n 5,\n 5,\n 0,\n 5,\n 1,\n 0,\n 1,\n 5,\n 5,\n 1,\n 1,\n 4,\n 0,\n 1,\n 5,\n 5,\n 4,\n 5,\n 4,\n 0,\n 3,\n 5,\n 5,\n 1,\n 0,\n 5,\n 4,\n 0,\n 1,\n 1,\n 5,\n 3,\n 0,\n 0,\n 0,\n 0,\n 5,\n 5,\n 3,\n 5,\n 5,\n 5,\n 1,\n 0,\n 5,\n 5,\n 3,\n 4,\n 5,\n 4,\n 1,\n 5,\n 1,\n 5,\n 1,\n 0,\n 0,\n 5,\n 4,\n 0,\n 5,\n 5,\n 5,\n 0,\n 5,\n 1,\n 3,\n 0,\n 0,\n 0,\n 5,\n 0,\n 0,\n 1,\n 5,\n 0,\n 4,\n 1,\n 0,\n 5,\n 3,\n 5,\n 0,\n 4,\n 0,\n 5,\n 5,\n 2,\n 5,\n 5,\n 0,\n 0,\n 5,\n 1,\n 5,\n 0,\n 5,\n 5,\n 5,\n 1,\n 1,\n 5,\n 0,\n 5,\n 0,\n 5,\n 1,\n 2,\n 1,\n 0,\n 5,\n 0,\n 5,\n 5,\n 4,\n 0,\n 5,\n 0,\n 5,\n 0,\n 5,\n 0,\n 0,\n 5,\n 1,\n 0,\n 0,\n 4,\n 5,\n 5,\n 1,\n 4,\n 5,\n 0,\n 5,\n 0,\n 0,\n 0,\n 5,\n 5,\n 0,\n 5,\n 5,\n 2,\n 5,\n 5,\n 5,\n 5,\n 2,\n 0,\n 1,\n 1,\n 4,\n 4,\n 5,\n 5,\n 5,\n 2,\n 5,\n 4,\n 0,\n 0,\n 4,\n 0,\n 4,\n 0,\n 0,\n 5,\n 0,\n 0,\n 5,\n 0,\n 4,\n 0,\n 5,\n 5,\n 5,\n 1,\n 2,\n 0,\n 5,\n 5,\n 5,\n 0,\n 5,\n 1,\n 2,\n 2,\n 0,\n 2,\n 1,\n 5,\n 5,\n 4,\n 0,\n 1,\n 1,\n 5,\n 1,\n 5,\n 5,\n 2,\n 5,\n 5,\n 2,\n 0,\n 0,\n 5,\n 5,\n 0,\n 5,\n 1,\n 0,\n 0,\n 0,\n 2,\n 1,\n 0,\n 4,\n 0,\n 5,\n 2,\n 0,\n 5,\n 5,\n 3,\n 5,\n 5,\n 5,\n 3,\n 0,\n 3,\n 5,\n 5,\n 4,\n 4,\n 5,\n 0,\n 0,\n 2,\n 5,\n 5,\n 2,\n 5,\n 4,\n 5,\n 5,\n 5,\n 5,\n 1,\n 5,\n 0,\n 0,\n 0,\n 0,\n 5,\n 4,\n 1,\n 5,\n 5,\n 5,\n 1,\n 5,\n 5,\n 5,\n 0,\n 2,\n 5,\n 0,\n 1,\n 2,\n 5,\n 2,\n 2,\n 2,\n 3,\n 0,\n 0,\n 5,\n 4,\n 0,\n 0,\n 5,\n 0,\n 0,\n 3,\n 5,\n 2,\n 0,\n 1,\n 0,\n 0,\n 2,\n 1,\n 4,\n 0,\n 1,\n 5,\n 4,\n ...]"
     },
     "execution_count": 41,
     "metadata": {},
     "output_type": "execute_result"
    }
   ],
   "source": [
    "pred_val"
   ],
   "metadata": {
    "collapsed": false,
    "ExecuteTime": {
     "end_time": "2024-03-11T18:40:26.667034Z",
     "start_time": "2024-03-11T18:40:26.655076Z"
    }
   },
   "execution_count": 41
  },
  {
   "cell_type": "code",
   "execution_count": 42,
   "metadata": {
    "colab": {
     "background_save": true
    },
    "id": "_CxvThDhpqJ3",
    "ExecuteTime": {
     "end_time": "2024-03-11T18:40:26.676496Z",
     "start_time": "2024-03-11T18:40:26.667661Z"
    }
   },
   "outputs": [
    {
     "name": "stdout",
     "output_type": "stream",
     "text": [
      "acc: 0.9465\n"
     ]
    }
   ],
   "source": [
    "print(\"acc:\", accuracy_score(ds['validate']['label'], pred_val))"
   ]
  },
  {
   "cell_type": "code",
   "execution_count": 43,
   "metadata": {
    "colab": {
     "background_save": true
    },
    "id": "CNoo5jkyqjVh",
    "ExecuteTime": {
     "end_time": "2024-03-11T18:40:26.686617Z",
     "start_time": "2024-03-11T18:40:26.677508Z"
    }
   },
   "outputs": [
    {
     "name": "stdout",
     "output_type": "stream",
     "text": [
      "f1: 0.9248741912772983\n"
     ]
    }
   ],
   "source": [
    "print(\"f1:\", f1_score(ds['validate']['label'], pred_val, average='macro'))"
   ]
  },
  {
   "cell_type": "code",
   "execution_count": 44,
   "metadata": {
    "colab": {
     "background_save": true
    },
    "id": "L6csitSRrBCo",
    "ExecuteTime": {
     "end_time": "2024-03-11T18:40:26.827389Z",
     "start_time": "2024-03-11T18:40:26.687261Z"
    }
   },
   "outputs": [
    {
     "data": {
      "text/plain": "<Figure size 640x480 with 2 Axes>",
      "image/png": "[encoded data removed]"
     },
     "metadata": {},
     "output_type": "display_data"
    }
   ],
   "source": [
    "def plot_cm(cm):\n",
    "    classes = list(target_map.keys())\n",
    "    df_cm = pd.DataFrame(cm, index=classes, columns=classes)\n",
    "    ax = sn.heatmap(df_cm, annot=True, fmt='.2g')\n",
    "    ax.set_xlabel(\"Predicted\")\n",
    "    ax.set_ylabel(\"Target\")\n",
    "\n",
    "cm = confusion_matrix(ds['validate']['label'], pred_val, normalize='true')\n",
    "plot_cm(cm)"
   ]
  }
 ],
 "metadata": {
  "accelerator": "GPU",
  "colab": {
   "gpuType": "T4",
   "name": "",
   "version": ""
  },
  "kernelspec": {
   "name": "python3",
   "language": "python",
   "display_name": "Python 3 (ipykernel)"
  },
  "language_info": {
   "name": "python"
  },
  "widgets": {
   "application/vnd.jupyter.widget-state+json": {
    "0070498ddc5f46f69c33aa68336b96bf": {
     "model_module": "@jupyter-widgets/controls",
     "model_module_version": "1.5.0",
     "model_name": "HBoxModel",
     "state": {
      "_dom_classes": [],
      "_model_module": "@jupyter-widgets/controls",
      "_model_module_version": "1.5.0",
      "_model_name": "HBoxModel",
      "_view_count": null,
      "_view_module": "@jupyter-widgets/controls",
      "_view_module_version": "1.5.0",
      "_view_name": "HBoxView",
      "box_style": "",
      "children": [
       "IPY_MODEL_b8008cdd31c74f6fbebc76fa2c44f9b6",
       "IPY_MODEL_26ef565c43424ef3b44b56327348429e",
       "IPY_MODEL_a4ee33fd77cf4cf193acc9abfbae5e04"
      ],
      "layout": "IPY_MODEL_fad997b96b77462ab8c96cc47af08e0f"
     }
    },
    "050fd3f4300f4f66a634f916d47bd084": {
     "model_module": "@jupyter-widgets/controls",
     "model_module_version": "1.5.0",
     "model_name": "DescriptionStyleModel",
     "state": {
      "_model_module": "@jupyter-widgets/controls",
      "_model_module_version": "1.5.0",
      "_model_name": "DescriptionStyleModel",
      "_view_count": null,
      "_view_module": "@jupyter-widgets/base",
      "_view_module_version": "1.2.0",
      "_view_name": "StyleView",
      "description_width": ""
     }
    },
    "0a10db96a1ad49bb8beb45397c20e17a": {
     "model_module": "@jupyter-widgets/base",
     "model_module_version": "1.2.0",
     "model_name": "LayoutModel",
     "state": {
      "_model_module": "@jupyter-widgets/base",
      "_model_module_version": "1.2.0",
      "_model_name": "LayoutModel",
      "_view_count": null,
      "_view_module": "@jupyter-widgets/base",
      "_view_module_version": "1.2.0",
      "_view_name": "LayoutView",
      "align_content": null,
      "align_items": null,
      "align_self": null,
      "border": null,
      "bottom": null,
      "display": null,
      "flex": null,
      "flex_flow": null,
      "grid_area": null,
      "grid_auto_columns": null,
      "grid_auto_flow": null,
      "grid_auto_rows": null,
      "grid_column": null,
      "grid_gap": null,
      "grid_row": null,
      "grid_template_areas": null,
      "grid_template_columns": null,
      "grid_template_rows": null,
      "height": null,
      "justify_content": null,
      "justify_items": null,
      "left": null,
      "margin": null,
      "max_height": null,
      "max_width": null,
      "min_height": null,
      "min_width": null,
      "object_fit": null,
      "object_position": null,
      "order": null,
      "overflow": null,
      "overflow_x": null,
      "overflow_y": null,
      "padding": null,
      "right": null,
      "top": null,
      "visibility": null,
      "width": null
     }
    },
    "0a1f33aadbbe4feb9b263a6c40f70ff6": {
     "model_module": "@jupyter-widgets/controls",
     "model_module_version": "1.5.0",
     "model_name": "HBoxModel",
     "state": {
      "_dom_classes": [],
      "_model_module": "@jupyter-widgets/controls",
      "_model_module_version": "1.5.0",
      "_model_name": "HBoxModel",
      "_view_count": null,
      "_view_module": "@jupyter-widgets/controls",
      "_view_module_version": "1.5.0",
      "_view_name": "HBoxView",
      "box_style": "",
      "children": [
       "IPY_MODEL_36ff8d1654054798a306d8649c447746",
       "IPY_MODEL_f6abd95a41fc4245823a0267d6aa3e17",
       "IPY_MODEL_8cd2bd741faa40bda806eee2958b5435"
      ],
      "layout": "IPY_MODEL_b2fc8d223b704730addeacee191ef83f"
     }
    },
    "0aba21630f8d439baaa872c84b56b090": {
     "model_module": "@jupyter-widgets/base",
     "model_module_version": "1.2.0",
     "model_name": "LayoutModel",
     "state": {
      "_model_module": "@jupyter-widgets/base",
      "_model_module_version": "1.2.0",
      "_model_name": "LayoutModel",
      "_view_count": null,
      "_view_module": "@jupyter-widgets/base",
      "_view_module_version": "1.2.0",
      "_view_name": "LayoutView",
      "align_content": null,
      "align_items": null,
      "align_self": null,
      "border": null,
      "bottom": null,
      "display": null,
      "flex": null,
      "flex_flow": null,
      "grid_area": null,
      "grid_auto_columns": null,
      "grid_auto_flow": null,
      "grid_auto_rows": null,
      "grid_column": null,
      "grid_gap": null,
      "grid_row": null,
      "grid_template_areas": null,
      "grid_template_columns": null,
      "grid_template_rows": null,
      "height": null,
      "justify_content": null,
      "justify_items": null,
      "left": null,
      "margin": null,
      "max_height": null,
      "max_width": null,
      "min_height": null,
      "min_width": null,
      "object_fit": null,
      "object_position": null,
      "order": null,
      "overflow": null,
      "overflow_x": null,
      "overflow_y": null,
      "padding": null,
      "right": null,
      "top": null,
      "visibility": null,
      "width": null
     }
    },
    "0c6a5b70f49e403fa7a79ed36c7b0aa7": {
     "model_module": "@jupyter-widgets/controls",
     "model_module_version": "1.5.0",
     "model_name": "FloatProgressModel",
     "state": {
      "_dom_classes": [],
      "_model_module": "@jupyter-widgets/controls",
      "_model_module_version": "1.5.0",
      "_model_name": "FloatProgressModel",
      "_view_count": null,
      "_view_module": "@jupyter-widgets/controls",
      "_view_module_version": "1.5.0",
      "_view_name": "ProgressView",
      "bar_style": "success",
      "description": "",
      "description_tooltip": null,
      "layout": "IPY_MODEL_9bd11ca24e7948bca3f59744a69aed67",
      "max": 4392,
      "min": 0,
      "orientation": "horizontal",
      "style": "IPY_MODEL_1eda70ad1c93493d8f10017977bcfe40",
      "value": 4392
     }
    },
    "1eda70ad1c93493d8f10017977bcfe40": {
     "model_module": "@jupyter-widgets/controls",
     "model_module_version": "1.5.0",
     "model_name": "ProgressStyleModel",
     "state": {
      "_model_module": "@jupyter-widgets/controls",
      "_model_module_version": "1.5.0",
      "_model_name": "ProgressStyleModel",
      "_view_count": null,
      "_view_module": "@jupyter-widgets/base",
      "_view_module_version": "1.2.0",
      "_view_name": "StyleView",
      "bar_color": null,
      "description_width": ""
     }
    },
    "232156260850429ca909abd47a260239": {
     "model_module": "@jupyter-widgets/base",
     "model_module_version": "1.2.0",
     "model_name": "LayoutModel",
     "state": {
      "_model_module": "@jupyter-widgets/base",
      "_model_module_version": "1.2.0",
      "_model_name": "LayoutModel",
      "_view_count": null,
      "_view_module": "@jupyter-widgets/base",
      "_view_module_version": "1.2.0",
      "_view_name": "LayoutView",
      "align_content": null,
      "align_items": null,
      "align_self": null,
      "border": null,
      "bottom": null,
      "display": null,
      "flex": null,
      "flex_flow": null,
      "grid_area": null,
      "grid_auto_columns": null,
      "grid_auto_flow": null,
      "grid_auto_rows": null,
      "grid_column": null,
      "grid_gap": null,
      "grid_row": null,
      "grid_template_areas": null,
      "grid_template_columns": null,
      "grid_template_rows": null,
      "height": null,
      "justify_content": null,
      "justify_items": null,
      "left": null,
      "margin": null,
      "max_height": null,
      "max_width": null,
      "min_height": null,
      "min_width": null,
      "object_fit": null,
      "object_position": null,
      "order": null,
      "overflow": null,
      "overflow_x": null,
      "overflow_y": null,
      "padding": null,
      "right": null,
      "top": null,
      "visibility": null,
      "width": null
     }
    },
    "26ef565c43424ef3b44b56327348429e": {
     "model_module": "@jupyter-widgets/controls",
     "model_module_version": "1.5.0",
     "model_name": "FloatProgressModel",
     "state": {
      "_dom_classes": [],
      "_model_module": "@jupyter-widgets/controls",
      "_model_module_version": "1.5.0",
      "_model_name": "FloatProgressModel",
      "_view_count": null,
      "_view_module": "@jupyter-widgets/controls",
      "_view_module_version": "1.5.0",
      "_view_name": "ProgressView",
      "bar_style": "success",
      "description": "",
      "description_tooltip": null,
      "layout": "IPY_MODEL_0aba21630f8d439baaa872c84b56b090",
      "max": 10248,
      "min": 0,
      "orientation": "horizontal",
      "style": "IPY_MODEL_285112324fd243cf9206f2f4a2857645",
      "value": 10248
     }
    },
    "285112324fd243cf9206f2f4a2857645": {
     "model_module": "@jupyter-widgets/controls",
     "model_module_version": "1.5.0",
     "model_name": "ProgressStyleModel",
     "state": {
      "_model_module": "@jupyter-widgets/controls",
      "_model_module_version": "1.5.0",
      "_model_name": "ProgressStyleModel",
      "_view_count": null,
      "_view_module": "@jupyter-widgets/base",
      "_view_module_version": "1.2.0",
      "_view_name": "StyleView",
      "bar_color": null,
      "description_width": ""
     }
    },
    "34fa1cd8f5a94237a6f27cf03cea6e80": {
     "model_module": "@jupyter-widgets/controls",
     "model_module_version": "1.5.0",
     "model_name": "ProgressStyleModel",
     "state": {
      "_model_module": "@jupyter-widgets/controls",
      "_model_module_version": "1.5.0",
      "_model_name": "ProgressStyleModel",
      "_view_count": null,
      "_view_module": "@jupyter-widgets/base",
      "_view_module_version": "1.2.0",
      "_view_name": "StyleView",
      "bar_color": null,
      "description_width": ""
     }
    },
    "36ff8d1654054798a306d8649c447746": {
     "model_module": "@jupyter-widgets/controls",
     "model_module_version": "1.5.0",
     "model_name": "HTMLModel",
     "state": {
      "_dom_classes": [],
      "_model_module": "@jupyter-widgets/controls",
      "_model_module_version": "1.5.0",
      "_model_name": "HTMLModel",
      "_view_count": null,
      "_view_module": "@jupyter-widgets/controls",
      "_view_module_version": "1.5.0",
      "_view_name": "HTMLView",
      "description": "",
      "description_tooltip": null,
      "layout": "IPY_MODEL_232156260850429ca909abd47a260239",
      "placeholder": "​",
      "style": "IPY_MODEL_050fd3f4300f4f66a634f916d47bd084",
      "value": "Generating train split: "
     }
    },
    "45e7ad73660246a592cc6ad6fdcbc0b5": {
     "model_module": "@jupyter-widgets/controls",
     "model_module_version": "1.5.0",
     "model_name": "DescriptionStyleModel",
     "state": {
      "_model_module": "@jupyter-widgets/controls",
      "_model_module_version": "1.5.0",
      "_model_name": "DescriptionStyleModel",
      "_view_count": null,
      "_view_module": "@jupyter-widgets/base",
      "_view_module_version": "1.2.0",
      "_view_name": "StyleView",
      "description_width": ""
     }
    },
    "47448f01ee25407ca6739072a1ea37ea": {
     "model_module": "@jupyter-widgets/base",
     "model_module_version": "1.2.0",
     "model_name": "LayoutModel",
     "state": {
      "_model_module": "@jupyter-widgets/base",
      "_model_module_version": "1.2.0",
      "_model_name": "LayoutModel",
      "_view_count": null,
      "_view_module": "@jupyter-widgets/base",
      "_view_module_version": "1.2.0",
      "_view_name": "LayoutView",
      "align_content": null,
      "align_items": null,
      "align_self": null,
      "border": null,
      "bottom": null,
      "display": null,
      "flex": null,
      "flex_flow": null,
      "grid_area": null,
      "grid_auto_columns": null,
      "grid_auto_flow": null,
      "grid_auto_rows": null,
      "grid_column": null,
      "grid_gap": null,
      "grid_row": null,
      "grid_template_areas": null,
      "grid_template_columns": null,
      "grid_template_rows": null,
      "height": null,
      "justify_content": null,
      "justify_items": null,
      "left": null,
      "margin": null,
      "max_height": null,
      "max_width": null,
      "min_height": null,
      "min_width": null,
      "object_fit": null,
      "object_position": null,
      "order": null,
      "overflow": null,
      "overflow_x": null,
      "overflow_y": null,
      "padding": null,
      "right": null,
      "top": null,
      "visibility": null,
      "width": null
     }
    },
    "4b028f60c6cf44d7a8901ce059fa31fa": {
     "model_module": "@jupyter-widgets/controls",
     "model_module_version": "1.5.0",
     "model_name": "DescriptionStyleModel",
     "state": {
      "_model_module": "@jupyter-widgets/controls",
      "_model_module_version": "1.5.0",
      "_model_name": "DescriptionStyleModel",
      "_view_count": null,
      "_view_module": "@jupyter-widgets/base",
      "_view_module_version": "1.2.0",
      "_view_name": "StyleView",
      "description_width": ""
     }
    },
    "57cd12c5ba844f68933d0983e16685a3": {
     "model_module": "@jupyter-widgets/base",
     "model_module_version": "1.2.0",
     "model_name": "LayoutModel",
     "state": {
      "_model_module": "@jupyter-widgets/base",
      "_model_module_version": "1.2.0",
      "_model_name": "LayoutModel",
      "_view_count": null,
      "_view_module": "@jupyter-widgets/base",
      "_view_module_version": "1.2.0",
      "_view_name": "LayoutView",
      "align_content": null,
      "align_items": null,
      "align_self": null,
      "border": null,
      "bottom": null,
      "display": null,
      "flex": null,
      "flex_flow": null,
      "grid_area": null,
      "grid_auto_columns": null,
      "grid_auto_flow": null,
      "grid_auto_rows": null,
      "grid_column": null,
      "grid_gap": null,
      "grid_row": null,
      "grid_template_areas": null,
      "grid_template_columns": null,
      "grid_template_rows": null,
      "height": null,
      "justify_content": null,
      "justify_items": null,
      "left": null,
      "margin": null,
      "max_height": null,
      "max_width": null,
      "min_height": null,
      "min_width": null,
      "object_fit": null,
      "object_position": null,
      "order": null,
      "overflow": null,
      "overflow_x": null,
      "overflow_y": null,
      "padding": null,
      "right": null,
      "top": null,
      "visibility": null,
      "width": "20px"
     }
    },
    "58a29bdbfa6449c6b98ccfbb8c6aabd5": {
     "model_module": "@jupyter-widgets/controls",
     "model_module_version": "1.5.0",
     "model_name": "HTMLModel",
     "state": {
      "_dom_classes": [],
      "_model_module": "@jupyter-widgets/controls",
      "_model_module_version": "1.5.0",
      "_model_name": "HTMLModel",
      "_view_count": null,
      "_view_module": "@jupyter-widgets/controls",
      "_view_module_version": "1.5.0",
      "_view_name": "HTMLView",
      "description": "",
      "description_tooltip": null,
      "layout": "IPY_MODEL_0a10db96a1ad49bb8beb45397c20e17a",
      "placeholder": "​",
      "style": "IPY_MODEL_4b028f60c6cf44d7a8901ce059fa31fa",
      "value": " 4392/4392 [00:01&lt;00:00, 3061.70 examples/s]"
     }
    },
    "5b673afd70ba4fd9be18f91e83d0b773": {
     "model_module": "@jupyter-widgets/controls",
     "model_module_version": "1.5.0",
     "model_name": "DescriptionStyleModel",
     "state": {
      "_model_module": "@jupyter-widgets/controls",
      "_model_module_version": "1.5.0",
      "_model_name": "DescriptionStyleModel",
      "_view_count": null,
      "_view_module": "@jupyter-widgets/base",
      "_view_module_version": "1.2.0",
      "_view_name": "StyleView",
      "description_width": ""
     }
    },
    "68f694a656d04955b44aef2d523a8cc7": {
     "model_module": "@jupyter-widgets/controls",
     "model_module_version": "1.5.0",
     "model_name": "DescriptionStyleModel",
     "state": {
      "_model_module": "@jupyter-widgets/controls",
      "_model_module_version": "1.5.0",
      "_model_name": "DescriptionStyleModel",
      "_view_count": null,
      "_view_module": "@jupyter-widgets/base",
      "_view_module_version": "1.2.0",
      "_view_name": "StyleView",
      "description_width": ""
     }
    },
    "78c3370365a14f158e580fded0bfe210": {
     "model_module": "@jupyter-widgets/base",
     "model_module_version": "1.2.0",
     "model_name": "LayoutModel",
     "state": {
      "_model_module": "@jupyter-widgets/base",
      "_model_module_version": "1.2.0",
      "_model_name": "LayoutModel",
      "_view_count": null,
      "_view_module": "@jupyter-widgets/base",
      "_view_module_version": "1.2.0",
      "_view_name": "LayoutView",
      "align_content": null,
      "align_items": null,
      "align_self": null,
      "border": null,
      "bottom": null,
      "display": null,
      "flex": null,
      "flex_flow": null,
      "grid_area": null,
      "grid_auto_columns": null,
      "grid_auto_flow": null,
      "grid_auto_rows": null,
      "grid_column": null,
      "grid_gap": null,
      "grid_row": null,
      "grid_template_areas": null,
      "grid_template_columns": null,
      "grid_template_rows": null,
      "height": null,
      "justify_content": null,
      "justify_items": null,
      "left": null,
      "margin": null,
      "max_height": null,
      "max_width": null,
      "min_height": null,
      "min_width": null,
      "object_fit": null,
      "object_position": null,
      "order": null,
      "overflow": null,
      "overflow_x": null,
      "overflow_y": null,
      "padding": null,
      "right": null,
      "top": null,
      "visibility": null,
      "width": null
     }
    },
    "8cd2bd741faa40bda806eee2958b5435": {
     "model_module": "@jupyter-widgets/controls",
     "model_module_version": "1.5.0",
     "model_name": "HTMLModel",
     "state": {
      "_dom_classes": [],
      "_model_module": "@jupyter-widgets/controls",
      "_model_module_version": "1.5.0",
      "_model_name": "HTMLModel",
      "_view_count": null,
      "_view_module": "@jupyter-widgets/controls",
      "_view_module_version": "1.5.0",
      "_view_name": "HTMLView",
      "description": "",
      "description_tooltip": null,
      "layout": "IPY_MODEL_d4e5e8cd3c4946158057c0e04bb43cdb",
      "placeholder": "​",
      "style": "IPY_MODEL_5b673afd70ba4fd9be18f91e83d0b773",
      "value": " 14640/0 [00:00&lt;00:00, 135677.11 examples/s]"
     }
    },
    "9bd11ca24e7948bca3f59744a69aed67": {
     "model_module": "@jupyter-widgets/base",
     "model_module_version": "1.2.0",
     "model_name": "LayoutModel",
     "state": {
      "_model_module": "@jupyter-widgets/base",
      "_model_module_version": "1.2.0",
      "_model_name": "LayoutModel",
      "_view_count": null,
      "_view_module": "@jupyter-widgets/base",
      "_view_module_version": "1.2.0",
      "_view_name": "LayoutView",
      "align_content": null,
      "align_items": null,
      "align_self": null,
      "border": null,
      "bottom": null,
      "display": null,
      "flex": null,
      "flex_flow": null,
      "grid_area": null,
      "grid_auto_columns": null,
      "grid_auto_flow": null,
      "grid_auto_rows": null,
      "grid_column": null,
      "grid_gap": null,
      "grid_row": null,
      "grid_template_areas": null,
      "grid_template_columns": null,
      "grid_template_rows": null,
      "height": null,
      "justify_content": null,
      "justify_items": null,
      "left": null,
      "margin": null,
      "max_height": null,
      "max_width": null,
      "min_height": null,
      "min_width": null,
      "object_fit": null,
      "object_position": null,
      "order": null,
      "overflow": null,
      "overflow_x": null,
      "overflow_y": null,
      "padding": null,
      "right": null,
      "top": null,
      "visibility": null,
      "width": null
     }
    },
    "a4ee33fd77cf4cf193acc9abfbae5e04": {
     "model_module": "@jupyter-widgets/controls",
     "model_module_version": "1.5.0",
     "model_name": "HTMLModel",
     "state": {
      "_dom_classes": [],
      "_model_module": "@jupyter-widgets/controls",
      "_model_module_version": "1.5.0",
      "_model_name": "HTMLModel",
      "_view_count": null,
      "_view_module": "@jupyter-widgets/controls",
      "_view_module_version": "1.5.0",
      "_view_name": "HTMLView",
      "description": "",
      "description_tooltip": null,
      "layout": "IPY_MODEL_a4f7a399f8824a93858826ae0c77e783",
      "placeholder": "​",
      "style": "IPY_MODEL_68f694a656d04955b44aef2d523a8cc7",
      "value": " 10248/10248 [00:02&lt;00:00, 3033.40 examples/s]"
     }
    },
    "a4f7a399f8824a93858826ae0c77e783": {
     "model_module": "@jupyter-widgets/base",
     "model_module_version": "1.2.0",
     "model_name": "LayoutModel",
     "state": {
      "_model_module": "@jupyter-widgets/base",
      "_model_module_version": "1.2.0",
      "_model_name": "LayoutModel",
      "_view_count": null,
      "_view_module": "@jupyter-widgets/base",
      "_view_module_version": "1.2.0",
      "_view_name": "LayoutView",
      "align_content": null,
      "align_items": null,
      "align_self": null,
      "border": null,
      "bottom": null,
      "display": null,
      "flex": null,
      "flex_flow": null,
      "grid_area": null,
      "grid_auto_columns": null,
      "grid_auto_flow": null,
      "grid_auto_rows": null,
      "grid_column": null,
      "grid_gap": null,
      "grid_row": null,
      "grid_template_areas": null,
      "grid_template_columns": null,
      "grid_template_rows": null,
      "height": null,
      "justify_content": null,
      "justify_items": null,
      "left": null,
      "margin": null,
      "max_height": null,
      "max_width": null,
      "min_height": null,
      "min_width": null,
      "object_fit": null,
      "object_position": null,
      "order": null,
      "overflow": null,
      "overflow_x": null,
      "overflow_y": null,
      "padding": null,
      "right": null,
      "top": null,
      "visibility": null,
      "width": null
     }
    },
    "abff97c1aaef4d4887636c14c199c4c1": {
     "model_module": "@jupyter-widgets/controls",
     "model_module_version": "1.5.0",
     "model_name": "DescriptionStyleModel",
     "state": {
      "_model_module": "@jupyter-widgets/controls",
      "_model_module_version": "1.5.0",
      "_model_name": "DescriptionStyleModel",
      "_view_count": null,
      "_view_module": "@jupyter-widgets/base",
      "_view_module_version": "1.2.0",
      "_view_name": "StyleView",
      "description_width": ""
     }
    },
    "b2fc8d223b704730addeacee191ef83f": {
     "model_module": "@jupyter-widgets/base",
     "model_module_version": "1.2.0",
     "model_name": "LayoutModel",
     "state": {
      "_model_module": "@jupyter-widgets/base",
      "_model_module_version": "1.2.0",
      "_model_name": "LayoutModel",
      "_view_count": null,
      "_view_module": "@jupyter-widgets/base",
      "_view_module_version": "1.2.0",
      "_view_name": "LayoutView",
      "align_content": null,
      "align_items": null,
      "align_self": null,
      "border": null,
      "bottom": null,
      "display": null,
      "flex": null,
      "flex_flow": null,
      "grid_area": null,
      "grid_auto_columns": null,
      "grid_auto_flow": null,
      "grid_auto_rows": null,
      "grid_column": null,
      "grid_gap": null,
      "grid_row": null,
      "grid_template_areas": null,
      "grid_template_columns": null,
      "grid_template_rows": null,
      "height": null,
      "justify_content": null,
      "justify_items": null,
      "left": null,
      "margin": null,
      "max_height": null,
      "max_width": null,
      "min_height": null,
      "min_width": null,
      "object_fit": null,
      "object_position": null,
      "order": null,
      "overflow": null,
      "overflow_x": null,
      "overflow_y": null,
      "padding": null,
      "right": null,
      "top": null,
      "visibility": null,
      "width": null
     }
    },
    "b8008cdd31c74f6fbebc76fa2c44f9b6": {
     "model_module": "@jupyter-widgets/controls",
     "model_module_version": "1.5.0",
     "model_name": "HTMLModel",
     "state": {
      "_dom_classes": [],
      "_model_module": "@jupyter-widgets/controls",
      "_model_module_version": "1.5.0",
      "_model_name": "HTMLModel",
      "_view_count": null,
      "_view_module": "@jupyter-widgets/controls",
      "_view_module_version": "1.5.0",
      "_view_name": "HTMLView",
      "description": "",
      "description_tooltip": null,
      "layout": "IPY_MODEL_78c3370365a14f158e580fded0bfe210",
      "placeholder": "​",
      "style": "IPY_MODEL_abff97c1aaef4d4887636c14c199c4c1",
      "value": "Map: 100%"
     }
    },
    "b9d2b77d7b6a4ee68f44a0397fc57b7d": {
     "model_module": "@jupyter-widgets/controls",
     "model_module_version": "1.5.0",
     "model_name": "HTMLModel",
     "state": {
      "_dom_classes": [],
      "_model_module": "@jupyter-widgets/controls",
      "_model_module_version": "1.5.0",
      "_model_name": "HTMLModel",
      "_view_count": null,
      "_view_module": "@jupyter-widgets/controls",
      "_view_module_version": "1.5.0",
      "_view_name": "HTMLView",
      "description": "",
      "description_tooltip": null,
      "layout": "IPY_MODEL_f733c0c000bc498c8818bc2b32414e1c",
      "placeholder": "​",
      "style": "IPY_MODEL_45e7ad73660246a592cc6ad6fdcbc0b5",
      "value": "Map: 100%"
     }
    },
    "d4e5e8cd3c4946158057c0e04bb43cdb": {
     "model_module": "@jupyter-widgets/base",
     "model_module_version": "1.2.0",
     "model_name": "LayoutModel",
     "state": {
      "_model_module": "@jupyter-widgets/base",
      "_model_module_version": "1.2.0",
      "_model_name": "LayoutModel",
      "_view_count": null,
      "_view_module": "@jupyter-widgets/base",
      "_view_module_version": "1.2.0",
      "_view_name": "LayoutView",
      "align_content": null,
      "align_items": null,
      "align_self": null,
      "border": null,
      "bottom": null,
      "display": null,
      "flex": null,
      "flex_flow": null,
      "grid_area": null,
      "grid_auto_columns": null,
      "grid_auto_flow": null,
      "grid_auto_rows": null,
      "grid_column": null,
      "grid_gap": null,
      "grid_row": null,
      "grid_template_areas": null,
      "grid_template_columns": null,
      "grid_template_rows": null,
      "height": null,
      "justify_content": null,
      "justify_items": null,
      "left": null,
      "margin": null,
      "max_height": null,
      "max_width": null,
      "min_height": null,
      "min_width": null,
      "object_fit": null,
      "object_position": null,
      "order": null,
      "overflow": null,
      "overflow_x": null,
      "overflow_y": null,
      "padding": null,
      "right": null,
      "top": null,
      "visibility": null,
      "width": null
     }
    },
    "f6abd95a41fc4245823a0267d6aa3e17": {
     "model_module": "@jupyter-widgets/controls",
     "model_module_version": "1.5.0",
     "model_name": "FloatProgressModel",
     "state": {
      "_dom_classes": [],
      "_model_module": "@jupyter-widgets/controls",
      "_model_module_version": "1.5.0",
      "_model_name": "FloatProgressModel",
      "_view_count": null,
      "_view_module": "@jupyter-widgets/controls",
      "_view_module_version": "1.5.0",
      "_view_name": "ProgressView",
      "bar_style": "success",
      "description": "",
      "description_tooltip": null,
      "layout": "IPY_MODEL_57cd12c5ba844f68933d0983e16685a3",
      "max": 1,
      "min": 0,
      "orientation": "horizontal",
      "style": "IPY_MODEL_34fa1cd8f5a94237a6f27cf03cea6e80",
      "value": 1
     }
    },
    "f733c0c000bc498c8818bc2b32414e1c": {
     "model_module": "@jupyter-widgets/base",
     "model_module_version": "1.2.0",
     "model_name": "LayoutModel",
     "state": {
      "_model_module": "@jupyter-widgets/base",
      "_model_module_version": "1.2.0",
      "_model_name": "LayoutModel",
      "_view_count": null,
      "_view_module": "@jupyter-widgets/base",
      "_view_module_version": "1.2.0",
      "_view_name": "LayoutView",
      "align_content": null,
      "align_items": null,
      "align_self": null,
      "border": null,
      "bottom": null,
      "display": null,
      "flex": null,
      "flex_flow": null,
      "grid_area": null,
      "grid_auto_columns": null,
      "grid_auto_flow": null,
      "grid_auto_rows": null,
      "grid_column": null,
      "grid_gap": null,
      "grid_row": null,
      "grid_template_areas": null,
      "grid_template_columns": null,
      "grid_template_rows": null,
      "height": null,
      "justify_content": null,
      "justify_items": null,
      "left": null,
      "margin": null,
      "max_height": null,
      "max_width": null,
      "min_height": null,
      "min_width": null,
      "object_fit": null,
      "object_position": null,
      "order": null,
      "overflow": null,
      "overflow_x": null,
      "overflow_y": null,
      "padding": null,
      "right": null,
      "top": null,
      "visibility": null,
      "width": null
     }
    },
    "fad997b96b77462ab8c96cc47af08e0f": {
     "model_module": "@jupyter-widgets/base",
     "model_module_version": "1.2.0",
     "model_name": "LayoutModel",
     "state": {
      "_model_module": "@jupyter-widgets/base",
      "_model_module_version": "1.2.0",
      "_model_name": "LayoutModel",
      "_view_count": null,
      "_view_module": "@jupyter-widgets/base",
      "_view_module_version": "1.2.0",
      "_view_name": "LayoutView",
      "align_content": null,
      "align_items": null,
      "align_self": null,
      "border": null,
      "bottom": null,
      "display": null,
      "flex": null,
      "flex_flow": null,
      "grid_area": null,
      "grid_auto_columns": null,
      "grid_auto_flow": null,
      "grid_auto_rows": null,
      "grid_column": null,
      "grid_gap": null,
      "grid_row": null,
      "grid_template_areas": null,
      "grid_template_columns": null,
      "grid_template_rows": null,
      "height": null,
      "justify_content": null,
      "justify_items": null,
      "left": null,
      "margin": null,
      "max_height": null,
      "max_width": null,
      "min_height": null,
      "min_width": null,
      "object_fit": null,
      "object_position": null,
      "order": null,
      "overflow": null,
      "overflow_x": null,
      "overflow_y": null,
      "padding": null,
      "right": null,
      "top": null,
      "visibility": null,
      "width": null
     }
    },
    "ff75cf77e05e450d8c9816b6ed764fc4": {
     "model_module": "@jupyter-widgets/controls",
     "model_module_version": "1.5.0",
     "model_name": "HBoxModel",
     "state": {
      "_dom_classes": [],
      "_model_module": "@jupyter-widgets/controls",
      "_model_module_version": "1.5.0",
      "_model_name": "HBoxModel",
      "_view_count": null,
      "_view_module": "@jupyter-widgets/controls",
      "_view_module_version": "1.5.0",
      "_view_name": "HBoxView",
      "box_style": "",
      "children": [
       "IPY_MODEL_b9d2b77d7b6a4ee68f44a0397fc57b7d",
       "IPY_MODEL_0c6a5b70f49e403fa7a79ed36c7b0aa7",
       "IPY_MODEL_58a29bdbfa6449c6b98ccfbb8c6aabd5"
      ],
      "layout": "IPY_MODEL_47448f01ee25407ca6739072a1ea37ea"
     }
    }
   }
  }
 },
 "nbformat": 4,
 "nbformat_minor": 0
}
