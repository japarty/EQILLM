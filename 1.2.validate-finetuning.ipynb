{
 "cells": [
  {
   "metadata": {
    "ExecuteTime": {
     "end_time": "2024-04-26T21:52:21.666176Z",
     "start_time": "2024-04-26T21:52:15.592587Z"
    }
   },
   "cell_type": "code",
   "source": [
    "# set run environment (local/colab)\n",
    "# if colab install required packages and set appropriate root_path\n",
    "import os\n",
    "from pathlib import Path\n",
    "if os.getenv(\"COLAB_RELEASE_TAG\"):\n",
    "    colab = True\n",
    "    from google.colab import drive\n",
    "    drive.mount('/content/drive')\n",
    "    root_path = Path('/content/drive/Othercomputers/My computer/EQILLM/')\n",
    "    !pip install -r '/content/drive/Othercomputers/My computer/EQILLM/requirements.txt'\n",
    "    !pip install transformers[torch]\n",
    "    !pip install accelerate -U\n",
    "    !pip install datasets\n",
    "    !pip install torchinfo\n",
    "    import sys\n",
    "    sys.path.append(root_path)\n",
    "    #ImportError: Using the `Trainer` with `PyTorch` requires `accelerate>=0.20.1`: Please run `pip install transformers[torch]` or `pip install accelerate -U\n",
    "else:\n",
    "    colab = False\n",
    "    root_path = Path('')\n",
    "\n",
    "\n",
    "import itertools\n",
    "import pandas as pd\n",
    "import openai\n",
    "import datetime\n",
    "import os\n",
    "import csv\n",
    "import matplotlib.pyplot as plt\n",
    "\n",
    "from dotenv import load_dotenv, dotenv_values\n",
    "from tqdm.notebook import tqdm_notebook\n",
    "from eqillm import finetune, get_log_for_val, validate, val_metrics, yeelight_eow_notification, param_combinations, load_PolarIs, df_to_ds\n",
    "\n",
    "\n",
    "dotenv_config = dotenv_values(root_path / '.env')\n",
    "yeelight_notify = dotenv_config['YEELIGHT_NOTIFY'] if 'YEELIGHT_NOTIFY' in dotenv_config else False"
   ],
   "id": "e4e781a3941d0d6d",
   "execution_count": 1,
   "outputs": []
  },
  {
   "cell_type": "markdown",
   "source": [
    "## Load and filter"
   ],
   "metadata": {
    "collapsed": false,
    "id": "13dcd7466b7b6b81"
   },
   "id": "13dcd7466b7b6b81"
  },
  {
   "metadata": {
    "ExecuteTime": {
     "end_time": "2024-04-26T17:23:34.006698Z",
     "start_time": "2024-04-26T17:23:33.985720Z"
    }
   },
   "cell_type": "code",
   "source": [
    "training_logs = pd.read_csv(os.path.join(root_path, 'output/training_logs.csv'))\n",
    "\n",
    "# shorten all runs to max 30 epochs\n",
    "training_logs = training_logs[training_logs['Epoch']<=30]\n",
    "\n",
    "# drop all runs which have less than 3 epochs\n",
    "training_logs = training_logs.groupby(['model', 'timestamp']).filter(lambda x: len(x)>=3)\n",
    "training_logs"
   ],
   "id": "bd39d041dcec5358",
   "execution_count": 7,
   "outputs": []
  },
  {
   "metadata": {
    "ExecuteTime": {
     "end_time": "2024-04-26T17:25:05.327361Z",
     "start_time": "2024-04-26T17:25:04.359824Z"
    }
   },
   "cell_type": "code",
   "source": "load_PolarIs('data\\PolarIs-Pathos.xlsx')",
   "id": "472dc34592ac8a98",
   "execution_count": 11,
   "outputs": []
  },
  {
   "metadata": {},
   "cell_type": "code",
   "source": "",
   "id": "321bf95e51ef5044",
   "execution_count": null,
   "outputs": []
  }
 ],
 "metadata": {
  "kernelspec": {
   "display_name": "Python 3",
   "language": "python",
   "name": "python3"
  },
  "language_info": {
   "codemirror_mode": {
    "name": "ipython",
    "version": 2
   },
   "file_extension": ".py",
   "mimetype": "text/x-python",
   "name": "python",
   "nbconvert_exporter": "python",
   "pygments_lexer": "ipython2",
   "version": "2.7.6"
  },
  "colab": {
   "provenance": []
  }
 },
 "nbformat": 4,
 "nbformat_minor": 5
}
