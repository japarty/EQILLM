{
 "cells": [
  {
   "cell_type": "markdown",
   "metadata": {
    "collapsed": false,
    "id": "7Rwla6Ky6iUA"
   },
   "source": [
    "# Finetuning with Trainer and text-classification model validation"
   ]
  },
  {
   "cell_type": "code",
   "execution_count": 1,
   "metadata": {
    "colab": {
     "base_uri": "https://localhost:8080/"
    },
    "executionInfo": {
     "elapsed": 544715,
     "status": "ok",
     "timestamp": 1712223783678,
     "user": {
      "displayName": "Jakub Partyka",
      "userId": "06989008944538163465"
     },
     "user_tz": -120
    },
    "id": "kTnSLtc16iUE",
    "outputId": "a50dcaf4-d038-46e9-a607-73102b1b945f",
    "ExecuteTime": {
     "end_time": "2024-04-04T22:57:05.298338Z",
     "start_time": "2024-04-04T22:57:05.294318Z"
    }
   },
   "outputs": [],
   "source": [
    "import os\n",
    "\n",
    "if os.getenv(\"COLAB_RELEASE_TAG\"):\n",
    "   colab = True\n",
    "else:\n",
    "   colab = False\n",
    "\n",
    "if colab:\n",
    "    !pip install transformers[torch]\n",
    "    !pip install accelerate -U\n",
    "    !pip install datasets\n",
    "    !pip install torchinfo\n",
    "    #ImportError: Using the `Trainer` with `PyTorch` requires `accelerate>=0.20.1`: Please run `pip install transformers[torch]` or `pip install accelerate -U"
   ]
  },
  {
   "cell_type": "code",
   "execution_count": 2,
   "metadata": {
    "id": "F7z05bbBe5G9",
    "ExecuteTime": {
     "end_time": "2024-04-04T22:57:09.105797Z",
     "start_time": "2024-04-04T22:57:05.298338Z"
    }
   },
   "outputs": [],
   "source": [
    "from sklearn.model_selection import train_test_split\n",
    "import datetime\n",
    "import itertools\n",
    "import matplotlib.pyplot as plt\n",
    "import numpy as np\n",
    "import os\n",
    "import pandas as pd\n",
    "import pathlib\n",
    "import seaborn as sn\n",
    "import torch\n",
    "\n",
    "from datasets import load_dataset, Dataset, DatasetDict\n",
    "from sklearn.metrics import f1_score, accuracy_score, confusion_matrix\n",
    "from torchinfo import summary\n",
    "from transformers import AutoModelForSequenceClassification, AutoConfig, Trainer, TrainingArguments, DataCollatorWithPadding, AutoTokenizer, pipeline\n",
    "from transformers.modelcard import parse_log_history"
   ]
  },
  {
   "cell_type": "markdown",
   "source": [
    "# Prepare parameters for each run of finetnuning"
   ],
   "metadata": {
    "collapsed": false,
    "id": "xmkxi8ZMdO9U"
   }
  },
  {
   "cell_type": "code",
   "outputs": [],
   "source": [
    "# from huggingface_hub import notebook_login\n",
    "# notebook_login()"
   ],
   "metadata": {
    "id": "vURNs2uSdO9U",
    "ExecuteTime": {
     "end_time": "2024-04-04T22:57:09.108509Z",
     "start_time": "2024-04-04T22:57:09.106802Z"
    }
   },
   "execution_count": 3
  },
  {
   "cell_type": "code",
   "outputs": [
    {
     "name": "stdout",
     "output_type": "stream",
     "text": [
      "{'model': 'distilbert-base-cased', 'num_train_epochs': 10, 'save_strategy': 'no', 'per_device_train_batch_size': 8, 'per_device_eval_batch_size': 64, 'split': (0.9, 0.1, 'balanced')}\n"
     ]
    }
   ],
   "source": [
    "# models = ['albert', 'bart', 'bert', 'big_bird', 'bigbird_pegasus', 'biogpt', 'bloom', 'camembert', 'canine', 'code_llama', 'convbert', 'ctrl', 'data2vec-text', 'deberta', 'deberta-v2', 'distilbert', 'electra', 'ernie', 'ernie_m', 'esm', 'falcon', 'flaubert', 'fnet', 'funnel', 'gemma', 'gpt-sw3', 'gpt2', 'gpt_bigcode', 'gpt_neo', 'gpt_neox', 'gptj', 'ibert', 'layoutlm', 'layoutlmv2', 'layoutlmv3', 'led', 'lilt', 'llama', 'longformer', 'luke', 'markuplm', 'mbart', 'mega', 'megatron-bert', 'mistral', 'mixtral', 'mobilebert', 'mpnet', 'mpt', 'mra', 'mt5', 'mvp', 'nezha', 'nystromformer', 'open-llama', 'openai-gpt', 'opt', 'perceiver', 'persimmon', 'phi', 'plbart', 'qdqbert', 'qwen2', 'reformer', 'rembert', 'roberta', 'roberta-prelayernorm', 'roc_bert', 'roformer', 'squeezebert', 'stablelm', 'starcoder2', 't5', 'tapas', 'transfo-xl', 'umt5', 'xlm', 'xlm-roberta', 'xlm-roberta-xl', 'xlnet', 'xmod', 'yoso',]\n",
    "# =============================================\n",
    "# tested = 'distilbert-base-cased', 'camembert-base', 'ctrl', 'transfo-xl-wt103', 'xlnet-base-cased', 'roberta-base', 'distilroberta-base', 'flaubert/flaubert_base_cased'\n",
    "# ----------\n",
    "#too weak pc (cannot be loaded or runs at speeds <1 it/s) = 'albert-xlarge-v1', 't5-11B', 'LongformerForSequenceClassification', 'xlm-roberta-base', 'allenai/longformer-base-4096', 'facebook/bart-large',  flaubert/flaubert_large_cased (stopped at 0.5 epoch), 'HuggingFaceH4/tiny-random-LlamaForSequenceClassification'\n",
    "# ----------\n",
    "#need changes to run (check error logs) =  ProsusAI/finbert (despite adding padding proposed in error)\n",
    "# =============================================\n",
    "# model_path = 'SamLowe/roberta-base-go_emotions'\n",
    "# model_path = 'distilbert-base-uncased'\n",
    "# model_path = 'xlmoberta'\n",
    "\n",
    "# , 'camembert-base', 'ctrl', 'transfo-xl-wt103', 'xlnet-base-cased', 'roberta-base', 'distilroberta-base', 'flaubert/flaubert_base_cased'\n",
    "\n",
    "#if list of objects is provided list of all combinations of parameters will be created for running\n",
    "params_tested = {'model': ['distilbert-base-cased'],\n",
    "                 'num_train_epochs': 10,\n",
    "                 'save_strategy': 'no',\n",
    "                 'per_device_train_batch_size': 8,\n",
    "                 'per_device_eval_batch_size': 64,\n",
    "                 'split': (80, 20) #may be tuple of len 2/3, dividing respectively into 2:{train, test} and 3:{train, test, validate}. By default labels are stratified. You may pass \"balanced\" instead of the last element, number of labels for each class will be     \n",
    "                 }\n",
    "import numbers\n",
    "split_s = sum([i for i in params_tested['split'] if isinstance(i, numbers.Integral)])\n",
    "params_tested['split'] = tuple([i/split_s if isinstance(i, numbers.Integral) else i for i in params_tested['split']])\n",
    "     \n",
    "\n",
    "\n",
    "params_tested={i:[q] if type(q) is not list else q for (i,q) in params_tested.items()}\n",
    "keys = list(params_tested.keys())\n",
    "combinations = list(itertools.product(*params_tested.values()))\n",
    "result = [{keys[i]: combination[i] for i in range(len(keys))} for combination in combinations]\n",
    "print(*result, sep='\\n')\n",
    "\n",
    "train_params_looped = result"
   ],
   "metadata": {
    "id": "oylcN846dO9V",
    "outputId": "79bedc27-b958-4529-83e3-9f112e0f732b",
    "ExecuteTime": {
     "end_time": "2024-04-04T22:57:09.117535Z",
     "start_time": "2024-04-04T22:57:09.108509Z"
    }
   },
   "execution_count": 4
  },
  {
   "cell_type": "markdown",
   "source": [
    "## Functions"
   ],
   "metadata": {
    "collapsed": false
   }
  },
  {
   "cell_type": "code",
   "execution_count": 12,
   "metadata": {
    "colab": {
     "base_uri": "https://localhost:8080/",
     "height": 843
    },
    "executionInfo": {
     "elapsed": 5420,
     "status": "ok",
     "timestamp": 1711981638003,
     "user": {
      "displayName": "Jakub Partyka",
      "userId": "06989008944538163465"
     },
     "user_tz": -120
    },
    "id": "NmTIZtvK6iUF",
    "outputId": "9ff554fa-71dd-4258-fac5-23ee1f950e71",
    "ExecuteTime": {
     "end_time": "2024-04-04T23:17:02.974301Z",
     "start_time": "2024-04-04T23:17:02.963030Z"
    }
   },
   "outputs": [],
   "source": [
    "def df_to_ds(df, train_params_instance):\n",
    "    temp_split = train_params_instance['split']\n",
    "    \n",
    "    target_map = {k:i for i,k in enumerate(df['label'].unique())}\n",
    "    reversed_target_map = {v:k for k, v in target_map.items()}\n",
    "    \n",
    "    df['label'] = df['label'].map(target_map)\n",
    "    \n",
    "    if temp_split[-1]=='balanced' or len(temp_split)==2:\n",
    "        if temp_split[-1]=='balanced':\n",
    "            split = [pd.Series(name='sentence'), pd.Series(name='sentence'), pd.Series(name='label'), pd.Series(name='label')]\n",
    "            n_for_training = df.groupby('label').count()['Source'].min()\n",
    "            train_percentage = df.groupby('label').count()['Source'].apply(lambda x: (temp_split[0]*n_for_training)/x).to_dict()\n",
    "            \n",
    "            for label_name, group in df.groupby('label'):\n",
    "                split_t = train_test_split(group['sentence'], group['label'], test_size=1-train_percentage[label_name], random_state=42, shuffle=True)\n",
    "                split = [pd.concat([i[0],i[1]], axis=0) for i in zip(split, split_t)]\n",
    "        else:\n",
    "            split = train_test_split(df['sentence'], df['label'], stratify=df['label'], test_size=temp_split[1], random_state=42, shuffle=True)\n",
    "        ds = DatasetDict()\n",
    "        ds['train'] = Dataset.from_pandas(pd.concat([split[0], split[2]], axis=1))\n",
    "        ds['test'] = Dataset.from_pandas(pd.concat([split[1], split[3]], axis=1))\n",
    "    elif len(temp_split)==3:\n",
    "        non_train_size = 1-temp_split[0]\n",
    "        split = train_test_split(df['sentence'], df['label'], stratify=df['label'], test_size=non_train_size, random_state=42, shuffle=True)\n",
    "        split2 = train_test_split(df['sentence'], df['label'], stratify=df['label'], test_size=temp_split[2]/non_train_size, random_state=42, shuffle=True)\n",
    "        ds = DatasetDict()\n",
    "        ds['train'] = Dataset.from_pandas(pd.concat([split[0], split[2]], axis=1))\n",
    "        ds['test'] = Dataset.from_pandas(pd.concat([split2[0], split2[2]], axis=1))\n",
    "        ds['validate'] = Dataset.from_pandas(pd.concat([split2[1], split2[3]], axis=1))\n",
    "    return ds, target_map, reversed_target_map\n",
    "\n",
    "def compute_metrics(logits_and_labels):\n",
    "  logits, labels = logits_and_labels\n",
    "  predictions = np.argmax(logits, axis=-1)\n",
    "  acc = np.mean(predictions == labels)\n",
    "  f1 = f1_score(labels, predictions, average='macro')\n",
    "  return {'accuracy': acc, 'f1': f1}\n",
    "\n",
    "def save_logs_from_training_run(trainer, train_params, timestamp, trained_model_path, colab):\n",
    "    log_history = parse_log_history(trainer.state.log_history)\n",
    "    log_df = pd.DataFrame(log_history[1])\n",
    "    log_df.insert(0, 'model', train_params['model'])\n",
    "    log_df.insert(0, 'timestamp', timestamp)\n",
    "    log_df['model_path'] = trained_model_path\n",
    "    log_df['samples_per_s'] = log_history[0]['train_samples_per_second']\n",
    "    log_df['steps_per_s'] = log_history[0]['train_steps_per_second']\n",
    "    log_df['colab'] = colab\n",
    "    log_df['per_device_train_batch_size'] = train_params['per_device_train_batch_size']\n",
    "    log_df['per_device_eval_batch_size'] = train_params['per_device_eval_batch_size']\n",
    "    log_df['split'] = str(train_params['split'])\n",
    "\n",
    "    float_cols = log_df.select_dtypes(include='float64')\n",
    "    log_df[float_cols.columns] = float_cols.apply(lambda x: round(x, 3))\n",
    "    log_df.to_csv('output/training_logs.csv', mode='a', header= not os.path.isfile('output/training_logs.csv'), index=False)\n",
    "    \n",
    "def finetune(train_params, ds):\n",
    "    params_passed = {k: train_params[k] for k in train_params if k not in ['model', 'split']}\n",
    "    timestamp = datetime.datetime.now().strftime(\"%Y-%m-%d_%H-%M\")\n",
    "    trained_model_path = f'output/models/{train_params['model']}_{timestamp}'\n",
    "\n",
    "    try:\n",
    "        def tokenize_fn(batch):\n",
    "            return tokenizer(batch['sentence'], truncation=True)\n",
    "    \n",
    "        #Tokenize dataset\n",
    "        tokenizer = AutoTokenizer.from_pretrained(train_params['model'], trust_remote_code=True)\n",
    "        tokenizer.pad_token = tokenizer.eos_token\n",
    "        tokenizer.add_special_tokens({'pad_token': '[PAD]'})\n",
    "        tokenized_datasets = ds.map(tokenize_fn, batched=True)\n",
    "    \n",
    "        #Change labels\n",
    "        config = AutoConfig.from_pretrained(train_params['model'], trust_remote_code=True)\n",
    "        config.id2label = reversed_target_map\n",
    "        config.label2id = target_map\n",
    "    \n",
    "        #Load model\n",
    "        model = AutoModelForSequenceClassification.from_pretrained(\n",
    "            train_params['model'], config=config, ignore_mismatched_sizes=True, trust_remote_code=True)\n",
    "    \n",
    "        if torch.cuda.is_available():\n",
    "            model = model.cuda()\n",
    "            device = 'gpu'\n",
    "        else:\n",
    "            device = 'cpu'\n",
    "    \n",
    "        training_args = TrainingArguments(\n",
    "          output_dir=f'{trained_model_path}/checkpoints',\n",
    "          evaluation_strategy='epoch',\n",
    "          logging_strategy='epoch',\n",
    "          **params_passed\n",
    "        )\n",
    "    \n",
    "        trainer = Trainer(\n",
    "            model,\n",
    "            training_args,\n",
    "            train_dataset=tokenized_datasets[\"train\"],\n",
    "            eval_dataset=tokenized_datasets[\"test\"],\n",
    "            tokenizer=tokenizer,\n",
    "            compute_metrics=compute_metrics,\n",
    "        )\n",
    "    \n",
    "        trainer.train()\n",
    "        save_logs_from_training_run(trainer, train_params, timestamp, trained_model_path, colab)\n",
    "\n",
    "    except Exception as e:\n",
    "        print(f'Error: {e}')\n",
    "        err_df = pd.DataFrame([[trained_model_path, str(e)]])\n",
    "        err_df.to_csv('output/error_logs.csv', mode='a', index=False)\n",
    "        \n",
    "        \n",
    "def to_binary_classification(x):\n",
    "    if x in ['Positive', 'Negative']:\n",
    "        return 'Pathos'\n",
    "    else:\n",
    "        return x"
   ]
  },
  {
   "cell_type": "markdown",
   "source": [
    "## Run"
   ],
   "metadata": {
    "collapsed": false,
    "id": "ldKE0vAo6iUF"
   }
  },
  {
   "cell_type": "code",
   "outputs": [],
   "source": [
    "# Load PolarIs-Pathos to df\n",
    "if colab:\n",
    "  from google.colab import drive\n",
    "  drive.mount('/content/drive')\n",
    "  data_path = 'drive/MyDrive/master_lm/PolarIs-Pathos.xlsx'\n",
    "else:\n",
    "  data_path = 'data/PolarIs-Pathos.xlsx'\n",
    "\n",
    "df = pd.read_excel(data_path)\n",
    "df['label'] = df[['No_pathos', 'Positive', 'Negative']].idxmax(axis=1)\n",
    "df['label'] = df['label'].apply(lambda x: to_binary_classification(x))\n",
    "df = df.rename(columns={'Sentence':'sentence'})"
   ],
   "metadata": {
    "collapsed": false,
    "ExecuteTime": {
     "end_time": "2024-04-04T23:17:28.865053Z",
     "start_time": "2024-04-04T23:17:28.027251Z"
    }
   },
   "execution_count": 14
  },
  {
   "cell_type": "code",
   "outputs": [
    {
     "name": "stderr",
     "output_type": "stream",
     "text": [
      "C:\\Users\\Jakub\\AppData\\Local\\Temp\\ipykernel_23116\\2206075159.py:17: FutureWarning: The behavior of array concatenation with empty entries is deprecated. In a future version, this will no longer exclude empty items when determining the result dtype. To retain the old behavior, exclude the empty entries before the concat operation.\n",
      "  split = [pd.concat([i[0],i[1]], axis=0) for i in zip(split, split_t)]\n"
     ]
    },
    {
     "data": {
      "text/plain": "Map:   0%|          | 0/8910 [00:00<?, ? examples/s]",
      "application/vnd.jupyter.widget-view+json": {
       "version_major": 2,
       "version_minor": 0,
       "model_id": "96de0503958f49cca3a7b0010d24c16d"
      }
     },
     "metadata": {},
     "output_type": "display_data"
    },
    {
     "data": {
      "text/plain": "Map:   0%|          | 0/6678 [00:00<?, ? examples/s]",
      "application/vnd.jupyter.widget-view+json": {
       "version_major": 2,
       "version_minor": 0,
       "model_id": "e05472d8d23e4d36936224e2e6fddafd"
      }
     },
     "metadata": {},
     "output_type": "display_data"
    },
    {
     "name": "stderr",
     "output_type": "stream",
     "text": [
      "Some weights of DistilBertForSequenceClassification were not initialized from the model checkpoint at distilbert-base-cased and are newly initialized: ['classifier.bias', 'classifier.weight', 'pre_classifier.bias', 'pre_classifier.weight']\n",
      "You should probably TRAIN this model on a down-stream task to be able to use it for predictions and inference.\n",
      "C:\\Users\\Jakub\\DataspellProjects\\EQILLM\\venv\\Lib\\site-packages\\accelerate\\accelerator.py:432: FutureWarning: Passing the following arguments to `Accelerator` is deprecated and will be removed in version 1.0 of Accelerate: dict_keys(['dispatch_batches', 'split_batches', 'even_batches', 'use_seedable_sampler']). Please pass an `accelerate.DataLoaderConfiguration` instead: \n",
      "dataloader_config = DataLoaderConfiguration(dispatch_batches=None, split_batches=False, even_batches=True, use_seedable_sampler=True)\n",
      "  warnings.warn(\n"
     ]
    },
    {
     "data": {
      "text/plain": "<IPython.core.display.HTML object>",
      "text/html": "\n    <div>\n      \n      <progress value='11140' max='11140' style='width:300px; height:20px; vertical-align: middle;'></progress>\n      [11140/11140 05:25, Epoch 10/10]\n    </div>\n    <table border=\"1\" class=\"dataframe\">\n  <thead>\n <tr style=\"text-align: left;\">\n      <th>Epoch</th>\n      <th>Training Loss</th>\n      <th>Validation Loss</th>\n      <th>Accuracy</th>\n      <th>F1</th>\n    </tr>\n  </thead>\n  <tbody>\n    <tr>\n      <td>1</td>\n      <td>0.641200</td>\n      <td>0.719564</td>\n      <td>0.619946</td>\n      <td>0.485257</td>\n    </tr>\n    <tr>\n      <td>2</td>\n      <td>0.501400</td>\n      <td>0.905843</td>\n      <td>0.513926</td>\n      <td>0.424212</td>\n    </tr>\n    <tr>\n      <td>3</td>\n      <td>0.334600</td>\n      <td>0.852170</td>\n      <td>0.744684</td>\n      <td>0.547392</td>\n    </tr>\n    <tr>\n      <td>4</td>\n      <td>0.214400</td>\n      <td>1.210742</td>\n      <td>0.721623</td>\n      <td>0.531668</td>\n    </tr>\n    <tr>\n      <td>5</td>\n      <td>0.122600</td>\n      <td>1.730574</td>\n      <td>0.700958</td>\n      <td>0.524100</td>\n    </tr>\n    <tr>\n      <td>6</td>\n      <td>0.064900</td>\n      <td>2.017568</td>\n      <td>0.690925</td>\n      <td>0.521196</td>\n    </tr>\n    <tr>\n      <td>7</td>\n      <td>0.039400</td>\n      <td>2.358633</td>\n      <td>0.662773</td>\n      <td>0.505020</td>\n    </tr>\n    <tr>\n      <td>8</td>\n      <td>0.031700</td>\n      <td>2.143698</td>\n      <td>0.703205</td>\n      <td>0.523647</td>\n    </tr>\n    <tr>\n      <td>9</td>\n      <td>0.016000</td>\n      <td>2.632761</td>\n      <td>0.673405</td>\n      <td>0.508132</td>\n    </tr>\n    <tr>\n      <td>10</td>\n      <td>0.015100</td>\n      <td>2.712164</td>\n      <td>0.671009</td>\n      <td>0.506584</td>\n    </tr>\n  </tbody>\n</table><p>"
     },
     "metadata": {},
     "output_type": "display_data"
    }
   ],
   "source": [
    "#run looped \n",
    "for train_params in train_params_looped[:1]:\n",
    "    ds, target_map, reversed_target_map, = df_to_ds(df, train_params)    \n",
    "    finetune(train_params, ds)"
   ],
   "metadata": {
    "colab": {
     "referenced_widgets": [
      "5c2bb70a4b064df2a5d3ecaf631c4336",
      "3834bd538ee340dbb3cef3ff7d0bf354"
     ]
    },
    "id": "bbjzSUKgdO9W",
    "outputId": "a779fa55-9a12-49f2-d30e-b6aee5877358",
    "ExecuteTime": {
     "end_time": "2024-04-04T23:23:00.830228Z",
     "start_time": "2024-04-04T23:17:34.029407Z"
    }
   },
   "execution_count": 15
  },
  {
   "cell_type": "code",
   "outputs": [
    {
     "data": {
      "text/plain": "DatasetDict({\n    train: Dataset({\n        features: ['sentence', 'label', '__index_level_0__'],\n        num_rows: 8910\n    })\n    test: Dataset({\n        features: ['sentence', 'label', '__index_level_0__'],\n        num_rows: 6678\n    })\n})"
     },
     "execution_count": 16,
     "metadata": {},
     "output_type": "execute_result"
    }
   ],
   "source": [
    "ds"
   ],
   "metadata": {
    "collapsed": false,
    "ExecuteTime": {
     "end_time": "2024-04-04T23:29:41.995208Z",
     "start_time": "2024-04-04T23:29:41.991573Z"
    }
   },
   "execution_count": 16
  },
  {
   "cell_type": "markdown",
   "source": [
    "### Classification"
   ],
   "metadata": {
    "collapsed": false,
    "id": "vkvnaeLN6iUI"
   }
  },
  {
   "cell_type": "code",
   "execution_count": 154,
   "metadata": {
    "executionInfo": {
     "elapsed": 1,
     "status": "ok",
     "timestamp": 1711984368176,
     "user": {
      "displayName": "Jakub Partyka",
      "userId": "06989008944538163465"
     },
     "user_tz": -120
    },
    "id": "Kt6z9Yal6iUI",
    "colab": {
     "base_uri": "https://localhost:8080/"
    },
    "outputId": "819b5610-143f-49fb-88c2-bf17999581ca",
    "ExecuteTime": {
     "end_time": "2024-04-04T22:21:54.656404Z",
     "start_time": "2024-04-04T22:21:54.643072Z"
    }
   },
   "outputs": [
    {
     "ename": "NameError",
     "evalue": "name 'trained_model_path' is not defined",
     "output_type": "error",
     "traceback": [
      "\u001B[1;31m---------------------------------------------------------------------------\u001B[0m",
      "\u001B[1;31mNameError\u001B[0m                                 Traceback (most recent call last)",
      "Cell \u001B[1;32mIn[154], line 2\u001B[0m\n\u001B[0;32m      1\u001B[0m \u001B[38;5;66;03m# Get last epoch number\u001B[39;00m\n\u001B[1;32m----> 2\u001B[0m checkpoint_no \u001B[38;5;241m=\u001B[39m [\u001B[38;5;28mint\u001B[39m(i\u001B[38;5;241m.\u001B[39mrsplit(\u001B[38;5;124m'\u001B[39m\u001B[38;5;124m-\u001B[39m\u001B[38;5;124m'\u001B[39m)[\u001B[38;5;241m-\u001B[39m\u001B[38;5;241m1\u001B[39m]) \u001B[38;5;28;01mfor\u001B[39;00m i \u001B[38;5;129;01min\u001B[39;00m os\u001B[38;5;241m.\u001B[39mlistdir(\u001B[38;5;124mf\u001B[39m\u001B[38;5;124m'\u001B[39m\u001B[38;5;132;01m{\u001B[39;00m\u001B[43mtrained_model_path\u001B[49m\u001B[38;5;132;01m}\u001B[39;00m\u001B[38;5;124m/checkpoints/\u001B[39m\u001B[38;5;124m'\u001B[39m) \u001B[38;5;28;01mif\u001B[39;00m i\u001B[38;5;241m.\u001B[39mstartswith(\u001B[38;5;124m'\u001B[39m\u001B[38;5;124mcheckpoint\u001B[39m\u001B[38;5;124m'\u001B[39m)]\n\u001B[0;32m      3\u001B[0m checkpoint_no\u001B[38;5;241m.\u001B[39msort(reverse\u001B[38;5;241m=\u001B[39m\u001B[38;5;28;01mTrue\u001B[39;00m)\n\u001B[0;32m      4\u001B[0m \u001B[38;5;28mprint\u001B[39m(checkpoint_no)\n",
      "\u001B[1;31mNameError\u001B[0m: name 'trained_model_path' is not defined"
     ]
    }
   ],
   "source": [
    "# Get last epoch number\n",
    "checkpoint_no = [int(i.rsplit('-')[-1]) for i in os.listdir(f'{trained_model_path}/checkpoints/') if i.startswith('checkpoint')]\n",
    "checkpoint_no.sort(reverse=True)\n",
    "print(checkpoint_no)\n",
    "chosen_checkpoint = checkpoint_no[0]\n",
    "checkpoint_path = f'{trained_model_path}/checkpoints/checkpoint-{chosen_checkpoint}'"
   ]
  },
  {
   "cell_type": "code",
   "outputs": [],
   "source": [],
   "metadata": {
    "id": "G5qp92EJdO9W"
   },
   "execution_count": null
  },
  {
   "cell_type": "code",
   "execution_count": null,
   "metadata": {
    "id": "PMhwdYpKonbs"
   },
   "outputs": [],
   "source": [
    "def validate(checkpoint_path, validation_ds, reversed_target_map, save=True):\n",
    "    task = 'text-classification'\n",
    "    classif_out_path = checkpoint_path.rsplit('/', 1)[0]\n",
    "    classifier = pipeline(task, model=checkpoint_path, device=0)\n",
    "    predicted = classifier(validation_ds['sentence'])\n",
    "    out_df = pd.DataFrame(ds['sentence', 'label'], columns=['sentence', 'label'])\n",
    "    out_df['predicted'] = [i['label'] for i in predicted]\n",
    "    return predicted"
   ]
  },
  {
   "cell_type": "code",
   "execution_count": null,
   "metadata": {
    "id": "AblMsrja6iUI"
   },
   "outputs": [],
   "source": [
    "validated_df = pd.concat([X_val, y_val], axis=1).copy(deep=True)\n",
    "# validated_df = ds_dict['validate'].copy(deep=True)\n",
    "validated_df['predicted'] = [i['label'] for i in pred_val]\n",
    "validated_df['label'] = validated_df['label'].map(reversed_target_map)\n",
    "validated_df.to_csv(f'{trained_model_path}/validated.csv', index=False)"
   ]
  },
  {
   "cell_type": "code",
   "execution_count": null,
   "metadata": {
    "executionInfo": {
     "elapsed": 690,
     "status": "ok",
     "timestamp": 1711984421301,
     "user": {
      "displayName": "Jakub Partyka",
      "userId": "06989008944538163465"
     },
     "user_tz": -120
    },
    "id": "_CxvThDhpqJ3",
    "colab": {
     "base_uri": "https://localhost:8080/",
     "height": 486
    },
    "outputId": "4611f52e-3b5a-4133-dd14-a546e2af8fde"
   },
   "outputs": [
    {
     "output_type": "stream",
     "name": "stdout",
     "text": [
      "acc: 0.742142398973701\n",
      "f1: 0.5915645247082992\n"
     ]
    },
    {
     "output_type": "display_data",
     "data": {
      "text/plain": [
       "<Figure size 640x480 with 2 Axes>"
      ],
      "image/png": "[encoded data removed]"
     },
     "metadata": {}
    }
   ],
   "source": [
    "print(\"acc:\", accuracy_score(validated_df['label'], validated_df['predicted']))\n",
    "print(\"f1:\", f1_score(validated_df['label'], validated_df['predicted'], average='macro'))\n",
    "\n",
    "def plot_cm(cm):\n",
    "    classes = list(target_map.keys())\n",
    "    df_cm = pd.DataFrame(cm, index=classes, columns=classes)\n",
    "    ax = sn.heatmap(df_cm, annot=True, fmt='.2g')\n",
    "    ax.set_xlabel(\"Predicted\")\n",
    "    ax.set_ylabel(\"Target\")\n",
    "\n",
    "cm = confusion_matrix(validated_df['label'], validated_df['predicted'], normalize='true')\n",
    "plot_cm(cm)"
   ]
  },
  {
   "cell_type": "code",
   "execution_count": null,
   "metadata": {
    "executionInfo": {
     "elapsed": 6,
     "status": "ok",
     "timestamp": 1711984421301,
     "user": {
      "displayName": "Jakub Partyka",
      "userId": "06989008944538163465"
     },
     "user_tz": -120
    },
    "id": "scE46i4-M1Tt",
    "colab": {
     "base_uri": "https://localhost:8080/",
     "height": 175
    },
    "outputId": "bbfea0f9-082a-4aaf-b9ec-88f060740c1a"
   },
   "outputs": [
    {
     "output_type": "execute_result",
     "data": {
      "text/plain": [
       "           sentence  predicted\n",
       "label                         \n",
       "Negative        410        410\n",
       "No_pathos      1064       1064\n",
       "Positive         85         85"
      ],
      "text/html": [
       "\n",
       "  <div id=\"df-8703bacc-f333-4e54-a99d-8d219a7daa34\" class=\"colab-df-container\">\n",
       "    <div>\n",
       "<style scoped>\n",
       "    .dataframe tbody tr th:only-of-type {\n",
       "        vertical-align: middle;\n",
       "    }\n",
       "\n",
       "    .dataframe tbody tr th {\n",
       "        vertical-align: top;\n",
       "    }\n",
       "\n",
       "    .dataframe thead th {\n",
       "        text-align: right;\n",
       "    }\n",
       "</style>\n",
       "<table border=\"1\" class=\"dataframe\">\n",
       "  <thead>\n",
       "    <tr style=\"text-align: right;\">\n",
       "      <th></th>\n",
       "      <th>sentence</th>\n",
       "      <th>predicted</th>\n",
       "    </tr>\n",
       "    <tr>\n",
       "      <th>label</th>\n",
       "      <th></th>\n",
       "      <th></th>\n",
       "    </tr>\n",
       "  </thead>\n",
       "  <tbody>\n",
       "    <tr>\n",
       "      <th>Negative</th>\n",
       "      <td>410</td>\n",
       "      <td>410</td>\n",
       "    </tr>\n",
       "    <tr>\n",
       "      <th>No_pathos</th>\n",
       "      <td>1064</td>\n",
       "      <td>1064</td>\n",
       "    </tr>\n",
       "    <tr>\n",
       "      <th>Positive</th>\n",
       "      <td>85</td>\n",
       "      <td>85</td>\n",
       "    </tr>\n",
       "  </tbody>\n",
       "</table>\n",
       "</div>\n",
       "    <div class=\"colab-df-buttons\">\n",
       "\n",
       "  <div class=\"colab-df-container\">\n",
       "    <button class=\"colab-df-convert\" onclick=\"convertToInteractive('df-8703bacc-f333-4e54-a99d-8d219a7daa34')\"\n",
       "            title=\"Convert this dataframe to an interactive table.\"\n",
       "            style=\"display:none;\">\n",
       "\n",
       "  <svg xmlns=\"http://www.w3.org/2000/svg\" height=\"24px\" viewBox=\"0 -960 960 960\">\n",
       "    <path d=\"M120-120v-720h720v720H120Zm60-500h600v-160H180v160Zm220 220h160v-160H400v160Zm0 220h160v-160H400v160ZM180-400h160v-160H180v160Zm440 0h160v-160H620v160ZM180-180h160v-160H180v160Zm440 0h160v-160H620v160Z\"/>\n",
       "  </svg>\n",
       "    </button>\n",
       "\n",
       "  <style>\n",
       "    .colab-df-container {\n",
       "      display:flex;\n",
       "      gap: 12px;\n",
       "    }\n",
       "\n",
       "    .colab-df-convert {\n",
       "      background-color: #E8F0FE;\n",
       "      border: none;\n",
       "      border-radius: 50%;\n",
       "      cursor: pointer;\n",
       "      display: none;\n",
       "      fill: #1967D2;\n",
       "      height: 32px;\n",
       "      padding: 0 0 0 0;\n",
       "      width: 32px;\n",
       "    }\n",
       "\n",
       "    .colab-df-convert:hover {\n",
       "      background-color: #E2EBFA;\n",
       "      box-shadow: 0px 1px 2px rgba(60, 64, 67, 0.3), 0px 1px 3px 1px rgba(60, 64, 67, 0.15);\n",
       "      fill: #174EA6;\n",
       "    }\n",
       "\n",
       "    .colab-df-buttons div {\n",
       "      margin-bottom: 4px;\n",
       "    }\n",
       "\n",
       "    [theme=dark] .colab-df-convert {\n",
       "      background-color: #3B4455;\n",
       "      fill: #D2E3FC;\n",
       "    }\n",
       "\n",
       "    [theme=dark] .colab-df-convert:hover {\n",
       "      background-color: #434B5C;\n",
       "      box-shadow: 0px 1px 3px 1px rgba(0, 0, 0, 0.15);\n",
       "      filter: drop-shadow(0px 1px 2px rgba(0, 0, 0, 0.3));\n",
       "      fill: #FFFFFF;\n",
       "    }\n",
       "  </style>\n",
       "\n",
       "    <script>\n",
       "      const buttonEl =\n",
       "        document.querySelector('#df-8703bacc-f333-4e54-a99d-8d219a7daa34 button.colab-df-convert');\n",
       "      buttonEl.style.display =\n",
       "        google.colab.kernel.accessAllowed ? 'block' : 'none';\n",
       "\n",
       "      async function convertToInteractive(key) {\n",
       "        const element = document.querySelector('#df-8703bacc-f333-4e54-a99d-8d219a7daa34');\n",
       "        const dataTable =\n",
       "          await google.colab.kernel.invokeFunction('convertToInteractive',\n",
       "                                                    [key], {});\n",
       "        if (!dataTable) return;\n",
       "\n",
       "        const docLinkHtml = 'Like what you see? Visit the ' +\n",
       "          '<a target=\"_blank\" href=https://colab.research.google.com/notebooks/data_table.ipynb>data table notebook</a>'\n",
       "          + ' to learn more about interactive tables.';\n",
       "        element.innerHTML = '';\n",
       "        dataTable['output_type'] = 'display_data';\n",
       "        await google.colab.output.renderOutput(dataTable, element);\n",
       "        const docLink = document.createElement('div');\n",
       "        docLink.innerHTML = docLinkHtml;\n",
       "        element.appendChild(docLink);\n",
       "      }\n",
       "    </script>\n",
       "  </div>\n",
       "\n",
       "\n",
       "<div id=\"df-e310fb8c-6941-4b44-9ce5-b6c1a41b207d\">\n",
       "  <button class=\"colab-df-quickchart\" onclick=\"quickchart('df-e310fb8c-6941-4b44-9ce5-b6c1a41b207d')\"\n",
       "            title=\"Suggest charts\"\n",
       "            style=\"display:none;\">\n",
       "\n",
       "<svg xmlns=\"http://www.w3.org/2000/svg\" height=\"24px\"viewBox=\"0 0 24 24\"\n",
       "     width=\"24px\">\n",
       "    <g>\n",
       "        <path d=\"M19 3H5c-1.1 0-2 .9-2 2v14c0 1.1.9 2 2 2h14c1.1 0 2-.9 2-2V5c0-1.1-.9-2-2-2zM9 17H7v-7h2v7zm4 0h-2V7h2v10zm4 0h-2v-4h2v4z\"/>\n",
       "    </g>\n",
       "</svg>\n",
       "  </button>\n",
       "\n",
       "<style>\n",
       "  .colab-df-quickchart {\n",
       "      --bg-color: #E8F0FE;\n",
       "      --fill-color: #1967D2;\n",
       "      --hover-bg-color: #E2EBFA;\n",
       "      --hover-fill-color: #174EA6;\n",
       "      --disabled-fill-color: #AAA;\n",
       "      --disabled-bg-color: #DDD;\n",
       "  }\n",
       "\n",
       "  [theme=dark] .colab-df-quickchart {\n",
       "      --bg-color: #3B4455;\n",
       "      --fill-color: #D2E3FC;\n",
       "      --hover-bg-color: #434B5C;\n",
       "      --hover-fill-color: #FFFFFF;\n",
       "      --disabled-bg-color: #3B4455;\n",
       "      --disabled-fill-color: #666;\n",
       "  }\n",
       "\n",
       "  .colab-df-quickchart {\n",
       "    background-color: var(--bg-color);\n",
       "    border: none;\n",
       "    border-radius: 50%;\n",
       "    cursor: pointer;\n",
       "    display: none;\n",
       "    fill: var(--fill-color);\n",
       "    height: 32px;\n",
       "    padding: 0;\n",
       "    width: 32px;\n",
       "  }\n",
       "\n",
       "  .colab-df-quickchart:hover {\n",
       "    background-color: var(--hover-bg-color);\n",
       "    box-shadow: 0 1px 2px rgba(60, 64, 67, 0.3), 0 1px 3px 1px rgba(60, 64, 67, 0.15);\n",
       "    fill: var(--button-hover-fill-color);\n",
       "  }\n",
       "\n",
       "  .colab-df-quickchart-complete:disabled,\n",
       "  .colab-df-quickchart-complete:disabled:hover {\n",
       "    background-color: var(--disabled-bg-color);\n",
       "    fill: var(--disabled-fill-color);\n",
       "    box-shadow: none;\n",
       "  }\n",
       "\n",
       "  .colab-df-spinner {\n",
       "    border: 2px solid var(--fill-color);\n",
       "    border-color: transparent;\n",
       "    border-bottom-color: var(--fill-color);\n",
       "    animation:\n",
       "      spin 1s steps(1) infinite;\n",
       "  }\n",
       "\n",
       "  @keyframes spin {\n",
       "    0% {\n",
       "      border-color: transparent;\n",
       "      border-bottom-color: var(--fill-color);\n",
       "      border-left-color: var(--fill-color);\n",
       "    }\n",
       "    20% {\n",
       "      border-color: transparent;\n",
       "      border-left-color: var(--fill-color);\n",
       "      border-top-color: var(--fill-color);\n",
       "    }\n",
       "    30% {\n",
       "      border-color: transparent;\n",
       "      border-left-color: var(--fill-color);\n",
       "      border-top-color: var(--fill-color);\n",
       "      border-right-color: var(--fill-color);\n",
       "    }\n",
       "    40% {\n",
       "      border-color: transparent;\n",
       "      border-right-color: var(--fill-color);\n",
       "      border-top-color: var(--fill-color);\n",
       "    }\n",
       "    60% {\n",
       "      border-color: transparent;\n",
       "      border-right-color: var(--fill-color);\n",
       "    }\n",
       "    80% {\n",
       "      border-color: transparent;\n",
       "      border-right-color: var(--fill-color);\n",
       "      border-bottom-color: var(--fill-color);\n",
       "    }\n",
       "    90% {\n",
       "      border-color: transparent;\n",
       "      border-bottom-color: var(--fill-color);\n",
       "    }\n",
       "  }\n",
       "</style>\n",
       "\n",
       "  <script>\n",
       "    async function quickchart(key) {\n",
       "      const quickchartButtonEl =\n",
       "        document.querySelector('#' + key + ' button');\n",
       "      quickchartButtonEl.disabled = true;  // To prevent multiple clicks.\n",
       "      quickchartButtonEl.classList.add('colab-df-spinner');\n",
       "      try {\n",
       "        const charts = await google.colab.kernel.invokeFunction(\n",
       "            'suggestCharts', [key], {});\n",
       "      } catch (error) {\n",
       "        console.error('Error during call to suggestCharts:', error);\n",
       "      }\n",
       "      quickchartButtonEl.classList.remove('colab-df-spinner');\n",
       "      quickchartButtonEl.classList.add('colab-df-quickchart-complete');\n",
       "    }\n",
       "    (() => {\n",
       "      let quickchartButtonEl =\n",
       "        document.querySelector('#df-e310fb8c-6941-4b44-9ce5-b6c1a41b207d button');\n",
       "      quickchartButtonEl.style.display =\n",
       "        google.colab.kernel.accessAllowed ? 'block' : 'none';\n",
       "    })();\n",
       "  </script>\n",
       "</div>\n",
       "    </div>\n",
       "  </div>\n"
      ],
      "application/vnd.google.colaboratory.intrinsic+json": {
       "type": "dataframe",
       "summary": "{\n  \"name\": \"validated_df\",\n  \"rows\": 3,\n  \"fields\": [\n    {\n      \"column\": \"label\",\n      \"properties\": {\n        \"dtype\": \"string\",\n        \"num_unique_values\": 3,\n        \"samples\": [\n          \"Negative\",\n          \"No_pathos\",\n          \"Positive\"\n        ],\n        \"semantic_type\": \"\",\n        \"description\": \"\"\n      }\n    },\n    {\n      \"column\": \"sentence\",\n      \"properties\": {\n        \"dtype\": \"number\",\n        \"std\": 498,\n        \"min\": 85,\n        \"max\": 1064,\n        \"num_unique_values\": 3,\n        \"samples\": [\n          410,\n          1064,\n          85\n        ],\n        \"semantic_type\": \"\",\n        \"description\": \"\"\n      }\n    },\n    {\n      \"column\": \"predicted\",\n      \"properties\": {\n        \"dtype\": \"number\",\n        \"std\": 498,\n        \"min\": 85,\n        \"max\": 1064,\n        \"num_unique_values\": 3,\n        \"samples\": [\n          410,\n          1064,\n          85\n        ],\n        \"semantic_type\": \"\",\n        \"description\": \"\"\n      }\n    }\n  ]\n}"
      }
     },
     "metadata": {},
     "execution_count": 23
    }
   ],
   "source": [
    "validated_df.groupby('label').count()"
   ]
  },
  {
   "cell_type": "code",
   "outputs": [],
   "source": [
    "# def softmax(x):\n",
    "#     \"\"\"Compute softmax values for each sets of scores in x.\"\"\"\n",
    "#     e_x = np.exp(x - np.max(x))\n",
    "#     return e_x / e_x.sum(axis=0) # only difference\n",
    "# \n",
    "# \n",
    "# softmax([0.2, 0.3, 0.9])"
   ],
   "metadata": {
    "collapsed": false
   }
  },
  {
   "cell_type": "raw",
   "metadata": {
    "collapsed": false,
    "id": "-aPzHtuG6iUJ"
   },
   "source": [
    "## Convert to csv and convert labels to int values (optional, need to be performed only once)\n",
    "def txt_to_csv(txt_path, out_path, sep, header, names, target_map):\n",
    "    df_ = pd.read_csv(txt_path, sep=sep, header=header, names=names)\n",
    "    df_['label'] = df_['label'].map(target_map)\n",
    "    df_.to_csv(out_path, index=False)\n",
    "\n",
    "for k, v in files.items():\n",
    "    if v.endswith('.txt'):\n",
    "        print(f'For {k} txt was provided. Converting to csv')\n",
    "        output_file = os.path.splitext(v)[0]+'.csv'\n",
    "        txt_to_csv(v, out_path=output_file ,sep=';', header=None, names=['sentence', 'label'], target_map=target_map)"
   ]
  }
 ],
 "metadata": {
  "accelerator": "GPU",
  "colab": {
   "gpuType": "T4",
   "provenance": []
  },
  "kernelspec": {
   "display_name": "Python 3 (ipykernel)",
   "language": "python",
   "name": "python3"
  },
  "language_info": {
   "name": "python"
  },
  "widgets": {
   "application/vnd.jupyter.widget-state+json": {}
  }
 },
 "nbformat": 4,
 "nbformat_minor": 0
}
