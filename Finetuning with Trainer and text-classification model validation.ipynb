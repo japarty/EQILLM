{
 "cells": [
  {
   "cell_type": "markdown",
   "source": [
    "# Finetuning with Trainer and text-classification model validation"
   ],
   "metadata": {
    "collapsed": false
   }
  },
  {
   "cell_type": "code",
   "outputs": [],
   "source": [
    "# Current data source: https://www.kaggle.com/datasets/praveengovi/emotions-dataset-for-nlp/data\n",
    "# Original notebook created by http://bkonat[dot]home[dot]amu[dot]edu[dot]pl"
   ],
   "metadata": {
    "collapsed": false,
    "ExecuteTime": {
     "end_time": "2024-03-26T12:01:29.713462Z",
     "start_time": "2024-03-26T12:01:29.711419Z"
    }
   },
   "execution_count": 1
  },
  {
   "cell_type": "code",
   "outputs": [],
   "source": [
    "# !pip install transformers[torch]\n",
    "# !pip install accelerate -U\n",
    "#ImportError: Using the `Trainer` with `PyTorch` requires `accelerate>=0.20.1`: Please run `pip install transformers[torch]` or `pip install accelerate -U"
   ],
   "metadata": {
    "collapsed": false,
    "ExecuteTime": {
     "end_time": "2024-03-26T12:01:29.729379Z",
     "start_time": "2024-03-26T12:01:29.713462Z"
    }
   },
   "execution_count": 2
  },
  {
   "cell_type": "code",
   "execution_count": 3,
   "metadata": {
    "executionInfo": {
     "elapsed": 4134,
     "status": "ok",
     "timestamp": 1709117391096,
     "user": {
      "displayName": "Text Processing",
      "userId": "04788490258732316793"
     },
     "user_tz": -60
    },
    "id": "F7z05bbBe5G9",
    "ExecuteTime": {
     "end_time": "2024-03-26T12:01:32.232032Z",
     "start_time": "2024-03-26T12:01:29.730384Z"
    }
   },
   "outputs": [],
   "source": [
    "import datetime\n",
    "import matplotlib.pyplot as plt\n",
    "import numpy as np\n",
    "import os\n",
    "import pandas as pd\n",
    "import pathlib\n",
    "import seaborn as sn\n",
    "import torch\n",
    "\n",
    "from datasets import load_dataset, Dataset, DatasetDict\n",
    "from sklearn.metrics import f1_score, accuracy_score, confusion_matrix\n",
    "from torchinfo import summary\n",
    "from transformers import AutoModelForSequenceClassification, AutoConfig, Trainer, TrainingArguments, DataCollatorWithPadding, AutoTokenizer, pipeline"
   ]
  },
  {
   "cell_type": "markdown",
   "source": [
    "# Load data via datasets package and prepare _label to int_ dict "
   ],
   "metadata": {
    "collapsed": false
   }
  },
  {
   "cell_type": "code",
   "outputs": [
    {
     "name": "stdout",
     "output_type": "stream",
     "text": [
      "{'sadness': 0, 'anger': 1, 'love': 2, 'surprise': 3, 'fear': 4, 'joy': 5}\n"
     ]
    },
    {
     "data": {
      "text/plain": "DatasetDict({\n    train: Dataset({\n        features: ['sentence', 'label'],\n        num_rows: 16000\n    })\n    test: Dataset({\n        features: ['sentence', 'label'],\n        num_rows: 2000\n    })\n    validate: Dataset({\n        features: ['sentence', 'label'],\n        num_rows: 2000\n    })\n})"
     },
     "execution_count": 4,
     "metadata": {},
     "output_type": "execute_result"
    }
   ],
   "source": [
    "root_dir = \"data/kaggle_archive\"\n",
    "convert_to_csv = True\n",
    "\n",
    "files = {'train': os.path.join(root_dir,'train.txt'),\n",
    "         'test': os.path.join(root_dir,'test.txt'),\n",
    "         'validate': os.path.join(root_dir,'val.txt')\n",
    "         }\n",
    "\n",
    "## Get target map \n",
    "#Section assumes that file contains all unique labels\n",
    "ds_dict = {}\n",
    "for k,v in files.items():\n",
    "    ds_dict[k] = pd.read_csv(v, sep=';', header=None, names=['sentence', 'label'])\n",
    "    \n",
    "target_map = {k:i for i,k in enumerate(ds_dict['train']['label'].unique())}\n",
    "reversed_target_map = {v:k for k, v in target_map.items()}\n",
    "print(target_map)\n",
    "\n",
    "for k,v in ds_dict.items():\n",
    "    v['label'] = v['label'].map(target_map)\n",
    "    \n",
    "ds = DatasetDict({k: Dataset.from_pandas(v) for k,v in ds_dict.items()})\n",
    "ds"
   ],
   "metadata": {
    "collapsed": false,
    "ExecuteTime": {
     "end_time": "2024-03-26T12:01:32.275980Z",
     "start_time": "2024-03-26T12:01:32.232032Z"
    }
   },
   "execution_count": 4
  },
  {
   "cell_type": "markdown",
   "source": [
    "## Finetuning"
   ],
   "metadata": {
    "collapsed": false
   }
  },
  {
   "cell_type": "markdown",
   "source": [
    "### Configuring model and tokenizer"
   ],
   "metadata": {
    "collapsed": false
   }
  },
  {
   "cell_type": "code",
   "execution_count": 5,
   "metadata": {
    "executionInfo": {
     "elapsed": 3,
     "status": "ok",
     "timestamp": 1709117393318,
     "user": {
      "displayName": "Text Processing",
      "userId": "04788490258732316793"
     },
     "user_tz": -60
    },
    "id": "U-ywku8cfudK",
    "ExecuteTime": {
     "end_time": "2024-03-26T12:01:33.319262Z",
     "start_time": "2024-03-26T12:01:32.275980Z"
    }
   },
   "outputs": [
    {
     "data": {
      "text/plain": "Map:   0%|          | 0/16000 [00:00<?, ? examples/s]",
      "application/vnd.jupyter.widget-view+json": {
       "version_major": 2,
       "version_minor": 0,
       "model_id": "1df20bd750ac48e586d738f461237c38"
      }
     },
     "metadata": {},
     "output_type": "display_data"
    },
    {
     "data": {
      "text/plain": "Map:   0%|          | 0/2000 [00:00<?, ? examples/s]",
      "application/vnd.jupyter.widget-view+json": {
       "version_major": 2,
       "version_minor": 0,
       "model_id": "d1389645a6eb44c8b16b5466f36bb109"
      }
     },
     "metadata": {},
     "output_type": "display_data"
    },
    {
     "data": {
      "text/plain": "Map:   0%|          | 0/2000 [00:00<?, ? examples/s]",
      "application/vnd.jupyter.widget-view+json": {
       "version_major": 2,
       "version_minor": 0,
       "model_id": "f1122fa0bcc94a39953e4149ef7d61b5"
      }
     },
     "metadata": {},
     "output_type": "display_data"
    },
    {
     "data": {
      "text/plain": "DatasetDict({\n    train: Dataset({\n        features: ['sentence', 'label', 'input_ids', 'attention_mask'],\n        num_rows: 16000\n    })\n    test: Dataset({\n        features: ['sentence', 'label', 'input_ids', 'attention_mask'],\n        num_rows: 2000\n    })\n    validate: Dataset({\n        features: ['sentence', 'label', 'input_ids', 'attention_mask'],\n        num_rows: 2000\n    })\n})"
     },
     "execution_count": 5,
     "metadata": {},
     "output_type": "execute_result"
    }
   ],
   "source": [
    "# model name or path to model\n",
    "# model_path = 'SamLowe/roberta-base-go_emotions'\n",
    "model_path = 'distilbert-base-uncased'\n",
    "tokenizer = AutoTokenizer.from_pretrained(model_path)\n",
    "def tokenize_fn(batch):\n",
    "  return tokenizer(batch['sentence'], truncation=True)\n",
    "\n",
    "tokenized_datasets = ds.map(tokenize_fn, batched=True)\n",
    "tokenized_datasets"
   ]
  },
  {
   "cell_type": "code",
   "execution_count": 6,
   "metadata": {
    "executionInfo": {
     "elapsed": 8,
     "status": "ok",
     "timestamp": 1709117407370,
     "user": {
      "displayName": "Text Processing",
      "userId": "04788490258732316793"
     },
     "user_tz": -60
    },
    "id": "tYK7NH1Dh9xS",
    "ExecuteTime": {
     "end_time": "2024-03-26T12:01:33.519592Z",
     "start_time": "2024-03-26T12:01:33.320267Z"
    }
   },
   "outputs": [
    {
     "data": {
      "text/plain": "DistilBertConfig {\n  \"_name_or_path\": \"distilbert-base-uncased\",\n  \"activation\": \"gelu\",\n  \"architectures\": [\n    \"DistilBertForMaskedLM\"\n  ],\n  \"attention_dropout\": 0.1,\n  \"dim\": 768,\n  \"dropout\": 0.1,\n  \"hidden_dim\": 3072,\n  \"id2label\": {\n    \"0\": \"sadness\",\n    \"1\": \"anger\",\n    \"2\": \"love\",\n    \"3\": \"surprise\",\n    \"4\": \"fear\",\n    \"5\": \"joy\"\n  },\n  \"initializer_range\": 0.02,\n  \"label2id\": {\n    \"anger\": 1,\n    \"fear\": 4,\n    \"joy\": 5,\n    \"love\": 2,\n    \"sadness\": 0,\n    \"surprise\": 3\n  },\n  \"max_position_embeddings\": 512,\n  \"model_type\": \"distilbert\",\n  \"n_heads\": 12,\n  \"n_layers\": 6,\n  \"pad_token_id\": 0,\n  \"qa_dropout\": 0.1,\n  \"seq_classif_dropout\": 0.2,\n  \"sinusoidal_pos_embds\": false,\n  \"tie_weights_\": true,\n  \"transformers_version\": \"4.38.2\",\n  \"vocab_size\": 30522\n}"
     },
     "execution_count": 6,
     "metadata": {},
     "output_type": "execute_result"
    }
   ],
   "source": [
    "config = AutoConfig.from_pretrained(model_path)\n",
    "\n",
    "config.id2label = reversed_target_map\n",
    "config.label2id = target_map\n",
    "\n",
    "config"
   ]
  },
  {
   "cell_type": "code",
   "outputs": [
    {
     "name": "stderr",
     "output_type": "stream",
     "text": [
      "Some weights of DistilBertForSequenceClassification were not initialized from the model checkpoint at distilbert-base-uncased and are newly initialized: ['classifier.bias', 'classifier.weight', 'pre_classifier.bias', 'pre_classifier.weight']\n",
      "You should probably TRAIN this model on a down-stream task to be able to use it for predictions and inference.\n"
     ]
    },
    {
     "name": "stdout",
     "output_type": "stream",
     "text": [
      "Model's device: cpu\n",
      "Running on GPU\n"
     ]
    },
    {
     "data": {
      "text/plain": "================================================================================\nLayer (type:depth-idx)                                  Param #\n================================================================================\nDistilBertForSequenceClassification                     --\n├─DistilBertModel: 1-1                                  --\n│    └─Embeddings: 2-1                                  --\n│    │    └─Embedding: 3-1                              23,440,896\n│    │    └─Embedding: 3-2                              393,216\n│    │    └─LayerNorm: 3-3                              1,536\n│    │    └─Dropout: 3-4                                --\n│    └─Transformer: 2-2                                 --\n│    │    └─ModuleList: 3-5                             42,527,232\n├─Linear: 1-2                                           590,592\n├─Linear: 1-3                                           4,614\n├─Dropout: 1-4                                          --\n================================================================================\nTotal params: 66,958,086\nTrainable params: 66,958,086\nNon-trainable params: 0\n================================================================================"
     },
     "execution_count": 7,
     "metadata": {},
     "output_type": "execute_result"
    }
   ],
   "source": [
    "model = AutoModelForSequenceClassification.from_pretrained(\n",
    "    model_path, config=config, ignore_mismatched_sizes=True)\n",
    "\n",
    "#If we get info Model's device: cpu - need to move model to gpu\n",
    "#Check if your model runs on gpu (this should happen automatically, when gpu is available)\n",
    "device = next(model.parameters()).device\n",
    "print(\"Model's device:\", device)\n",
    "\n",
    "if torch.cuda.is_available():\n",
    "    model = model.cuda()\n",
    "    print(\"Running on GPU\")\n",
    "else:\n",
    "    print(\"CUDA (GPU support) is not available. Model will run on CPU.\")\n",
    "\n",
    "summary(model)"
   ],
   "metadata": {
    "collapsed": false,
    "ExecuteTime": {
     "end_time": "2024-03-26T12:01:33.990700Z",
     "start_time": "2024-03-26T12:01:33.520598Z"
    }
   },
   "execution_count": 7
  },
  {
   "cell_type": "markdown",
   "source": [
    "### Training"
   ],
   "metadata": {
    "collapsed": false
   }
  },
  {
   "cell_type": "code",
   "outputs": [
    {
     "data": {
      "text/plain": "<IPython.core.display.HTML object>",
      "text/html": "\n    <div>\n      \n      <progress value='10000' max='10000' style='width:300px; height:20px; vertical-align: middle;'></progress>\n      [10000/10000 05:43, Epoch 10/10]\n    </div>\n    <table border=\"1\" class=\"dataframe\">\n  <thead>\n <tr style=\"text-align: left;\">\n      <th>Epoch</th>\n      <th>Training Loss</th>\n      <th>Validation Loss</th>\n      <th>Accuracy</th>\n      <th>F1</th>\n    </tr>\n  </thead>\n  <tbody>\n    <tr>\n      <td>1</td>\n      <td>0.385900</td>\n      <td>0.201306</td>\n      <td>0.923500</td>\n      <td>0.886204</td>\n    </tr>\n    <tr>\n      <td>2</td>\n      <td>0.152100</td>\n      <td>0.176437</td>\n      <td>0.932000</td>\n      <td>0.885834</td>\n    </tr>\n    <tr>\n      <td>3</td>\n      <td>0.113000</td>\n      <td>0.225651</td>\n      <td>0.921500</td>\n      <td>0.876755</td>\n    </tr>\n    <tr>\n      <td>4</td>\n      <td>0.093800</td>\n      <td>0.220557</td>\n      <td>0.928500</td>\n      <td>0.884815</td>\n    </tr>\n    <tr>\n      <td>5</td>\n      <td>0.060300</td>\n      <td>0.295039</td>\n      <td>0.928500</td>\n      <td>0.888631</td>\n    </tr>\n    <tr>\n      <td>6</td>\n      <td>0.032500</td>\n      <td>0.389273</td>\n      <td>0.925000</td>\n      <td>0.877094</td>\n    </tr>\n    <tr>\n      <td>7</td>\n      <td>0.024100</td>\n      <td>0.370435</td>\n      <td>0.931000</td>\n      <td>0.894106</td>\n    </tr>\n    <tr>\n      <td>8</td>\n      <td>0.015100</td>\n      <td>0.426326</td>\n      <td>0.929000</td>\n      <td>0.887043</td>\n    </tr>\n    <tr>\n      <td>9</td>\n      <td>0.010500</td>\n      <td>0.419796</td>\n      <td>0.933500</td>\n      <td>0.896434</td>\n    </tr>\n    <tr>\n      <td>10</td>\n      <td>0.006500</td>\n      <td>0.440700</td>\n      <td>0.928500</td>\n      <td>0.885637</td>\n    </tr>\n  </tbody>\n</table><p>"
     },
     "metadata": {},
     "output_type": "display_data"
    },
    {
     "data": {
      "text/plain": "TrainOutput(global_step=10000, training_loss=0.08937461504936219, metrics={'train_runtime': 344.0927, 'train_samples_per_second': 464.991, 'train_steps_per_second': 29.062, 'total_flos': 1945612950228864.0, 'train_loss': 0.08937461504936219, 'epoch': 10.0})"
     },
     "execution_count": 8,
     "metadata": {},
     "output_type": "execute_result"
    }
   ],
   "source": [
    "trained_model_path = f'output/models/{model_path}_{datetime.datetime.now().strftime(\"%Y-%m-%d_%H-%M\")}'\n",
    "\n",
    "training_args = TrainingArguments(\n",
    "  output_dir=f'{trained_model_path}/checkpoints',\n",
    "  evaluation_strategy='epoch',\n",
    "  logging_strategy='epoch',\n",
    "  save_strategy='epoch',\n",
    "  num_train_epochs=10,\n",
    "  per_device_train_batch_size=16,\n",
    "  per_device_eval_batch_size=64,\n",
    ")\n",
    "\n",
    "# data_collator = DataCollatorWithPadding(tokenizer=tokenizer)\n",
    "\n",
    "def compute_metrics(logits_and_labels):\n",
    "  logits, labels = logits_and_labels\n",
    "  predictions = np.argmax(logits, axis=-1)\n",
    "  acc = np.mean(predictions == labels)\n",
    "  f1 = f1_score(labels, predictions, average='macro')\n",
    "  return {'accuracy': acc, 'f1': f1}\n",
    "\n",
    "trainer = Trainer(\n",
    "    model,\n",
    "    training_args,\n",
    "    train_dataset=tokenized_datasets[\"train\"],\n",
    "    eval_dataset=tokenized_datasets[\"test\"],\n",
    "    tokenizer=tokenizer,\n",
    "    compute_metrics=compute_metrics,\n",
    ")\n",
    "\n",
    "trainer.train()"
   ],
   "metadata": {
    "collapsed": false,
    "ExecuteTime": {
     "end_time": "2024-03-26T12:07:18.264572Z",
     "start_time": "2024-03-26T12:01:33.990700Z"
    }
   },
   "execution_count": 8
  },
  {
   "cell_type": "markdown",
   "source": [
    "### Classification"
   ],
   "metadata": {
    "collapsed": false
   }
  },
  {
   "cell_type": "code",
   "outputs": [
    {
     "data": {
      "text/plain": "[10000, 9000, 8000, 7000, 6000, 5000, 4000, 3000, 2000, 1000]"
     },
     "execution_count": 9,
     "metadata": {},
     "output_type": "execute_result"
    }
   ],
   "source": [
    "# Get last epoch number\n",
    "checkpoint_no = [int(i.rsplit('-')[-1]) for i in os.listdir(f'{trained_model_path}/checkpoints')]\n",
    "checkpoint_no.sort(reverse=True)\n",
    "checkpoint_no"
   ],
   "metadata": {
    "collapsed": false,
    "ExecuteTime": {
     "end_time": "2024-03-26T12:07:18.269958Z",
     "start_time": "2024-03-26T12:07:18.265576Z"
    }
   },
   "execution_count": 9
  },
  {
   "cell_type": "code",
   "execution_count": 10,
   "metadata": {
    "colab": {
     "background_save": true
    },
    "id": "PMhwdYpKonbs",
    "ExecuteTime": {
     "end_time": "2024-03-26T12:07:18.755615Z",
     "start_time": "2024-03-26T12:07:18.269958Z"
    }
   },
   "outputs": [],
   "source": [
    "#Inspect above results to decide which checkpoint to use, by default last is taken\n",
    "chosen_checkpoint = checkpoint_no[0]\n",
    "checkpoint_path = f'{trained_model_path}/checkpoints/checkpoint-{chosen_checkpoint}'\n",
    "\n",
    "task = 'text-classification'\n",
    "\n",
    "classifier = pipeline(task,\n",
    "                      model=checkpoint_path,\n",
    "                      device=0)\n",
    "\n",
    "classifier.save_pretrained(f'{trained_model_path}/pipeline')\n"
   ]
  },
  {
   "cell_type": "code",
   "outputs": [
    {
     "data": {
      "text/plain": "[{'label': 'sadness', 'score': 0.9999853372573853},\n {'label': 'sadness', 'score': 0.9999856948852539},\n {'label': 'joy', 'score': 0.9989473223686218},\n {'label': 'anger', 'score': 0.9999752044677734},\n {'label': 'joy', 'score': 0.9999861717224121},\n {'label': 'joy', 'score': 0.9999860525131226},\n {'label': 'joy', 'score': 0.999985933303833},\n {'label': 'joy', 'score': 0.9999856948852539},\n {'label': 'joy', 'score': 0.9999866485595703},\n {'label': 'sadness', 'score': 0.999985933303833},\n {'label': 'anger', 'score': 0.9999772310256958},\n {'label': 'joy', 'score': 0.9999861717224121},\n {'label': 'sadness', 'score': 0.9999858140945435},\n {'label': 'sadness', 'score': 0.9999842643737793},\n {'label': 'sadness', 'score': 0.9999823570251465},\n {'label': 'joy', 'score': 0.9999860525131226},\n {'label': 'sadness', 'score': 0.9999817609786987},\n {'label': 'sadness', 'score': 0.9914841055870056},\n {'label': 'love', 'score': 0.999937891960144},\n {'label': 'joy', 'score': 0.9999850988388062},\n {'label': 'fear', 'score': 0.999954342842102},\n {'label': 'sadness', 'score': 0.9999817609786987},\n {'label': 'joy', 'score': 0.9999862909317017},\n {'label': 'sadness', 'score': 0.9999855756759644},\n {'label': 'sadness', 'score': 0.9999867677688599},\n {'label': 'sadness', 'score': 0.9999849796295166},\n {'label': 'sadness', 'score': 0.9999773502349854},\n {'label': 'love', 'score': 0.6534287333488464},\n {'label': 'sadness', 'score': 0.9999839067459106},\n {'label': 'sadness', 'score': 0.999984860420227},\n {'label': 'love', 'score': 0.9999394416809082},\n {'label': 'sadness', 'score': 0.9999852180480957},\n {'label': 'joy', 'score': 0.9999402761459351},\n {'label': 'sadness', 'score': 0.9999622106552124},\n {'label': 'sadness', 'score': 0.9999849796295166},\n {'label': 'joy', 'score': 0.9999312162399292},\n {'label': 'sadness', 'score': 0.9999847412109375},\n {'label': 'sadness', 'score': 0.9999823570251465},\n {'label': 'anger', 'score': 0.9999768733978271},\n {'label': 'joy', 'score': 0.9999749660491943},\n {'label': 'love', 'score': 0.9999407529830933},\n {'label': 'sadness', 'score': 0.999984622001648},\n {'label': 'sadness', 'score': 0.9999828338623047},\n {'label': 'sadness', 'score': 0.9999847412109375},\n {'label': 'anger', 'score': 0.9999773502349854},\n {'label': 'sadness', 'score': 0.999976634979248},\n {'label': 'sadness', 'score': 0.9999847412109375},\n {'label': 'anger', 'score': 0.999972939491272},\n {'label': 'love', 'score': 0.9999418258666992},\n {'label': 'sadness', 'score': 0.9999849796295166},\n {'label': 'sadness', 'score': 0.9999852180480957},\n {'label': 'joy', 'score': 0.9999858140945435},\n {'label': 'joy', 'score': 0.999985933303833},\n {'label': 'sadness', 'score': 0.9999825954437256},\n {'label': 'joy', 'score': 0.9999788999557495},\n {'label': 'joy', 'score': 0.968665599822998},\n {'label': 'anger', 'score': 0.9999749660491943},\n {'label': 'sadness', 'score': 0.9999854564666748},\n {'label': 'sadness', 'score': 0.9999855756759644},\n {'label': 'love', 'score': 0.9999361038208008},\n {'label': 'joy', 'score': 0.9995763897895813},\n {'label': 'joy', 'score': 0.9999862909317017},\n {'label': 'sadness', 'score': 0.9999849796295166},\n {'label': 'joy', 'score': 0.9999858140945435},\n {'label': 'joy', 'score': 0.9999841451644897},\n {'label': 'sadness', 'score': 0.9999841451644897},\n {'label': 'sadness', 'score': 0.9999852180480957},\n {'label': 'love', 'score': 0.9999386072158813},\n {'label': 'surprise', 'score': 0.8341689109802246},\n {'label': 'sadness', 'score': 0.9999850988388062},\n {'label': 'joy', 'score': 0.999984860420227},\n {'label': 'joy', 'score': 0.9999865293502808},\n {'label': 'joy', 'score': 0.9999828338623047},\n {'label': 'fear', 'score': 0.9999550580978394},\n {'label': 'love', 'score': 0.9999315738677979},\n {'label': 'joy', 'score': 0.9998372793197632},\n {'label': 'sadness', 'score': 0.9999852180480957},\n {'label': 'anger', 'score': 0.9999768733978271},\n {'label': 'sadness', 'score': 0.9999850988388062},\n {'label': 'sadness', 'score': 0.9999818801879883},\n {'label': 'sadness', 'score': 0.999984860420227},\n {'label': 'anger', 'score': 0.9999772310256958},\n {'label': 'anger', 'score': 0.9999525547027588},\n {'label': 'anger', 'score': 0.9998725652694702},\n {'label': 'anger', 'score': 0.9999767541885376},\n {'label': 'love', 'score': 0.9999347925186157},\n {'label': 'joy', 'score': 0.999984622001648},\n {'label': 'joy', 'score': 0.9999856948852539},\n {'label': 'love', 'score': 0.9999363422393799},\n {'label': 'anger', 'score': 0.9999680519104004},\n {'label': 'anger', 'score': 0.9999779462814331},\n {'label': 'joy', 'score': 0.9793702960014343},\n {'label': 'love', 'score': 0.9999384880065918},\n {'label': 'anger', 'score': 0.9999758005142212},\n {'label': 'fear', 'score': 0.9999507665634155},\n {'label': 'joy', 'score': 0.9999840259552002},\n {'label': 'anger', 'score': 0.9999736547470093},\n {'label': 'anger', 'score': 0.9999728202819824},\n {'label': 'love', 'score': 0.9721716642379761},\n {'label': 'sadness', 'score': 0.9999654293060303},\n {'label': 'anger', 'score': 0.9999788999557495},\n {'label': 'love', 'score': 0.9999414682388306},\n {'label': 'love', 'score': 0.9999392032623291},\n {'label': 'sadness', 'score': 0.9999855756759644},\n {'label': 'joy', 'score': 0.9999834299087524},\n {'label': 'anger', 'score': 0.9999758005142212},\n {'label': 'sadness', 'score': 0.9999861717224121},\n {'label': 'joy', 'score': 0.9999717473983765},\n {'label': 'sadness', 'score': 0.999984622001648},\n {'label': 'sadness', 'score': 0.9999829530715942},\n {'label': 'joy', 'score': 0.9999858140945435},\n {'label': 'joy', 'score': 0.9999850988388062},\n {'label': 'sadness', 'score': 0.999984622001648},\n {'label': 'sadness', 'score': 0.9999845027923584},\n {'label': 'sadness', 'score': 0.9999845027923584},\n {'label': 'sadness', 'score': 0.9989803433418274},\n {'label': 'joy', 'score': 0.999984860420227},\n {'label': 'sadness', 'score': 0.9157085418701172},\n {'label': 'anger', 'score': 0.5780408382415771},\n {'label': 'anger', 'score': 0.9999740123748779},\n {'label': 'anger', 'score': 0.9999784231185913},\n {'label': 'joy', 'score': 0.9999847412109375},\n {'label': 'sadness', 'score': 0.9999780654907227},\n {'label': 'love', 'score': 0.9999375343322754},\n {'label': 'fear', 'score': 0.9999603033065796},\n {'label': 'fear', 'score': 0.9999597072601318},\n {'label': 'joy', 'score': 0.9999840259552002},\n {'label': 'sadness', 'score': 0.9999833106994629},\n {'label': 'fear', 'score': 0.999956488609314},\n {'label': 'sadness', 'score': 0.9999847412109375},\n {'label': 'sadness', 'score': 0.9999856948852539},\n {'label': 'joy', 'score': 0.999985933303833},\n {'label': 'anger', 'score': 0.840214729309082},\n {'label': 'sadness', 'score': 0.9999831914901733},\n {'label': 'fear', 'score': 0.999961256980896},\n {'label': 'fear', 'score': 0.9999485015869141},\n {'label': 'love', 'score': 0.9901573657989502},\n {'label': 'joy', 'score': 0.9999804496765137},\n {'label': 'joy', 'score': 0.9999663829803467},\n {'label': 'sadness', 'score': 0.9999803304672241},\n {'label': 'joy', 'score': 0.9999830722808838},\n {'label': 'sadness', 'score': 0.9999854564666748},\n {'label': 'joy', 'score': 0.9999845027923584},\n {'label': 'anger', 'score': 0.9999790191650391},\n {'label': 'surprise', 'score': 0.9998794794082642},\n {'label': 'anger', 'score': 0.9997372031211853},\n {'label': 'fear', 'score': 0.9999589920043945},\n {'label': 'love', 'score': 0.9999407529830933},\n {'label': 'sadness', 'score': 0.9999809265136719},\n {'label': 'love', 'score': 0.999937891960144},\n {'label': 'joy', 'score': 0.9228132963180542},\n {'label': 'fear', 'score': 0.9998302459716797},\n {'label': 'anger', 'score': 0.9999756813049316},\n {'label': 'joy', 'score': 0.9999841451644897},\n {'label': 'anger', 'score': 0.9999775886535645},\n {'label': 'joy', 'score': 0.9999862909317017},\n {'label': 'surprise', 'score': 0.9998970031738281},\n {'label': 'anger', 'score': 0.9999755620956421},\n {'label': 'love', 'score': 0.9999409914016724},\n {'label': 'sadness', 'score': 0.9999864101409912},\n {'label': 'sadness', 'score': 0.8149461150169373},\n {'label': 'anger', 'score': 0.9999780654907227},\n {'label': 'joy', 'score': 0.9999856948852539},\n {'label': 'sadness', 'score': 0.9999849796295166},\n {'label': 'love', 'score': 0.9997921586036682},\n {'label': 'fear', 'score': 0.8527846336364746},\n {'label': 'joy', 'score': 0.9999855756759644},\n {'label': 'fear', 'score': 0.9999576807022095},\n {'label': 'fear', 'score': 0.999961256980896},\n {'label': 'sadness', 'score': 0.9999842643737793},\n {'label': 'sadness', 'score': 0.9999822378158569},\n {'label': 'surprise', 'score': 0.999895453453064},\n {'label': 'sadness', 'score': 0.999984860420227},\n {'label': 'joy', 'score': 0.9999860525131226},\n {'label': 'fear', 'score': 0.9994945526123047},\n {'label': 'joy', 'score': 0.9999845027923584},\n {'label': 'fear', 'score': 0.9999593496322632},\n {'label': 'joy', 'score': 0.9997463822364807},\n {'label': 'love', 'score': 0.9999358654022217},\n {'label': 'love', 'score': 0.9999397993087769},\n {'label': 'sadness', 'score': 0.999984860420227},\n {'label': 'anger', 'score': 0.9999736547470093},\n {'label': 'anger', 'score': 0.9999707937240601},\n {'label': 'joy', 'score': 0.9999644756317139},\n {'label': 'joy', 'score': 0.9999853372573853},\n {'label': 'anger', 'score': 0.9999760389328003},\n {'label': 'anger', 'score': 0.9999755620956421},\n {'label': 'sadness', 'score': 0.9966993927955627},\n {'label': 'sadness', 'score': 0.99997878074646},\n {'label': 'sadness', 'score': 0.9999868869781494},\n {'label': 'joy', 'score': 0.999985933303833},\n {'label': 'joy', 'score': 0.9999853372573853},\n {'label': 'joy', 'score': 0.9999852180480957},\n {'label': 'joy', 'score': 0.9999823570251465},\n {'label': 'joy', 'score': 0.990230143070221},\n {'label': 'joy', 'score': 0.9999841451644897},\n {'label': 'fear', 'score': 0.9999605417251587},\n {'label': 'joy', 'score': 0.9999850988388062},\n {'label': 'fear', 'score': 0.9943537712097168},\n {'label': 'joy', 'score': 0.9999865293502808},\n {'label': 'sadness', 'score': 0.9989660978317261},\n {'label': 'sadness', 'score': 0.9999861717224121},\n {'label': 'fear', 'score': 0.9796360731124878},\n {'label': 'joy', 'score': 0.9999858140945435},\n {'label': 'sadness', 'score': 0.9999852180480957},\n {'label': 'joy', 'score': 0.9999854564666748},\n {'label': 'anger', 'score': 0.9999755620956421},\n {'label': 'anger', 'score': 0.9999759197235107},\n {'label': 'joy', 'score': 0.999985933303833},\n {'label': 'fear', 'score': 0.9999573230743408},\n {'label': 'sadness', 'score': 0.9999823570251465},\n {'label': 'fear', 'score': 0.9999637603759766},\n {'label': 'joy', 'score': 0.999985933303833},\n {'label': 'joy', 'score': 0.9999866485595703},\n {'label': 'sadness', 'score': 0.9999794960021973},\n {'label': 'sadness', 'score': 0.9999791383743286},\n {'label': 'sadness', 'score': 0.9999839067459106},\n {'label': 'joy', 'score': 0.9999837875366211},\n {'label': 'surprise', 'score': 0.9854540824890137},\n {'label': 'fear', 'score': 0.9999608993530273},\n {'label': 'sadness', 'score': 0.999985933303833},\n {'label': 'sadness', 'score': 0.9999852180480957},\n {'label': 'joy', 'score': 0.9999843835830688},\n {'label': 'surprise', 'score': 0.999768078327179},\n {'label': 'sadness', 'score': 0.9999860525131226},\n {'label': 'fear', 'score': 0.9999639987945557},\n {'label': 'sadness', 'score': 0.999982476234436},\n {'label': 'surprise', 'score': 0.9998984336853027},\n {'label': 'fear', 'score': 0.9999585151672363},\n {'label': 'joy', 'score': 0.9999867677688599},\n {'label': 'anger', 'score': 0.9999762773513794},\n {'label': 'fear', 'score': 0.9999598264694214},\n {'label': 'joy', 'score': 0.9999868869781494},\n {'label': 'joy', 'score': 0.9999840259552002},\n {'label': 'anger', 'score': 0.9999759197235107},\n {'label': 'surprise', 'score': 0.9998658895492554},\n {'label': 'joy', 'score': 0.9999836683273315},\n {'label': 'love', 'score': 0.9999402761459351},\n {'label': 'joy', 'score': 0.9999841451644897},\n {'label': 'joy', 'score': 0.9999866485595703},\n {'label': 'fear', 'score': 0.9999622106552124},\n {'label': 'joy', 'score': 0.9999861717224121},\n {'label': 'love', 'score': 0.9999393224716187},\n {'label': 'fear', 'score': 0.9999675750732422},\n {'label': 'sadness', 'score': 0.9999860525131226},\n {'label': 'sadness', 'score': 0.9999823570251465},\n {'label': 'sadness', 'score': 0.9999830722808838},\n {'label': 'joy', 'score': 0.9999856948852539},\n {'label': 'joy', 'score': 0.9999861717224121},\n {'label': 'surprise', 'score': 0.9998987913131714},\n {'label': 'anger', 'score': 0.9999698400497437},\n {'label': 'love', 'score': 0.9999383687973022},\n {'label': 'surprise', 'score': 0.9721289873123169},\n {'label': 'joy', 'score': 0.9999861717224121},\n {'label': 'fear', 'score': 0.9999583959579468},\n {'label': 'joy', 'score': 0.9999831914901733},\n {'label': 'joy', 'score': 0.9999828338623047},\n {'label': 'sadness', 'score': 0.9999845027923584},\n {'label': 'sadness', 'score': 0.6483227610588074},\n {'label': 'fear', 'score': 0.9998431205749512},\n {'label': 'joy', 'score': 0.9999867677688599},\n {'label': 'joy', 'score': 0.9999833106994629},\n {'label': 'joy', 'score': 0.9999854564666748},\n {'label': 'joy', 'score': 0.9999748468399048},\n {'label': 'sadness', 'score': 0.9999814033508301},\n {'label': 'joy', 'score': 0.9999843835830688},\n {'label': 'joy', 'score': 0.9999862909317017},\n {'label': 'sadness', 'score': 0.9999839067459106},\n {'label': 'joy', 'score': 0.9999856948852539},\n {'label': 'sadness', 'score': 0.9999366998672485},\n {'label': 'love', 'score': 0.9999396800994873},\n {'label': 'sadness', 'score': 0.9999855756759644},\n {'label': 'joy', 'score': 0.9999865293502808},\n {'label': 'anger', 'score': 0.999970555305481},\n {'label': 'joy', 'score': 0.9999829530715942},\n {'label': 'joy', 'score': 0.9999861717224121},\n {'label': 'sadness', 'score': 0.9999839067459106},\n {'label': 'joy', 'score': 0.9999858140945435},\n {'label': 'joy', 'score': 0.9999865293502808},\n {'label': 'joy', 'score': 0.9999849796295166},\n {'label': 'sadness', 'score': 0.9999845027923584},\n {'label': 'sadness', 'score': 0.9999816417694092},\n {'label': 'joy', 'score': 0.9999864101409912},\n {'label': 'joy', 'score': 0.9999854564666748},\n {'label': 'sadness', 'score': 0.9999814033508301},\n {'label': 'joy', 'score': 0.9999852180480957},\n {'label': 'joy', 'score': 0.9999862909317017},\n {'label': 'joy', 'score': 0.9999845027923584},\n {'label': 'fear', 'score': 0.9999566078186035},\n {'label': 'sadness', 'score': 0.9999828338623047},\n {'label': 'surprise', 'score': 0.9999033212661743},\n {'label': 'joy', 'score': 0.9999750852584839},\n {'label': 'joy', 'score': 0.9999434947967529},\n {'label': 'joy', 'score': 0.9999798536300659},\n {'label': 'anger', 'score': 0.9999781847000122},\n {'label': 'sadness', 'score': 0.9999833106994629},\n {'label': 'joy', 'score': 0.9999856948852539},\n {'label': 'fear', 'score': 0.9999545812606812},\n {'label': 'anger', 'score': 0.9999750852584839},\n {'label': 'fear', 'score': 0.9999576807022095},\n {'label': 'joy', 'score': 0.9992794394493103},\n {'label': 'love', 'score': 0.9998937845230103},\n {'label': 'joy', 'score': 0.9999837875366211},\n {'label': 'fear', 'score': 0.9999459981918335},\n {'label': 'sadness', 'score': 0.9999783039093018},\n {'label': 'fear', 'score': 0.9999597072601318},\n {'label': 'sadness', 'score': 0.9999827146530151},\n {'label': 'sadness', 'score': 0.9999390840530396},\n {'label': 'anger', 'score': 0.9999737739562988},\n {'label': 'sadness', 'score': 0.9999856948852539},\n {'label': 'fear', 'score': 0.9999673366546631},\n {'label': 'anger', 'score': 0.999972939491272},\n {'label': 'sadness', 'score': 0.999367892742157},\n {'label': 'joy', 'score': 0.9942948222160339},\n {'label': 'sadness', 'score': 0.9999783039093018},\n {'label': 'love', 'score': 0.9999395608901978},\n {'label': 'joy', 'score': 0.9999856948852539},\n {'label': 'joy', 'score': 0.9999827146530151},\n {'label': 'fear', 'score': 0.9998325109481812},\n {'label': 'joy', 'score': 0.9999829530715942},\n {'label': 'joy', 'score': 0.9999845027923584},\n {'label': 'sadness', 'score': 0.9999827146530151},\n {'label': 'joy', 'score': 0.9999747276306152},\n {'label': 'sadness', 'score': 0.9999862909317017},\n {'label': 'surprise', 'score': 0.9998782873153687},\n {'label': 'fear', 'score': 0.9999549388885498},\n {'label': 'anger', 'score': 0.6298767328262329},\n {'label': 'fear', 'score': 0.9999653100967407},\n {'label': 'joy', 'score': 0.9999862909317017},\n {'label': 'joy', 'score': 0.9999866485595703},\n {'label': 'anger', 'score': 0.9999748468399048},\n {'label': 'joy', 'score': 0.9999861717224121},\n {'label': 'love', 'score': 0.99993896484375},\n {'label': 'joy', 'score': 0.9999868869781494},\n {'label': 'anger', 'score': 0.9999785423278809},\n {'label': 'anger', 'score': 0.9999783039093018},\n {'label': 'joy', 'score': 0.917648434638977},\n {'label': 'joy', 'score': 0.9999862909317017},\n {'label': 'fear', 'score': 0.9999586343765259},\n {'label': 'surprise', 'score': 0.9998892545700073},\n {'label': 'anger', 'score': 0.9999755620956421},\n {'label': 'sadness', 'score': 0.9999812841415405},\n {'label': 'sadness', 'score': 0.9991238713264465},\n {'label': 'fear', 'score': 0.9999407529830933},\n {'label': 'anger', 'score': 0.9999774694442749},\n {'label': 'joy', 'score': 0.999985933303833},\n {'label': 'sadness', 'score': 0.9999797344207764},\n {'label': 'anger', 'score': 0.9999773502349854},\n {'label': 'anger', 'score': 0.9999717473983765},\n {'label': 'sadness', 'score': 0.9999852180480957},\n {'label': 'joy', 'score': 0.9999840259552002},\n {'label': 'love', 'score': 0.9999414682388306},\n {'label': 'sadness', 'score': 0.9999862909317017},\n {'label': 'fear', 'score': 0.8449084758758545},\n {'label': 'sadness', 'score': 0.9999861717224121},\n {'label': 'sadness', 'score': 0.9999856948852539},\n {'label': 'joy', 'score': 0.9999860525131226},\n {'label': 'love', 'score': 0.60025954246521},\n {'label': 'joy', 'score': 0.9999843835830688},\n {'label': 'love', 'score': 0.9999370574951172},\n {'label': 'anger', 'score': 0.7852391600608826},\n {'label': 'love', 'score': 0.9449709057807922},\n {'label': 'joy', 'score': 0.9999867677688599},\n {'label': 'sadness', 'score': 0.9999860525131226},\n {'label': 'anger', 'score': 0.9999762773513794},\n {'label': 'anger', 'score': 0.9999756813049316},\n {'label': 'joy', 'score': 0.9999834299087524},\n {'label': 'fear', 'score': 0.9987682700157166},\n {'label': 'sadness', 'score': 0.9999855756759644},\n {'label': 'sadness', 'score': 0.9999856948852539},\n {'label': 'fear', 'score': 0.9999643564224243},\n {'label': 'sadness', 'score': 0.999984622001648},\n {'label': 'sadness', 'score': 0.9999834299087524},\n {'label': 'joy', 'score': 0.9999862909317017},\n {'label': 'sadness', 'score': 0.9999792575836182},\n {'label': 'sadness', 'score': 0.9999856948852539},\n {'label': 'fear', 'score': 0.9954221844673157},\n {'label': 'love', 'score': 0.9999405145645142},\n {'label': 'joy', 'score': 0.9999843835830688},\n {'label': 'sadness', 'score': 0.999983549118042},\n {'label': 'anger', 'score': 0.9999758005142212},\n {'label': 'love', 'score': 0.6568214297294617},\n {'label': 'joy', 'score': 0.9999860525131226},\n {'label': 'joy', 'score': 0.9999864101409912},\n {'label': 'joy', 'score': 0.9999853372573853},\n {'label': 'anger', 'score': 0.999975323677063},\n {'label': 'sadness', 'score': 0.9999850988388062},\n {'label': 'sadness', 'score': 0.9999803304672241},\n {'label': 'sadness', 'score': 0.9999856948852539},\n {'label': 'joy', 'score': 0.9999821186065674},\n {'label': 'fear', 'score': 0.999961256980896},\n {'label': 'joy', 'score': 0.9999831914901733},\n {'label': 'sadness', 'score': 0.9999852180480957},\n {'label': 'anger', 'score': 0.9967723488807678},\n {'label': 'sadness', 'score': 0.9999849796295166},\n {'label': 'joy', 'score': 0.9999839067459106},\n {'label': 'sadness', 'score': 0.9999855756759644},\n {'label': 'joy', 'score': 0.9999855756759644},\n {'label': 'joy', 'score': 0.9999853372573853},\n {'label': 'joy', 'score': 0.9999828338623047},\n {'label': 'joy', 'score': 0.9999860525131226},\n {'label': 'fear', 'score': 0.9999547004699707},\n {'label': 'joy', 'score': 0.9999843835830688},\n {'label': 'love', 'score': 0.5008554458618164},\n {'label': 'joy', 'score': 0.999984622001648},\n {'label': 'joy', 'score': 0.5560518503189087},\n {'label': 'joy', 'score': 0.9999816417694092},\n {'label': 'love', 'score': 0.9999394416809082},\n {'label': 'surprise', 'score': 0.6322672367095947},\n {'label': 'sadness', 'score': 0.999984622001648},\n {'label': 'joy', 'score': 0.9999861717224121},\n {'label': 'anger', 'score': 0.9999749660491943},\n {'label': 'sadness', 'score': 0.9999792575836182},\n {'label': 'fear', 'score': 0.9999607801437378},\n {'label': 'joy', 'score': 0.9999850988388062},\n {'label': 'sadness', 'score': 0.9540889859199524},\n {'label': 'fear', 'score': 0.9999613761901855},\n {'label': 'joy', 'score': 0.9999610185623169},\n {'label': 'joy', 'score': 0.9999847412109375},\n {'label': 'anger', 'score': 0.999977707862854},\n {'label': 'joy', 'score': 0.9999854564666748},\n {'label': 'joy', 'score': 0.9999791383743286},\n {'label': 'joy', 'score': 0.9999860525131226},\n {'label': 'anger', 'score': 0.9999773502349854},\n {'label': 'joy', 'score': 0.9999865293502808},\n {'label': 'love', 'score': 0.9999403953552246},\n {'label': 'joy', 'score': 0.9981077909469604},\n {'label': 'joy', 'score': 0.9999854564666748},\n {'label': 'joy', 'score': 0.9999853372573853},\n {'label': 'anger', 'score': 0.9987610578536987},\n {'label': 'joy', 'score': 0.9999852180480957},\n {'label': 'anger', 'score': 0.9999756813049316},\n {'label': 'joy', 'score': 0.9999861717224121},\n {'label': 'anger', 'score': 0.999297022819519},\n {'label': 'anger', 'score': 0.9999771118164062},\n {'label': 'joy', 'score': 0.9999865293502808},\n {'label': 'anger', 'score': 0.9999767541885376},\n {'label': 'anger', 'score': 0.9999759197235107},\n {'label': 'fear', 'score': 0.9999604225158691},\n {'label': 'sadness', 'score': 0.9999867677688599},\n {'label': 'anger', 'score': 0.9999703168869019},\n {'label': 'love', 'score': 0.9999414682388306},\n {'label': 'fear', 'score': 0.9999477863311768},\n {'label': 'joy', 'score': 0.9999821186065674},\n {'label': 'love', 'score': 0.9999287128448486},\n {'label': 'sadness', 'score': 0.9999849796295166},\n {'label': 'anger', 'score': 0.999962329864502},\n {'label': 'joy', 'score': 0.9999866485595703},\n {'label': 'love', 'score': 0.9999393224716187},\n {'label': 'joy', 'score': 0.9999854564666748},\n {'label': 'anger', 'score': 0.9999754428863525},\n {'label': 'joy', 'score': 0.9999865293502808},\n {'label': 'joy', 'score': 0.9999823570251465},\n {'label': 'anger', 'score': 0.9999313354492188},\n {'label': 'joy', 'score': 0.9999775886535645},\n {'label': 'joy', 'score': 0.9999605417251587},\n {'label': 'joy', 'score': 0.9999865293502808},\n {'label': 'surprise', 'score': 0.9999039173126221},\n {'label': 'joy', 'score': 0.9999827146530151},\n {'label': 'sadness', 'score': 0.9999853372573853},\n {'label': 'love', 'score': 0.9999419450759888},\n {'label': 'sadness', 'score': 0.9999861717224121},\n {'label': 'joy', 'score': 0.9999798536300659},\n {'label': 'love', 'score': 0.9999375343322754},\n {'label': 'sadness', 'score': 0.999984622001648},\n {'label': 'fear', 'score': 0.7927494049072266},\n {'label': 'love', 'score': 0.9999327659606934},\n {'label': 'joy', 'score': 0.9999845027923584},\n {'label': 'joy', 'score': 0.9999865293502808},\n {'label': 'sadness', 'score': 0.9999845027923584},\n {'label': 'joy', 'score': 0.9999861717224121},\n {'label': 'anger', 'score': 0.9999744892120361},\n {'label': 'joy', 'score': 0.9999821186065674},\n {'label': 'sadness', 'score': 0.9999821186065674},\n {'label': 'joy', 'score': 0.9999852180480957},\n {'label': 'sadness', 'score': 0.9999861717224121},\n {'label': 'love', 'score': 0.9999381303787231},\n {'label': 'fear', 'score': 0.9999315738677979},\n {'label': 'joy', 'score': 0.9984190464019775},\n {'label': 'fear', 'score': 0.9951731562614441},\n {'label': 'anger', 'score': 0.9999680519104004},\n {'label': 'anger', 'score': 0.9998186230659485},\n {'label': 'fear', 'score': 0.9999626874923706},\n {'label': 'joy', 'score': 0.9999765157699585},\n {'label': 'fear', 'score': 0.9999557733535767},\n {'label': 'anger', 'score': 0.9999773502349854},\n {'label': 'sadness', 'score': 0.999977707862854},\n {'label': 'sadness', 'score': 0.9999836683273315},\n {'label': 'love', 'score': 0.9999381303787231},\n {'label': 'joy', 'score': 0.9999843835830688},\n {'label': 'joy', 'score': 0.9999748468399048},\n {'label': 'joy', 'score': 0.999984860420227},\n {'label': 'anger', 'score': 0.9999700784683228},\n {'label': 'anger', 'score': 0.9999731779098511},\n {'label': 'joy', 'score': 0.9999847412109375},\n {'label': 'love', 'score': 0.9997746348381042},\n {'label': 'joy', 'score': 0.9999865293502808},\n {'label': 'anger', 'score': 0.9999573230743408},\n {'label': 'sadness', 'score': 0.9999747276306152},\n {'label': 'surprise', 'score': 0.999900221824646},\n {'label': 'love', 'score': 0.9999347925186157},\n {'label': 'sadness', 'score': 0.9999845027923584},\n {'label': 'sadness', 'score': 0.9999796152114868},\n {'label': 'sadness', 'score': 0.9999847412109375},\n {'label': 'surprise', 'score': 0.9997060894966125},\n {'label': 'joy', 'score': 0.9999841451644897},\n {'label': 'sadness', 'score': 0.9999858140945435},\n {'label': 'sadness', 'score': 0.9999845027923584},\n {'label': 'sadness', 'score': 0.9999842643737793},\n {'label': 'sadness', 'score': 0.9999818801879883},\n {'label': 'joy', 'score': 0.9999810457229614},\n {'label': 'sadness', 'score': 0.9999864101409912},\n {'label': 'sadness', 'score': 0.9999850988388062},\n {'label': 'surprise', 'score': 0.9998049139976501},\n {'label': 'love', 'score': 0.9999353885650635},\n {'label': 'sadness', 'score': 0.9999849796295166},\n {'label': 'anger', 'score': 0.9999780654907227},\n {'label': 'joy', 'score': 0.9999867677688599},\n {'label': 'joy', 'score': 0.9999867677688599},\n {'label': 'joy', 'score': 0.9999853372573853},\n {'label': 'joy', 'score': 0.9999853372573853},\n {'label': 'joy', 'score': 0.9999822378158569},\n {'label': 'joy', 'score': 0.9999841451644897},\n {'label': 'joy', 'score': 0.999985933303833},\n {'label': 'anger', 'score': 0.9999724626541138},\n {'label': 'sadness', 'score': 0.999983549118042},\n {'label': 'sadness', 'score': 0.9999849796295166},\n {'label': 'fear', 'score': 0.9999616146087646},\n {'label': 'anger', 'score': 0.999977707862854},\n {'label': 'joy', 'score': 0.9999860525131226},\n {'label': 'joy', 'score': 0.9999850988388062},\n {'label': 'sadness', 'score': 0.9999825954437256},\n {'label': 'fear', 'score': 0.9999542236328125},\n {'label': 'sadness', 'score': 0.9999847412109375},\n {'label': 'sadness', 'score': 0.9999862909317017},\n {'label': 'sadness', 'score': 0.999985933303833},\n {'label': 'fear', 'score': 0.9999516010284424},\n {'label': 'love', 'score': 0.9999362230300903},\n {'label': 'fear', 'score': 0.9974633455276489},\n {'label': 'love', 'score': 0.9994841814041138},\n {'label': 'sadness', 'score': 0.9999831914901733},\n {'label': 'sadness', 'score': 0.9999586343765259},\n {'label': 'anger', 'score': 0.9999780654907227},\n {'label': 'sadness', 'score': 0.9999840259552002},\n {'label': 'sadness', 'score': 0.9999852180480957},\n {'label': 'sadness', 'score': 0.9999843835830688},\n {'label': 'joy', 'score': 0.9999860525131226},\n {'label': 'sadness', 'score': 0.9999825954437256},\n {'label': 'anger', 'score': 0.999975323677063},\n {'label': 'sadness', 'score': 0.9999855756759644},\n {'label': 'anger', 'score': 0.9999783039093018},\n {'label': 'sadness', 'score': 0.9999759197235107},\n {'label': 'sadness', 'score': 0.9999850988388062},\n {'label': 'love', 'score': 0.9999414682388306},\n {'label': 'anger', 'score': 0.9999732971191406},\n {'label': 'love', 'score': 0.9999382495880127},\n {'label': 'joy', 'score': 0.9999780654907227},\n {'label': 'joy', 'score': 0.9999865293502808},\n {'label': 'sadness', 'score': 0.9999849796295166},\n {'label': 'love', 'score': 0.9999418258666992},\n {'label': 'fear', 'score': 0.9999659061431885},\n {'label': 'joy', 'score': 0.999984860420227},\n {'label': 'sadness', 'score': 0.9999845027923584},\n {'label': 'fear', 'score': 0.9981470108032227},\n {'label': 'joy', 'score': 0.9999794960021973},\n {'label': 'sadness', 'score': 0.9999855756759644},\n {'label': 'sadness', 'score': 0.9999852180480957},\n {'label': 'joy', 'score': 0.9999845027923584},\n {'label': 'love', 'score': 0.9999381303787231},\n {'label': 'sadness', 'score': 0.9999828338623047},\n {'label': 'joy', 'score': 0.9997017979621887},\n {'label': 'sadness', 'score': 0.9999792575836182},\n {'label': 'surprise', 'score': 0.999900221824646},\n {'label': 'love', 'score': 0.9999418258666992},\n {'label': 'sadness', 'score': 0.9999858140945435},\n {'label': 'fear', 'score': 0.9999504089355469},\n {'label': 'surprise', 'score': 0.9998407363891602},\n {'label': 'sadness', 'score': 0.999984622001648},\n {'label': 'joy', 'score': 0.9999866485595703},\n {'label': 'love', 'score': 0.999937891960144},\n {'label': 'anger', 'score': 0.9913747906684875},\n {'label': 'love', 'score': 0.9999397993087769},\n {'label': 'sadness', 'score': 0.9999724626541138},\n {'label': 'surprise', 'score': 0.9998852014541626},\n {'label': 'love', 'score': 0.9999403953552246},\n {'label': 'sadness', 'score': 0.9999265670776367},\n {'label': 'sadness', 'score': 0.9999861717224121},\n {'label': 'joy', 'score': 0.9956455826759338},\n {'label': 'fear', 'score': 0.9544585347175598},\n {'label': 'joy', 'score': 0.9999861717224121},\n {'label': 'joy', 'score': 0.9999868869781494},\n {'label': 'fear', 'score': 0.9999635219573975},\n {'label': 'sadness', 'score': 0.9999853372573853},\n {'label': 'fear', 'score': 0.9999620914459229},\n {'label': 'sadness', 'score': 0.9999862909317017},\n {'label': 'anger', 'score': 0.9999704360961914},\n {'label': 'sadness', 'score': 0.9999812841415405},\n {'label': 'sadness', 'score': 0.9999854564666748},\n {'label': 'sadness', 'score': 0.9999854564666748},\n {'label': 'anger', 'score': 0.9999779462814331},\n {'label': 'sadness', 'score': 0.9999771118164062},\n {'label': 'love', 'score': 0.9999369382858276},\n {'label': 'sadness', 'score': 0.9999860525131226},\n {'label': 'joy', 'score': 0.9992794394493103},\n {'label': 'joy', 'score': 0.9999850988388062},\n {'label': 'surprise', 'score': 0.9998965263366699},\n {'label': 'joy', 'score': 0.9999853372573853},\n {'label': 'sadness', 'score': 0.9999854564666748},\n {'label': 'sadness', 'score': 0.9999849796295166},\n {'label': 'joy', 'score': 0.9999865293502808},\n {'label': 'love', 'score': 0.9990195035934448},\n {'label': 'joy', 'score': 0.9999852180480957},\n {'label': 'anger', 'score': 0.999975323677063},\n {'label': 'love', 'score': 0.9985297918319702},\n {'label': 'joy', 'score': 0.99997878074646},\n {'label': 'joy', 'score': 0.9999842643737793},\n {'label': 'joy', 'score': 0.9999849796295166},\n {'label': 'joy', 'score': 0.9999847412109375},\n {'label': 'sadness', 'score': 0.9999858140945435},\n {'label': 'sadness', 'score': 0.9999839067459106},\n {'label': 'joy', 'score': 0.9999866485595703},\n {'label': 'fear', 'score': 0.9994420409202576},\n {'label': 'anger', 'score': 0.9999761581420898},\n {'label': 'sadness', 'score': 0.9999806880950928},\n {'label': 'anger', 'score': 0.9999781847000122},\n {'label': 'sadness', 'score': 0.9999855756759644},\n {'label': 'sadness', 'score': 0.9999852180480957},\n {'label': 'joy', 'score': 0.9999847412109375},\n {'label': 'joy', 'score': 0.9999850988388062},\n {'label': 'surprise', 'score': 0.9998887777328491},\n {'label': 'joy', 'score': 0.9999748468399048},\n {'label': 'joy', 'score': 0.9999716281890869},\n {'label': 'joy', 'score': 0.9999853372573853},\n {'label': 'anger', 'score': 0.9999747276306152},\n {'label': 'fear', 'score': 0.9999641180038452},\n {'label': 'sadness', 'score': 0.9999762773513794},\n {'label': 'joy', 'score': 0.9999843835830688},\n {'label': 'sadness', 'score': 0.9999765157699585},\n {'label': 'fear', 'score': 0.9998447895050049},\n {'label': 'fear', 'score': 0.9999512434005737},\n {'label': 'joy', 'score': 0.9999849796295166},\n {'label': 'fear', 'score': 0.999956488609314},\n {'label': 'love', 'score': 0.9999412298202515},\n {'label': 'anger', 'score': 0.9999774694442749},\n {'label': 'joy', 'score': 0.9999861717224121},\n {'label': 'anger', 'score': 0.9999724626541138},\n {'label': 'joy', 'score': 0.9999537467956543},\n {'label': 'sadness', 'score': 0.9999858140945435},\n {'label': 'joy', 'score': 0.9999860525131226},\n {'label': 'fear', 'score': 0.9999517202377319},\n {'label': 'sadness', 'score': 0.9999860525131226},\n {'label': 'joy', 'score': 0.9999860525131226},\n {'label': 'sadness', 'score': 0.9999790191650391},\n {'label': 'sadness', 'score': 0.9999788999557495},\n {'label': 'anger', 'score': 0.9997158646583557},\n {'label': 'joy', 'score': 0.9999805688858032},\n {'label': 'love', 'score': 0.9999425411224365},\n {'label': 'sadness', 'score': 0.9999849796295166},\n {'label': 'sadness', 'score': 0.9999849796295166},\n {'label': 'love', 'score': 0.9999409914016724},\n {'label': 'anger', 'score': 0.9999750852584839},\n {'label': 'love', 'score': 0.9999397993087769},\n {'label': 'love', 'score': 0.9999312162399292},\n {'label': 'love', 'score': 0.997344434261322},\n {'label': 'joy', 'score': 0.9999849796295166},\n {'label': 'sadness', 'score': 0.9772023558616638},\n {'label': 'love', 'score': 0.9999394416809082},\n {'label': 'joy', 'score': 0.9999865293502808},\n {'label': 'joy', 'score': 0.9999850988388062},\n {'label': 'joy', 'score': 0.9999822378158569},\n {'label': 'anger', 'score': 0.9999738931655884},\n {'label': 'love', 'score': 0.9997736811637878},\n {'label': 'love', 'score': 0.9999375343322754},\n {'label': 'sadness', 'score': 0.999982476234436},\n {'label': 'surprise', 'score': 0.9997541308403015},\n {'label': 'joy', 'score': 0.9999829530715942},\n {'label': 'joy', 'score': 0.9999856948852539},\n {'label': 'joy', 'score': 0.9999858140945435},\n {'label': 'joy', 'score': 0.9999802112579346},\n {'label': 'sadness', 'score': 0.9999852180480957},\n {'label': 'love', 'score': 0.9999277591705322},\n {'label': 'joy', 'score': 0.9999771118164062},\n {'label': 'sadness', 'score': 0.9999833106994629},\n {'label': 'joy', 'score': 0.9999852180480957},\n {'label': 'love', 'score': 0.9963935017585754},\n {'label': 'fear', 'score': 0.9999639987945557},\n {'label': 'fear', 'score': 0.946937084197998},\n {'label': 'sadness', 'score': 0.999982476234436},\n {'label': 'joy', 'score': 0.9999860525131226},\n {'label': 'sadness', 'score': 0.9999861717224121},\n {'label': 'fear', 'score': 0.9999610185623169},\n {'label': 'sadness', 'score': 0.9999840259552002},\n {'label': 'fear', 'score': 0.999955415725708},\n {'label': 'joy', 'score': 0.9999780654907227},\n {'label': 'sadness', 'score': 0.9999840259552002},\n {'label': 'sadness', 'score': 0.9999841451644897},\n {'label': 'anger', 'score': 0.9999622106552124},\n {'label': 'sadness', 'score': 0.9999860525131226},\n {'label': 'joy', 'score': 0.9999854564666748},\n {'label': 'love', 'score': 0.9999392032623291},\n {'label': 'anger', 'score': 0.9999759197235107},\n {'label': 'joy', 'score': 0.999980092048645},\n {'label': 'joy', 'score': 0.9999843835830688},\n {'label': 'sadness', 'score': 0.9999854564666748},\n {'label': 'joy', 'score': 0.9997944235801697},\n {'label': 'anger', 'score': 0.9999679327011108},\n {'label': 'sadness', 'score': 0.9999853372573853},\n {'label': 'anger', 'score': 0.9999773502349854},\n {'label': 'joy', 'score': 0.999984860420227},\n {'label': 'joy', 'score': 0.9999849796295166},\n {'label': 'anger', 'score': 0.9999750852584839},\n {'label': 'anger', 'score': 0.9999735355377197},\n {'label': 'fear', 'score': 0.9999619722366333},\n {'label': 'sadness', 'score': 0.999971866607666},\n {'label': 'anger', 'score': 0.9999762773513794},\n {'label': 'joy', 'score': 0.999987006187439},\n {'label': 'joy', 'score': 0.9999842643737793},\n {'label': 'fear', 'score': 0.9999560117721558},\n {'label': 'joy', 'score': 0.9999582767486572},\n {'label': 'fear', 'score': 0.9999568462371826},\n {'label': 'sadness', 'score': 0.9999854564666748},\n {'label': 'surprise', 'score': 0.9998775720596313},\n {'label': 'joy', 'score': 0.9999866485595703},\n {'label': 'joy', 'score': 0.9999803304672241},\n {'label': 'anger', 'score': 0.9921587705612183},\n {'label': 'sadness', 'score': 0.9999822378158569},\n {'label': 'joy', 'score': 0.9999866485595703},\n {'label': 'fear', 'score': 0.9999655485153198},\n {'label': 'sadness', 'score': 0.9999858140945435},\n {'label': 'anger', 'score': 0.9976164102554321},\n {'label': 'anger', 'score': 0.9999774694442749},\n {'label': 'joy', 'score': 0.9999853372573853},\n {'label': 'surprise', 'score': 0.9997662901878357},\n {'label': 'sadness', 'score': 0.9999831914901733},\n {'label': 'sadness', 'score': 0.9999837875366211},\n {'label': 'sadness', 'score': 0.9999853372573853},\n {'label': 'sadness', 'score': 0.9999791383743286},\n {'label': 'joy', 'score': 0.9999864101409912},\n {'label': 'joy', 'score': 0.9999855756759644},\n {'label': 'surprise', 'score': 0.9998897314071655},\n {'label': 'joy', 'score': 0.9999839067459106},\n {'label': 'joy', 'score': 0.9999850988388062},\n {'label': 'joy', 'score': 0.9999843835830688},\n {'label': 'anger', 'score': 0.9999748468399048},\n {'label': 'sadness', 'score': 0.9999805688858032},\n {'label': 'joy', 'score': 0.9999778270721436},\n {'label': 'joy', 'score': 0.9994388222694397},\n {'label': 'surprise', 'score': 0.9998880624771118},\n {'label': 'fear', 'score': 0.9999611377716064},\n {'label': 'joy', 'score': 0.9999842643737793},\n {'label': 'fear', 'score': 0.9999657869338989},\n {'label': 'anger', 'score': 0.9999771118164062},\n {'label': 'joy', 'score': 0.9999858140945435},\n {'label': 'anger', 'score': 0.999976634979248},\n {'label': 'joy', 'score': 0.9999861717224121},\n {'label': 'anger', 'score': 0.9999752044677734},\n {'label': 'sadness', 'score': 0.9999841451644897},\n {'label': 'sadness', 'score': 0.9999861717224121},\n {'label': 'joy', 'score': 0.9999819993972778},\n {'label': 'fear', 'score': 0.999958872795105},\n {'label': 'sadness', 'score': 0.9999842643737793},\n {'label': 'joy', 'score': 0.9999862909317017},\n {'label': 'joy', 'score': 0.9999854564666748},\n {'label': 'joy', 'score': 0.9999861717224121},\n {'label': 'sadness', 'score': 0.9999831914901733},\n {'label': 'joy', 'score': 0.9999845027923584},\n {'label': 'anger', 'score': 0.9999721050262451},\n {'label': 'surprise', 'score': 0.9999006986618042},\n {'label': 'sadness', 'score': 0.9999854564666748},\n {'label': 'sadness', 'score': 0.9999856948852539},\n {'label': 'sadness', 'score': 0.9999834299087524},\n {'label': 'joy', 'score': 0.9999860525131226},\n {'label': 'sadness', 'score': 0.9999864101409912},\n {'label': 'sadness', 'score': 0.9999815225601196},\n {'label': 'anger', 'score': 0.9921504259109497},\n {'label': 'joy', 'score': 0.9999858140945435},\n {'label': 'sadness', 'score': 0.999984622001648},\n {'label': 'surprise', 'score': 0.8586851954460144},\n {'label': 'anger', 'score': 0.9999759197235107},\n {'label': 'sadness', 'score': 0.9999667406082153},\n {'label': 'joy', 'score': 0.9999748468399048},\n {'label': 'surprise', 'score': 0.999900221824646},\n {'label': 'joy', 'score': 0.9999843835830688},\n {'label': 'sadness', 'score': 0.9999853372573853},\n {'label': 'fear', 'score': 0.9999600648880005},\n {'label': 'sadness', 'score': 0.9999850988388062},\n {'label': 'joy', 'score': 0.999984622001648},\n {'label': 'joy', 'score': 0.9999855756759644},\n {'label': 'love', 'score': 0.999941349029541},\n {'label': 'joy', 'score': 0.9999867677688599},\n {'label': 'joy', 'score': 0.9999862909317017},\n {'label': 'sadness', 'score': 0.9999830722808838},\n {'label': 'sadness', 'score': 0.9999803304672241},\n {'label': 'joy', 'score': 0.9999849796295166},\n {'label': 'anger', 'score': 0.9999785423278809},\n {'label': 'joy', 'score': 0.9999837875366211},\n {'label': 'sadness', 'score': 0.9999790191650391},\n {'label': 'joy', 'score': 0.9999825954437256},\n {'label': 'joy', 'score': 0.9999842643737793},\n {'label': 'joy', 'score': 0.999961256980896},\n {'label': 'anger', 'score': 0.9999738931655884},\n {'label': 'anger', 'score': 0.9999755620956421},\n {'label': 'joy', 'score': 0.9999823570251465},\n {'label': 'sadness', 'score': 0.9999842643737793},\n {'label': 'joy', 'score': 0.9999854564666748},\n {'label': 'sadness', 'score': 0.9999827146530151},\n {'label': 'joy', 'score': 0.9999866485595703},\n {'label': 'anger', 'score': 0.9999772310256958},\n {'label': 'love', 'score': 0.9999376535415649},\n {'label': 'anger', 'score': 0.9999722242355347},\n {'label': 'sadness', 'score': 0.9999860525131226},\n {'label': 'joy', 'score': 0.9999866485595703},\n {'label': 'sadness', 'score': 0.9999836683273315},\n {'label': 'joy', 'score': 0.9999849796295166},\n {'label': 'joy', 'score': 0.9999843835830688},\n {'label': 'fear', 'score': 0.9999620914459229},\n {'label': 'surprise', 'score': 0.6341376900672913},\n {'label': 'joy', 'score': 0.9999823570251465},\n {'label': 'sadness', 'score': 0.9999862909317017},\n {'label': 'joy', 'score': 0.9999852180480957},\n {'label': 'sadness', 'score': 0.999984860420227},\n {'label': 'joy', 'score': 0.9999858140945435},\n {'label': 'sadness', 'score': 0.9999761581420898},\n {'label': 'sadness', 'score': 0.9999840259552002},\n {'label': 'joy', 'score': 0.9999849796295166},\n {'label': 'anger', 'score': 0.9999603033065796},\n {'label': 'sadness', 'score': 0.9999868869781494},\n {'label': 'sadness', 'score': 0.9919716119766235},\n {'label': 'fear', 'score': 0.9999610185623169},\n {'label': 'joy', 'score': 0.9999849796295166},\n {'label': 'joy', 'score': 0.9999842643737793},\n {'label': 'anger', 'score': 0.9999758005142212},\n {'label': 'fear', 'score': 0.999962568283081},\n {'label': 'joy', 'score': 0.9999862909317017},\n {'label': 'sadness', 'score': 0.9988324046134949},\n {'label': 'joy', 'score': 0.9999865293502808},\n {'label': 'sadness', 'score': 0.9999847412109375},\n {'label': 'sadness', 'score': 0.999985933303833},\n {'label': 'sadness', 'score': 0.9999823570251465},\n {'label': 'joy', 'score': 0.9999858140945435},\n {'label': 'joy', 'score': 0.9999854564666748},\n {'label': 'sadness', 'score': 0.9913253784179688},\n {'label': 'joy', 'score': 0.999984860420227},\n {'label': 'joy', 'score': 0.9999861717224121},\n {'label': 'love', 'score': 0.9999403953552246},\n {'label': 'joy', 'score': 0.9999853372573853},\n {'label': 'joy', 'score': 0.9999772310256958},\n {'label': 'joy', 'score': 0.9999847412109375},\n {'label': 'joy', 'score': 0.9999829530715942},\n {'label': 'love', 'score': 0.9999377727508545},\n {'label': 'sadness', 'score': 0.9999854564666748},\n {'label': 'anger', 'score': 0.9999780654907227},\n {'label': 'anger', 'score': 0.9999738931655884},\n {'label': 'fear', 'score': 0.9999650716781616},\n {'label': 'fear', 'score': 0.9998964071273804},\n {'label': 'joy', 'score': 0.9999849796295166},\n {'label': 'joy', 'score': 0.9999856948852539},\n {'label': 'joy', 'score': 0.9999818801879883},\n {'label': 'love', 'score': 0.9999431371688843},\n {'label': 'joy', 'score': 0.999985933303833},\n {'label': 'joy', 'score': 0.9999806880950928},\n {'label': 'sadness', 'score': 0.9999774694442749},\n {'label': 'sadness', 'score': 0.9999845027923584},\n {'label': 'fear', 'score': 0.99996018409729},\n {'label': 'sadness', 'score': 0.9999809265136719},\n {'label': 'fear', 'score': 0.9665371775627136},\n {'label': 'sadness', 'score': 0.9999852180480957},\n {'label': 'sadness', 'score': 0.9999853372573853},\n {'label': 'joy', 'score': 0.9999853372573853},\n {'label': 'sadness', 'score': 0.9999847412109375},\n {'label': 'sadness', 'score': 0.9999845027923584},\n {'label': 'joy', 'score': 0.9999624490737915},\n {'label': 'sadness', 'score': 0.9999825954437256},\n {'label': 'fear', 'score': 0.9999597072601318},\n {'label': 'sadness', 'score': 0.999984860420227},\n {'label': 'joy', 'score': 0.9999861717224121},\n {'label': 'joy', 'score': 0.999984622001648},\n {'label': 'joy', 'score': 0.9999861717224121},\n {'label': 'anger', 'score': 0.9999786615371704},\n {'label': 'love', 'score': 0.999834418296814},\n {'label': 'sadness', 'score': 0.9999839067459106},\n {'label': 'joy', 'score': 0.9999865293502808},\n {'label': 'joy', 'score': 0.9904155731201172},\n {'label': 'joy', 'score': 0.9999864101409912},\n {'label': 'sadness', 'score': 0.9999760389328003},\n {'label': 'joy', 'score': 0.9999836683273315},\n {'label': 'anger', 'score': 0.999975323677063},\n {'label': 'love', 'score': 0.9999405145645142},\n {'label': 'love', 'score': 0.9999332427978516},\n {'label': 'sadness', 'score': 0.9999847412109375},\n {'label': 'love', 'score': 0.9991487264633179},\n {'label': 'anger', 'score': 0.999976396560669},\n {'label': 'joy', 'score': 0.9999861717224121},\n {'label': 'joy', 'score': 0.9999845027923584},\n {'label': 'fear', 'score': 0.9999544620513916},\n {'label': 'sadness', 'score': 0.9999858140945435},\n {'label': 'anger', 'score': 0.9999635219573975},\n {'label': 'anger', 'score': 0.9999727010726929},\n {'label': 'joy', 'score': 0.9999821186065674},\n {'label': 'anger', 'score': 0.9999767541885376},\n {'label': 'joy', 'score': 0.9999831914901733},\n {'label': 'joy', 'score': 0.9999842643737793},\n {'label': 'love', 'score': 0.9999366998672485},\n {'label': 'joy', 'score': 0.999967098236084},\n {'label': 'joy', 'score': 0.999985933303833},\n {'label': 'love', 'score': 0.9998633861541748},\n {'label': 'sadness', 'score': 0.9999834299087524},\n {'label': 'sadness', 'score': 0.999981164932251},\n {'label': 'joy', 'score': 0.999984860420227},\n {'label': 'joy', 'score': 0.9479060173034668},\n {'label': 'sadness', 'score': 0.999984860420227},\n {'label': 'joy', 'score': 0.9999864101409912},\n {'label': 'anger', 'score': 0.999977707862854},\n {'label': 'sadness', 'score': 0.9999854564666748},\n {'label': 'sadness', 'score': 0.9999840259552002},\n {'label': 'sadness', 'score': 0.9999849796295166},\n {'label': 'love', 'score': 0.999940037727356},\n {'label': 'anger', 'score': 0.9999781847000122},\n {'label': 'sadness', 'score': 0.9999865293502808},\n {'label': 'fear', 'score': 0.9999634027481079},\n {'label': 'sadness', 'score': 0.9999843835830688},\n {'label': 'joy', 'score': 0.9999818801879883},\n {'label': 'love', 'score': 0.9999399185180664},\n {'label': 'sadness', 'score': 0.9999793767929077},\n {'label': 'joy', 'score': 0.9999858140945435},\n {'label': 'joy', 'score': 0.9999855756759644},\n {'label': 'surprise', 'score': 0.9998854398727417},\n {'label': 'joy', 'score': 0.9999860525131226},\n {'label': 'joy', 'score': 0.9999855756759644},\n {'label': 'joy', 'score': 0.9999850988388062},\n {'label': 'surprise', 'score': 0.9998984336853027},\n {'label': 'sadness', 'score': 0.9999853372573853},\n {'label': 'surprise', 'score': 0.9998986721038818},\n {'label': 'joy', 'score': 0.9999690055847168},\n {'label': 'joy', 'score': 0.9999862909317017},\n {'label': 'fear', 'score': 0.9999667406082153},\n {'label': 'fear', 'score': 0.9999459981918335},\n {'label': 'joy', 'score': 0.9999641180038452},\n {'label': 'sadness', 'score': 0.9999849796295166},\n {'label': 'sadness', 'score': 0.9999852180480957},\n {'label': 'love', 'score': 0.9998958110809326},\n {'label': 'joy', 'score': 0.9999852180480957},\n {'label': 'joy', 'score': 0.9999867677688599},\n {'label': 'love', 'score': 0.9958664178848267},\n {'label': 'joy', 'score': 0.9957852959632874},\n {'label': 'fear', 'score': 0.9999608993530273},\n {'label': 'joy', 'score': 0.999984622001648},\n {'label': 'joy', 'score': 0.9999504089355469},\n {'label': 'joy', 'score': 0.9999850988388062},\n {'label': 'joy', 'score': 0.9999853372573853},\n {'label': 'anger', 'score': 0.9999756813049316},\n {'label': 'joy', 'score': 0.9999855756759644},\n {'label': 'sadness', 'score': 0.9999840259552002},\n {'label': 'sadness', 'score': 0.9999841451644897},\n {'label': 'sadness', 'score': 0.9999862909317017},\n {'label': 'sadness', 'score': 0.9999821186065674},\n {'label': 'joy', 'score': 0.999985933303833},\n {'label': 'fear', 'score': 0.999962329864502},\n {'label': 'anger', 'score': 0.999977707862854},\n {'label': 'joy', 'score': 0.9999847412109375},\n {'label': 'joy', 'score': 0.999984860420227},\n {'label': 'joy', 'score': 0.9999861717224121},\n {'label': 'anger', 'score': 0.9999748468399048},\n {'label': 'joy', 'score': 0.9999855756759644},\n {'label': 'joy', 'score': 0.9999850988388062},\n {'label': 'joy', 'score': 0.9999864101409912},\n {'label': 'sadness', 'score': 0.9999842643737793},\n {'label': 'love', 'score': 0.9999353885650635},\n {'label': 'joy', 'score': 0.9999864101409912},\n {'label': 'sadness', 'score': 0.9999769926071167},\n {'label': 'anger', 'score': 0.9999749660491943},\n {'label': 'love', 'score': 0.9998940229415894},\n {'label': 'joy', 'score': 0.9999860525131226},\n {'label': 'joy', 'score': 0.9923607707023621},\n {'label': 'love', 'score': 0.9999196529388428},\n {'label': 'love', 'score': 0.9999407529830933},\n {'label': 'joy', 'score': 0.6640162467956543},\n {'label': 'sadness', 'score': 0.9999785423278809},\n {'label': 'sadness', 'score': 0.9999854564666748},\n {'label': 'joy', 'score': 0.9999860525131226},\n {'label': 'fear', 'score': 0.9999538660049438},\n {'label': 'sadness', 'score': 0.9999852180480957},\n {'label': 'sadness', 'score': 0.9999723434448242},\n {'label': 'joy', 'score': 0.9999867677688599},\n {'label': 'sadness', 'score': 0.9999847412109375},\n {'label': 'sadness', 'score': 0.9999840259552002},\n {'label': 'surprise', 'score': 0.9794782400131226},\n {'label': 'joy', 'score': 0.9999866485595703},\n {'label': 'love', 'score': 0.9999334812164307},\n {'label': 'sadness', 'score': 0.9999843835830688},\n {'label': 'anger', 'score': 0.9999728202819824},\n {'label': 'sadness', 'score': 0.9999812841415405},\n {'label': 'sadness', 'score': 0.9999843835830688},\n {'label': 'love', 'score': 0.9999332427978516},\n {'label': 'anger', 'score': 0.9999774694442749},\n {'label': 'fear', 'score': 0.9999456405639648},\n {'label': 'sadness', 'score': 0.9999850988388062},\n {'label': 'anger', 'score': 0.9999727010726929},\n {'label': 'joy', 'score': 0.9999842643737793},\n {'label': 'fear', 'score': 0.9999605417251587},\n ...]"
     },
     "execution_count": 11,
     "metadata": {},
     "output_type": "execute_result"
    }
   ],
   "source": [
    "pred_val = classifier(ds['validate']['sentence'])\n",
    "pred_val"
   ],
   "metadata": {
    "collapsed": false,
    "ExecuteTime": {
     "end_time": "2024-03-26T12:07:27.098Z",
     "start_time": "2024-03-26T12:07:18.755615Z"
    }
   },
   "execution_count": 11
  },
  {
   "cell_type": "code",
   "outputs": [],
   "source": [
    "validated_df = ds_dict['validate'].copy(deep=True)\n",
    "validated_df['predicted'] = [i['label'] for i in pred_val]\n",
    "validated_df['label'] = validated_df['label'].map(reversed_target_map)\n",
    "validated_df.to_csv(f'{trained_model_path}/validated.csv', index=False)"
   ],
   "metadata": {
    "collapsed": false,
    "ExecuteTime": {
     "end_time": "2024-03-26T12:07:27.114391Z",
     "start_time": "2024-03-26T12:07:27.098Z"
    }
   },
   "execution_count": 12
  },
  {
   "cell_type": "code",
   "execution_count": 13,
   "metadata": {
    "colab": {
     "background_save": true
    },
    "id": "_CxvThDhpqJ3",
    "ExecuteTime": {
     "end_time": "2024-03-26T12:07:27.279026Z",
     "start_time": "2024-03-26T12:07:27.114391Z"
    }
   },
   "outputs": [
    {
     "name": "stdout",
     "output_type": "stream",
     "text": [
      "acc: 0.9375\n",
      "f1: 0.911665087883641\n"
     ]
    },
    {
     "data": {
      "text/plain": "<Figure size 640x480 with 2 Axes>",
      "image/png": "[encoded data removed]"
     },
     "metadata": {},
     "output_type": "display_data"
    }
   ],
   "source": [
    "print(\"acc:\", accuracy_score(validated_df['label'], validated_df['predicted']))\n",
    "print(\"f1:\", f1_score(validated_df['label'], validated_df['predicted'], average='macro'))\n",
    "\n",
    "def plot_cm(cm):\n",
    "    classes = list(target_map.keys())\n",
    "    df_cm = pd.DataFrame(cm, index=classes, columns=classes)\n",
    "    ax = sn.heatmap(df_cm, annot=True, fmt='.2g')\n",
    "    ax.set_xlabel(\"Predicted\")\n",
    "    ax.set_ylabel(\"Target\")\n",
    "\n",
    "cm = confusion_matrix(validated_df['label'], validated_df['predicted'], normalize='true')\n",
    "plot_cm(cm)"
   ]
  },
  {
   "cell_type": "raw",
   "source": [
    "## Convert to csv and convert labels to int values (optional, need to be performed only once)\n",
    "def txt_to_csv(txt_path, out_path, sep, header, names, target_map):\n",
    "    df_ = pd.read_csv(txt_path, sep=sep, header=header, names=names)\n",
    "    df_['label'] = df_['label'].map(target_map)\n",
    "    df_.to_csv(out_path, index=False)\n",
    "    \n",
    "for k, v in files.items():\n",
    "    if v.endswith('.txt'):\n",
    "        print(f'For {k} txt was provided. Converting to csv')\n",
    "        output_file = os.path.splitext(v)[0]+'.csv'\n",
    "        txt_to_csv(v, out_path=output_file ,sep=';', header=None, names=['sentence', 'label'], target_map=target_map)"
   ],
   "metadata": {
    "collapsed": false
   }
  }
 ],
 "metadata": {
  "accelerator": "GPU",
  "colab": {
   "gpuType": "T4",
   "name": "",
   "version": ""
  },
  "kernelspec": {
   "name": "python3",
   "language": "python",
   "display_name": "Python 3 (ipykernel)"
  },
  "language_info": {
   "name": "python"
  },
  "widgets": {
   "application/vnd.jupyter.widget-state+json": {
    "0070498ddc5f46f69c33aa68336b96bf": {
     "model_module": "@jupyter-widgets/controls",
     "model_module_version": "1.5.0",
     "model_name": "HBoxModel",
     "state": {
      "_dom_classes": [],
      "_model_module": "@jupyter-widgets/controls",
      "_model_module_version": "1.5.0",
      "_model_name": "HBoxModel",
      "_view_count": null,
      "_view_module": "@jupyter-widgets/controls",
      "_view_module_version": "1.5.0",
      "_view_name": "HBoxView",
      "box_style": "",
      "children": [
       "IPY_MODEL_b8008cdd31c74f6fbebc76fa2c44f9b6",
       "IPY_MODEL_26ef565c43424ef3b44b56327348429e",
       "IPY_MODEL_a4ee33fd77cf4cf193acc9abfbae5e04"
      ],
      "layout": "IPY_MODEL_fad997b96b77462ab8c96cc47af08e0f"
     }
    },
    "050fd3f4300f4f66a634f916d47bd084": {
     "model_module": "@jupyter-widgets/controls",
     "model_module_version": "1.5.0",
     "model_name": "DescriptionStyleModel",
     "state": {
      "_model_module": "@jupyter-widgets/controls",
      "_model_module_version": "1.5.0",
      "_model_name": "DescriptionStyleModel",
      "_view_count": null,
      "_view_module": "@jupyter-widgets/base",
      "_view_module_version": "1.2.0",
      "_view_name": "StyleView",
      "description_width": ""
     }
    },
    "0a10db96a1ad49bb8beb45397c20e17a": {
     "model_module": "@jupyter-widgets/base",
     "model_module_version": "1.2.0",
     "model_name": "LayoutModel",
     "state": {
      "_model_module": "@jupyter-widgets/base",
      "_model_module_version": "1.2.0",
      "_model_name": "LayoutModel",
      "_view_count": null,
      "_view_module": "@jupyter-widgets/base",
      "_view_module_version": "1.2.0",
      "_view_name": "LayoutView",
      "align_content": null,
      "align_items": null,
      "align_self": null,
      "border": null,
      "bottom": null,
      "display": null,
      "flex": null,
      "flex_flow": null,
      "grid_area": null,
      "grid_auto_columns": null,
      "grid_auto_flow": null,
      "grid_auto_rows": null,
      "grid_column": null,
      "grid_gap": null,
      "grid_row": null,
      "grid_template_areas": null,
      "grid_template_columns": null,
      "grid_template_rows": null,
      "height": null,
      "justify_content": null,
      "justify_items": null,
      "left": null,
      "margin": null,
      "max_height": null,
      "max_width": null,
      "min_height": null,
      "min_width": null,
      "object_fit": null,
      "object_position": null,
      "order": null,
      "overflow": null,
      "overflow_x": null,
      "overflow_y": null,
      "padding": null,
      "right": null,
      "top": null,
      "visibility": null,
      "width": null
     }
    },
    "0a1f33aadbbe4feb9b263a6c40f70ff6": {
     "model_module": "@jupyter-widgets/controls",
     "model_module_version": "1.5.0",
     "model_name": "HBoxModel",
     "state": {
      "_dom_classes": [],
      "_model_module": "@jupyter-widgets/controls",
      "_model_module_version": "1.5.0",
      "_model_name": "HBoxModel",
      "_view_count": null,
      "_view_module": "@jupyter-widgets/controls",
      "_view_module_version": "1.5.0",
      "_view_name": "HBoxView",
      "box_style": "",
      "children": [
       "IPY_MODEL_36ff8d1654054798a306d8649c447746",
       "IPY_MODEL_f6abd95a41fc4245823a0267d6aa3e17",
       "IPY_MODEL_8cd2bd741faa40bda806eee2958b5435"
      ],
      "layout": "IPY_MODEL_b2fc8d223b704730addeacee191ef83f"
     }
    },
    "0aba21630f8d439baaa872c84b56b090": {
     "model_module": "@jupyter-widgets/base",
     "model_module_version": "1.2.0",
     "model_name": "LayoutModel",
     "state": {
      "_model_module": "@jupyter-widgets/base",
      "_model_module_version": "1.2.0",
      "_model_name": "LayoutModel",
      "_view_count": null,
      "_view_module": "@jupyter-widgets/base",
      "_view_module_version": "1.2.0",
      "_view_name": "LayoutView",
      "align_content": null,
      "align_items": null,
      "align_self": null,
      "border": null,
      "bottom": null,
      "display": null,
      "flex": null,
      "flex_flow": null,
      "grid_area": null,
      "grid_auto_columns": null,
      "grid_auto_flow": null,
      "grid_auto_rows": null,
      "grid_column": null,
      "grid_gap": null,
      "grid_row": null,
      "grid_template_areas": null,
      "grid_template_columns": null,
      "grid_template_rows": null,
      "height": null,
      "justify_content": null,
      "justify_items": null,
      "left": null,
      "margin": null,
      "max_height": null,
      "max_width": null,
      "min_height": null,
      "min_width": null,
      "object_fit": null,
      "object_position": null,
      "order": null,
      "overflow": null,
      "overflow_x": null,
      "overflow_y": null,
      "padding": null,
      "right": null,
      "top": null,
      "visibility": null,
      "width": null
     }
    },
    "0c6a5b70f49e403fa7a79ed36c7b0aa7": {
     "model_module": "@jupyter-widgets/controls",
     "model_module_version": "1.5.0",
     "model_name": "FloatProgressModel",
     "state": {
      "_dom_classes": [],
      "_model_module": "@jupyter-widgets/controls",
      "_model_module_version": "1.5.0",
      "_model_name": "FloatProgressModel",
      "_view_count": null,
      "_view_module": "@jupyter-widgets/controls",
      "_view_module_version": "1.5.0",
      "_view_name": "ProgressView",
      "bar_style": "success",
      "description": "",
      "description_tooltip": null,
      "layout": "IPY_MODEL_9bd11ca24e7948bca3f59744a69aed67",
      "max": 4392,
      "min": 0,
      "orientation": "horizontal",
      "style": "IPY_MODEL_1eda70ad1c93493d8f10017977bcfe40",
      "value": 4392
     }
    },
    "1eda70ad1c93493d8f10017977bcfe40": {
     "model_module": "@jupyter-widgets/controls",
     "model_module_version": "1.5.0",
     "model_name": "ProgressStyleModel",
     "state": {
      "_model_module": "@jupyter-widgets/controls",
      "_model_module_version": "1.5.0",
      "_model_name": "ProgressStyleModel",
      "_view_count": null,
      "_view_module": "@jupyter-widgets/base",
      "_view_module_version": "1.2.0",
      "_view_name": "StyleView",
      "bar_color": null,
      "description_width": ""
     }
    },
    "232156260850429ca909abd47a260239": {
     "model_module": "@jupyter-widgets/base",
     "model_module_version": "1.2.0",
     "model_name": "LayoutModel",
     "state": {
      "_model_module": "@jupyter-widgets/base",
      "_model_module_version": "1.2.0",
      "_model_name": "LayoutModel",
      "_view_count": null,
      "_view_module": "@jupyter-widgets/base",
      "_view_module_version": "1.2.0",
      "_view_name": "LayoutView",
      "align_content": null,
      "align_items": null,
      "align_self": null,
      "border": null,
      "bottom": null,
      "display": null,
      "flex": null,
      "flex_flow": null,
      "grid_area": null,
      "grid_auto_columns": null,
      "grid_auto_flow": null,
      "grid_auto_rows": null,
      "grid_column": null,
      "grid_gap": null,
      "grid_row": null,
      "grid_template_areas": null,
      "grid_template_columns": null,
      "grid_template_rows": null,
      "height": null,
      "justify_content": null,
      "justify_items": null,
      "left": null,
      "margin": null,
      "max_height": null,
      "max_width": null,
      "min_height": null,
      "min_width": null,
      "object_fit": null,
      "object_position": null,
      "order": null,
      "overflow": null,
      "overflow_x": null,
      "overflow_y": null,
      "padding": null,
      "right": null,
      "top": null,
      "visibility": null,
      "width": null
     }
    },
    "26ef565c43424ef3b44b56327348429e": {
     "model_module": "@jupyter-widgets/controls",
     "model_module_version": "1.5.0",
     "model_name": "FloatProgressModel",
     "state": {
      "_dom_classes": [],
      "_model_module": "@jupyter-widgets/controls",
      "_model_module_version": "1.5.0",
      "_model_name": "FloatProgressModel",
      "_view_count": null,
      "_view_module": "@jupyter-widgets/controls",
      "_view_module_version": "1.5.0",
      "_view_name": "ProgressView",
      "bar_style": "success",
      "description": "",
      "description_tooltip": null,
      "layout": "IPY_MODEL_0aba21630f8d439baaa872c84b56b090",
      "max": 10248,
      "min": 0,
      "orientation": "horizontal",
      "style": "IPY_MODEL_285112324fd243cf9206f2f4a2857645",
      "value": 10248
     }
    },
    "285112324fd243cf9206f2f4a2857645": {
     "model_module": "@jupyter-widgets/controls",
     "model_module_version": "1.5.0",
     "model_name": "ProgressStyleModel",
     "state": {
      "_model_module": "@jupyter-widgets/controls",
      "_model_module_version": "1.5.0",
      "_model_name": "ProgressStyleModel",
      "_view_count": null,
      "_view_module": "@jupyter-widgets/base",
      "_view_module_version": "1.2.0",
      "_view_name": "StyleView",
      "bar_color": null,
      "description_width": ""
     }
    },
    "34fa1cd8f5a94237a6f27cf03cea6e80": {
     "model_module": "@jupyter-widgets/controls",
     "model_module_version": "1.5.0",
     "model_name": "ProgressStyleModel",
     "state": {
      "_model_module": "@jupyter-widgets/controls",
      "_model_module_version": "1.5.0",
      "_model_name": "ProgressStyleModel",
      "_view_count": null,
      "_view_module": "@jupyter-widgets/base",
      "_view_module_version": "1.2.0",
      "_view_name": "StyleView",
      "bar_color": null,
      "description_width": ""
     }
    },
    "36ff8d1654054798a306d8649c447746": {
     "model_module": "@jupyter-widgets/controls",
     "model_module_version": "1.5.0",
     "model_name": "HTMLModel",
     "state": {
      "_dom_classes": [],
      "_model_module": "@jupyter-widgets/controls",
      "_model_module_version": "1.5.0",
      "_model_name": "HTMLModel",
      "_view_count": null,
      "_view_module": "@jupyter-widgets/controls",
      "_view_module_version": "1.5.0",
      "_view_name": "HTMLView",
      "description": "",
      "description_tooltip": null,
      "layout": "IPY_MODEL_232156260850429ca909abd47a260239",
      "placeholder": "​",
      "style": "IPY_MODEL_050fd3f4300f4f66a634f916d47bd084",
      "value": "Generating train split: "
     }
    },
    "45e7ad73660246a592cc6ad6fdcbc0b5": {
     "model_module": "@jupyter-widgets/controls",
     "model_module_version": "1.5.0",
     "model_name": "DescriptionStyleModel",
     "state": {
      "_model_module": "@jupyter-widgets/controls",
      "_model_module_version": "1.5.0",
      "_model_name": "DescriptionStyleModel",
      "_view_count": null,
      "_view_module": "@jupyter-widgets/base",
      "_view_module_version": "1.2.0",
      "_view_name": "StyleView",
      "description_width": ""
     }
    },
    "47448f01ee25407ca6739072a1ea37ea": {
     "model_module": "@jupyter-widgets/base",
     "model_module_version": "1.2.0",
     "model_name": "LayoutModel",
     "state": {
      "_model_module": "@jupyter-widgets/base",
      "_model_module_version": "1.2.0",
      "_model_name": "LayoutModel",
      "_view_count": null,
      "_view_module": "@jupyter-widgets/base",
      "_view_module_version": "1.2.0",
      "_view_name": "LayoutView",
      "align_content": null,
      "align_items": null,
      "align_self": null,
      "border": null,
      "bottom": null,
      "display": null,
      "flex": null,
      "flex_flow": null,
      "grid_area": null,
      "grid_auto_columns": null,
      "grid_auto_flow": null,
      "grid_auto_rows": null,
      "grid_column": null,
      "grid_gap": null,
      "grid_row": null,
      "grid_template_areas": null,
      "grid_template_columns": null,
      "grid_template_rows": null,
      "height": null,
      "justify_content": null,
      "justify_items": null,
      "left": null,
      "margin": null,
      "max_height": null,
      "max_width": null,
      "min_height": null,
      "min_width": null,
      "object_fit": null,
      "object_position": null,
      "order": null,
      "overflow": null,
      "overflow_x": null,
      "overflow_y": null,
      "padding": null,
      "right": null,
      "top": null,
      "visibility": null,
      "width": null
     }
    },
    "4b028f60c6cf44d7a8901ce059fa31fa": {
     "model_module": "@jupyter-widgets/controls",
     "model_module_version": "1.5.0",
     "model_name": "DescriptionStyleModel",
     "state": {
      "_model_module": "@jupyter-widgets/controls",
      "_model_module_version": "1.5.0",
      "_model_name": "DescriptionStyleModel",
      "_view_count": null,
      "_view_module": "@jupyter-widgets/base",
      "_view_module_version": "1.2.0",
      "_view_name": "StyleView",
      "description_width": ""
     }
    },
    "57cd12c5ba844f68933d0983e16685a3": {
     "model_module": "@jupyter-widgets/base",
     "model_module_version": "1.2.0",
     "model_name": "LayoutModel",
     "state": {
      "_model_module": "@jupyter-widgets/base",
      "_model_module_version": "1.2.0",
      "_model_name": "LayoutModel",
      "_view_count": null,
      "_view_module": "@jupyter-widgets/base",
      "_view_module_version": "1.2.0",
      "_view_name": "LayoutView",
      "align_content": null,
      "align_items": null,
      "align_self": null,
      "border": null,
      "bottom": null,
      "display": null,
      "flex": null,
      "flex_flow": null,
      "grid_area": null,
      "grid_auto_columns": null,
      "grid_auto_flow": null,
      "grid_auto_rows": null,
      "grid_column": null,
      "grid_gap": null,
      "grid_row": null,
      "grid_template_areas": null,
      "grid_template_columns": null,
      "grid_template_rows": null,
      "height": null,
      "justify_content": null,
      "justify_items": null,
      "left": null,
      "margin": null,
      "max_height": null,
      "max_width": null,
      "min_height": null,
      "min_width": null,
      "object_fit": null,
      "object_position": null,
      "order": null,
      "overflow": null,
      "overflow_x": null,
      "overflow_y": null,
      "padding": null,
      "right": null,
      "top": null,
      "visibility": null,
      "width": "20px"
     }
    },
    "58a29bdbfa6449c6b98ccfbb8c6aabd5": {
     "model_module": "@jupyter-widgets/controls",
     "model_module_version": "1.5.0",
     "model_name": "HTMLModel",
     "state": {
      "_dom_classes": [],
      "_model_module": "@jupyter-widgets/controls",
      "_model_module_version": "1.5.0",
      "_model_name": "HTMLModel",
      "_view_count": null,
      "_view_module": "@jupyter-widgets/controls",
      "_view_module_version": "1.5.0",
      "_view_name": "HTMLView",
      "description": "",
      "description_tooltip": null,
      "layout": "IPY_MODEL_0a10db96a1ad49bb8beb45397c20e17a",
      "placeholder": "​",
      "style": "IPY_MODEL_4b028f60c6cf44d7a8901ce059fa31fa",
      "value": " 4392/4392 [00:01&lt;00:00, 3061.70 examples/s]"
     }
    },
    "5b673afd70ba4fd9be18f91e83d0b773": {
     "model_module": "@jupyter-widgets/controls",
     "model_module_version": "1.5.0",
     "model_name": "DescriptionStyleModel",
     "state": {
      "_model_module": "@jupyter-widgets/controls",
      "_model_module_version": "1.5.0",
      "_model_name": "DescriptionStyleModel",
      "_view_count": null,
      "_view_module": "@jupyter-widgets/base",
      "_view_module_version": "1.2.0",
      "_view_name": "StyleView",
      "description_width": ""
     }
    },
    "68f694a656d04955b44aef2d523a8cc7": {
     "model_module": "@jupyter-widgets/controls",
     "model_module_version": "1.5.0",
     "model_name": "DescriptionStyleModel",
     "state": {
      "_model_module": "@jupyter-widgets/controls",
      "_model_module_version": "1.5.0",
      "_model_name": "DescriptionStyleModel",
      "_view_count": null,
      "_view_module": "@jupyter-widgets/base",
      "_view_module_version": "1.2.0",
      "_view_name": "StyleView",
      "description_width": ""
     }
    },
    "78c3370365a14f158e580fded0bfe210": {
     "model_module": "@jupyter-widgets/base",
     "model_module_version": "1.2.0",
     "model_name": "LayoutModel",
     "state": {
      "_model_module": "@jupyter-widgets/base",
      "_model_module_version": "1.2.0",
      "_model_name": "LayoutModel",
      "_view_count": null,
      "_view_module": "@jupyter-widgets/base",
      "_view_module_version": "1.2.0",
      "_view_name": "LayoutView",
      "align_content": null,
      "align_items": null,
      "align_self": null,
      "border": null,
      "bottom": null,
      "display": null,
      "flex": null,
      "flex_flow": null,
      "grid_area": null,
      "grid_auto_columns": null,
      "grid_auto_flow": null,
      "grid_auto_rows": null,
      "grid_column": null,
      "grid_gap": null,
      "grid_row": null,
      "grid_template_areas": null,
      "grid_template_columns": null,
      "grid_template_rows": null,
      "height": null,
      "justify_content": null,
      "justify_items": null,
      "left": null,
      "margin": null,
      "max_height": null,
      "max_width": null,
      "min_height": null,
      "min_width": null,
      "object_fit": null,
      "object_position": null,
      "order": null,
      "overflow": null,
      "overflow_x": null,
      "overflow_y": null,
      "padding": null,
      "right": null,
      "top": null,
      "visibility": null,
      "width": null
     }
    },
    "8cd2bd741faa40bda806eee2958b5435": {
     "model_module": "@jupyter-widgets/controls",
     "model_module_version": "1.5.0",
     "model_name": "HTMLModel",
     "state": {
      "_dom_classes": [],
      "_model_module": "@jupyter-widgets/controls",
      "_model_module_version": "1.5.0",
      "_model_name": "HTMLModel",
      "_view_count": null,
      "_view_module": "@jupyter-widgets/controls",
      "_view_module_version": "1.5.0",
      "_view_name": "HTMLView",
      "description": "",
      "description_tooltip": null,
      "layout": "IPY_MODEL_d4e5e8cd3c4946158057c0e04bb43cdb",
      "placeholder": "​",
      "style": "IPY_MODEL_5b673afd70ba4fd9be18f91e83d0b773",
      "value": " 14640/0 [00:00&lt;00:00, 135677.11 examples/s]"
     }
    },
    "9bd11ca24e7948bca3f59744a69aed67": {
     "model_module": "@jupyter-widgets/base",
     "model_module_version": "1.2.0",
     "model_name": "LayoutModel",
     "state": {
      "_model_module": "@jupyter-widgets/base",
      "_model_module_version": "1.2.0",
      "_model_name": "LayoutModel",
      "_view_count": null,
      "_view_module": "@jupyter-widgets/base",
      "_view_module_version": "1.2.0",
      "_view_name": "LayoutView",
      "align_content": null,
      "align_items": null,
      "align_self": null,
      "border": null,
      "bottom": null,
      "display": null,
      "flex": null,
      "flex_flow": null,
      "grid_area": null,
      "grid_auto_columns": null,
      "grid_auto_flow": null,
      "grid_auto_rows": null,
      "grid_column": null,
      "grid_gap": null,
      "grid_row": null,
      "grid_template_areas": null,
      "grid_template_columns": null,
      "grid_template_rows": null,
      "height": null,
      "justify_content": null,
      "justify_items": null,
      "left": null,
      "margin": null,
      "max_height": null,
      "max_width": null,
      "min_height": null,
      "min_width": null,
      "object_fit": null,
      "object_position": null,
      "order": null,
      "overflow": null,
      "overflow_x": null,
      "overflow_y": null,
      "padding": null,
      "right": null,
      "top": null,
      "visibility": null,
      "width": null
     }
    },
    "a4ee33fd77cf4cf193acc9abfbae5e04": {
     "model_module": "@jupyter-widgets/controls",
     "model_module_version": "1.5.0",
     "model_name": "HTMLModel",
     "state": {
      "_dom_classes": [],
      "_model_module": "@jupyter-widgets/controls",
      "_model_module_version": "1.5.0",
      "_model_name": "HTMLModel",
      "_view_count": null,
      "_view_module": "@jupyter-widgets/controls",
      "_view_module_version": "1.5.0",
      "_view_name": "HTMLView",
      "description": "",
      "description_tooltip": null,
      "layout": "IPY_MODEL_a4f7a399f8824a93858826ae0c77e783",
      "placeholder": "​",
      "style": "IPY_MODEL_68f694a656d04955b44aef2d523a8cc7",
      "value": " 10248/10248 [00:02&lt;00:00, 3033.40 examples/s]"
     }
    },
    "a4f7a399f8824a93858826ae0c77e783": {
     "model_module": "@jupyter-widgets/base",
     "model_module_version": "1.2.0",
     "model_name": "LayoutModel",
     "state": {
      "_model_module": "@jupyter-widgets/base",
      "_model_module_version": "1.2.0",
      "_model_name": "LayoutModel",
      "_view_count": null,
      "_view_module": "@jupyter-widgets/base",
      "_view_module_version": "1.2.0",
      "_view_name": "LayoutView",
      "align_content": null,
      "align_items": null,
      "align_self": null,
      "border": null,
      "bottom": null,
      "display": null,
      "flex": null,
      "flex_flow": null,
      "grid_area": null,
      "grid_auto_columns": null,
      "grid_auto_flow": null,
      "grid_auto_rows": null,
      "grid_column": null,
      "grid_gap": null,
      "grid_row": null,
      "grid_template_areas": null,
      "grid_template_columns": null,
      "grid_template_rows": null,
      "height": null,
      "justify_content": null,
      "justify_items": null,
      "left": null,
      "margin": null,
      "max_height": null,
      "max_width": null,
      "min_height": null,
      "min_width": null,
      "object_fit": null,
      "object_position": null,
      "order": null,
      "overflow": null,
      "overflow_x": null,
      "overflow_y": null,
      "padding": null,
      "right": null,
      "top": null,
      "visibility": null,
      "width": null
     }
    },
    "abff97c1aaef4d4887636c14c199c4c1": {
     "model_module": "@jupyter-widgets/controls",
     "model_module_version": "1.5.0",
     "model_name": "DescriptionStyleModel",
     "state": {
      "_model_module": "@jupyter-widgets/controls",
      "_model_module_version": "1.5.0",
      "_model_name": "DescriptionStyleModel",
      "_view_count": null,
      "_view_module": "@jupyter-widgets/base",
      "_view_module_version": "1.2.0",
      "_view_name": "StyleView",
      "description_width": ""
     }
    },
    "b2fc8d223b704730addeacee191ef83f": {
     "model_module": "@jupyter-widgets/base",
     "model_module_version": "1.2.0",
     "model_name": "LayoutModel",
     "state": {
      "_model_module": "@jupyter-widgets/base",
      "_model_module_version": "1.2.0",
      "_model_name": "LayoutModel",
      "_view_count": null,
      "_view_module": "@jupyter-widgets/base",
      "_view_module_version": "1.2.0",
      "_view_name": "LayoutView",
      "align_content": null,
      "align_items": null,
      "align_self": null,
      "border": null,
      "bottom": null,
      "display": null,
      "flex": null,
      "flex_flow": null,
      "grid_area": null,
      "grid_auto_columns": null,
      "grid_auto_flow": null,
      "grid_auto_rows": null,
      "grid_column": null,
      "grid_gap": null,
      "grid_row": null,
      "grid_template_areas": null,
      "grid_template_columns": null,
      "grid_template_rows": null,
      "height": null,
      "justify_content": null,
      "justify_items": null,
      "left": null,
      "margin": null,
      "max_height": null,
      "max_width": null,
      "min_height": null,
      "min_width": null,
      "object_fit": null,
      "object_position": null,
      "order": null,
      "overflow": null,
      "overflow_x": null,
      "overflow_y": null,
      "padding": null,
      "right": null,
      "top": null,
      "visibility": null,
      "width": null
     }
    },
    "b8008cdd31c74f6fbebc76fa2c44f9b6": {
     "model_module": "@jupyter-widgets/controls",
     "model_module_version": "1.5.0",
     "model_name": "HTMLModel",
     "state": {
      "_dom_classes": [],
      "_model_module": "@jupyter-widgets/controls",
      "_model_module_version": "1.5.0",
      "_model_name": "HTMLModel",
      "_view_count": null,
      "_view_module": "@jupyter-widgets/controls",
      "_view_module_version": "1.5.0",
      "_view_name": "HTMLView",
      "description": "",
      "description_tooltip": null,
      "layout": "IPY_MODEL_78c3370365a14f158e580fded0bfe210",
      "placeholder": "​",
      "style": "IPY_MODEL_abff97c1aaef4d4887636c14c199c4c1",
      "value": "Map: 100%"
     }
    },
    "b9d2b77d7b6a4ee68f44a0397fc57b7d": {
     "model_module": "@jupyter-widgets/controls",
     "model_module_version": "1.5.0",
     "model_name": "HTMLModel",
     "state": {
      "_dom_classes": [],
      "_model_module": "@jupyter-widgets/controls",
      "_model_module_version": "1.5.0",
      "_model_name": "HTMLModel",
      "_view_count": null,
      "_view_module": "@jupyter-widgets/controls",
      "_view_module_version": "1.5.0",
      "_view_name": "HTMLView",
      "description": "",
      "description_tooltip": null,
      "layout": "IPY_MODEL_f733c0c000bc498c8818bc2b32414e1c",
      "placeholder": "​",
      "style": "IPY_MODEL_45e7ad73660246a592cc6ad6fdcbc0b5",
      "value": "Map: 100%"
     }
    },
    "d4e5e8cd3c4946158057c0e04bb43cdb": {
     "model_module": "@jupyter-widgets/base",
     "model_module_version": "1.2.0",
     "model_name": "LayoutModel",
     "state": {
      "_model_module": "@jupyter-widgets/base",
      "_model_module_version": "1.2.0",
      "_model_name": "LayoutModel",
      "_view_count": null,
      "_view_module": "@jupyter-widgets/base",
      "_view_module_version": "1.2.0",
      "_view_name": "LayoutView",
      "align_content": null,
      "align_items": null,
      "align_self": null,
      "border": null,
      "bottom": null,
      "display": null,
      "flex": null,
      "flex_flow": null,
      "grid_area": null,
      "grid_auto_columns": null,
      "grid_auto_flow": null,
      "grid_auto_rows": null,
      "grid_column": null,
      "grid_gap": null,
      "grid_row": null,
      "grid_template_areas": null,
      "grid_template_columns": null,
      "grid_template_rows": null,
      "height": null,
      "justify_content": null,
      "justify_items": null,
      "left": null,
      "margin": null,
      "max_height": null,
      "max_width": null,
      "min_height": null,
      "min_width": null,
      "object_fit": null,
      "object_position": null,
      "order": null,
      "overflow": null,
      "overflow_x": null,
      "overflow_y": null,
      "padding": null,
      "right": null,
      "top": null,
      "visibility": null,
      "width": null
     }
    },
    "f6abd95a41fc4245823a0267d6aa3e17": {
     "model_module": "@jupyter-widgets/controls",
     "model_module_version": "1.5.0",
     "model_name": "FloatProgressModel",
     "state": {
      "_dom_classes": [],
      "_model_module": "@jupyter-widgets/controls",
      "_model_module_version": "1.5.0",
      "_model_name": "FloatProgressModel",
      "_view_count": null,
      "_view_module": "@jupyter-widgets/controls",
      "_view_module_version": "1.5.0",
      "_view_name": "ProgressView",
      "bar_style": "success",
      "description": "",
      "description_tooltip": null,
      "layout": "IPY_MODEL_57cd12c5ba844f68933d0983e16685a3",
      "max": 1,
      "min": 0,
      "orientation": "horizontal",
      "style": "IPY_MODEL_34fa1cd8f5a94237a6f27cf03cea6e80",
      "value": 1
     }
    },
    "f733c0c000bc498c8818bc2b32414e1c": {
     "model_module": "@jupyter-widgets/base",
     "model_module_version": "1.2.0",
     "model_name": "LayoutModel",
     "state": {
      "_model_module": "@jupyter-widgets/base",
      "_model_module_version": "1.2.0",
      "_model_name": "LayoutModel",
      "_view_count": null,
      "_view_module": "@jupyter-widgets/base",
      "_view_module_version": "1.2.0",
      "_view_name": "LayoutView",
      "align_content": null,
      "align_items": null,
      "align_self": null,
      "border": null,
      "bottom": null,
      "display": null,
      "flex": null,
      "flex_flow": null,
      "grid_area": null,
      "grid_auto_columns": null,
      "grid_auto_flow": null,
      "grid_auto_rows": null,
      "grid_column": null,
      "grid_gap": null,
      "grid_row": null,
      "grid_template_areas": null,
      "grid_template_columns": null,
      "grid_template_rows": null,
      "height": null,
      "justify_content": null,
      "justify_items": null,
      "left": null,
      "margin": null,
      "max_height": null,
      "max_width": null,
      "min_height": null,
      "min_width": null,
      "object_fit": null,
      "object_position": null,
      "order": null,
      "overflow": null,
      "overflow_x": null,
      "overflow_y": null,
      "padding": null,
      "right": null,
      "top": null,
      "visibility": null,
      "width": null
     }
    },
    "fad997b96b77462ab8c96cc47af08e0f": {
     "model_module": "@jupyter-widgets/base",
     "model_module_version": "1.2.0",
     "model_name": "LayoutModel",
     "state": {
      "_model_module": "@jupyter-widgets/base",
      "_model_module_version": "1.2.0",
      "_model_name": "LayoutModel",
      "_view_count": null,
      "_view_module": "@jupyter-widgets/base",
      "_view_module_version": "1.2.0",
      "_view_name": "LayoutView",
      "align_content": null,
      "align_items": null,
      "align_self": null,
      "border": null,
      "bottom": null,
      "display": null,
      "flex": null,
      "flex_flow": null,
      "grid_area": null,
      "grid_auto_columns": null,
      "grid_auto_flow": null,
      "grid_auto_rows": null,
      "grid_column": null,
      "grid_gap": null,
      "grid_row": null,
      "grid_template_areas": null,
      "grid_template_columns": null,
      "grid_template_rows": null,
      "height": null,
      "justify_content": null,
      "justify_items": null,
      "left": null,
      "margin": null,
      "max_height": null,
      "max_width": null,
      "min_height": null,
      "min_width": null,
      "object_fit": null,
      "object_position": null,
      "order": null,
      "overflow": null,
      "overflow_x": null,
      "overflow_y": null,
      "padding": null,
      "right": null,
      "top": null,
      "visibility": null,
      "width": null
     }
    },
    "ff75cf77e05e450d8c9816b6ed764fc4": {
     "model_module": "@jupyter-widgets/controls",
     "model_module_version": "1.5.0",
     "model_name": "HBoxModel",
     "state": {
      "_dom_classes": [],
      "_model_module": "@jupyter-widgets/controls",
      "_model_module_version": "1.5.0",
      "_model_name": "HBoxModel",
      "_view_count": null,
      "_view_module": "@jupyter-widgets/controls",
      "_view_module_version": "1.5.0",
      "_view_name": "HBoxView",
      "box_style": "",
      "children": [
       "IPY_MODEL_b9d2b77d7b6a4ee68f44a0397fc57b7d",
       "IPY_MODEL_0c6a5b70f49e403fa7a79ed36c7b0aa7",
       "IPY_MODEL_58a29bdbfa6449c6b98ccfbb8c6aabd5"
      ],
      "layout": "IPY_MODEL_47448f01ee25407ca6739072a1ea37ea"
     }
    }
   }
  }
 },
 "nbformat": 4,
 "nbformat_minor": 0
}
