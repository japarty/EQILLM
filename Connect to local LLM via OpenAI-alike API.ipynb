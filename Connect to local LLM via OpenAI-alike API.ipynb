{
 "cells": [
  {
   "cell_type": "code",
   "outputs": [],
   "source": [
    "import pandas as pd\n",
    "from openai import OpenAI\n",
    "import openai\n",
    "import tqdm\n",
    "import datetime"
   ],
   "metadata": {
    "collapsed": false,
    "ExecuteTime": {
     "end_time": "2024-03-26T09:15:22.647835Z",
     "start_time": "2024-03-26T09:15:22.313952Z"
    }
   },
   "id": "48f33aa4e46cfe67",
   "execution_count": 1
  },
  {
   "cell_type": "raw",
   "source": [
    "# Test connection\n",
    "from openai import OpenAI\n",
    "\n",
    "# Point to the local server\n",
    "client = OpenAI(base_url=\"http://localhost:1234/v1\", api_key=\"not-needed\")\n",
    "\n",
    "completion = client.chat.completions.create(\n",
    "  model=\"local-model\", # this field is currently unused\n",
    "  messages=[\n",
    "    {\"role\": \"system\", \"content\": \"Always answer in rhymes.\"},\n",
    "    {\"role\": \"user\", \"content\": \"Introduce yourself.\"}\n",
    "  ],\n",
    "  temperature=0.7,\n",
    "  max_tokens=100\n",
    ")\n",
    "\n",
    "print(completion.choices[0].message)"
   ],
   "metadata": {
    "collapsed": false
   },
   "id": "fb233f33d21d43b4"
  },
  {
   "cell_type": "code",
   "outputs": [],
   "source": [
    "def create_messages(text, emotion):\n",
    "    return [\n",
    "        {\n",
    "            \"role\": \"system\",\n",
    "            \"content\": \"You are an analytical tool designed to identify rhetorical pathos in text. Argumentate which part of the sentence can be used to identify rhetorical pathos in text. Emotion is already provided. If you don't agree with the emotion found, return 'unclear'.\"\n",
    "        },\n",
    "        {\n",
    "            \"role\": \"user\",\n",
    "            \"content\": f\"Analyze the following text: {text}. Emotion found in text: {emotion}\"\n",
    "        },\n",
    "        {\n",
    "            \"role\": \"assistant\",\n",
    "            \"content\": f\"Argumentate which part of the text indicates emotion found.\"\n",
    "        }\n",
    "    ]"
   ],
   "metadata": {
    "collapsed": false,
    "ExecuteTime": {
     "end_time": "2024-03-26T09:15:22.651180Z",
     "start_time": "2024-03-26T09:15:22.648840Z"
    }
   },
   "id": "ffabf9547c1826a5",
   "execution_count": 2
  },
  {
   "cell_type": "code",
   "outputs": [
    {
     "name": "stderr",
     "output_type": "stream",
     "text": [
      "0it [00:00, ?it/s]"
     ]
    }
   ],
   "source": [
    "client = openai.OpenAI(base_url=\"http://localhost:1234/v1\",  api_key=\"not-needed\")\n",
    "model_name = 'mixtral8x7bv01q6k'\n",
    "\n",
    "path_to_csv = 'output/models/distilbert-base-uncased_2024-03-26_10-03/validated.csv'\n",
    "path_to_model_dir = path_to_csv.rsplit('/', 1)[0]\n",
    "\n",
    "df = pd.read_csv(path_to_csv, sep=',', header=0)\n",
    "\n",
    "responses = []\n",
    "for i, (txt, label, predicted) in tqdm.tqdm(df.iterrows()): # iterate through each text value of first df column\n",
    "    completion = client.chat.completions.create(\n",
    "      model=\"local-model\", # this field is currently unused\n",
    "      messages=create_messages(txt, predicted),\n",
    "      temperature=0.7,\n",
    "      max_tokens=100\n",
    "    )\n",
    "    responses.append(completion.choices[0].message.content) # append response to list\n",
    "    "
   ],
   "metadata": {
    "collapsed": false,
    "ExecuteTime": {
     "start_time": "2024-03-26T09:15:22.651180Z"
    }
   },
   "id": "5869751c80f6b8f6",
   "execution_count": null
  },
  {
   "cell_type": "code",
   "outputs": [],
   "source": [
    "timestamp = datetime.datetime.now().strftime(\"%Y-%m-%d_%H-%M\")\n",
    "\n",
    "with open(f'{path_to_model_dir}/{model_name}_{timestamp}_message.txt', 'w') as f:\n",
    "    f.write(str(create_messages('_','_')))\n",
    "\n",
    "df.to_csv(f'{path_to_model_dir}/{model_name}_{timestamp}_validated_with_argumentation.csv', sep=',', index=False)"
   ],
   "metadata": {
    "collapsed": false
   },
   "id": "325ada926b952afe",
   "execution_count": null
  }
 ],
 "metadata": {
  "kernelspec": {
   "display_name": "Python 3",
   "language": "python",
   "name": "python3"
  },
  "language_info": {
   "codemirror_mode": {
    "name": "ipython",
    "version": 2
   },
   "file_extension": ".py",
   "mimetype": "text/x-python",
   "name": "python",
   "nbconvert_exporter": "python",
   "pygments_lexer": "ipython2",
   "version": "2.7.6"
  }
 },
 "nbformat": 4,
 "nbformat_minor": 5
}
