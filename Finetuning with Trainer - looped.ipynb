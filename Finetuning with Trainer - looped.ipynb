{
 "cells": [
  {
   "cell_type": "markdown",
   "metadata": {
    "collapsed": false,
    "id": "7Rwla6Ky6iUA"
   },
   "source": [
    "# Finetuning with Trainer and text-classification model validation"
   ]
  },
  {
   "cell_type": "code",
   "metadata": {
    "colab": {
     "base_uri": "https://localhost:8080/"
    },
    "executionInfo": {
     "elapsed": 544715,
     "status": "ok",
     "timestamp": 1712223783678,
     "user": {
      "displayName": "Jakub Partyka",
      "userId": "06989008944538163465"
     },
     "user_tz": -120
    },
    "id": "kTnSLtc16iUE",
    "outputId": "a50dcaf4-d038-46e9-a607-73102b1b945f",
    "ExecuteTime": {
     "end_time": "2024-04-13T15:19:15.016513Z",
     "start_time": "2024-04-13T15:19:15.013766Z"
    }
   },
   "source": [
    "import os\n",
    "\n",
    "if os.getenv(\"COLAB_RELEASE_TAG\"):\n",
    "   colab = True\n",
    "else:\n",
    "   colab = False\n",
    "\n",
    "if colab:\n",
    "    !pip install transformers[torch]\n",
    "    !pip install accelerate -U\n",
    "    !pip install datasets\n",
    "    !pip install torchinfo\n",
    "    #ImportError: Using the `Trainer` with `PyTorch` requires `accelerate>=0.20.1`: Please run `pip install transformers[torch]` or `pip install accelerate -U"
   ],
   "outputs": [],
   "execution_count": 1
  },
  {
   "cell_type": "code",
   "metadata": {
    "id": "F7z05bbBe5G9",
    "ExecuteTime": {
     "end_time": "2024-04-13T15:19:17.490560Z",
     "start_time": "2024-04-13T15:19:15.065880Z"
    }
   },
   "source": [
    "from sklearn.model_selection import train_test_split\n",
    "import datetime\n",
    "import itertools\n",
    "import matplotlib.pyplot as plt\n",
    "import numpy as np\n",
    "import os\n",
    "import glob\n",
    "import pandas as pd\n",
    "import pathlib\n",
    "import seaborn as sn\n",
    "import torch\n",
    "import numbers\n",
    "\n",
    "from tqdm.autonotebook import tqdm\n",
    "from datasets import load_dataset, Dataset, DatasetDict\n",
    "from sklearn.metrics import f1_score, accuracy_score, confusion_matrix\n",
    "from torchinfo import summary\n",
    "from transformers import AutoModelForSequenceClassification, AutoConfig, Trainer, TrainingArguments, DataCollatorWithPadding, AutoTokenizer, pipeline\n",
    "from transformers.modelcard import parse_log_history"
   ],
   "outputs": [
    {
     "name": "stderr",
     "output_type": "stream",
     "text": [
      "C:\\Users\\Jakub\\AppData\\Local\\Temp\\ipykernel_23976\\3430494536.py:14: TqdmExperimentalWarning: Using `tqdm.autonotebook.tqdm` in notebook mode. Use `tqdm.tqdm` instead to force console mode (e.g. in jupyter console)\n",
      "  from tqdm.autonotebook import tqdm\n"
     ]
    }
   ],
   "execution_count": 2
  },
  {
   "cell_type": "markdown",
   "source": [
    "# Prepare parameters for each run of finetuning"
   ],
   "metadata": {
    "collapsed": false,
    "id": "xmkxi8ZMdO9U"
   }
  },
  {
   "cell_type": "code",
   "source": [
    "# from huggingface_hub import notebook_login\n",
    "# notebook_login()\n",
    "\n",
    "# models = ['albert', 'bart', 'bert', 'big_bird', 'bigbird_pegasus', 'biogpt', 'bloom', 'camembert', 'canine', 'code_llama', 'convbert', 'ctrl', 'data2vec-text', 'deberta', 'deberta-v2', 'distilbert', 'electra', 'ernie', 'ernie_m', 'esm', 'falcon', 'flaubert', 'fnet', 'funnel', 'gemma', 'gpt-sw3', 'gpt2', 'gpt_bigcode', 'gpt_neo', 'gpt_neox', 'gptj', 'ibert', 'layoutlm', 'layoutlmv2', 'layoutlmv3', 'led', 'lilt', 'llama', 'longformer', 'luke', 'markuplm', 'mbart', 'mega', 'megatron-bert', 'mistral', 'mixtral', 'mobilebert', 'mpnet', 'mpt', 'mra', 'mt5', 'mvp', 'nezha', 'nystromformer', 'open-llama', 'openai-gpt', 'opt', 'perceiver', 'persimmon', 'phi', 'plbart', 'qdqbert', 'qwen2', 'reformer', 'rembert', 'roberta', 'roberta-prelayernorm', 'roc_bert', 'roformer', 'squeezebert', 'stablelm', 'starcoder2', 't5', 'tapas', 'transfo-xl', 'umt5', 'xlm', 'xlm-roberta', 'xlm-roberta-xl', 'xlnet', 'xmod', 'yoso',]\n",
    "# =============================================\n",
    "# tested = 'distilbert-base-cased', 'camembert-base', 'ctrl', 'xlnet-base-cased', 'roberta-base', 'distilroberta-base', 'flaubert/flaubert_base_cased'\n",
    "# ----------\n",
    "#too weak pc (cannot be loaded or runs at speeds <1 it/s) = 'albert-xlarge-v1', 't5-11B', 'LongformerForSequenceClassification', 'xlm-roberta-base', 'allenai/longformer-base-4096', 'facebook/bart-large',  flaubert/flaubert_large_cased (stopped at 0.5 epoch), \n",
    "# ----------\n",
    "# need changes to run (check error logs) =  ProsusAI/finbert (despite adding padding proposed in error)\n",
    "# =============================================\n",
    "# model_path = 'SamLowe/roberta-base-go_emotions'\n",
    "# model_path = 'distilbert-base-uncased'\n",
    "# model_path = 'xlmoberta'\n",
    "\n",
    "# , 'camembert-base', 'ctrl', 'xlnet-base-cased', 'roberta-base', 'distilroberta-base', 'flaubert/flaubert_base_cased'\n",
    "\n",
    "# deprecated: transfo-xl-wt103"
   ],
   "metadata": {
    "id": "vURNs2uSdO9U",
    "ExecuteTime": {
     "end_time": "2024-04-13T15:19:17.494173Z",
     "start_time": "2024-04-13T15:19:17.491563Z"
    }
   },
   "outputs": [],
   "execution_count": 3
  },
  {
   "cell_type": "code",
   "source": [
    "#if list of objects is provided list of all combinations of parameters will be created for running\n",
    "params_tested = {'model': ['michellejieli/emotion_text_classifier'], # Pre-trained model names from the Hugging Face hub used for fine-tuning\n",
    "                 'num_train_epochs': 30, # Number of times the model sees the entire training dataset.\n",
    "                 'save_strategy': 'no', # Controls when to save model checkpoints ('epoch' or 'no').\n",
    "                 'per_device_train_batch_size': 8, # Number of samples processed in each training step (personally, 8/16 work best, but 16 may find linear drop in inference speed during fine-tuning).\n",
    "                 'per_device_eval_batch_size': 64, # Number of samples processed in each evaluation step. \n",
    "                 'split': [(80, 10, 10)], # Divides the dataset into training, testing, (and optionally) validation sets. Use 'balanced' for equal class representation in the validation set. Examples: (90,10) -> split into train and test proportionally; (80, 10, 10) splits into train,test, validate proportionally. \n",
    "                 'binary': False, # Indicates whether the task is binary (two classes) or multi-class classification.,\n",
    "                 'balanced': True, # his way labels used for training are split evenly, fitting size to the lowest label count. In (80, 10, 'balanced') n (equal to 80% of least represented label) will be taken from each label, rest will be used for test.\n",
    "                 }\n",
    "\n",
    "# Controls whether to save logs during a process. When set to False, logging is disabled.\n",
    "save_logs = True\n",
    "\n",
    "def ratio_split_tuple(split):\n",
    "    split_s = sum([i for i in split if isinstance(i, numbers.Integral)])\n",
    "    new_split = tuple([i/split_s if isinstance(i, numbers.Integral) else i for i in split])\n",
    "    return new_split\n",
    "\n",
    "if isinstance(params_tested['split'], list):\n",
    "    params_tested['split'] = list(map(ratio_split_tuple, params_tested['split']))\n",
    "else:\n",
    "    params_tested['split'] = ratio_split_tuple(params_tested['split'])\n",
    "\n",
    "params_tested={i:[q] if type(q) is not list else q for (i,q) in params_tested.items()}\n",
    "keys = list(params_tested.keys())\n",
    "combinations = list(itertools.product(*params_tested.values()))\n",
    "result = [{keys[i]: combination[i] for i in range(len(keys))} for combination in combinations]\n",
    "print(*result, sep='\\n')\n",
    "\n",
    "train_params_looped = result"
   ],
   "metadata": {
    "id": "oylcN846dO9V",
    "outputId": "79bedc27-b958-4529-83e3-9f112e0f732b",
    "ExecuteTime": {
     "end_time": "2024-04-13T15:19:17.502219Z",
     "start_time": "2024-04-13T15:19:17.494173Z"
    }
   },
   "outputs": [
    {
     "name": "stdout",
     "output_type": "stream",
     "text": [
      "{'model': 'michellejieli/emotion_text_classifier', 'num_train_epochs': 30, 'save_strategy': 'no', 'per_device_train_batch_size': 8, 'per_device_eval_batch_size': 64, 'split': (0.8, 0.1, 0.1), 'binary': False, 'balanced': True}\n"
     ]
    }
   ],
   "execution_count": 4
  },
  {
   "cell_type": "markdown",
   "source": [
    "## Functions"
   ],
   "metadata": {
    "collapsed": false
   }
  },
  {
   "cell_type": "code",
   "metadata": {
    "colab": {
     "base_uri": "https://localhost:8080/",
     "height": 843
    },
    "executionInfo": {
     "elapsed": 5420,
     "status": "ok",
     "timestamp": 1711981638003,
     "user": {
      "displayName": "Jakub Partyka",
      "userId": "06989008944538163465"
     },
     "user_tz": -120
    },
    "id": "NmTIZtvK6iUF",
    "outputId": "9ff554fa-71dd-4258-fac5-23ee1f950e71",
    "ExecuteTime": {
     "end_time": "2024-04-13T15:32:13.709914Z",
     "start_time": "2024-04-13T15:32:13.697274Z"
    }
   },
   "source": [
    "# Prepare functions\n",
    "\n",
    "def csv_to_ds(path, binary, split, balanced=False):\n",
    "    \"\"\"\n",
    "    Reads a CSV file, processes the data, and transforms it into a dataset ready for next steps.\n",
    "    \n",
    "    Args:\n",
    "        path (str): The path to the CSV file.\n",
    "        binary (bool): Flag indicating whether to convert labels to binary classification.\n",
    "        split (float): See explanation and examples for params_tested dict\n",
    "        balanced (bool): Flag indicating whether to balance training dataset or not.\n",
    "    \n",
    "    Returns:\n",
    "        tuple: A tuple containing:\n",
    "            * dataset: The processed dataset suitable for machine learning.\n",
    "            * tg_map: A dictionary mapping target labels to numerical values.\n",
    "            * reversed_tg_map: A dictionary mapping numerical values back to original labels. \n",
    "    \"\"\"\n",
    "    # csv to df\n",
    "    new_df = pd.read_excel(path)\n",
    "    new_df['label'] = new_df[['No_pathos', 'Positive', 'Negative']].idxmax(axis=1)\n",
    "    new_df = new_df.rename(columns={'Sentence':'sentence'})\n",
    "    if binary:\n",
    "        new_df['label'] = new_df['label'].apply(lambda x: to_binary_classification(x))\n",
    "\n",
    "    # target map and reversed target map\n",
    "    tg_map = {k:i for i,k in enumerate(new_df['label'].unique())}\n",
    "    reversed_tg_map = {v:k for k, v in tg_map.items()}\n",
    "        \n",
    "    ds = df_to_ds(new_df, split, tg_map, balanced=balanced)\n",
    "    return ds, tg_map, reversed_tg_map\n",
    "\n",
    "def to_binary_classification(x):\n",
    "    return np.where(['Positive', 'Negative'].isin(x), 'Pathos', x)\n",
    "\n",
    "def df_to_ds(df, split, tg_map, balanced=False):    \n",
    "    df['label'] = df['label'].map(tg_map)\n",
    "    if balanced:\n",
    "        train_test = [pd.Series(name='sentence'), pd.Series(name='sentence'), pd.Series(name='label'), pd.Series(name='label')]\n",
    "        n_for_training = df.groupby('label').count()['Source'].min()\n",
    "        train_percentage = df.groupby('label').count()['Source'].apply(lambda x: (split[0]*n_for_training)/x).to_dict()\n",
    "\n",
    "        for label_name, group in df.groupby('label'):\n",
    "            print(label_name)\n",
    "            train_test_group = train_test_split(group['sentence'], group['label'], test_size=1-train_percentage[label_name], random_state=42, shuffle=True)\n",
    "            print(train_test_group[0].shape)\n",
    "            print(train_test.shape)\n",
    "            train_test = [pd.concat([i[0],i[1]], axis=0) for i in zip(train_test, train_test_group)]\n",
    "    else:\n",
    "        train_test = train_test_split(df['sentence'], df['label'], stratify=df['label'], test_size=split[1], random_state=42, shuffle=True)\n",
    "\n",
    "    ds = DatasetDict()\n",
    "    ds['train'] = Dataset.from_pandas(pd.concat([train_test[0], train_test[2]], axis=1))     \n",
    "    if len(split)==2:\n",
    "        ds['test'] = Dataset.from_pandas(pd.concat([train_test[1], train_test[3]], axis=1))\n",
    "    elif len(split)==3:\n",
    "        val_ratio = split[2]/(split[1]+split[2])\n",
    "        test_validate = train_test_split(train_test[1], train_test[3], stratify=train_test[3], test_size=val_ratio, random_state=42, shuffle=True)\n",
    "        ds['test'] = Dataset.from_pandas(pd.concat([test_validate[0], test_validate[2]], axis=1))\n",
    "        ds['validate'] = Dataset.from_pandas(pd.concat([test_validate[1], test_validate[3]], axis=1))\n",
    "        \n",
    "    return ds\n",
    "\n",
    "# Train functions\n",
    "\n",
    "def compute_metrics(logits_and_labels):\n",
    "  logits, labels = logits_and_labels\n",
    "  predictions = np.argmax(logits, axis=-1)\n",
    "  acc = np.mean(predictions == labels)\n",
    "  f1 = f1_score(labels, predictions, average='macro')\n",
    "  return {'accuracy': acc, 'f1': f1}\n",
    "\n",
    "def save_logs_from_training_run(trainer, train_params, timestamp, trained_model_path, colab, target_map):\n",
    "    log_history = parse_log_history(trainer.state.log_history)\n",
    "    log_df = pd.DataFrame(log_history[1])\n",
    "    log_df.insert(0, 'model', train_params['model'])\n",
    "    log_df.insert(0, 'timestamp', timestamp)\n",
    "    log_df['model_path'] = trained_model_path\n",
    "    log_df['samples_per_s'] = log_history[0]['train_samples_per_second']\n",
    "    log_df['steps_per_s'] = log_history[0]['train_steps_per_second']\n",
    "    log_df['colab'] = colab\n",
    "    log_df['per_device_train_batch_size'] = train_params['per_device_train_batch_size']\n",
    "    log_df['per_device_eval_batch_size'] = train_params['per_device_eval_batch_size']\n",
    "    log_df['split'] = str(train_params['split'])\n",
    "    log_df['target_map'] = str(target_map)\n",
    "    log_df['binary'] = train_params['binary']\n",
    "\n",
    "    float_cols = log_df.select_dtypes(include='float64')\n",
    "    log_df[float_cols.columns] = float_cols.apply(lambda x: round(x, 3))\n",
    "    log_df.to_csv('output/training_logs.csv', mode='a', header= not os.path.isfile('output/training_logs.csv'), index=False)\n",
    "    \n",
    "def finetune(train_params, ds, target_map, save_logs):\n",
    "    params_passed = {k: train_params[k] for k in train_params if k not in ['model', 'split', 'binary']}\n",
    "    timestamp = datetime.datetime.now().strftime(\"%Y-%m-%d_%H-%M\")\n",
    "    trained_model_path = f'output/models/{train_params['model']}_{timestamp}'\n",
    "    try:\n",
    "        def tokenize_fn(batch):\n",
    "            return tokenizer(batch['sentence'], truncation=True)\n",
    "        \n",
    "        #Tokenize dataset\n",
    "        tokenizer = AutoTokenizer.from_pretrained(train_params['model'], trust_remote_code=True)\n",
    "        # tokenizer.pad_token = tokenizer.eos_token\n",
    "        if tokenizer.pad_token is None:\n",
    "            tokenizer.add_special_tokens({'pad_token': '[PAD]'})\n",
    "            # model.resize_token_embeddings(len(tokenizer))\n",
    "        tokenized_datasets = ds.map(tokenize_fn, batched=True)\n",
    "\n",
    "        # data_collator = DataCollatorWithPadding(tokenizer=tokenizer)\n",
    "        \n",
    "        #Change labels\n",
    "        config = AutoConfig.from_pretrained(train_params['model'], trust_remote_code=True)\n",
    "        config.vocab_size = tokenizer.vocab_size\n",
    "        config.id2label = reversed_target_map\n",
    "        config.label2id = target_map\n",
    "        \n",
    "        #Load model\n",
    "        model = AutoModelForSequenceClassification.from_pretrained(\n",
    "            train_params['model'], config=config, ignore_mismatched_sizes=True, trust_remote_code=True)\n",
    "        \n",
    "        if tokenizer.pad_token is None:\n",
    "            tokenizer.add_special_tokens({'pad_token': '[PAD]'})\n",
    "            model.resize_token_embeddings(len(tokenizer))\n",
    "    \n",
    "        training_args = TrainingArguments(\n",
    "          output_dir=f'{trained_model_path}/checkpoints',\n",
    "          evaluation_strategy='epoch',\n",
    "          logging_strategy='epoch',\n",
    "          use_cpu = False,\n",
    "          **params_passed\n",
    "        )\n",
    "    \n",
    "        trainer = Trainer(\n",
    "            model,\n",
    "            training_args,\n",
    "            train_dataset=tokenized_datasets[\"train\"],\n",
    "            eval_dataset=tokenized_datasets[\"test\"],\n",
    "            tokenizer=tokenizer,\n",
    "            compute_metrics=compute_metrics,\n",
    "            # data_collator=data_collator,\n",
    "        )\n",
    "        \n",
    "        trainer.train()\n",
    "        if save_logs:\n",
    "            save_logs_from_training_run(trainer, train_params, timestamp, trained_model_path, colab, target_map)\n",
    "\n",
    "    except Exception as e:\n",
    "        print(f'Error: {e}')\n",
    "        if save_logs:\n",
    "            err_df = pd.DataFrame([[trained_model_path, str(e)]])\n",
    "            err_df.to_csv('output/error_logs.csv', mode='a', header= not os.path.isfile('output/error_logs.csv'), index=False) \n",
    "    \n",
    "# Validate functions\n",
    "\n",
    "def get_log_for_val(checkpoint_path, sort_col='Step', logs_path='output/training_logs.csv'):\n",
    "    training_logs = pd.read_csv(logs_path)\n",
    "    if 'checkpoint-' in checkpoint_path:\n",
    "        temp_path = checkpoint_path.rsplit('models/', 1)[-1]\n",
    "        model_path, checkpoint_num = temp_path.rsplit('/checkpoints/checkpoint-')\n",
    "        row = training_logs[(training_logs['model_path'].apply(lambda x: x.rsplit('models/', 1)[-1] == model_path)) & (training_logs['Step'] == int(checkpoint_num))]\n",
    "    else:\n",
    "        row = training_logs[training_logs['model_path'] == checkpoint_path].sort_values(sort_col, ascending=False).head(1)\n",
    "    return row.iloc[0]\n",
    "\n",
    "def validate(row, ds):\n",
    "    val_sentences = ds['validate']['sentence']\n",
    "    val_labels = [reversed_target_map[i] for i in ds['validate']['label']]\n",
    "\n",
    "    classifier = pipeline('text-classification', model=os.path.join(row['model_path'], 'checkpoints', f\"checkpoint-{row['Step']}\"), device=0)\n",
    "    predicted = [i['label'] for i in classifier(val_sentences)]\n",
    "    return predicted, val_labels\n",
    "\n",
    "def val_metrics(predicted, val_labels, target_map):\n",
    "    print(\"acc:\", accuracy_score(val_labels, predicted))\n",
    "    print(\"f1:\", f1_score(val_labels, predicted, average='macro'))\n",
    "\n",
    "    cm = confusion_matrix(val_labels, predicted, normalize='true')\n",
    "    plot_cm(cm, target_map)\n",
    "\n",
    "def plot_cm(cm, target_map):\n",
    "    classes = list(target_map.keys())\n",
    "    df_cm = pd.DataFrame(cm, index=classes, columns=classes)\n",
    "    ax = sn.heatmap(df_cm, annot=True, fmt='.2g')\n",
    "    ax.set_xlabel(\"Predicted\")\n",
    "    ax.set_ylabel(\"Target\")\n"
   ],
   "outputs": [],
   "execution_count": 19
  },
  {
   "cell_type": "markdown",
   "source": [
    "## Run"
   ],
   "metadata": {
    "collapsed": false,
    "id": "ldKE0vAo6iUF"
   }
  },
  {
   "cell_type": "code",
   "source": [
    "# Load PolarIs-Pathos to df\n",
    "# source: https://github.com/kaatkaa/PolarIs-Corpora/blob/main/PolarIs-Full-Corpus/PolarIs-Full-Corpus-Pathos/PolarIs-Pathos.xlsx\n",
    "if colab:\n",
    "    from google.colab import drive\n",
    "    drive.mount('/content/drive')\n",
    "    data_path = 'drive/MyDrive/master_lm/PolarIs-Pathos.xlsx'\n",
    "else:\n",
    "    data_path = 'data/PolarIs-Pathos.xlsx'\n",
    "\n",
    "#run looped \n",
    "for train_params in train_params_looped:\n",
    "    dataset, target_map, reversed_target_map = csv_to_ds(data_path, train_params['binary'], train_params['split'], train_params['balanced'])\n",
    "    # finetune(train_params, dataset, target_map, save_logs)\n",
    "\n",
    "dataset"
   ],
   "metadata": {
    "collapsed": false,
    "ExecuteTime": {
     "end_time": "2024-04-13T15:32:15.421514Z",
     "start_time": "2024-04-13T15:32:14.552207Z"
    }
   },
   "outputs": [
    {
     "name": "stdout",
     "output_type": "stream",
     "text": [
      "0\n",
      "(676,)\n"
     ]
    },
    {
     "ename": "AttributeError",
     "evalue": "'list' object has no attribute 'shape'",
     "output_type": "error",
     "traceback": [
      "\u001B[1;31m---------------------------------------------------------------------------\u001B[0m",
      "\u001B[1;31mAttributeError\u001B[0m                            Traceback (most recent call last)",
      "Cell \u001B[1;32mIn[20], line 12\u001B[0m\n\u001B[0;32m     10\u001B[0m \u001B[38;5;66;03m#run looped \u001B[39;00m\n\u001B[0;32m     11\u001B[0m \u001B[38;5;28;01mfor\u001B[39;00m train_params \u001B[38;5;129;01min\u001B[39;00m train_params_looped:\n\u001B[1;32m---> 12\u001B[0m     dataset, target_map, reversed_target_map \u001B[38;5;241m=\u001B[39m \u001B[43mcsv_to_ds\u001B[49m\u001B[43m(\u001B[49m\u001B[43mdata_path\u001B[49m\u001B[43m,\u001B[49m\u001B[43m \u001B[49m\u001B[43mtrain_params\u001B[49m\u001B[43m[\u001B[49m\u001B[38;5;124;43m'\u001B[39;49m\u001B[38;5;124;43mbinary\u001B[39;49m\u001B[38;5;124;43m'\u001B[39;49m\u001B[43m]\u001B[49m\u001B[43m,\u001B[49m\u001B[43m \u001B[49m\u001B[43mtrain_params\u001B[49m\u001B[43m[\u001B[49m\u001B[38;5;124;43m'\u001B[39;49m\u001B[38;5;124;43msplit\u001B[39;49m\u001B[38;5;124;43m'\u001B[39;49m\u001B[43m]\u001B[49m\u001B[43m,\u001B[49m\u001B[43m \u001B[49m\u001B[43mtrain_params\u001B[49m\u001B[43m[\u001B[49m\u001B[38;5;124;43m'\u001B[39;49m\u001B[38;5;124;43mbalanced\u001B[39;49m\u001B[38;5;124;43m'\u001B[39;49m\u001B[43m]\u001B[49m\u001B[43m)\u001B[49m\n\u001B[0;32m     13\u001B[0m     \u001B[38;5;66;03m# finetune(train_params, dataset, target_map, save_logs)\u001B[39;00m\n\u001B[0;32m     15\u001B[0m dataset\n",
      "Cell \u001B[1;32mIn[19], line 30\u001B[0m, in \u001B[0;36mcsv_to_ds\u001B[1;34m(path, binary, split, balanced)\u001B[0m\n\u001B[0;32m     27\u001B[0m tg_map \u001B[38;5;241m=\u001B[39m {k:i \u001B[38;5;28;01mfor\u001B[39;00m i,k \u001B[38;5;129;01min\u001B[39;00m \u001B[38;5;28menumerate\u001B[39m(new_df[\u001B[38;5;124m'\u001B[39m\u001B[38;5;124mlabel\u001B[39m\u001B[38;5;124m'\u001B[39m]\u001B[38;5;241m.\u001B[39munique())}\n\u001B[0;32m     28\u001B[0m reversed_tg_map \u001B[38;5;241m=\u001B[39m {v:k \u001B[38;5;28;01mfor\u001B[39;00m k, v \u001B[38;5;129;01min\u001B[39;00m tg_map\u001B[38;5;241m.\u001B[39mitems()}\n\u001B[1;32m---> 30\u001B[0m ds \u001B[38;5;241m=\u001B[39m \u001B[43mdf_to_ds\u001B[49m\u001B[43m(\u001B[49m\u001B[43mnew_df\u001B[49m\u001B[43m,\u001B[49m\u001B[43m \u001B[49m\u001B[43msplit\u001B[49m\u001B[43m,\u001B[49m\u001B[43m \u001B[49m\u001B[43mtg_map\u001B[49m\u001B[43m,\u001B[49m\u001B[43m \u001B[49m\u001B[43mbalanced\u001B[49m\u001B[38;5;241;43m=\u001B[39;49m\u001B[43mbalanced\u001B[49m\u001B[43m)\u001B[49m\n\u001B[0;32m     31\u001B[0m \u001B[38;5;28;01mreturn\u001B[39;00m ds, tg_map, reversed_tg_map\n",
      "Cell \u001B[1;32mIn[19], line 47\u001B[0m, in \u001B[0;36mdf_to_ds\u001B[1;34m(df, split, tg_map, balanced)\u001B[0m\n\u001B[0;32m     45\u001B[0m         train_test_group \u001B[38;5;241m=\u001B[39m train_test_split(group[\u001B[38;5;124m'\u001B[39m\u001B[38;5;124msentence\u001B[39m\u001B[38;5;124m'\u001B[39m], group[\u001B[38;5;124m'\u001B[39m\u001B[38;5;124mlabel\u001B[39m\u001B[38;5;124m'\u001B[39m], test_size\u001B[38;5;241m=\u001B[39m\u001B[38;5;241m1\u001B[39m\u001B[38;5;241m-\u001B[39mtrain_percentage[label_name], random_state\u001B[38;5;241m=\u001B[39m\u001B[38;5;241m42\u001B[39m, shuffle\u001B[38;5;241m=\u001B[39m\u001B[38;5;28;01mTrue\u001B[39;00m)\n\u001B[0;32m     46\u001B[0m         \u001B[38;5;28mprint\u001B[39m(train_test_group[\u001B[38;5;241m0\u001B[39m]\u001B[38;5;241m.\u001B[39mshape)\n\u001B[1;32m---> 47\u001B[0m         \u001B[38;5;28mprint\u001B[39m(\u001B[43mtrain_test\u001B[49m\u001B[38;5;241;43m.\u001B[39;49m\u001B[43mshape\u001B[49m)\n\u001B[0;32m     48\u001B[0m         train_test \u001B[38;5;241m=\u001B[39m [pd\u001B[38;5;241m.\u001B[39mconcat([i[\u001B[38;5;241m0\u001B[39m],i[\u001B[38;5;241m1\u001B[39m]], axis\u001B[38;5;241m=\u001B[39m\u001B[38;5;241m0\u001B[39m) \u001B[38;5;28;01mfor\u001B[39;00m i \u001B[38;5;129;01min\u001B[39;00m \u001B[38;5;28mzip\u001B[39m(train_test, train_test_group)]\n\u001B[0;32m     49\u001B[0m \u001B[38;5;28;01melse\u001B[39;00m:\n",
      "\u001B[1;31mAttributeError\u001B[0m: 'list' object has no attribute 'shape'"
     ]
    }
   ],
   "execution_count": 20
  },
  {
   "metadata": {},
   "cell_type": "markdown",
   "source": [
    "## Validate"
   ]
  },
  {
   "metadata": {
    "ExecuteTime": {
     "end_time": "2024-04-13T14:58:21.341078Z",
     "start_time": "2024-04-13T14:58:21.337967Z"
    }
   },
   "cell_type": "code",
   "source": "dataset",
   "outputs": [
    {
     "data": {
      "text/plain": [
       "DatasetDict({\n",
       "    train: Dataset({\n",
       "        features: ['sentence', 'label', '__index_level_0__'],\n",
       "        num_rows: 14029\n",
       "    })\n",
       "    test: Dataset({\n",
       "        features: ['sentence', 'label', '__index_level_0__'],\n",
       "        num_rows: 779\n",
       "    })\n",
       "    validate: Dataset({\n",
       "        features: ['sentence', 'label', '__index_level_0__'],\n",
       "        num_rows: 780\n",
       "    })\n",
       "})"
      ]
     },
     "execution_count": 35,
     "metadata": {},
     "output_type": "execute_result"
    }
   ],
   "execution_count": 35
  },
  {
   "metadata": {
    "ExecuteTime": {
     "end_time": "2024-04-13T14:58:05.855053Z",
     "start_time": "2024-04-13T14:58:00.553340Z"
    }
   },
   "cell_type": "code",
   "source": [
    "# Load PolarIs-Pathos to df\n",
    "# source: https://github.com/kaatkaa/PolarIs-Corpora/blob/main/PolarIs-Full-Corpus/PolarIs-Full-Corpus-Pathos/PolarIs-Pathos.xlsx\n",
    "if colab:\n",
    "    from google.colab import drive\n",
    "    drive.mount('/content/drive')\n",
    "    data_path = 'drive/MyDrive/master_lm/PolarIs-Pathos.xlsx'\n",
    "else:\n",
    "    data_path = 'data/PolarIs-Pathos.xlsx'\n",
    "\n",
    "df = pd.read_excel(data_path)\n",
    "df['label'] = df[['No_pathos', 'Positive', 'Negative']].idxmax(axis=1)\n",
    "df = df.rename(columns={'Sentence':'sentence'})\n",
    "\n",
    "checkpoint_path = 'output/models/michellejieli/emotion_text_classifier_2024-04-11_09-02/checkpoints/checkpoint-15590'\n",
    "# checkpoint_path = 'output/models/michellejieli/emotion_text_classifier_2024-04-11_09-02'    \n",
    "\n",
    "val_row = get_log_for_val(checkpoint_path)\n",
    "val_row['split'] = tuple([float(i) for i in val_row['split'][1:-1].split(', ')])\n",
    "\n",
    "dataset, target_map, reversed_target_map = csv_to_ds(data_path, val_row['binary'], val_row['split'])\n",
    "predicted_labels, true_labels = validate(val_row, dataset)\n",
    "val_metrics(predicted_labels, true_labels, target_map)\n",
    "\n",
    "\n",
    "print(f'No_pathos: {len([i for i in predicted_labels if i=='No_pathos'])}/{len([i for i in true_labels if i=='No_pathos'])}')\n",
    "print(f'Negative: {len([i for i in predicted_labels if i=='Negative'])}/{len([i for i in true_labels if i=='Negative'])}')\n",
    "print(f'Positive: {len([i for i in predicted_labels if i=='Positive'])}/{len([i for i in true_labels if i=='Positive'])}')"
   ],
   "outputs": [
    {
     "name": "stdout",
     "output_type": "stream",
     "text": [
      "acc: 0.7282051282051282\n",
      "f1: 0.5839240046047371\n",
      "No_pathos: 567/532\n",
      "Negative: 178/206\n",
      "Positive: 35/42\n"
     ]
    },
    {
     "data": {
      "text/plain": [
       "<Figure size 640x480 with 2 Axes>"
      ],
      "image/png": "[encoded data removed]"
     },
     "metadata": {},
     "output_type": "display_data"
    }
   ],
   "execution_count": 34
  },
  {
   "metadata": {},
   "cell_type": "code",
   "source": [
    "print(f'No_pathos: {len([i for i in predicted if i=='No_pathos'])}/{len([i for i in true_labels if i=='No_pathos'])}')\n",
    "print(f'Negative: {len([i for i in predicted if i=='Negative'])}/{len([i for i in true_labels if i=='Negative'])}')\n",
    "print(f'Positive: {len([i for i in predicted if i=='Positive'])}/{len([i for i in true_labels if i=='Positive'])}')"
   ],
   "outputs": [],
   "execution_count": null
  }
 ],
 "metadata": {
  "accelerator": "GPU",
  "colab": {
   "gpuType": "T4",
   "provenance": []
  },
  "kernelspec": {
   "display_name": "Python 3 (ipykernel)",
   "language": "python",
   "name": "python3"
  },
  "language_info": {
   "name": "python"
  },
  "widgets": {
   "application/vnd.jupyter.widget-state+json": {}
  }
 },
 "nbformat": 4,
 "nbformat_minor": 0
}
