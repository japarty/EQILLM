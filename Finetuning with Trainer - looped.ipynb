{
 "cells": [
  {
   "cell_type": "markdown",
   "metadata": {
    "collapsed": false,
    "id": "7Rwla6Ky6iUA"
   },
   "source": [
    "# Finetuning with Trainer and text-classification model validation"
   ]
  },
  {
   "cell_type": "code",
   "metadata": {
    "colab": {
     "base_uri": "https://localhost:8080/"
    },
    "executionInfo": {
     "elapsed": 544715,
     "status": "ok",
     "timestamp": 1712223783678,
     "user": {
      "displayName": "Jakub Partyka",
      "userId": "06989008944538163465"
     },
     "user_tz": -120
    },
    "id": "kTnSLtc16iUE",
    "outputId": "a50dcaf4-d038-46e9-a607-73102b1b945f",
    "ExecuteTime": {
     "end_time": "2024-04-12T20:42:31.851442Z",
     "start_time": "2024-04-12T20:42:31.847893Z"
    }
   },
   "source": [
    "import os\n",
    "\n",
    "if os.getenv(\"COLAB_RELEASE_TAG\"):\n",
    "   colab = True\n",
    "else:\n",
    "   colab = False\n",
    "\n",
    "if colab:\n",
    "    !pip install transformers[torch]\n",
    "    !pip install accelerate -U\n",
    "    !pip install datasets\n",
    "    !pip install torchinfo\n",
    "    #ImportError: Using the `Trainer` with `PyTorch` requires `accelerate>=0.20.1`: Please run `pip install transformers[torch]` or `pip install accelerate -U"
   ],
   "outputs": [],
   "execution_count": 74
  },
  {
   "cell_type": "code",
   "metadata": {
    "id": "F7z05bbBe5G9",
    "ExecuteTime": {
     "end_time": "2024-04-12T20:42:31.887990Z",
     "start_time": "2024-04-12T20:42:31.884987Z"
    }
   },
   "source": [
    "from sklearn.model_selection import train_test_split\n",
    "import datetime\n",
    "import itertools\n",
    "import matplotlib.pyplot as plt\n",
    "import numpy as np\n",
    "import os\n",
    "import glob\n",
    "import pandas as pd\n",
    "import pathlib\n",
    "import seaborn as sn\n",
    "import torch\n",
    "import numbers\n",
    "\n",
    "from tqdm.autonotebook import tqdm\n",
    "from datasets import load_dataset, Dataset, DatasetDict\n",
    "from sklearn.metrics import f1_score, accuracy_score, confusion_matrix\n",
    "from torchinfo import summary\n",
    "from transformers import AutoModelForSequenceClassification, AutoConfig, Trainer, TrainingArguments, DataCollatorWithPadding, AutoTokenizer, pipeline\n",
    "from transformers.modelcard import parse_log_history"
   ],
   "outputs": [],
   "execution_count": 75
  },
  {
   "cell_type": "markdown",
   "source": "# Prepare parameters for each run of finetuning",
   "metadata": {
    "collapsed": false,
    "id": "xmkxi8ZMdO9U"
   }
  },
  {
   "cell_type": "code",
   "source": [
    "# from huggingface_hub import notebook_login\n",
    "# notebook_login()"
   ],
   "metadata": {
    "id": "vURNs2uSdO9U",
    "ExecuteTime": {
     "end_time": "2024-04-12T20:42:31.903690Z",
     "start_time": "2024-04-12T20:42:31.902009Z"
    }
   },
   "outputs": [],
   "execution_count": 76
  },
  {
   "cell_type": "code",
   "source": [
    "# models = ['albert', 'bart', 'bert', 'big_bird', 'bigbird_pegasus', 'biogpt', 'bloom', 'camembert', 'canine', 'code_llama', 'convbert', 'ctrl', 'data2vec-text', 'deberta', 'deberta-v2', 'distilbert', 'electra', 'ernie', 'ernie_m', 'esm', 'falcon', 'flaubert', 'fnet', 'funnel', 'gemma', 'gpt-sw3', 'gpt2', 'gpt_bigcode', 'gpt_neo', 'gpt_neox', 'gptj', 'ibert', 'layoutlm', 'layoutlmv2', 'layoutlmv3', 'led', 'lilt', 'llama', 'longformer', 'luke', 'markuplm', 'mbart', 'mega', 'megatron-bert', 'mistral', 'mixtral', 'mobilebert', 'mpnet', 'mpt', 'mra', 'mt5', 'mvp', 'nezha', 'nystromformer', 'open-llama', 'openai-gpt', 'opt', 'perceiver', 'persimmon', 'phi', 'plbart', 'qdqbert', 'qwen2', 'reformer', 'rembert', 'roberta', 'roberta-prelayernorm', 'roc_bert', 'roformer', 'squeezebert', 'stablelm', 'starcoder2', 't5', 'tapas', 'transfo-xl', 'umt5', 'xlm', 'xlm-roberta', 'xlm-roberta-xl', 'xlnet', 'xmod', 'yoso',]\n",
    "# =============================================\n",
    "# tested = 'distilbert-base-cased', 'camembert-base', 'ctrl', 'xlnet-base-cased', 'roberta-base', 'distilroberta-base', 'flaubert/flaubert_base_cased'\n",
    "# ----------\n",
    "#too weak pc (cannot be loaded or runs at speeds <1 it/s) = 'albert-xlarge-v1', 't5-11B', 'LongformerForSequenceClassification', 'xlm-roberta-base', 'allenai/longformer-base-4096', 'facebook/bart-large',  flaubert/flaubert_large_cased (stopped at 0.5 epoch), \n",
    "# ----------\n",
    "# need changes to run (check error logs) =  ProsusAI/finbert (despite adding padding proposed in error)\n",
    "# =============================================\n",
    "# model_path = 'SamLowe/roberta-base-go_emotions'\n",
    "# model_path = 'distilbert-base-uncased'\n",
    "# model_path = 'xlmoberta'\n",
    "\n",
    "# , 'camembert-base', 'ctrl', 'xlnet-base-cased', 'roberta-base', 'distilroberta-base', 'flaubert/flaubert_base_cased'\n",
    "\n",
    "# deprecated: transfo-xl-wt103\n",
    "\n",
    "\n",
    "#if list of objects is provided list of all combinations of parameters will be created for running\n",
    "params_tested = {'model': ['michellejieli/emotion_text_classifier'],\n",
    "                 'num_train_epochs': 10,\n",
    "                 'save_strategy': 'epoch', # 'epoch'/'no'\n",
    "                 'per_device_train_batch_size': 8,\n",
    "                 'per_device_eval_batch_size': 64,\n",
    "                 'split': [(80, 10, 10)], #may be tuple of len 2/3, dividing respectively into 2:{train, test} and 3:{train, test, validate}. By default labels are stratified. You may pass \"balanced\" instead of the last element, number of labels for each class will be   \n",
    "                 'binary': False\n",
    "                 }\n",
    "\n",
    "save_logs = True\n",
    "skip_finetuning = False\n",
    "\n",
    "def ratio_split_tuple(split):\n",
    "    split_s = sum([i for i in split if isinstance(i, numbers.Integral)])\n",
    "    new_split = tuple([i/split_s if isinstance(i, numbers.Integral) else i for i in split])\n",
    "    return new_split\n",
    "\n",
    "if isinstance(params_tested['split'], list):\n",
    "    params_tested['split'] = list(map(ratio_split_tuple, params_tested['split']))\n",
    "else:\n",
    "    params_tested['split'] = ratio_split_tuple(params_tested['split'])\n",
    "\n",
    "params_tested={i:[q] if type(q) is not list else q for (i,q) in params_tested.items()}\n",
    "keys = list(params_tested.keys())\n",
    "combinations = list(itertools.product(*params_tested.values()))\n",
    "result = [{keys[i]: combination[i] for i in range(len(keys))} for combination in combinations]\n",
    "print(*result, sep='\\n')\n",
    "\n",
    "train_params_looped = result"
   ],
   "metadata": {
    "id": "oylcN846dO9V",
    "outputId": "79bedc27-b958-4529-83e3-9f112e0f732b",
    "ExecuteTime": {
     "end_time": "2024-04-12T20:42:31.911007Z",
     "start_time": "2024-04-12T20:42:31.903690Z"
    }
   },
   "outputs": [
    {
     "name": "stdout",
     "output_type": "stream",
     "text": [
      "{'model': 'michellejieli/emotion_text_classifier', 'num_train_epochs': 10, 'save_strategy': 'epoch', 'per_device_train_batch_size': 8, 'per_device_eval_batch_size': 64, 'split': (0.8, 0.1, 0.1), 'binary': False}\n"
     ]
    }
   ],
   "execution_count": 77
  },
  {
   "cell_type": "markdown",
   "source": [
    "## Functions"
   ],
   "metadata": {
    "collapsed": false
   }
  },
  {
   "cell_type": "code",
   "metadata": {
    "colab": {
     "base_uri": "https://localhost:8080/",
     "height": 843
    },
    "executionInfo": {
     "elapsed": 5420,
     "status": "ok",
     "timestamp": 1711981638003,
     "user": {
      "displayName": "Jakub Partyka",
      "userId": "06989008944538163465"
     },
     "user_tz": -120
    },
    "id": "NmTIZtvK6iUF",
    "outputId": "9ff554fa-71dd-4258-fac5-23ee1f950e71",
    "ExecuteTime": {
     "end_time": "2024-04-12T21:06:56.272004Z",
     "start_time": "2024-04-12T21:06:56.257992Z"
    }
   },
   "source": [
    "# Prepare functions\n",
    "\n",
    "def df_to_ds(run_df, run_split):\n",
    "    \n",
    "    target_map = {k:i for i,k in enumerate(df['label'].unique())}\n",
    "    reversed_target_map = {v:k for k, v in target_map.items()}\n",
    "\n",
    "    run_df['label'] = run_df['label'].map(target_map)\n",
    "    \n",
    "    if run_split[-1]=='balanced' or len(run_split)==2:\n",
    "        if run_split[-1]=='balanced':\n",
    "            split = [pd.Series(name='sentence'), pd.Series(name='sentence'), pd.Series(name='label'), pd.Series(name='label')]\n",
    "            n_for_training = run_df.groupby('label').count()['Source'].min()\n",
    "            train_percentage = run_df.groupby('label').count()['Source'].apply(lambda x: (run_split[0]*n_for_training)/x).to_dict()\n",
    "            \n",
    "            for label_name, group in run_df.groupby('label'):\n",
    "                split_t = train_test_split(group['sentence'], group['label'], test_size=1-train_percentage[label_name], random_state=42, shuffle=True)\n",
    "                split = [pd.concat([i[0],i[1]], axis=0) for i in zip(split, split_t)]\n",
    "        else:\n",
    "            split = train_test_split(run_df['sentence'], run_df['label'], stratify=run_df['label'], test_size=run_split[1], random_state=42, shuffle=True)\n",
    "        ds = DatasetDict()\n",
    "        ds['train'] = Dataset.from_pandas(pd.concat([split[0], split[2]], axis=1))\n",
    "        ds['test'] = Dataset.from_pandas(pd.concat([split[1], split[3]], axis=1))\n",
    "    elif len(run_split)==3:\n",
    "        non_train_size = 1-run_split[0]\n",
    "        split = train_test_split(run_df['sentence'], run_df['label'], stratify=run_df['label'], test_size=non_train_size, random_state=42, shuffle=True)\n",
    "        split2 = train_test_split(run_df['sentence'], run_df['label'], stratify=run_df['label'], test_size=run_split[2]/non_train_size, random_state=42, shuffle=True)\n",
    "        ds = DatasetDict()\n",
    "        ds['train'] = Dataset.from_pandas(pd.concat([split[0], split[2]], axis=1))\n",
    "        ds['test'] = Dataset.from_pandas(pd.concat([split2[0], split2[2]], axis=1))\n",
    "        ds['validate'] = Dataset.from_pandas(pd.concat([split2[1], split2[3]], axis=1))\n",
    "    return ds, target_map, reversed_target_map\n",
    "\n",
    "# Train functions\n",
    "\n",
    "def compute_metrics(logits_and_labels):\n",
    "  logits, labels = logits_and_labels\n",
    "  predictions = np.argmax(logits, axis=-1)\n",
    "  acc = np.mean(predictions == labels)\n",
    "  f1 = f1_score(labels, predictions, average='macro')\n",
    "  return {'accuracy': acc, 'f1': f1}\n",
    "\n",
    "def save_logs_from_training_run(trainer, train_params, timestamp, trained_model_path, colab, target_map):\n",
    "    log_history = parse_log_history(trainer.state.log_history)\n",
    "    log_df = pd.DataFrame(log_history[1])\n",
    "    log_df.insert(0, 'model', train_params['model'])\n",
    "    log_df.insert(0, 'timestamp', timestamp)\n",
    "    log_df['model_path'] = trained_model_path\n",
    "    log_df['samples_per_s'] = log_history[0]['train_samples_per_second']\n",
    "    log_df['steps_per_s'] = log_history[0]['train_steps_per_second']\n",
    "    log_df['colab'] = colab\n",
    "    log_df['per_device_train_batch_size'] = train_params['per_device_train_batch_size']\n",
    "    log_df['per_device_eval_batch_size'] = train_params['per_device_eval_batch_size']\n",
    "    log_df['split'] = str(train_params['split'])\n",
    "    log_df['target_map'] = str(target_map)\n",
    "    log_df['binary'] = train_params['binary']\n",
    "\n",
    "    float_cols = log_df.select_dtypes(include='float64')\n",
    "    log_df[float_cols.columns] = float_cols.apply(lambda x: round(x, 3))\n",
    "    log_df.to_csv('output/training_logs.csv', mode='a', header= not os.path.isfile('output/training_logs.csv'), index=False)\n",
    "    \n",
    "def finetune(train_params, ds, target_map, save_logs):\n",
    "    params_passed = {k: train_params[k] for k in train_params if k not in ['model', 'split', 'binary']}\n",
    "    timestamp = datetime.datetime.now().strftime(\"%Y-%m-%d_%H-%M\")\n",
    "    trained_model_path = f'output/models/{train_params['model']}_{timestamp}'\n",
    "    try:\n",
    "        def tokenize_fn(batch):\n",
    "            return tokenizer(batch['sentence'], truncation=True)\n",
    "        \n",
    "        #Tokenize dataset\n",
    "        tokenizer = AutoTokenizer.from_pretrained(train_params['model'], trust_remote_code=True)\n",
    "        # tokenizer.pad_token = tokenizer.eos_token\n",
    "        if tokenizer.pad_token is None:\n",
    "            print('isnone')\n",
    "            tokenizer.add_special_tokens({'pad_token': '[PAD]'})\n",
    "            # model.resize_token_embeddings(len(tokenizer))\n",
    "        tokenized_datasets = ds.map(tokenize_fn, batched=True)\n",
    "\n",
    "        # data_collator = DataCollatorWithPadding(tokenizer=tokenizer)\n",
    "        \n",
    "        #Change labels\n",
    "        config = AutoConfig.from_pretrained(train_params['model'], trust_remote_code=True)\n",
    "        config.vocab_size = tokenizer.vocab_size\n",
    "        config.id2label = reversed_target_map\n",
    "        config.label2id = target_map\n",
    "        \n",
    "        #Load model\n",
    "        model = AutoModelForSequenceClassification.from_pretrained(\n",
    "            train_params['model'], config=config, ignore_mismatched_sizes=True, trust_remote_code=True)\n",
    "        \n",
    "        if tokenizer.pad_token is None:\n",
    "            tokenizer.add_special_tokens({'pad_token': '[PAD]'})\n",
    "            model.resize_token_embeddings(len(tokenizer))\n",
    "    \n",
    "        training_args = TrainingArguments(\n",
    "          output_dir=f'{trained_model_path}/checkpoints',\n",
    "          evaluation_strategy='epoch',\n",
    "          logging_strategy='epoch',\n",
    "          use_cpu = False,\n",
    "          **params_passed\n",
    "        )\n",
    "    \n",
    "        trainer = Trainer(\n",
    "            model,\n",
    "            training_args,\n",
    "            train_dataset=tokenized_datasets[\"train\"],\n",
    "            eval_dataset=tokenized_datasets[\"test\"],\n",
    "            tokenizer=tokenizer,\n",
    "            compute_metrics=compute_metrics,\n",
    "            # data_collator=data_collator,\n",
    "        )\n",
    "        \n",
    "        trainer.train()\n",
    "        if save_logs:\n",
    "            print('123321')\n",
    "            save_logs_from_training_run(trainer, train_params, timestamp, trained_model_path, colab, target_map)\n",
    "\n",
    "    except Exception as e:\n",
    "        print(f'Error: {e}')\n",
    "        if save_logs:\n",
    "            err_df = pd.DataFrame([[trained_model_path, str(e)]])\n",
    "            err_df.to_csv('output/error_logs.csv', mode='a', header= not os.path.isfile('output/error_logs.csv'), index=False)\n",
    "        \n",
    "\n",
    "        \n",
    "def to_binary_classification(x):\n",
    "    if x in ['Positive', 'Negative']:\n",
    "        return 'Pathos'\n",
    "    else:\n",
    "        return x\n",
    "    \n",
    "    \n",
    "# Validate functions\n",
    "\n",
    "def validate_from_row(checkpoint_path, df):\n",
    "    val_row = get_log_for_val(checkpoint_path)\n",
    "    predicted, val_labels = validate(val_row, df.copy())\n",
    "    val_metrics(predicted, val_labels)\n",
    "\n",
    "    return predicted, val_labels\n",
    "\n",
    "def get_log_for_val(checkpoint_path, sort_col='Step', logs_path='output/training_logs.csv'):\n",
    "    training_logs = pd.read_csv(logs_path)\n",
    "    if 'checkpoint-' in checkpoint_path:\n",
    "        temp_path = checkpoint_path.rsplit('models/', 1)[-1]\n",
    "        model_path, checkpoint_num = temp_path.rsplit('/checkpoints/checkpoint-')\n",
    "        row = training_logs[(training_logs['model_path'].apply(lambda x: x.rsplit('models/', 1)[-1] == model_path)) & (training_logs['Step'] == int(checkpoint_num))]\n",
    "    else:\n",
    "        row = training_logs[training_logs['model_path'] == checkpoint_path].sort_values(sort_col, ascending=False).head(1)\n",
    "    return row.iloc[0]\n",
    "\n",
    "def validate(val_row, run_df):\n",
    "    if val_row['binary']:\n",
    "        run_df['label'] = run_df['label'].apply(lambda x: to_binary_classification(x))\n",
    "    split = tuple(float(i) if i.replace('.','',1).isdigit() else i for i in val_row['split'][1:-1].split(', '))\n",
    "    ds, target_map, reversed_target_map, = df_to_ds(run_df, split)\n",
    "    val_sentences = ds['validate']['sentence']\n",
    "    val_labels = [reversed_target_map[i] for i in ds['validate']['label']]\n",
    "\n",
    "    classifier = pipeline('text-classification', model=os.path.join(val_row['model_path'], 'checkpoints', f\"checkpoint-{val_row['Step']}\"), device=0)\n",
    "    predicted = [i['label'] for i in classifier(val_sentences)]\n",
    "    return predicted, val_labels\n",
    "\n",
    "def val_metrics(predicted, val_labels):\n",
    "    print(\"acc:\", accuracy_score(val_labels, predicted))\n",
    "    print(\"f1:\", f1_score(val_labels, predicted, average='macro'))\n",
    "\n",
    "    cm = confusion_matrix(val_labels, predicted, normalize='true')\n",
    "    plot_cm(cm)\n",
    "\n",
    "def plot_cm(cm):\n",
    "    classes = list(target_map.keys())\n",
    "    df_cm = pd.DataFrame(cm, index=classes, columns=classes)\n",
    "    ax = sn.heatmap(df_cm, annot=True, fmt='.2g')\n",
    "    ax.set_xlabel(\"Predicted\")\n",
    "    ax.set_ylabel(\"Target\")"
   ],
   "outputs": [],
   "execution_count": 83
  },
  {
   "cell_type": "markdown",
   "source": [
    "## Run"
   ],
   "metadata": {
    "collapsed": false,
    "id": "ldKE0vAo6iUF"
   }
  },
  {
   "cell_type": "code",
   "source": [
    "# Load PolarIs-Pathos to df\n",
    "# source: https://github.com/kaatkaa/PolarIs-Corpora/blob/main/PolarIs-Full-Corpus/PolarIs-Full-Corpus-Pathos/PolarIs-Pathos.xlsx\n",
    "if colab:\n",
    "    from google.colab import drive\n",
    "    drive.mount('/content/drive')\n",
    "    data_path = 'drive/MyDrive/master_lm/PolarIs-Pathos.xlsx'\n",
    "else:\n",
    "    data_path = 'data/PolarIs-Pathos.xlsx'\n",
    "\n",
    "df = pd.read_excel(data_path)\n",
    "df['label'] = df[['No_pathos', 'Positive', 'Negative']].idxmax(axis=1)\n",
    "df = df.rename(columns={'Sentence':'sentence'})\n",
    "\n",
    "#run looped \n",
    "for train_params in tqdm(train_params_looped):\n",
    "    run_df = df.copy()\n",
    "    if train_params['binary']:\n",
    "        run_df['label'] = run_df['label'].apply(lambda x: to_binary_classification(x))\n",
    "    ds, target_map, reversed_target_map, = df_to_ds(run_df, train_params['split'])\n",
    "    if not skip_finetuning:\n",
    "        finetune(train_params, ds, target_map,save_logs)"
   ],
   "metadata": {
    "collapsed": false,
    "ExecuteTime": {
     "end_time": "2024-04-12T19:50:45.873705Z",
     "start_time": "2024-04-12T19:50:37.161170Z"
    }
   },
   "outputs": [
    {
     "data": {
      "text/plain": [
       "  0%|          | 0/1 [00:00<?, ?it/s]"
      ],
      "application/vnd.jupyter.widget-view+json": {
       "version_major": 2,
       "version_minor": 0,
       "model_id": "db019474fa9540a280a8e7fc29feba3b"
      }
     },
     "metadata": {},
     "output_type": "display_data"
    },
    {
     "data": {
      "text/plain": [
       "Map:   0%|          | 0/12470 [00:00<?, ? examples/s]"
      ],
      "application/vnd.jupyter.widget-view+json": {
       "version_major": 2,
       "version_minor": 0,
       "model_id": "c45d84c4e6634d02ab175d2058f8c4a3"
      }
     },
     "metadata": {},
     "output_type": "display_data"
    },
    {
     "data": {
      "text/plain": [
       "Map:   0%|          | 0/7793 [00:00<?, ? examples/s]"
      ],
      "application/vnd.jupyter.widget-view+json": {
       "version_major": 2,
       "version_minor": 0,
       "model_id": "614c4fc884ad483187a2282052c3cf7c"
      }
     },
     "metadata": {},
     "output_type": "display_data"
    },
    {
     "data": {
      "text/plain": [
       "Map:   0%|          | 0/7795 [00:00<?, ? examples/s]"
      ],
      "application/vnd.jupyter.widget-view+json": {
       "version_major": 2,
       "version_minor": 0,
       "model_id": "ef382b35e9124266993bc466e4b5d30e"
      }
     },
     "metadata": {},
     "output_type": "display_data"
    },
    {
     "name": "stderr",
     "output_type": "stream",
     "text": [
      "Some weights of RobertaForSequenceClassification were not initialized from the model checkpoint at michellejieli/emotion_text_classifier and are newly initialized because the shapes did not match:\n",
      "- classifier.out_proj.weight: found shape torch.Size([7, 768]) in the checkpoint and torch.Size([3, 768]) in the model instantiated\n",
      "- classifier.out_proj.bias: found shape torch.Size([7]) in the checkpoint and torch.Size([3]) in the model instantiated\n",
      "You should probably TRAIN this model on a down-stream task to be able to use it for predictions and inference.\n",
      "C:\\Users\\Jakub\\DataspellProjects\\EQILLM\\venv\\Lib\\site-packages\\accelerate\\accelerator.py:436: FutureWarning: Passing the following arguments to `Accelerator` is deprecated and will be removed in version 1.0 of Accelerate: dict_keys(['dispatch_batches', 'split_batches', 'even_batches', 'use_seedable_sampler']). Please pass an `accelerate.DataLoaderConfiguration` instead: \n",
      "dataloader_config = DataLoaderConfiguration(dispatch_batches=None, split_batches=False, even_batches=True, use_seedable_sampler=True)\n",
      "  warnings.warn(\n"
     ]
    },
    {
     "data": {
      "text/plain": [
       "<IPython.core.display.HTML object>"
      ],
      "text/html": [
       "\n",
       "    <div>\n",
       "      \n",
       "      <progress value='188' max='15590' style='width:300px; height:20px; vertical-align: middle;'></progress>\n",
       "      [  188/15590 00:04 < 06:41, 38.39 it/s, Epoch 0.12/10]\n",
       "    </div>\n",
       "    <table border=\"1\" class=\"dataframe\">\n",
       "  <thead>\n",
       " <tr style=\"text-align: left;\">\n",
       "      <th>Epoch</th>\n",
       "      <th>Training Loss</th>\n",
       "      <th>Validation Loss</th>\n",
       "    </tr>\n",
       "  </thead>\n",
       "  <tbody>\n",
       "  </tbody>\n",
       "</table><p>"
      ]
     },
     "metadata": {},
     "output_type": "display_data"
    },
    {
     "ename": "KeyboardInterrupt",
     "evalue": "",
     "output_type": "error",
     "traceback": [
      "\u001B[1;31m---------------------------------------------------------------------------\u001B[0m",
      "\u001B[1;31mKeyboardInterrupt\u001B[0m                         Traceback (most recent call last)",
      "Cell \u001B[1;32mIn[27], line 21\u001B[0m\n\u001B[0;32m     19\u001B[0m ds, target_map, reversed_target_map, \u001B[38;5;241m=\u001B[39m df_to_ds(run_df, train_params[\u001B[38;5;124m'\u001B[39m\u001B[38;5;124msplit\u001B[39m\u001B[38;5;124m'\u001B[39m])\n\u001B[0;32m     20\u001B[0m \u001B[38;5;28;01mif\u001B[39;00m \u001B[38;5;129;01mnot\u001B[39;00m skip_finetuning:\n\u001B[1;32m---> 21\u001B[0m     \u001B[43mfinetune\u001B[49m\u001B[43m(\u001B[49m\u001B[43mtrain_params\u001B[49m\u001B[43m,\u001B[49m\u001B[43m \u001B[49m\u001B[43mds\u001B[49m\u001B[43m,\u001B[49m\u001B[43m \u001B[49m\u001B[43mtarget_map\u001B[49m\u001B[43m,\u001B[49m\u001B[43msave_logs\u001B[49m\u001B[43m)\u001B[49m\n",
      "Cell \u001B[1;32mIn[26], line 113\u001B[0m, in \u001B[0;36mfinetune\u001B[1;34m(train_params, ds, target_map, save_logs)\u001B[0m\n\u001B[0;32m     95\u001B[0m training_args \u001B[38;5;241m=\u001B[39m TrainingArguments(\n\u001B[0;32m     96\u001B[0m   output_dir\u001B[38;5;241m=\u001B[39m\u001B[38;5;124mf\u001B[39m\u001B[38;5;124m'\u001B[39m\u001B[38;5;132;01m{\u001B[39;00mtrained_model_path\u001B[38;5;132;01m}\u001B[39;00m\u001B[38;5;124m/checkpoints\u001B[39m\u001B[38;5;124m'\u001B[39m,\n\u001B[0;32m     97\u001B[0m   evaluation_strategy\u001B[38;5;241m=\u001B[39m\u001B[38;5;124m'\u001B[39m\u001B[38;5;124mepoch\u001B[39m\u001B[38;5;124m'\u001B[39m,\n\u001B[1;32m   (...)\u001B[0m\n\u001B[0;32m    100\u001B[0m   \u001B[38;5;241m*\u001B[39m\u001B[38;5;241m*\u001B[39mparams_passed\n\u001B[0;32m    101\u001B[0m )\n\u001B[0;32m    103\u001B[0m trainer \u001B[38;5;241m=\u001B[39m Trainer(\n\u001B[0;32m    104\u001B[0m     model,\n\u001B[0;32m    105\u001B[0m     training_args,\n\u001B[1;32m   (...)\u001B[0m\n\u001B[0;32m    110\u001B[0m     \u001B[38;5;66;03m# data_collator=data_collator,\u001B[39;00m\n\u001B[0;32m    111\u001B[0m )\n\u001B[1;32m--> 113\u001B[0m \u001B[43mtrainer\u001B[49m\u001B[38;5;241;43m.\u001B[39;49m\u001B[43mtrain\u001B[49m\u001B[43m(\u001B[49m\u001B[43m)\u001B[49m\n\u001B[0;32m    114\u001B[0m \u001B[38;5;28;01mif\u001B[39;00m save_logs:\n\u001B[0;32m    115\u001B[0m     \u001B[38;5;28mprint\u001B[39m(\u001B[38;5;124m'\u001B[39m\u001B[38;5;124m123321\u001B[39m\u001B[38;5;124m'\u001B[39m)\n",
      "File \u001B[1;32m~\\DataspellProjects\\EQILLM\\venv\\Lib\\site-packages\\transformers\\trainer.py:1624\u001B[0m, in \u001B[0;36mTrainer.train\u001B[1;34m(self, resume_from_checkpoint, trial, ignore_keys_for_eval, **kwargs)\u001B[0m\n\u001B[0;32m   1622\u001B[0m         hf_hub_utils\u001B[38;5;241m.\u001B[39menable_progress_bars()\n\u001B[0;32m   1623\u001B[0m \u001B[38;5;28;01melse\u001B[39;00m:\n\u001B[1;32m-> 1624\u001B[0m     \u001B[38;5;28;01mreturn\u001B[39;00m \u001B[43minner_training_loop\u001B[49m\u001B[43m(\u001B[49m\n\u001B[0;32m   1625\u001B[0m \u001B[43m        \u001B[49m\u001B[43margs\u001B[49m\u001B[38;5;241;43m=\u001B[39;49m\u001B[43margs\u001B[49m\u001B[43m,\u001B[49m\n\u001B[0;32m   1626\u001B[0m \u001B[43m        \u001B[49m\u001B[43mresume_from_checkpoint\u001B[49m\u001B[38;5;241;43m=\u001B[39;49m\u001B[43mresume_from_checkpoint\u001B[49m\u001B[43m,\u001B[49m\n\u001B[0;32m   1627\u001B[0m \u001B[43m        \u001B[49m\u001B[43mtrial\u001B[49m\u001B[38;5;241;43m=\u001B[39;49m\u001B[43mtrial\u001B[49m\u001B[43m,\u001B[49m\n\u001B[0;32m   1628\u001B[0m \u001B[43m        \u001B[49m\u001B[43mignore_keys_for_eval\u001B[49m\u001B[38;5;241;43m=\u001B[39;49m\u001B[43mignore_keys_for_eval\u001B[49m\u001B[43m,\u001B[49m\n\u001B[0;32m   1629\u001B[0m \u001B[43m    \u001B[49m\u001B[43m)\u001B[49m\n",
      "File \u001B[1;32m~\\DataspellProjects\\EQILLM\\venv\\Lib\\site-packages\\transformers\\trainer.py:1961\u001B[0m, in \u001B[0;36mTrainer._inner_training_loop\u001B[1;34m(self, batch_size, args, resume_from_checkpoint, trial, ignore_keys_for_eval)\u001B[0m\n\u001B[0;32m   1958\u001B[0m     \u001B[38;5;28mself\u001B[39m\u001B[38;5;241m.\u001B[39mcontrol \u001B[38;5;241m=\u001B[39m \u001B[38;5;28mself\u001B[39m\u001B[38;5;241m.\u001B[39mcallback_handler\u001B[38;5;241m.\u001B[39mon_step_begin(args, \u001B[38;5;28mself\u001B[39m\u001B[38;5;241m.\u001B[39mstate, \u001B[38;5;28mself\u001B[39m\u001B[38;5;241m.\u001B[39mcontrol)\n\u001B[0;32m   1960\u001B[0m \u001B[38;5;28;01mwith\u001B[39;00m \u001B[38;5;28mself\u001B[39m\u001B[38;5;241m.\u001B[39maccelerator\u001B[38;5;241m.\u001B[39maccumulate(model):\n\u001B[1;32m-> 1961\u001B[0m     tr_loss_step \u001B[38;5;241m=\u001B[39m \u001B[38;5;28;43mself\u001B[39;49m\u001B[38;5;241;43m.\u001B[39;49m\u001B[43mtraining_step\u001B[49m\u001B[43m(\u001B[49m\u001B[43mmodel\u001B[49m\u001B[43m,\u001B[49m\u001B[43m \u001B[49m\u001B[43minputs\u001B[49m\u001B[43m)\u001B[49m\n\u001B[0;32m   1963\u001B[0m \u001B[38;5;28;01mif\u001B[39;00m (\n\u001B[0;32m   1964\u001B[0m     args\u001B[38;5;241m.\u001B[39mlogging_nan_inf_filter\n\u001B[0;32m   1965\u001B[0m     \u001B[38;5;129;01mand\u001B[39;00m \u001B[38;5;129;01mnot\u001B[39;00m is_torch_tpu_available()\n\u001B[0;32m   1966\u001B[0m     \u001B[38;5;129;01mand\u001B[39;00m (torch\u001B[38;5;241m.\u001B[39misnan(tr_loss_step) \u001B[38;5;129;01mor\u001B[39;00m torch\u001B[38;5;241m.\u001B[39misinf(tr_loss_step))\n\u001B[0;32m   1967\u001B[0m ):\n\u001B[0;32m   1968\u001B[0m     \u001B[38;5;66;03m# if loss is nan or inf simply add the average of previous logged losses\u001B[39;00m\n\u001B[0;32m   1969\u001B[0m     tr_loss \u001B[38;5;241m+\u001B[39m\u001B[38;5;241m=\u001B[39m tr_loss \u001B[38;5;241m/\u001B[39m (\u001B[38;5;241m1\u001B[39m \u001B[38;5;241m+\u001B[39m \u001B[38;5;28mself\u001B[39m\u001B[38;5;241m.\u001B[39mstate\u001B[38;5;241m.\u001B[39mglobal_step \u001B[38;5;241m-\u001B[39m \u001B[38;5;28mself\u001B[39m\u001B[38;5;241m.\u001B[39m_globalstep_last_logged)\n",
      "File \u001B[1;32m~\\DataspellProjects\\EQILLM\\venv\\Lib\\site-packages\\transformers\\trainer.py:2911\u001B[0m, in \u001B[0;36mTrainer.training_step\u001B[1;34m(self, model, inputs)\u001B[0m\n\u001B[0;32m   2909\u001B[0m         scaled_loss\u001B[38;5;241m.\u001B[39mbackward()\n\u001B[0;32m   2910\u001B[0m \u001B[38;5;28;01melse\u001B[39;00m:\n\u001B[1;32m-> 2911\u001B[0m     \u001B[38;5;28;43mself\u001B[39;49m\u001B[38;5;241;43m.\u001B[39;49m\u001B[43maccelerator\u001B[49m\u001B[38;5;241;43m.\u001B[39;49m\u001B[43mbackward\u001B[49m\u001B[43m(\u001B[49m\u001B[43mloss\u001B[49m\u001B[43m)\u001B[49m\n\u001B[0;32m   2913\u001B[0m \u001B[38;5;28;01mreturn\u001B[39;00m loss\u001B[38;5;241m.\u001B[39mdetach() \u001B[38;5;241m/\u001B[39m \u001B[38;5;28mself\u001B[39m\u001B[38;5;241m.\u001B[39margs\u001B[38;5;241m.\u001B[39mgradient_accumulation_steps\n",
      "File \u001B[1;32m~\\DataspellProjects\\EQILLM\\venv\\Lib\\site-packages\\accelerate\\accelerator.py:2013\u001B[0m, in \u001B[0;36mAccelerator.backward\u001B[1;34m(self, loss, **kwargs)\u001B[0m\n\u001B[0;32m   2011\u001B[0m     \u001B[38;5;28mself\u001B[39m\u001B[38;5;241m.\u001B[39mscaler\u001B[38;5;241m.\u001B[39mscale(loss)\u001B[38;5;241m.\u001B[39mbackward(\u001B[38;5;241m*\u001B[39m\u001B[38;5;241m*\u001B[39mkwargs)\n\u001B[0;32m   2012\u001B[0m \u001B[38;5;28;01melse\u001B[39;00m:\n\u001B[1;32m-> 2013\u001B[0m     \u001B[43mloss\u001B[49m\u001B[38;5;241;43m.\u001B[39;49m\u001B[43mbackward\u001B[49m\u001B[43m(\u001B[49m\u001B[38;5;241;43m*\u001B[39;49m\u001B[38;5;241;43m*\u001B[39;49m\u001B[43mkwargs\u001B[49m\u001B[43m)\u001B[49m\n",
      "File \u001B[1;32m~\\DataspellProjects\\EQILLM\\venv\\Lib\\site-packages\\torch\\_tensor.py:522\u001B[0m, in \u001B[0;36mTensor.backward\u001B[1;34m(self, gradient, retain_graph, create_graph, inputs)\u001B[0m\n\u001B[0;32m    512\u001B[0m \u001B[38;5;28;01mif\u001B[39;00m has_torch_function_unary(\u001B[38;5;28mself\u001B[39m):\n\u001B[0;32m    513\u001B[0m     \u001B[38;5;28;01mreturn\u001B[39;00m handle_torch_function(\n\u001B[0;32m    514\u001B[0m         Tensor\u001B[38;5;241m.\u001B[39mbackward,\n\u001B[0;32m    515\u001B[0m         (\u001B[38;5;28mself\u001B[39m,),\n\u001B[1;32m   (...)\u001B[0m\n\u001B[0;32m    520\u001B[0m         inputs\u001B[38;5;241m=\u001B[39minputs,\n\u001B[0;32m    521\u001B[0m     )\n\u001B[1;32m--> 522\u001B[0m \u001B[43mtorch\u001B[49m\u001B[38;5;241;43m.\u001B[39;49m\u001B[43mautograd\u001B[49m\u001B[38;5;241;43m.\u001B[39;49m\u001B[43mbackward\u001B[49m\u001B[43m(\u001B[49m\n\u001B[0;32m    523\u001B[0m \u001B[43m    \u001B[49m\u001B[38;5;28;43mself\u001B[39;49m\u001B[43m,\u001B[49m\u001B[43m \u001B[49m\u001B[43mgradient\u001B[49m\u001B[43m,\u001B[49m\u001B[43m \u001B[49m\u001B[43mretain_graph\u001B[49m\u001B[43m,\u001B[49m\u001B[43m \u001B[49m\u001B[43mcreate_graph\u001B[49m\u001B[43m,\u001B[49m\u001B[43m \u001B[49m\u001B[43minputs\u001B[49m\u001B[38;5;241;43m=\u001B[39;49m\u001B[43minputs\u001B[49m\n\u001B[0;32m    524\u001B[0m \u001B[43m\u001B[49m\u001B[43m)\u001B[49m\n",
      "File \u001B[1;32m~\\DataspellProjects\\EQILLM\\venv\\Lib\\site-packages\\torch\\autograd\\__init__.py:266\u001B[0m, in \u001B[0;36mbackward\u001B[1;34m(tensors, grad_tensors, retain_graph, create_graph, grad_variables, inputs)\u001B[0m\n\u001B[0;32m    261\u001B[0m     retain_graph \u001B[38;5;241m=\u001B[39m create_graph\n\u001B[0;32m    263\u001B[0m \u001B[38;5;66;03m# The reason we repeat the same comment below is that\u001B[39;00m\n\u001B[0;32m    264\u001B[0m \u001B[38;5;66;03m# some Python versions print out the first line of a multi-line function\u001B[39;00m\n\u001B[0;32m    265\u001B[0m \u001B[38;5;66;03m# calls in the traceback and some print out the last line\u001B[39;00m\n\u001B[1;32m--> 266\u001B[0m \u001B[43mVariable\u001B[49m\u001B[38;5;241;43m.\u001B[39;49m\u001B[43m_execution_engine\u001B[49m\u001B[38;5;241;43m.\u001B[39;49m\u001B[43mrun_backward\u001B[49m\u001B[43m(\u001B[49m\u001B[43m  \u001B[49m\u001B[38;5;66;43;03m# Calls into the C++ engine to run the backward pass\u001B[39;49;00m\n\u001B[0;32m    267\u001B[0m \u001B[43m    \u001B[49m\u001B[43mtensors\u001B[49m\u001B[43m,\u001B[49m\n\u001B[0;32m    268\u001B[0m \u001B[43m    \u001B[49m\u001B[43mgrad_tensors_\u001B[49m\u001B[43m,\u001B[49m\n\u001B[0;32m    269\u001B[0m \u001B[43m    \u001B[49m\u001B[43mretain_graph\u001B[49m\u001B[43m,\u001B[49m\n\u001B[0;32m    270\u001B[0m \u001B[43m    \u001B[49m\u001B[43mcreate_graph\u001B[49m\u001B[43m,\u001B[49m\n\u001B[0;32m    271\u001B[0m \u001B[43m    \u001B[49m\u001B[43minputs\u001B[49m\u001B[43m,\u001B[49m\n\u001B[0;32m    272\u001B[0m \u001B[43m    \u001B[49m\u001B[43mallow_unreachable\u001B[49m\u001B[38;5;241;43m=\u001B[39;49m\u001B[38;5;28;43;01mTrue\u001B[39;49;00m\u001B[43m,\u001B[49m\n\u001B[0;32m    273\u001B[0m \u001B[43m    \u001B[49m\u001B[43maccumulate_grad\u001B[49m\u001B[38;5;241;43m=\u001B[39;49m\u001B[38;5;28;43;01mTrue\u001B[39;49;00m\u001B[43m,\u001B[49m\n\u001B[0;32m    274\u001B[0m \u001B[43m\u001B[49m\u001B[43m)\u001B[49m\n",
      "\u001B[1;31mKeyboardInterrupt\u001B[0m: "
     ]
    }
   ],
   "execution_count": 27
  },
  {
   "metadata": {},
   "cell_type": "markdown",
   "source": "## Validate"
  },
  {
   "metadata": {
    "ExecuteTime": {
     "end_time": "2024-04-12T21:16:04.734719Z",
     "start_time": "2024-04-12T21:15:33.405221Z"
    }
   },
   "cell_type": "code",
   "source": [
    "# Load PolarIs-Pathos to df\n",
    "# source: https://github.com/kaatkaa/PolarIs-Corpora/blob/main/PolarIs-Full-Corpus/PolarIs-Full-Corpus-Pathos/PolarIs-Pathos.xlsx\n",
    "if colab:\n",
    "    from google.colab import drive\n",
    "    drive.mount('/content/drive')\n",
    "    data_path = 'drive/MyDrive/master_lm/PolarIs-Pathos.xlsx'\n",
    "else:\n",
    "    data_path = 'data/PolarIs-Pathos.xlsx'\n",
    "\n",
    "df = pd.read_excel(data_path)\n",
    "df['label'] = df[['No_pathos', 'Positive', 'Negative']].idxmax(axis=1)\n",
    "df = df.rename(columns={'Sentence':'sentence'})\n",
    "\n",
    "checkpoint_path = 'output/models/michellejieli/emotion_text_classifier_2024-04-11_09-02/checkpoints/checkpoint-15590'\n",
    "# checkpoint_path = 'output/models/michellejieli/emotion_text_classifier_2024-04-11_09-02'    \n",
    "predicted, val_labels = validate_from_row(checkpoint_path, df)\n",
    "\n",
    "print(f'No_pathos: {len([i for i in predicted if i=='No_pathos'])}/{len([i for i in val_labels if i=='No_pathos'])}')\n",
    "print(f'Negative: {len([i for i in predicted if i=='Negative'])}/{len([i for i in val_labels if i=='Negative'])}')\n",
    "print(f'Positive: {len([i for i in predicted if i=='Positive'])}/{len([i for i in val_labels if i=='Positive'])}')"
   ],
   "outputs": [
    {
     "name": "stdout",
     "output_type": "stream",
     "text": [
      "acc: 0.8867222578576011\n",
      "f1: 0.8325559270992585\n"
     ]
    },
    {
     "data": {
      "text/plain": [
       "<Figure size 640x480 with 2 Axes>"
      ],
      "image/png": "[encoded data removed]"
     },
     "metadata": {},
     "output_type": "display_data"
    }
   ],
   "execution_count": 93
  },
  {
   "metadata": {
    "ExecuteTime": {
     "end_time": "2024-04-12T21:16:33.494553Z",
     "start_time": "2024-04-12T21:16:33.490360Z"
    }
   },
   "cell_type": "code",
   "source": [
    "print(f'No_pathos: {len([i for i in predicted if i=='No_pathos'])}/{len([i for i in val_labels if i=='No_pathos'])}')\n",
    "print(f'Negative: {len([i for i in predicted if i=='Negative'])}/{len([i for i in val_labels if i=='Negative'])}')\n",
    "print(f'Positive: {len([i for i in predicted if i=='Positive'])}/{len([i for i in val_labels if i=='Positive'])}')"
   ],
   "outputs": [
    {
     "name": "stdout",
     "output_type": "stream",
     "text": [
      "No_pathos: 5479/5319\n",
      "Negative: 1931/2053\n",
      "Positive: 385/423\n"
     ]
    }
   ],
   "execution_count": 94
  }
 ],
 "metadata": {
  "accelerator": "GPU",
  "colab": {
   "gpuType": "T4",
   "provenance": []
  },
  "kernelspec": {
   "display_name": "Python 3 (ipykernel)",
   "language": "python",
   "name": "python3"
  },
  "language_info": {
   "name": "python"
  },
  "widgets": {
   "application/vnd.jupyter.widget-state+json": {}
  }
 },
 "nbformat": 4,
 "nbformat_minor": 0
}
