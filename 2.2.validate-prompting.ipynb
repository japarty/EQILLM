{
 "cells": [
  {
   "metadata": {
    "ExecuteTime": {
     "end_time": "2024-04-22T17:50:10.234311Z",
     "start_time": "2024-04-22T17:50:10.228274Z"
    }
   },
   "cell_type": "code",
   "source": [
    "# set run environment (local/colab)\n",
    "# if colab install required packages and set appropriate root_path\n",
    "import os\n",
    "\n",
    "if os.getenv(\"COLAB_RELEASE_TAG\"):\n",
    "    colab = True\n",
    "    from google.colab import drive\n",
    "    drive.mount('/content/drive')\n",
    "    root_path = '/content/drive/Othercomputers/My computer/EQILLM/'\n",
    "    !pip install -r '/content/drive/Othercomputers/My computer/EQILLM/requirements.txt'\n",
    "    !pip install transformers[torch]\n",
    "    !pip install accelerate -U\n",
    "    !pip install datasets\n",
    "    !pip install torchinfo\n",
    "    import sys\n",
    "    sys.path.append(root_path)\n",
    "    #ImportError: Using the `Trainer` with `PyTorch` requires `accelerate>=0.20.1`: Please run `pip install transformers[torch]` or `pip install accelerate -U\n",
    "else:\n",
    "    colab = False\n",
    "    root_path = ''\n",
    "\n",
    "\n",
    "import itertools\n",
    "import pandas as pd\n",
    "import openai\n",
    "import datetime\n",
    "import os\n",
    "import csv\n",
    "import glob\n",
    "import matplotlib.pyplot as plt\n",
    "import seaborn as sn\n",
    "\n",
    "from dotenv import load_dotenv, dotenv_values\n",
    "from tqdm.notebook import tqdm_notebook\n",
    "from eqillm import finetune, get_log_for_val, validate, val_metrics, yeelight_eow_notification, param_combinations, load_PolarIs, df_to_ds\n",
    "from sklearn.metrics import accuracy_score, f1_score, confusion_matrix\n",
    " \n",
    "\n",
    "\n",
    "dotenv_config = dotenv_values(os.path.join(root_path, '.env'))\n",
    "yeelight_notify = dotenv_config['YEELIGHT_NOTIFY'] if 'YEELIGHT_NOTIFY' in dotenv_config else False"
   ],
   "id": "7b783bd659285ce0",
   "outputs": [],
   "execution_count": 46
  },
  {
   "cell_type": "code",
   "id": "initial_id",
   "metadata": {
    "collapsed": true,
    "ExecuteTime": {
     "end_time": "2024-04-22T17:50:10.241429Z",
     "start_time": "2024-04-22T17:50:10.234311Z"
    }
   },
   "source": [
    "def val_metrics(predicted, val_labels, filename):\n",
    "    acc_sc = round(accuracy_score(val_labels, predicted), 3)\n",
    "    f1_sc = round(f1_score(val_labels, predicted, average='macro'), 3)\n",
    "    print(acc_sc, f1_sc)\n",
    "\n",
    "    cm = confusion_matrix(val_labels, predicted, normalize='true')\n",
    "    plot_cm(cm, val_labels, filename)\n",
    "\n",
    "    return acc_sc, f1_sc\n",
    "\n",
    "def plot_cm(cm, val_labels, filename):\n",
    "    plt.figure()\n",
    "    classes = list(set(val_labels))\n",
    "    df_cm = pd.DataFrame(cm, index=classes, columns=classes)\n",
    "    ax = sn.heatmap(df_cm, annot=True, fmt='.2g')\n",
    "    ax.set_xlabel(\"Predicted\")\n",
    "    ax.set_ylabel(\"Target\")\n",
    "    ax.set_title(filename)\n",
    "\n",
    "def find_labels_in_text(text, binary=False):\n",
    "    temp = []\n",
    "    if type(text)==str:\n",
    "        text = text.lower()\n",
    "        if not binary:\n",
    "            if 'positive pathos' in text:\n",
    "                temp.append('Positive')\n",
    "            if 'negative pathos' in text:\n",
    "                temp.append('Negative')\n",
    "            if 'no pathos' in text:\n",
    "                temp.append('No_pathos')\n",
    "            if 'unclear' in text:\n",
    "                temp.append('Unclear')\n",
    "        else:\n",
    "            if 'no pathos' in text:\n",
    "                temp.append('No_pathos')\n",
    "            elif 'pathos' in text:\n",
    "                temp.append('Pathos')\n",
    "        if len(temp)==1:\n",
    "            return temp[0]\n",
    "        else:\n",
    "            return 'Unclear'\n",
    "    else:\n",
    "        return 'Unclear'\n",
    "\n",
    "\n",
    "def validate_prompt_responses(path, filename):\n",
    "    df = pd.read_csv(path, sep='|', header=0)\n",
    "    if len(df.label.unique())==2:\n",
    "        binary = True\n",
    "    else:\n",
    "        binary = False\n",
    "\n",
    "    df['label_found'] = df['response'].apply(lambda x: find_labels_in_text(x, True))\n",
    "    print(f\"Dropped due to unclear label: {df[df['label_found']=='Unclear'].count()['label']}/{df.shape[0]}\")\n",
    "    df = df[df['label_found']!='Unclear']\n",
    "\n",
    "    acc_sc, f1_sc = val_metrics(df['label_found'], df['label'], filename)\n",
    "\n",
    "    return acc_sc, f1_sc"
   ],
   "outputs": [],
   "execution_count": 47
  },
  {
   "metadata": {
    "ExecuteTime": {
     "end_time": "2024-04-22T17:50:10.341358Z",
     "start_time": "2024-04-22T17:50:10.241429Z"
    }
   },
   "cell_type": "code",
   "source": [
    "paths = glob.glob(os.path.join(root_path, 'output/prompting/responses/*'))[-1:]\n",
    "# paths = [os.path.join(root_path, 'output/prompting/responses/2024-04-22_12-22.csv')]\n",
    "scores = []\n",
    "for path in paths:\n",
    "    filename = path.rsplit('/')[-1]\n",
    "    acc_sc, f1_sc = validate_prompt_responses(path, filename)\n",
    "    scores.append([filename, acc_sc, f1_sc])"
   ],
   "id": "e3ff73d82eaf4744",
   "outputs": [
    {
     "name": "stdout",
     "output_type": "stream",
     "text": [
      "Dropped due to unclear label: 204/990\n",
      "0.575 0.573\n"
     ]
    },
    {
     "data": {
      "text/plain": [
       "<Figure size 640x480 with 2 Axes>"
      ],
      "image/png": "[encoded data removed]"
     },
     "metadata": {},
     "output_type": "display_data"
    }
   ],
   "execution_count": 48
  },
  {
   "metadata": {
    "ExecuteTime": {
     "end_time": "2024-04-22T17:50:10.344177Z",
     "start_time": "2024-04-22T17:50:10.342363Z"
    }
   },
   "cell_type": "code",
   "source": "",
   "id": "2c4767f8f7bdfa3b",
   "outputs": [],
   "execution_count": 48
  }
 ],
 "metadata": {
  "kernelspec": {
   "display_name": "Python 3",
   "language": "python",
   "name": "python3"
  },
  "language_info": {
   "codemirror_mode": {
    "name": "ipython",
    "version": 2
   },
   "file_extension": ".py",
   "mimetype": "text/x-python",
   "name": "python",
   "nbconvert_exporter": "python",
   "pygments_lexer": "ipython2",
   "version": "2.7.6"
  }
 },
 "nbformat": 4,
 "nbformat_minor": 5
}
