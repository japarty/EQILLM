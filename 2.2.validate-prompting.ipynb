{
 "cells": [
  {
   "metadata": {
    "id": "d9ad052f2e4cf985",
    "ExecuteTime": {
     "end_time": "2024-04-26T12:05:10.142877Z",
     "start_time": "2024-04-26T12:05:10.132017Z"
    }
   },
   "cell_type": "code",
   "source": [
    "# set run environment (local/colab)\n",
    "# if colab install required packages and set appropriate root_path\n",
    "import os\n",
    "from pathlib import Path\n",
    "if os.getenv(\"COLAB_RELEASE_TAG\"):\n",
    "    colab = True\n",
    "    from google.colab import drive\n",
    "    drive.mount('/content/drive')\n",
    "    root_path = Path('/content/drive/Othercomputers/My computer/EQILLM/')\n",
    "    !pip install -r '/content/drive/Othercomputers/My computer/EQILLM/requirements.txt'\n",
    "    !pip install transformers[torch]\n",
    "    !pip install accelerate -U\n",
    "    !pip install datasets\n",
    "    !pip install torchinfo\n",
    "    import sys\n",
    "    sys.path.append(root_path)\n",
    "    #ImportError: Using the `Trainer` with `PyTorch` requires `accelerate>=0.20.1`: Please run `pip install transformers[torch]` or `pip install accelerate -U\n",
    "else:\n",
    "    colab = False\n",
    "    root_path = Path('')\n",
    "\n",
    "\n",
    "import itertools\n",
    "import pandas as pd\n",
    "import openai\n",
    "import datetime\n",
    "import os\n",
    "import csv\n",
    "import matplotlib.pyplot as plt\n",
    "import random\n",
    "import glob\n",
    "import seaborn as sn\n",
    "\n",
    "from dotenv import load_dotenv, dotenv_values\n",
    "from tqdm.notebook import tqdm_notebook\n",
    "from eqillm import finetune, get_log_for_val, validate, val_metrics, yeelight_eow_notification, param_combinations, load_PolarIs, df_to_ds\n",
    "from sklearn.metrics import accuracy_score, f1_score, confusion_matrix\n",
    "\n",
    "\n",
    "dotenv_config = dotenv_values(root_path / '.env')\n",
    "yeelight_notify = dotenv_config['YEELIGHT_NOTIFY'] if 'YEELIGHT_NOTIFY' in dotenv_config else False"
   ],
   "id": "d9ad052f2e4cf985",
   "execution_count": 19,
   "outputs": []
  },
  {
   "cell_type": "code",
   "id": "initial_id",
   "metadata": {
    "collapsed": true,
    "id": "initial_id",
    "ExecuteTime": {
     "end_time": "2024-04-26T12:05:10.153619Z",
     "start_time": "2024-04-26T12:05:10.143884Z"
    }
   },
   "source": [
    "def val_metrics(predicted, val_labels, filename):\n",
    "    acc_sc = round(accuracy_score(val_labels, predicted), 3)\n",
    "    f1_sc = round(f1_score(val_labels, predicted, average='macro'), 3)\n",
    "    print(acc_sc, f1_sc)\n",
    "\n",
    "    cm = confusion_matrix(val_labels, predicted, labels=list(set(val_labels)), normalize='true')\n",
    "    plot_cm(cm, val_labels, filename)\n",
    "    return acc_sc, f1_sc\n",
    "\n",
    "def plot_cm(cm, val_labels, filename):\n",
    "    plt.figure()\n",
    "    classes = list(set(val_labels))\n",
    "    df_cm = pd.DataFrame(cm, index=classes, columns=classes)\n",
    "    ax = sn.heatmap(df_cm, annot=True)\n",
    "    ax.set_xlabel(\"Predicted\")\n",
    "    ax.set_ylabel(\"Target\")\n",
    "    ax.set_title(filename)\n",
    "\n",
    "def find_labels_in_text(text, binary=False):\n",
    "    temp = []\n",
    "    if type(text)==str:\n",
    "        text = text.lower()\n",
    "        if not binary:\n",
    "            if 'positive pathos' in text:\n",
    "                temp.append('Positive')\n",
    "            if 'negative pathos' in text:\n",
    "                temp.append('Negative')\n",
    "            if 'no pathos' in text:\n",
    "                temp.append('No_pathos')\n",
    "            if 'unclear' in text:\n",
    "                temp.append('Unclear')\n",
    "        else:\n",
    "            if 'no pathos' in text:\n",
    "                temp.append('No_pathos')\n",
    "            elif 'pathos' in text:\n",
    "                temp.append('Pathos')\n",
    "        if len(temp)==1:\n",
    "            return temp[0]\n",
    "        else:\n",
    "            return 'Unclear'\n",
    "    else:\n",
    "        return 'Unclear'\n",
    "\n",
    "\n",
    "def validate_prompt_responses(path, filename):\n",
    "    df = pd.read_csv(path, sep='|', header=0)\n",
    "    if len(df.label.unique())==2:\n",
    "        binary = True\n",
    "    else:\n",
    "        binary = False\n",
    "\n",
    "    print(f\"Dropped due to NAN: {df[df['response'].isna()].count()['label']}/{df.shape[0]}\")\n",
    "    df = df.dropna()\n",
    "    df['label_found'] = df['response'].apply(lambda x: find_labels_in_text(x, True))\n",
    "    print(f\"Dropped due to unclear label: {df[df['label_found']=='Unclear'].count()['label']}/{df.shape[0]}\")\n",
    "    df = df[df['label_found']!='Unclear']\n",
    "\n",
    "    acc_sc, f1_sc = val_metrics(df['label_found'], df['label'], filename)\n",
    "\n",
    "    return acc_sc, f1_sc"
   ],
   "execution_count": 20,
   "outputs": []
  },
  {
   "metadata": {
    "id": "69d48d7acac1b686",
    "outputId": "20664722-7f2a-43c3-fdb4-cc239213538d",
    "ExecuteTime": {
     "end_time": "2024-04-26T12:05:10.163653Z",
     "start_time": "2024-04-26T12:05:10.154625Z"
    }
   },
   "cell_type": "code",
   "source": [
    "paths = glob.glob(str(root_path / 'output/prompting/responses/*'))\n",
    "print(*[[i,v] for i,v in enumerate(paths)], sep='\\n')"
   ],
   "id": "69d48d7acac1b686",
   "execution_count": 21,
   "outputs": []
  },
  {
   "metadata": {
    "id": "87224508ae9ccc3",
    "outputId": "842a0c6d-f0ce-47b4-95c0-274a943aaeff",
    "ExecuteTime": {
     "end_time": "2024-04-26T12:05:10.197670Z",
     "start_time": "2024-04-26T12:05:10.164663Z"
    }
   },
   "cell_type": "code",
   "source": [
    "response_path = paths[-1]\n",
    "df = pd.read_csv(response_path, sep='|', header=0)\n",
    "df"
   ],
   "id": "87224508ae9ccc3",
   "execution_count": 22,
   "outputs": []
  },
  {
   "metadata": {
    "id": "5e6d65ad9e715352",
    "ExecuteTime": {
     "end_time": "2024-04-26T12:05:10.200260Z",
     "start_time": "2024-04-26T12:05:10.197670Z"
    }
   },
   "cell_type": "code",
   "source": [
    "# import re\n",
    "#\n",
    "# def find_pathos_in_str(x):\n",
    "#     print(x)\n",
    "#     occurence = re.search(r'\\b(Pathos)\\b', str(x))\n",
    "#     return occurence.start()\n",
    "#\n",
    "# df['response'].unique()\n",
    "# df['response'].apply(lambda x: find_pathos_in_str(x))"
   ],
   "id": "5e6d65ad9e715352",
   "execution_count": 23,
   "outputs": []
  },
  {
   "metadata": {
    "id": "e3ff73d82eaf4744",
    "outputId": "dee03607-509e-47bc-c70e-0345d6850acf",
    "ExecuteTime": {
     "end_time": "2024-04-26T12:05:10.399345Z",
     "start_time": "2024-04-26T12:05:10.200260Z"
    }
   },
   "cell_type": "code",
   "source": [
    "paths = paths[-1:]\n",
    "# paths = [os.path.join(root_path, 'output/prompting/responses/2024-04-22_12-22.csv')]\n",
    "scores = []\n",
    "for path in paths:\n",
    "    filename = path.rsplit('/')[-1]\n",
    "    acc_sc, f1_sc = validate_prompt_responses(path, filename)\n",
    "    scores.append([filename, acc_sc, f1_sc])"
   ],
   "id": "e3ff73d82eaf4744",
   "execution_count": 24,
   "outputs": []
  }
 ],
 "metadata": {
  "kernelspec": {
   "display_name": "Python 3",
   "language": "python",
   "name": "python3"
  },
  "language_info": {
   "codemirror_mode": {
    "name": "ipython",
    "version": 2
   },
   "file_extension": ".py",
   "mimetype": "text/x-python",
   "name": "python",
   "nbconvert_exporter": "python",
   "pygments_lexer": "ipython2",
   "version": "2.7.6"
  },
  "colab": {
   "provenance": []
  }
 },
 "nbformat": 4,
 "nbformat_minor": 5
}
