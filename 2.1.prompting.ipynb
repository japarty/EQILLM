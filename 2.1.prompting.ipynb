{
 "cells": [
  {
   "cell_type": "code",
   "id": "initial_id",
   "metadata": {
    "collapsed": true,
    "colab": {
     "base_uri": "https://localhost:8080/"
    },
    "id": "initial_id",
    "executionInfo": {
     "status": "ok",
     "timestamp": 1713680749343,
     "user_tz": -120,
     "elapsed": 148622,
     "user": {
      "displayName": "Jakub Partyka",
      "userId": "06989008944538163465"
     }
    },
    "outputId": "f11f854f-de21-4de7-a065-9782ee744fac",
    "ExecuteTime": {
     "end_time": "2024-04-22T21:43:00.910084Z",
     "start_time": "2024-04-22T21:42:57.656545Z"
    }
   },
   "source": [
    "# set run environment (local/colab)\n",
    "# if colab install required packages and set appropriate root_path\n",
    "import os\n",
    "\n",
    "if os.getenv(\"COLAB_RELEASE_TAG\"):\n",
    "    colab = True\n",
    "    from google.colab import drive\n",
    "    drive.mount('/content/drive')\n",
    "    root_path = '/content/drive/Othercomputers/My computer/EQILLM/'\n",
    "    !pip install -r '/content/drive/Othercomputers/My computer/EQILLM/requirements.txt'\n",
    "    !pip install transformers[torch]\n",
    "    !pip install accelerate -U\n",
    "    !pip install datasets\n",
    "    !pip install torchinfo\n",
    "    import sys\n",
    "    sys.path.append(root_path)\n",
    "    #ImportError: Using the `Trainer` with `PyTorch` requires `accelerate>=0.20.1`: Please run `pip install transformers[torch]` or `pip install accelerate -U\n",
    "else:\n",
    "    colab = False\n",
    "    root_path = ''\n",
    "\n",
    "\n",
    "import itertools\n",
    "import pandas as pd\n",
    "import openai\n",
    "import datetime\n",
    "import os\n",
    "import csv\n",
    "\n",
    "from dotenv import load_dotenv, dotenv_values\n",
    "from tqdm.notebook import tqdm_notebook\n",
    "from eqillm import finetune, get_log_for_val, validate, val_metrics, yeelight_eow_notification, param_combinations, load_PolarIs, df_to_ds\n",
    "\n",
    "\n",
    "dotenv_config = dotenv_values(os.path.join(root_path, '.env'))\n",
    "yeelight_notify = dotenv_config['YEELIGHT_NOTIFY'] if 'YEELIGHT_NOTIFY' in dotenv_config else False"
   ],
   "outputs": [],
   "execution_count": 1
  },
  {
   "cell_type": "code",
   "source": [
    "data_path = os.path.join(root_path, 'data/PolarIs-Pathos.xlsx')\n",
    "polarIs_df = load_PolarIs(data_path)\n",
    "\n",
    "dataset, target_map, reversed_target_map = df_to_ds(polarIs_df, split=(0.1, 0.1, 0.8), binary=True, balanced=True)\n",
    "val_txts, val_labels = dataset['train']['text'], [reversed_target_map[i] for i in dataset['train']['label']]\n",
    "# val_txts, val_labels = polarIs_df['text'], polarIs_df['label']"
   ],
   "metadata": {
    "id": "zjctwG-P761W",
    "ExecuteTime": {
     "end_time": "2024-04-22T22:02:04.081884Z",
     "start_time": "2024-04-22T22:02:03.197370Z"
    }
   },
   "id": "zjctwG-P761W",
   "outputs": [
    {
     "name": "stderr",
     "output_type": "stream",
     "text": [
      "C:\\Users\\Jakub\\DataspellProjects\\EQILLM\\eqillm.py:104: FutureWarning: The behavior of array concatenation with empty entries is deprecated. In a future version, this will no longer exclude empty items when determining the result dtype. To retain the old behavior, exclude the empty entries before the concat operation.\n",
      "  train_test = [pd.concat([i[0], i[1]], axis=0) for i in zip(train_test, train_test_group)]\n"
     ]
    }
   ],
   "execution_count": 14
  },
  {
   "metadata": {
    "ExecuteTime": {
     "end_time": "2024-04-22T22:02:04.875536Z",
     "start_time": "2024-04-22T22:02:04.873223Z"
    }
   },
   "cell_type": "code",
   "source": "print(len(val_labels))",
   "id": "2ccc8c48091cf5b5",
   "outputs": [
    {
     "name": "stdout",
     "output_type": "stream",
     "text": [
      "990\n"
     ]
    }
   ],
   "execution_count": 15
  },
  {
   "metadata": {
    "ExecuteTime": {
     "end_time": "2024-04-22T22:02:10.760325Z",
     "start_time": "2024-04-22T22:02:10.757680Z"
    }
   },
   "cell_type": "code",
   "source": [
    "# [[i,q] for i,q in enumerate(val_txts) if 'Unlike the Occupy crowd' in q]\n",
    "# print(*zip(val_txts[587:] , val_labels[587:]), sep='\\n')\n",
    "# val_txts , val_labels = val_txts[588:] , val_labels[588:]"
   ],
   "id": "35139c72ffa08d89",
   "outputs": [],
   "execution_count": 16
  },
  {
   "cell_type": "code",
   "source": [
    "def create_messages(text='_'):\n",
    "    return [\n",
    "        {\n",
    "            'role': 'system',\n",
    "             'content': \"You are an analytical tool designed on identifying pathos in Text. Pathos is an appeal made to an audience’s emotions in order to evoke feeling. Your task is to analyze if the speaker's intention is to elicit specific emotions for rhetorical purposes. If so, respond with 'Pathos'. Otherwise respond with 'No Pathos'\"\n",
    "        },\n",
    "        {\n",
    "            \"role\": \"user\",\n",
    "            \"content\": f\"\"\"Analyze the following text for pathos: {text}\"\"\"\n",
    "        },\n",
    "        {\n",
    "            \"role\": \"assistant\",\n",
    "            \"content\": \"Based on the analysis, is there an attempt to elicit an emotion? If so, respond with 'Pathos'. If not, respond with 'No pathos'. Do not identify emotions not listed.\"\n",
    "        }\n",
    "    ]\n",
    "\n",
    "def looped_prompt(texts, labels, model_url=dotenv_config['MODEL_URL'], api_key=dotenv_config['MODEL_API_KEY']):\n",
    "    client = openai.OpenAI(base_url=model_url,  api_key=api_key)\n",
    "    model_name = client.models.list().data[0].dict()['id']\n",
    "\n",
    "    prompt_log_path = os.path.join(root_path, 'output', 'prompting', 'prompt_log.csv')\n",
    "    timestamp = datetime.datetime.now().strftime(\"%Y-%m-%d_%H-%M\")\n",
    "    response_log_path = os.path.join(root_path, 'output', 'prompting', 'responses', f'{timestamp}.csv')\n",
    "\n",
    "    with open(prompt_log_path, mode='a+', newline='') as csv_file:\n",
    "        writer = csv.writer(csv_file)\n",
    "        if not os.path.exists(prompt_log_path):\n",
    "            writer.writerow(['model', 'timestamp', 'message_system', 'message_user', 'message_assistant'])\n",
    "        writer.writerow([model_name, timestamp, *create_messages()])\n",
    "\n",
    "    with open(response_log_path, mode='a+', newline='', encoding=\"utf-8\") as csv_file:\n",
    "        writer = csv.writer(csv_file,  delimiter='|')\n",
    "        writer.writerow(['text', 'label', 'timestamp', 'response'])\n",
    "\n",
    "        for i, (txt, label) in tqdm_notebook(enumerate(zip(texts, labels))): # iterate through each text value of first df column\n",
    "            completion = client.chat.completions.create(\n",
    "                model=\"local-model\", # this field is currently unused\n",
    "                messages=create_messages(txt),\n",
    "                temperature=0.5,\n",
    "                max_tokens=50\n",
    "            )\n",
    "            writer.writerow([txt, label, timestamp, completion.choices[0].message.content])"
   ],
   "metadata": {
    "id": "3GlaraGq8CIK",
    "ExecuteTime": {
     "end_time": "2024-04-22T22:02:11.701734Z",
     "start_time": "2024-04-22T22:02:11.697069Z"
    }
   },
   "id": "3GlaraGq8CIK",
   "outputs": [],
   "execution_count": 17
  },
  {
   "cell_type": "code",
   "source": [
    "looped_prompt(val_txts, val_labels)\n",
    "\n",
    "if yeelight_notify:\n",
    "    yeelight_eow_notification(dotenv_config['YEELIGHT_PORT'])"
   ],
   "metadata": {
    "id": "_5s3xCOF8C0G",
    "ExecuteTime": {
     "end_time": "2024-04-22T22:03:31.713208Z",
     "start_time": "2024-04-22T22:02:12.841185Z"
    }
   },
   "id": "_5s3xCOF8C0G",
   "outputs": [
    {
     "data": {
      "text/plain": [
       "0it [00:00, ?it/s]"
      ],
      "application/vnd.jupyter.widget-view+json": {
       "version_major": 2,
       "version_minor": 0,
       "model_id": "d19849490bc34d65b59af52b69971224"
      }
     },
     "metadata": {},
     "output_type": "display_data"
    }
   ],
   "execution_count": 18
  },
  {
   "metadata": {
    "ExecuteTime": {
     "end_time": "2024-04-22T17:42:56.134889Z",
     "start_time": "2024-04-22T17:42:56.132560Z"
    }
   },
   "cell_type": "code",
   "source": "",
   "id": "fe683971a665e839",
   "outputs": [],
   "execution_count": 6
  }
 ],
 "metadata": {
  "kernelspec": {
   "display_name": "Python 3",
   "language": "python",
   "name": "python3"
  },
  "language_info": {
   "codemirror_mode": {
    "name": "ipython",
    "version": 2
   },
   "file_extension": ".py",
   "mimetype": "text/x-python",
   "name": "python",
   "nbconvert_exporter": "python",
   "pygments_lexer": "ipython2",
   "version": "2.7.6"
  },
  "colab": {
   "provenance": []
  }
 },
 "nbformat": 4,
 "nbformat_minor": 5
}
